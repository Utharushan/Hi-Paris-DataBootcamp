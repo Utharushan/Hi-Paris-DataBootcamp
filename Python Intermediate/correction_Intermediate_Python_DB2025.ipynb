{
 "cells": [
  {
   "cell_type": "markdown",
   "metadata": {
    "id": "xc1rPOw-Q_PJ"
   },
   "source": [
    "**<center><font color='#023F7C' size=\"6.5\">Intermediate Python &#128421;&#65039;</font>** <br>\n",
    "<font color=#023F7C size=4>**Hi! PARIS DataBootcamp 2025**</font> <br>\n",
    "<font color=#023F7C size=2>11:30-12:30 AM / 1:30-2:30 PM </font> <br>\n",
    "\n",
    "</center>\n",
    "\n",
    "<img src = https://www.hi-paris.fr/wp-content/uploads/2020/09/logo-hi-paris-retina.png width = \"300\" height = \"200\" >\n",
    "\n",
    "<font color=\"#023F7C\">**Author**:</font> Awais Hussain SANI, Senior Machine Learning Research Engineer @ Hi! PARIS <br>\n"
   ]
  },
  {
   "cell_type": "markdown",
   "metadata": {
    "id": "3Rdi-kiAQ_PP"
   },
   "source": [
    "# **<font color='#023F7C'> Introduction</font>**\n",
    "\n",
    "This course is designed for **programmers** who are already comfortable with Python's basic syntax. <br>\n",
    "\n",
    "In the first section, we'll teach you how to develop reliable, efficient and clean code to **level-up your Python skills** 📈. <br>\n",
    "The second section will introduce essential **Python libraries for Data Science 🚀**.\n",
    "\n",
    "<br>\n",
    "\n",
    "<img src = https://www.freecodecamp.org/news/content/images/2021/08/chris-ried-ieic5Tq8YMk-unsplash.jpg width = \"500\" height = \"300\" >\n",
    "\n"
   ]
  },
  {
   "cell_type": "markdown",
   "metadata": {
    "id": "m8KrIa5naEBF"
   },
   "source": [
    "<font size=5>**Reminder on Python's syntax 👩‍🏫**</font> <br>\n",
    "\n",
    "Python is popular programming language with many built-in functionalities. <br>\n",
    "Today, it is used for many tasks such as Data visualization, Web development, Machine Learning to name a few.\n",
    "\n",
    "Here is a summary of Python's basic objects/features:\n",
    "- **Data types**: numerical (int, float), string, lists, dictionaries, sets, boolean, noneType\n",
    "- **Operators**: arithmetic, logical, membership (`==`, `or`/`and`, `in`)\n",
    "- **Loops**: `for`, `while` loops to repeat code\n",
    "- **Conditional statements**: `if`, `else`, `elif` keywords\n",
    "- **Functions**: `print()`, `len()`, `range()`, `max()`, `min()`\n",
    "- **Methods**: `.append()`, `.extend()`, `.sort()` (lists), `.split()`, `.join()` (string)\n"
   ]
  },
  {
   "cell_type": "markdown",
   "metadata": {
    "id": "BjHHR-3hr4dG"
   },
   "source": [
    "<font size=5>**Coding guidelines 💡**</font> <br>\n",
    "\n",
    "Before starting the course, we'd like to share a few basic rules to follow for Python developpers. <br>\n",
    "We'll also introduce more advanced practices at the end of the first section.\n",
    "- Add comments (`#`) to your code\n",
    "- Create unique variable names (not already defined in Python)\n",
    "- Don't hesitate to debug your code using `print()`\n",
    "- Restart your Python environment when using a notebook\n",
    "- Use the `help()` function to get more information"
   ]
  },
  {
   "cell_type": "code",
   "execution_count": 2,
   "metadata": {},
   "outputs": [],
   "source": [
    "# Code to suppress warnings\n",
    "import warnings\n",
    "warnings.filterwarnings(\"ignore\")"
   ]
  },
  {
   "cell_type": "markdown",
   "metadata": {
    "id": "McmTgqqku1rd"
   },
   "source": [
    "# <font color='#023F7C'>**1. Improve your Python skills 📈**</font>\n",
    "\n",
    "In this section, you'll learn how to use Python's Standard Library, how to create efficient lists and to manipulate strings. <br>\n",
    "\n",
    "\n",
    "\n"
   ]
  },
  {
   "cell_type": "markdown",
   "metadata": {
    "id": "bNfjfRutovHQ"
   },
   "source": [
    "## <font color='#023F7C'>**1.1 Standard Library: os, datetime**</font>\n",
    "\n",
    "The **Standard Library** is a collection of modules that can easily be imported into Python code. <br>\n",
    "It comes bundled with Python's core distribution and includes 200 core modules.\n",
    "\n",
    "In this section, we will introduce two Standard Library modules: `os`, `datetime`. <br>\n",
    "\n",
    "<img src = https://miro.medium.com/v2/da:true/resize:fit:960/0*D5raddtob5LypmG2 width = \"550\" height = \"350\" >\n",
    "\n",
    "\n",
    "\n"
   ]
  },
  {
   "cell_type": "markdown",
   "metadata": {
    "id": "2AXMIyO8tBFx"
   },
   "source": [
    "**What is a module ?** <br>\n",
    "A module is a Python file containing definitions, statements, and functions. <br>\n",
    "To import a module into your code, you can use the `import` keyword."
   ]
  },
  {
   "cell_type": "code",
   "execution_count": 3,
   "metadata": {
    "id": "Gjfb-f_z0qo2"
   },
   "outputs": [],
   "source": [
    "import os\n",
    "import datetime"
   ]
  },
  {
   "cell_type": "markdown",
   "metadata": {
    "id": "nTzcthxnjUoJ"
   },
   "source": [
    "<font size=5><u>**os**: interact with your operating system</u></font> <br>\n",
    "\n",
    "The **os** module provides functions to interact with an **operating system** (Windows, macOS, Linux...). <br> It enables programmers to develop **robust** and **platform-independent** Python code. <br>\n",
    "- You can create, delete and manage files and directories\n",
    "- You can handle paths to ensure compatibility between platforms\n"
   ]
  },
  {
   "cell_type": "markdown",
   "metadata": {
    "id": "tRZb0PObz5px"
   },
   "source": [
    "| os methods | description |\n",
    "| --------| -------------|\n",
    "|`os.getcwd()` | Get the current working directory.\n",
    "|`os.chdir(path)` | Change the current working directory to a specified path.\n",
    "|`os.listdir(path)` | List the files and directories in the specified path.\n",
    "|`os.path.join(path, *paths)`| Join one or more path components into a single path.\n",
    "|`os.path.split(path)`| Split a path into the directory part and the filename part.\n",
    "\n",
    "\n",
    "\n"
   ]
  },
  {
   "cell_type": "markdown",
   "metadata": {
    "id": "NqMECGMqeH9N"
   },
   "source": [
    "**What is the current working directory ?** <br>\n",
    "The current working directory (cwd) is the directory where Python is executing code in your computer. <br>\n",
    "To access files outside of the cwd, you need to write the file's exact path.\n",
    "\n"
   ]
  },
  {
   "cell_type": "code",
   "execution_count": 4,
   "metadata": {
    "colab": {
     "base_uri": "https://localhost:8080/",
     "height": 35
    },
    "executionInfo": {
     "elapsed": 7,
     "status": "ok",
     "timestamp": 1692450829455,
     "user": {
      "displayName": "laurene david",
      "userId": "12504925674923465673"
     },
     "user_tz": -120
    },
    "id": "Cs2oiOqE6W_q",
    "outputId": "9b8f8a5b-175b-45e3-8c1c-aec1dd3d144d"
   },
   "outputs": [
    {
     "data": {
      "text/plain": [
       "'d:\\\\BackUP_ordi_Linux\\\\Documents\\\\Hi_Paris_Data_Events_Summer_School_Courses\\\\Data_BootCamp_2025'"
      ]
     },
     "execution_count": 4,
     "metadata": {},
     "output_type": "execute_result"
    }
   ],
   "source": [
    "# Get the current working directory\n",
    "os.getcwd()"
   ]
  },
  {
   "cell_type": "code",
   "execution_count": 5,
   "metadata": {
    "colab": {
     "base_uri": "https://localhost:8080/",
     "height": 35
    },
    "executionInfo": {
     "elapsed": 6,
     "status": "ok",
     "timestamp": 1692450829455,
     "user": {
      "displayName": "laurene david",
      "userId": "12504925674923465673"
     },
     "user_tz": -120
    },
    "id": "bweNAWwGuw0D",
    "outputId": "cd61aad8-1a76-4306-917f-64bda5da41e9"
   },
   "outputs": [
    {
     "data": {
      "text/plain": [
       "'path_to_file\\\\file_name.csv'"
      ]
     },
     "execution_count": 5,
     "metadata": {},
     "output_type": "execute_result"
    }
   ],
   "source": [
    "# Use os.path.join to create a full path\n",
    "path_to_file = 'path_to_file' # path\n",
    "file_name = \"file_name.csv\" # file name\n",
    "\n",
    "os.path.join(path_to_file,'file_name.csv') "
   ]
  },
  {
   "cell_type": "code",
   "execution_count": 6,
   "metadata": {
    "colab": {
     "base_uri": "https://localhost:8080/"
    },
    "executionInfo": {
     "elapsed": 5,
     "status": "ok",
     "timestamp": 1692451181860,
     "user": {
      "displayName": "laurene david",
      "userId": "12504925674923465673"
     },
     "user_tz": -120
    },
    "id": "rLipLvkJ84RD",
    "outputId": "5fa959a1-76c1-4a5e-c87f-1af008a05d7e"
   },
   "outputs": [
    {
     "data": {
      "text/plain": [
       "['15s_2x1.mp4',\n",
       " 'BackWard_Propogation.png',\n",
       " 'correction_Intermediate_Python_DB2025.ipynb',\n",
       " 'football_players.csv',\n",
       " 'Forward_Pass.png',\n",
       " 'Intermediate_Python_DB2025.ipynb',\n",
       " 'Introduction_to_deep_learning_Final.pptx']"
      ]
     },
     "execution_count": 6,
     "metadata": {},
     "output_type": "execute_result"
    }
   ],
   "source": [
    "# List every file in your current working directory\n",
    "os.listdir()"
   ]
  },
  {
   "cell_type": "markdown",
   "metadata": {
    "id": "aXwBMwyK1qUd"
   },
   "source": [
    "You can also use the `glob` module to find files that matches a specific pattern. <br>\n",
    "The `glob.glob()` function takes a file path pattern and returns a list of file names that match the pattern."
   ]
  },
  {
   "cell_type": "markdown",
   "metadata": {
    "id": "L4trG_QVKvl3"
   },
   "source": [
    "<br>\n",
    "\n",
    "<font size=5><u>**datetime**: Manipulate date & time data</u></font> <br>\n",
    "\n",
    "Python doesn't have a built-in data type to work with date/time data. It often stores this type of data as string objects.\n",
    "\n",
    "The **datetime** module provides data types and methods to easily process dates, time, and time intervals. <br>\n",
    "The module has six main classes to work with date/time data."
   ]
  },
  {
   "cell_type": "markdown",
   "metadata": {
    "id": "_UNrylIWopG2"
   },
   "source": [
    "\n",
    "| Datetime class | Description |\n",
    "| ------| ------------|\n",
    "| `date`|  Date (year, month, and day) without time information |\n",
    "|`time` | Time (hour, minute, second, and microsecond) without date information |\n",
    "| `datetime` | Combination of date and time (year, month, day, hour, minute, second) |\n",
    "| `timedelta` | Duration or difference between two dates or times."
   ]
  },
  {
   "cell_type": "markdown",
   "metadata": {
    "id": "egKTSXOEySZZ"
   },
   "source": [
    "Each datetime class has its own methods which includes creating dates, extracting parts of a date...  <br>\n",
    "\n",
    "*Note: You can import a specific class from a library using `from ... import ...`.*"
   ]
  },
  {
   "cell_type": "code",
   "execution_count": 7,
   "metadata": {
    "id": "t6cHrhMNwpiE"
   },
   "outputs": [],
   "source": [
    "from datetime import date # date class\n",
    "from datetime import datetime # datetime class"
   ]
  },
  {
   "cell_type": "code",
   "execution_count": 8,
   "metadata": {
    "colab": {
     "base_uri": "https://localhost:8080/"
    },
    "executionInfo": {
     "elapsed": 18,
     "status": "ok",
     "timestamp": 1692394530195,
     "user": {
      "displayName": "laurene david",
      "userId": "12504925674923465673"
     },
     "user_tz": -120
    },
    "id": "-sa7oFpY0VXQ",
    "outputId": "387804cf-38b1-42c0-ccd7-b0826e5776d5"
   },
   "outputs": [],
   "source": [
    "# Create a date object\n",
    "date_ = date(year=2012, month=10, day=4) # 4th of October 2012"
   ]
  },
  {
   "cell_type": "code",
   "execution_count": 9,
   "metadata": {},
   "outputs": [
    {
     "name": "stdout",
     "output_type": "stream",
     "text": [
      "Year: 2012\n",
      "Month: 10\n",
      "Day: 4\n"
     ]
    }
   ],
   "source": [
    "# Extract the year, month and day of the created date object\n",
    "print(\"Year:\", date_.year) \n",
    "print(\"Month:\", date_.month) \n",
    "print(\"Day:\", date_.day) "
   ]
  },
  {
   "cell_type": "markdown",
   "metadata": {
    "id": "mxSoz3nyWrff"
   },
   "source": [
    "You can **extract a date/datetime** with a specific format using `.strptime(format)`. <br>\n",
    "Formats for timestamps include `%Y` for year, `%m` for month, for `%d` day, `%H` for hour ..."
   ]
  },
  {
   "cell_type": "code",
   "execution_count": 10,
   "metadata": {},
   "outputs": [
    {
     "data": {
      "text/plain": [
       "datetime.datetime(2012, 10, 4, 10, 35)"
      ]
     },
     "execution_count": 10,
     "metadata": {},
     "output_type": "execute_result"
    }
   ],
   "source": [
    "# Create a datetime object\n",
    "datetime_ = datetime(year=2012, month=10, day=4, hour=10, minute=35, second=00)\n",
    "datetime_"
   ]
  },
  {
   "cell_type": "code",
   "execution_count": 11,
   "metadata": {},
   "outputs": [],
   "source": [
    "# Create different formats for dates\n",
    "year_month_day = \"%Y-%m-%d\" # year-month-day\n",
    "year_month = \"%Y-%m\" # year-month"
   ]
  },
  {
   "cell_type": "code",
   "execution_count": 12,
   "metadata": {
    "colab": {
     "base_uri": "https://localhost:8080/"
    },
    "executionInfo": {
     "elapsed": 12,
     "status": "ok",
     "timestamp": 1692394530195,
     "user": {
      "displayName": "laurene david",
      "userId": "12504925674923465673"
     },
     "user_tz": -120
    },
    "id": "gPeF6OwL2dMW",
    "outputId": "e45e3257-1aa4-40ae-8d8d-95d215015c6d"
   },
   "outputs": [
    {
     "name": "stdout",
     "output_type": "stream",
     "text": [
      "Year-month-day: 2012-10-04\n",
      "Year-month: 2012-10\n"
     ]
    }
   ],
   "source": [
    "# Apply the two date formats on the datetime object (datetime_)\n",
    "print(\"Year-month-day:\", datetime_.strftime(year_month_day))\n",
    "print(\"Year-month:\", datetime_.strftime(year_month))"
   ]
  },
  {
   "cell_type": "markdown",
   "metadata": {
    "id": "ghOZldpwVFX4"
   },
   "source": [
    "You can also **convert strings to a datetime** object using `datetime.strptime(str, format)`. <br>"
   ]
  },
  {
   "cell_type": "code",
   "execution_count": 13,
   "metadata": {
    "colab": {
     "base_uri": "https://localhost:8080/"
    },
    "executionInfo": {
     "elapsed": 10,
     "status": "ok",
     "timestamp": 1692394530195,
     "user": {
      "displayName": "laurene david",
      "userId": "12504925674923465673"
     },
     "user_tz": -120
    },
    "id": "fDu0rNws4tLG",
    "outputId": "96ae2e81-1018-4cf7-fcd4-3a92fbdc4ef6"
   },
   "outputs": [],
   "source": [
    "datetime_str = \"2012-10-4 11:35:00\" # original string\n",
    "datetime_format = '%Y-%m-%d %H:%M:%S'# datetime format"
   ]
  },
  {
   "cell_type": "code",
   "execution_count": 14,
   "metadata": {},
   "outputs": [
    {
     "data": {
      "text/plain": [
       "datetime.datetime(2012, 10, 4, 11, 35)"
      ]
     },
     "execution_count": 14,
     "metadata": {},
     "output_type": "execute_result"
    }
   ],
   "source": [
    "# Convert the string to a datetime object using the datetime format\n",
    "datetime.strptime(datetime_str, datetime_format)"
   ]
  },
  {
   "cell_type": "markdown",
   "metadata": {
    "id": "xXEibKNJRbwg"
   },
   "source": [
    "<br>\n",
    "\n",
    "## <font color='#023F7C'>**1.2  Efficient loops: list comprehension, enumerate/zip**</font>"
   ]
  },
  {
   "cell_type": "markdown",
   "metadata": {
    "id": "gvpH9RRmx_Ri"
   },
   "source": [
    "<font size=5><u>**Single-line for loops**: list comprehension</u></font> <br>\n",
    "\n",
    "List comprehensions allow you to **write loops using a single line of code.** <br>\n",
    "Rather than creating a list and adding elements to it, you define the list and its contents at the same time.\n",
    "\n",
    "In the following example, an `if else` statement was added inside the list comprehension.\n",
    "\n",
    "<img src = https://4.bp.blogspot.com/-uRPZqKbIGwQ/XRtgWhC6qqI/AAAAAAAAH0w/--oGnwKsnpo00GwQgH2gV3RPwHwK8uONgCLcBGAs/s1600/comprehension.PNG width = \"500\" height = \"200\" >"
   ]
  },
  {
   "cell_type": "code",
   "execution_count": 15,
   "metadata": {
    "id": "BXoVpfxqdvRp"
   },
   "outputs": [],
   "source": [
    "list_text = [\"Welcome\",\"to\",\"the\",\"Hi!\",\"Paris\",\"Data\",\"Bootcamp\"]"
   ]
  },
  {
   "cell_type": "code",
   "execution_count": 16,
   "metadata": {
    "id": "8ZJWzcDN3f0P"
   },
   "outputs": [
    {
     "data": {
      "text/plain": [
       "[7, 2, 3, 3, 5, 4, 8]"
      ]
     },
     "execution_count": 16,
     "metadata": {},
     "output_type": "execute_result"
    }
   ],
   "source": [
    "# Compute the length of each word with a simple for-loop\n",
    "result = []\n",
    "for elem in list_text:\n",
    "  result.append(len(elem))\n",
    "  \n",
    "result"
   ]
  },
  {
   "cell_type": "code",
   "execution_count": 17,
   "metadata": {
    "colab": {
     "base_uri": "https://localhost:8080/"
    },
    "executionInfo": {
     "elapsed": 20,
     "status": "ok",
     "timestamp": 1692394530547,
     "user": {
      "displayName": "laurene david",
      "userId": "12504925674923465673"
     },
     "user_tz": -120
    },
    "id": "iJ58rKZ65QEs",
    "outputId": "f2d043b6-9719-43db-ef05-aabcbd9d2364"
   },
   "outputs": [
    {
     "data": {
      "text/plain": [
       "[7, 2, 3, 3, 5, 4, 8]"
      ]
     },
     "execution_count": 17,
     "metadata": {},
     "output_type": "execute_result"
    }
   ],
   "source": [
    "# Compute the length of each word with list comprehension\n",
    "[len(elem) for elem in list_text]"
   ]
  },
  {
   "cell_type": "markdown",
   "metadata": {},
   "source": [
    "You can create **nested loops** by adding more `for` statements"
   ]
  },
  {
   "cell_type": "code",
   "execution_count": 18,
   "metadata": {
    "colab": {
     "base_uri": "https://localhost:8080/"
    },
    "executionInfo": {
     "elapsed": 20,
     "status": "ok",
     "timestamp": 1692394530548,
     "user": {
      "displayName": "laurene david",
      "userId": "12504925674923465673"
     },
     "user_tz": -120
    },
    "id": "jNymxZLr9WMF",
    "outputId": "e65b784c-7a8e-4756-d6b1-f5c2e5dd8d01"
   },
   "outputs": [
    {
     "data": {
      "text/plain": [
       "[['Welcome', 'to', 'the', 'Hi!'], ['Paris', 'Data', 'Bootcamp']]"
      ]
     },
     "execution_count": 18,
     "metadata": {},
     "output_type": "execute_result"
    }
   ],
   "source": [
    "# Create a nested list with the sentence\n",
    "nested_list_text = [[\"Welcome\",\"to\",\"the\",\"Hi!\"],[\"Paris\",\"Data\",\"Bootcamp\"]]\n",
    "nested_list_text"
   ]
  },
  {
   "cell_type": "code",
   "execution_count": 19,
   "metadata": {},
   "outputs": [
    {
     "data": {
      "text/plain": [
       "['Welcome', 'to', 'the', 'Hi!', 'Paris', 'Data', 'Bootcamp']"
      ]
     },
     "execution_count": 19,
     "metadata": {},
     "output_type": "execute_result"
    }
   ],
   "source": [
    "# Flatten the nested list using list comprehension\n",
    "[elem for list_ in nested_list_text for elem in list_]"
   ]
  },
  {
   "cell_type": "markdown",
   "metadata": {
    "id": "UmoV01Zk8Ch1"
   },
   "source": [
    "<br>\n",
    "\n",
    "<font size=5><u>**Enumerate & zip functions**</u></font> <br>\n",
    "\n"
   ]
  },
  {
   "cell_type": "markdown",
   "metadata": {
    "id": "UH08mNc2Nq3J"
   },
   "source": [
    "\n",
    "**1. Enumerate** <br>\n",
    "\n",
    "`enumerate()` generates **tuples with the list's items and corresponding index.** <br>\n",
    "It is often used to get the indexes of an object, instead of using `range(len(object))`\n"
   ]
  },
  {
   "cell_type": "code",
   "execution_count": 20,
   "metadata": {
    "colab": {
     "base_uri": "https://localhost:8080/"
    },
    "executionInfo": {
     "elapsed": 18,
     "status": "ok",
     "timestamp": 1692394530550,
     "user": {
      "displayName": "laurene david",
      "userId": "12504925674923465673"
     },
     "user_tz": -120
    },
    "id": "KgXV0cwZULry",
    "outputId": "e2c6d76f-c10d-4cc2-ad9b-732c5bf4c847"
   },
   "outputs": [
    {
     "data": {
      "text/plain": [
       "[(0, 'Hi!'), (1, 'PARIS'), (2, 'Data'), (3, 'Bootcamp')]"
      ]
     },
     "execution_count": 20,
     "metadata": {},
     "output_type": "execute_result"
    }
   ],
   "source": [
    "# Define an iterable object (list)\n",
    "list_str = [\"Hi!\", \"PARIS\", \"Data\", \"Bootcamp\"]\n",
    "\n",
    "# Convert an enumerated object to a list\n",
    "list(enumerate(list_str))"
   ]
  },
  {
   "cell_type": "code",
   "execution_count": 21,
   "metadata": {
    "colab": {
     "base_uri": "https://localhost:8080/"
    },
    "executionInfo": {
     "elapsed": 16,
     "status": "ok",
     "timestamp": 1692394530550,
     "user": {
      "displayName": "laurene david",
      "userId": "12504925674923465673"
     },
     "user_tz": -120
    },
    "id": "dKfBYljQVPt2",
    "outputId": "64bddd42-6a89-4576-c723-63df5d9591ba"
   },
   "outputs": [
    {
     "name": "stdout",
     "output_type": "stream",
     "text": [
      "(0, 'Hi!')\n",
      "(1, 'PARIS')\n",
      "(2, 'Data')\n",
      "(3, 'Bootcamp')\n"
     ]
    }
   ],
   "source": [
    "# Enumerate with a for-loop\n",
    "for elem in enumerate(list_str):\n",
    "  print(elem)"
   ]
  },
  {
   "cell_type": "code",
   "execution_count": 22,
   "metadata": {
    "colab": {
     "base_uri": "https://localhost:8080/"
    },
    "executionInfo": {
     "elapsed": 15,
     "status": "ok",
     "timestamp": 1692394530550,
     "user": {
      "displayName": "laurene david",
      "userId": "12504925674923465673"
     },
     "user_tz": -120
    },
    "id": "b6Iw2yg7DqWR",
    "outputId": "cb3711f6-4677-4c4f-c2fd-95b71f232158"
   },
   "outputs": [
    {
     "data": {
      "text/plain": [
       "[(0, 'Hi!'), (1, 'PARIS'), (2, 'Data'), (3, 'Bootcamp')]"
      ]
     },
     "execution_count": 22,
     "metadata": {},
     "output_type": "execute_result"
    }
   ],
   "source": [
    "# Enumerate with list comprehension\n",
    "[(i,j) for i,j in enumerate(list_str)]"
   ]
  },
  {
   "cell_type": "markdown",
   "metadata": {
    "id": "eJHU1wJcIjhR"
   },
   "source": [
    "**2. Zip** <br>\n",
    "\n",
    "The `zip()` function **combines multiple lists into tuple with multiple elements.** <br>\n",
    "It pairs elements with the same index in each iterable `(item1,item2)` <br>\n",
    "- Allows you to loop through multiple iterables at the same time\n",
    "- Preferred over nested loops when possible"
   ]
  },
  {
   "cell_type": "code",
   "execution_count": 23,
   "metadata": {
    "colab": {
     "base_uri": "https://localhost:8080/"
    },
    "executionInfo": {
     "elapsed": 15,
     "status": "ok",
     "timestamp": 1692394530551,
     "user": {
      "displayName": "laurene david",
      "userId": "12504925674923465673"
     },
     "user_tz": -120
    },
    "id": "iT-5K0A-PGqa",
    "outputId": "5fdd32c9-c72a-4602-97b4-3ea64c6203e7"
   },
   "outputs": [
    {
     "data": {
      "text/plain": [
       "[(2, 'Hi!'), (3, 'PARIS'), (4, 'Data'), (5, 'Bootcamp')]"
      ]
     },
     "execution_count": 23,
     "metadata": {},
     "output_type": "execute_result"
    }
   ],
   "source": [
    "# Create an iterable\n",
    "list_range = range(2,6)\n",
    "\n",
    "# Create an iterable by combining list_range and list_str\n",
    "list(zip(list_range,list_str))"
   ]
  },
  {
   "cell_type": "code",
   "execution_count": 24,
   "metadata": {
    "colab": {
     "base_uri": "https://localhost:8080/"
    },
    "executionInfo": {
     "elapsed": 15,
     "status": "ok",
     "timestamp": 1692394530554,
     "user": {
      "displayName": "laurene david",
      "userId": "12504925674923465673"
     },
     "user_tz": -120
    },
    "id": "M7slKgnvO6Gc",
    "outputId": "ac5b0415-b114-46c8-f4f4-d3ad71305811"
   },
   "outputs": [
    {
     "data": {
      "text/plain": [
       "[(2, 'Hi!'), (3, 'PARIS'), (4, 'Data'), (5, 'Bootcamp')]"
      ]
     },
     "execution_count": 24,
     "metadata": {},
     "output_type": "execute_result"
    }
   ],
   "source": [
    "# Zip with list-comprehension\n",
    "[(i,j) for i,j in zip(list_range,list_str)]"
   ]
  },
  {
   "cell_type": "markdown",
   "metadata": {
    "id": "UYUlleUymuWg"
   },
   "source": [
    "<br>\n",
    "<br>"
   ]
  },
  {
   "cell_type": "markdown",
   "metadata": {
    "id": "2hG0-kpHRqJu"
   },
   "source": [
    "## <font color='#023F7C'>**1.3 String manipulation**</font>\n",
    "\n",
    "Strings are are ordered list of characters (letters, numbers, spaces, ponctuation...). <br>\n",
    "They are Python's built-in data type for text and are defined using quotes (`''` or `\"\"`) <br>\n",
    "\n",
    "In this section, we'll show you to efficiently handle strings using **string methods**.\n",
    "\n"
   ]
  },
  {
   "cell_type": "markdown",
   "metadata": {
    "id": "2GZNabgPixuV"
   },
   "source": [
    "<font size=5>**<u>String methods</u>**</font> <br>\n",
    "\n",
    "Methods are operators that are associated to a specific Python object (string, list, dict,...). <br>\n",
    "They are used using the dot notation (examples: `.append`, `.sort`)\n",
    "\n",
    "In the following table, we've listed some methods you can apply on strings. <br>"
   ]
  },
  {
   "cell_type": "markdown",
   "metadata": {
    "id": "q6UCMoCuuC61"
   },
   "source": [
    "| str method | Description | Arguments |\n",
    "|-----------| ------------|------------|\n",
    "| `.lower()`, `.upper()` | Converts all strings to lower or upper case | No arguments |\n",
    "| `.lstrip()`, `.rstrip()`, `.strip()` | Removes leading or trailing characters from a string (or both) | `chars`: set of characters to be removed (default= `\" \"`) |\n",
    "| `.replace()` | Replace all occurences of a substring | `oldvalue`: substring to search for <br> `newvalue`: substring to replace |\n",
    "| `.split()` | Splits the string into a list of substrings based on a separator | `separator`: separator to split string (default= `\" \"`) |\n",
    "| `.startswith(prefix)`, `.endswith(suffix)` | Check if a string starts or end with a substring | `prefix`: string to be checked at the start <br> `suffix`: string to be checked at the end |\n",
    "| `.join()` |  Join the elements of a list into a string with a specified separator | The separator is placed at the beginning ex: `\" \".join()`<br> The argument is the list of strings to join"
   ]
  },
  {
   "cell_type": "code",
   "execution_count": 25,
   "metadata": {
    "id": "mC6piT744inQ"
   },
   "outputs": [],
   "source": [
    "text = \"We###lcome to the Hi! Par###is DataBootcamp 2023 !\""
   ]
  },
  {
   "cell_type": "code",
   "execution_count": 26,
   "metadata": {
    "colab": {
     "base_uri": "https://localhost:8080/"
    },
    "executionInfo": {
     "elapsed": 17,
     "status": "ok",
     "timestamp": 1692394530825,
     "user": {
      "displayName": "laurene david",
      "userId": "12504925674923465673"
     },
     "user_tz": -120
    },
    "id": "2LvmrqO53jHl",
    "outputId": "03c0bb3c-e94c-444b-9ca9-5335ebd7b4ff"
   },
   "outputs": [
    {
     "data": {
      "text/plain": [
       "['We###lcome', 'to', 'the', 'Hi!', 'Par###is', 'DataBootcamp', '2023', '!']"
      ]
     },
     "execution_count": 26,
     "metadata": {},
     "output_type": "execute_result"
    }
   ],
   "source": [
    "# Split the text into a list using the \" \" character\n",
    "text_split = text.split(\" \")\n",
    "text_split"
   ]
  },
  {
   "cell_type": "code",
   "execution_count": 27,
   "metadata": {},
   "outputs": [
    {
     "data": {
      "text/plain": [
       "'We###lcome to the Hi! Par###is DataBootcamp 2023 !'"
      ]
     },
     "execution_count": 27,
     "metadata": {},
     "output_type": "execute_result"
    }
   ],
   "source": [
    "# Join the elements of text_split into a string\n",
    "\" \".join(text_split)"
   ]
  },
  {
   "cell_type": "code",
   "execution_count": 28,
   "metadata": {},
   "outputs": [
    {
     "data": {
      "text/plain": [
       "'Welcome to the Hi! Paris DataBootcamp 2023 !'"
      ]
     },
     "execution_count": 28,
     "metadata": {},
     "output_type": "execute_result"
    }
   ],
   "source": [
    "# Clean the text (replace ### with an empty string)\n",
    "text.replace(\"###\",\"\")"
   ]
  },
  {
   "cell_type": "markdown",
   "metadata": {
    "id": "TZI-KMQWK-Ud"
   },
   "source": [
    "# <font color='#023F7C'>**2. Python for Data Science 🚀**</font>\n",
    "\n",
    "An open-source library is a collection of modules made available to the public for free under an open-source license. <br>\n",
    "Python has a rich ecosystem of **open-source libraries** dedicated to Data Science.\n",
    "\n",
    "Data Science libraries are useful for every step of a project, from **Data Cleaning 🧹** to **Model Building ⚙️**. <br>\n",
    "You'll use the following librairies during the bootcamp:\n",
    "- **NumPy**: A fundamental library for Numerical computing in Python.\n",
    "- **Pandas**: A popular library for Data manipulation and analysis\n",
    "- **Matplotlib**/**Seaborn** : Plotting libraries to generate visualizations in Python.\n",
    "- **Scikit-learn**: A library that provides tools for Machine Learning (pre-processing, modeling,...).\n",
    "\n",
    "<br>\n",
    "\n",
    "<img src = https://global-uploads.webflow.com/6473d8d02a3cf26273f2787d/6473d8d02a3cf26273f2873c_image3-1024x683.png width = \"500\" height = \"350\" >\n"
   ]
  },
  {
   "cell_type": "markdown",
   "metadata": {
    "id": "3YLJ6dQFp9a_"
   },
   "source": [
    "Open-source libraries need to be installed before being imported to Python code.\n",
    "- Install a library using `pip install ...` (terminal or notebook cell)   \n",
    "- Load a library with `import ...`"
   ]
  },
  {
   "cell_type": "code",
   "execution_count": 29,
   "metadata": {},
   "outputs": [],
   "source": [
    "# !pip install pandas, numpy, matplotlib, seaborn"
   ]
  },
  {
   "cell_type": "markdown",
   "metadata": {
    "id": "IUc399t5_qL7"
   },
   "source": [
    "##  <font color='#023F7C'>**2.1 Numerical computing with NumPy**</font>\n",
    "\n",
    "**NumPy** is a fundamental Python library for Numerical computing. <br>\n",
    "- It provides tools to work with multi-dimensional arrays and matrices. <br>\n",
    "- It also provides a vast collection of mathematical functions that can be used on arrays.\n",
    "\n",
    "\n",
    "\n",
    "\n",
    "\n",
    "\n"
   ]
  },
  {
   "cell_type": "code",
   "execution_count": 30,
   "metadata": {
    "id": "w5hVdp_3m1Ib"
   },
   "outputs": [],
   "source": [
    "import numpy as np"
   ]
  },
  {
   "cell_type": "markdown",
   "metadata": {
    "id": "qTmp9dGoKJQ6"
   },
   "source": [
    "**<font size='5'><u>NumPy arrays</u>**</font> <br>\n",
    "NumPy provides an **array object** that is much faster to process than lists. <br> They are created using `np.array()`.\n",
    "- Arrays are homogeneous, which means each item should have the same data type\n",
    "- Arrays can be multidimensional (1D: vector, 2D: matrix, 3D...)"
   ]
  },
  {
   "cell_type": "markdown",
   "metadata": {
    "id": "wUa2MHG6NeqP"
   },
   "source": [
    "<img src = https://predictivehacks.com/wp-content/uploads/2020/08/numpy_arrays-1024x572.png width = \"500\" height = \"280\" >"
   ]
  },
  {
   "cell_type": "code",
   "execution_count": 31,
   "metadata": {
    "colab": {
     "base_uri": "https://localhost:8080/"
    },
    "executionInfo": {
     "elapsed": 11,
     "status": "ok",
     "timestamp": 1692394530826,
     "user": {
      "displayName": "laurene david",
      "userId": "12504925674923465673"
     },
     "user_tz": -120
    },
    "id": "mTYSe4c_LXZm",
    "outputId": "9569c2be-e0e1-44c0-c6a2-d2e3fa735f24"
   },
   "outputs": [
    {
     "data": {
      "text/plain": [
       "array([1, 2, 3, 4, 5, 6])"
      ]
     },
     "execution_count": 31,
     "metadata": {},
     "output_type": "execute_result"
    }
   ],
   "source": [
    "# 1D array (vector)\n",
    "array_1d = np.array([1,2,3,4,5,6])\n",
    "array_1d"
   ]
  },
  {
   "cell_type": "code",
   "execution_count": 32,
   "metadata": {
    "colab": {
     "base_uri": "https://localhost:8080/"
    },
    "executionInfo": {
     "elapsed": 8,
     "status": "ok",
     "timestamp": 1692394530826,
     "user": {
      "displayName": "laurene david",
      "userId": "12504925674923465673"
     },
     "user_tz": -120
    },
    "id": "8FWvvmRvLX1T",
    "outputId": "b10b1cd1-ce3a-4a70-c01d-9e718b0231d3"
   },
   "outputs": [
    {
     "data": {
      "text/plain": [
       "array([[1, 2, 3],\n",
       "       [4, 5, 6]])"
      ]
     },
     "execution_count": 32,
     "metadata": {},
     "output_type": "execute_result"
    }
   ],
   "source": [
    "# 2D array (matrix)\n",
    "array_2d = np.array([[1,2,3],[4,5,6]])\n",
    "array_2d"
   ]
  },
  {
   "cell_type": "code",
   "execution_count": 33,
   "metadata": {
    "colab": {
     "base_uri": "https://localhost:8080/"
    },
    "executionInfo": {
     "elapsed": 7,
     "status": "ok",
     "timestamp": 1692394530826,
     "user": {
      "displayName": "laurene david",
      "userId": "12504925674923465673"
     },
     "user_tz": -120
    },
    "id": "EhUQlkH4Mfba",
    "outputId": "aa24d9f2-57de-4f74-a8f7-d661d4cf8d2f"
   },
   "outputs": [
    {
     "name": "stdout",
     "output_type": "stream",
     "text": [
      "1D shape: (6,)\n",
      "2D shape: (2, 3)\n"
     ]
    }
   ],
   "source": [
    "# Get an array's shape with np.shape (or .shape)\n",
    "print(\"1D shape:\",np.shape(array_1d))\n",
    "print(\"2D shape:\",np.shape(array_2d))"
   ]
  },
  {
   "cell_type": "code",
   "execution_count": 34,
   "metadata": {
    "colab": {
     "base_uri": "https://localhost:8080/"
    },
    "executionInfo": {
     "elapsed": 17,
     "status": "ok",
     "timestamp": 1692394531045,
     "user": {
      "displayName": "laurene david",
      "userId": "12504925674923465673"
     },
     "user_tz": -120
    },
    "id": "amXKl9eXLqPv",
    "outputId": "898e8d75-6047-4a48-e7d7-d901995e73af"
   },
   "outputs": [
    {
     "data": {
      "text/plain": [
       "np.int64(1)"
      ]
     },
     "execution_count": 34,
     "metadata": {},
     "output_type": "execute_result"
    }
   ],
   "source": [
    "# Slicing a 1D array with a single index\n",
    "array_1d[0]"
   ]
  },
  {
   "cell_type": "code",
   "execution_count": 35,
   "metadata": {
    "colab": {
     "base_uri": "https://localhost:8080/"
    },
    "executionInfo": {
     "elapsed": 11,
     "status": "ok",
     "timestamp": 1692394531045,
     "user": {
      "displayName": "laurene david",
      "userId": "12504925674923465673"
     },
     "user_tz": -120
    },
    "id": "4EOQ7MnOjYbZ",
    "outputId": "ea6fad9e-6b67-4338-e965-a5b1d8e0357a"
   },
   "outputs": [
    {
     "data": {
      "text/plain": [
       "array([1, 2, 3])"
      ]
     },
     "execution_count": 35,
     "metadata": {},
     "output_type": "execute_result"
    }
   ],
   "source": [
    "# Slicing a 2D array with two indexes\n",
    "array_2d[0,:] # get the first row"
   ]
  },
  {
   "cell_type": "markdown",
   "metadata": {
    "id": "ylfWh2SGNWol"
   },
   "source": [
    "**<font size='5'><u>NumPy operations</u>**</font> <br>\n",
    "\n",
    "NumPy has many mathematical functions that can be used on its arrays. <br>\n",
    "They extend the capabilities of Python's built-in operators and Standard library modules.\n",
    "\n",
    "They tend to be more efficient than for-loops and list comprehensions on numerical data."
   ]
  },
  {
   "cell_type": "markdown",
   "metadata": {
    "id": "wdH_jiDwLVo9"
   },
   "source": [
    "| Type | Numpy functions | Description |\n",
    "| ------------------| ------------|-----------------|\n",
    "| Trigonometric | `np.cos()`, `np.sim()`, `np.tan()`, `np.arccos()` | Trigonometric and inverse trigonometric functions |\n",
    "| Exponential/Logarithmic |   `np.exp()`, `np.log()` |  Exponential and logarithm functions |\n",
    "| Rounding/Absolute |  `np.round()`, `np.floor()`, `np.ceil()`, `np.abs()` | Round a value or compute its absolute value |\n",
    "| Statistical | `np.mean()`, `np.median()`, `np.std()` | Compute basic statistical metrics (mean, median, std,...) |"
   ]
  },
  {
   "cell_type": "code",
   "execution_count": 36,
   "metadata": {
    "colab": {
     "base_uri": "https://localhost:8080/"
    },
    "executionInfo": {
     "elapsed": 6,
     "status": "ok",
     "timestamp": 1692394531045,
     "user": {
      "displayName": "laurene david",
      "userId": "12504925674923465673"
     },
     "user_tz": -120
    },
    "id": "LzSCS39kTVjE",
    "outputId": "2a114186-9579-47ea-84a0-849603728023"
   },
   "outputs": [
    {
     "name": "stdout",
     "output_type": "stream",
     "text": [
      "1.0\n",
      "0.0\n"
     ]
    }
   ],
   "source": [
    "print(np.exp(0)) # exponential\n",
    "print(np.log(1)) # log"
   ]
  },
  {
   "cell_type": "code",
   "execution_count": 37,
   "metadata": {
    "colab": {
     "base_uri": "https://localhost:8080/"
    },
    "executionInfo": {
     "elapsed": 4,
     "status": "ok",
     "timestamp": 1692394531045,
     "user": {
      "displayName": "laurene david",
      "userId": "12504925674923465673"
     },
     "user_tz": -120
    },
    "id": "_eALj75_Ugbt",
    "outputId": "91262f3b-4a58-40a6-f3e3-7316bc0e3235"
   },
   "outputs": [
    {
     "data": {
      "text/plain": [
       "array([0.        , 0.69314718, 1.09861229, 1.38629436, 1.60943791,\n",
       "       1.79175947])"
      ]
     },
     "execution_count": 37,
     "metadata": {},
     "output_type": "execute_result"
    }
   ],
   "source": [
    "# Apply the log function to each element of an array\n",
    "np.log(array_1d)"
   ]
  },
  {
   "cell_type": "markdown",
   "metadata": {},
   "source": [
    "Some functions allow **mathematical operations to be vectorized**. <br>\n",
    "Vectorized operations are applied simultaneously to each element of one or more arrays.  \n",
    "\n",
    "Here are some of these functions:  \n",
    "- `np.add()`: Sum the elements of two arrays element by element\n",
    "- `np.substract()`: Substract the elements of two arrays element by element\n",
    "- `np.multiply()`: Same with multiplication \n",
    "- `np.divide()`: Same with division"
   ]
  },
  {
   "cell_type": "code",
   "execution_count": 38,
   "metadata": {
    "colab": {
     "base_uri": "https://localhost:8080/"
    },
    "executionInfo": {
     "elapsed": 5,
     "status": "ok",
     "timestamp": 1692394531045,
     "user": {
      "displayName": "laurene david",
      "userId": "12504925674923465673"
     },
     "user_tz": -120
    },
    "id": "plTAkhPOTkeo",
    "outputId": "bae2975b-685e-4ca2-90ce-21cb8cd97d8c"
   },
   "outputs": [
    {
     "data": {
      "text/plain": [
       "array([ 4,  6,  8, 10, 12])"
      ]
     },
     "execution_count": 38,
     "metadata": {},
     "output_type": "execute_result"
    }
   ],
   "source": [
    "array1 = np.array([2,4,6,8,10])\n",
    "array2 = np.array([2,2,2,2,2])\n",
    "\n",
    "# Add elements of array1 and array2 element wise\n",
    "np.add(array1,array2)"
   ]
  },
  {
   "cell_type": "markdown",
   "metadata": {
    "id": "ecXQuYp-ohUG"
   },
   "source": [
    "## <font color='#023F7C'>**2.2 Data manipulation with Pandas</font>**\n",
    "\n",
    "**Pandas** is a popular library for Data manipulation and analysis. <br>\n",
    "It offers powerful data structures and tools to handle structured data. <br>\n"
   ]
  },
  {
   "cell_type": "code",
   "execution_count": 39,
   "metadata": {
    "id": "LM1gq9qOomuU"
   },
   "outputs": [],
   "source": [
    "import pandas as pd"
   ]
  },
  {
   "cell_type": "code",
   "execution_count": 40,
   "metadata": {},
   "outputs": [
    {
     "name": "stdout",
     "output_type": "stream",
     "text": [
      "Pandas version: 2.3.1\n"
     ]
    }
   ],
   "source": [
    "print(\"Pandas version:\", pd.__version__)"
   ]
  },
  {
   "cell_type": "markdown",
   "metadata": {
    "id": "nuDVnojyNwxZ"
   },
   "source": [
    "**<font size='5'><u>What are DataFrames ?**</u></font> <br>\n",
    "\n",
    "Dataframes are **two-dimensional** data structures with rows and columns. <br> Each row is identified with an index label, and each column by a column name.\n",
    "\n",
    "A dataframe with a single column (and index) is called a Pandas Series.\n",
    "\n",
    "<img src = https://pynative.com/wp-content/uploads/2021/02/dataframe.png width = \"600\" height = \"300\" >"
   ]
  },
  {
   "cell_type": "markdown",
   "metadata": {},
   "source": [
    "**Build a dataframe** <br>\n",
    "Dataframes are created using the `pd.DataFrame()` statement. <br>\n",
    "You can use a dictionary or a two-dimensional array to build it.\n"
   ]
  },
  {
   "cell_type": "code",
   "execution_count": 41,
   "metadata": {},
   "outputs": [],
   "source": [
    "name_column = [\"Joe\", \"Nat\", \"Harry\", \"Sam\", \"Monica\"]\n",
    "age_column = [20, 21, 19, 20, 22]\n",
    "marks_column = [85.10, 77.80, 91.54, 88.78, 60.85]"
   ]
  },
  {
   "cell_type": "code",
   "execution_count": 42,
   "metadata": {
    "colab": {
     "base_uri": "https://localhost:8080/",
     "height": 206
    },
    "executionInfo": {
     "elapsed": 16,
     "status": "ok",
     "timestamp": 1692394531590,
     "user": {
      "displayName": "laurene david",
      "userId": "12504925674923465673"
     },
     "user_tz": -120
    },
    "id": "9CEdtiU7kFuL",
    "outputId": "4b81a7ae-0550-4a4f-a159-dafa7999069c"
   },
   "outputs": [],
   "source": [
    "# Define the dataframe using a dictionary \n",
    "df = pd.DataFrame({\"Name\":name_column,\n",
    "                   \"Age\":age_column,\n",
    "                   \"Marks\":marks_column})"
   ]
  },
  {
   "cell_type": "code",
   "execution_count": 43,
   "metadata": {},
   "outputs": [
    {
     "data": {
      "text/html": [
       "<div>\n",
       "<style scoped>\n",
       "    .dataframe tbody tr th:only-of-type {\n",
       "        vertical-align: middle;\n",
       "    }\n",
       "\n",
       "    .dataframe tbody tr th {\n",
       "        vertical-align: top;\n",
       "    }\n",
       "\n",
       "    .dataframe thead th {\n",
       "        text-align: right;\n",
       "    }\n",
       "</style>\n",
       "<table border=\"1\" class=\"dataframe\">\n",
       "  <thead>\n",
       "    <tr style=\"text-align: right;\">\n",
       "      <th></th>\n",
       "      <th>Name</th>\n",
       "      <th>Age</th>\n",
       "      <th>Marks</th>\n",
       "    </tr>\n",
       "  </thead>\n",
       "  <tbody>\n",
       "    <tr>\n",
       "      <th>0</th>\n",
       "      <td>Joe</td>\n",
       "      <td>20</td>\n",
       "      <td>85.10</td>\n",
       "    </tr>\n",
       "    <tr>\n",
       "      <th>1</th>\n",
       "      <td>Nat</td>\n",
       "      <td>21</td>\n",
       "      <td>77.80</td>\n",
       "    </tr>\n",
       "    <tr>\n",
       "      <th>2</th>\n",
       "      <td>Harry</td>\n",
       "      <td>19</td>\n",
       "      <td>91.54</td>\n",
       "    </tr>\n",
       "    <tr>\n",
       "      <th>3</th>\n",
       "      <td>Sam</td>\n",
       "      <td>20</td>\n",
       "      <td>88.78</td>\n",
       "    </tr>\n",
       "    <tr>\n",
       "      <th>4</th>\n",
       "      <td>Monica</td>\n",
       "      <td>22</td>\n",
       "      <td>60.85</td>\n",
       "    </tr>\n",
       "  </tbody>\n",
       "</table>\n",
       "</div>"
      ],
      "text/plain": [
       "     Name  Age  Marks\n",
       "0     Joe   20  85.10\n",
       "1     Nat   21  77.80\n",
       "2   Harry   19  91.54\n",
       "3     Sam   20  88.78\n",
       "4  Monica   22  60.85"
      ]
     },
     "execution_count": 43,
     "metadata": {},
     "output_type": "execute_result"
    }
   ],
   "source": [
    "df"
   ]
  },
  {
   "cell_type": "markdown",
   "metadata": {},
   "source": [
    "You can also **load a dataframe** from an external file (csv, excel, json) using `pd.read_` type functions. <br>\n",
    "\n",
    "Here is an example using `pd.read_csv()` to load the `football_players.csv` file. <br>\n",
    "This csv file contains data on a large number of male and female football players ⚽. <br>"
   ]
  },
  {
   "cell_type": "code",
   "execution_count": 44,
   "metadata": {},
   "outputs": [],
   "source": [
    "# Import a csv file as a dataframe\n",
    "players_df = pd.read_csv(\"football_players.csv\")"
   ]
  },
  {
   "cell_type": "code",
   "execution_count": 45,
   "metadata": {},
   "outputs": [
    {
     "data": {
      "text/html": [
       "<div>\n",
       "<style scoped>\n",
       "    .dataframe tbody tr th:only-of-type {\n",
       "        vertical-align: middle;\n",
       "    }\n",
       "\n",
       "    .dataframe tbody tr th {\n",
       "        vertical-align: top;\n",
       "    }\n",
       "\n",
       "    .dataframe thead th {\n",
       "        text-align: right;\n",
       "    }\n",
       "</style>\n",
       "<table border=\"1\" class=\"dataframe\">\n",
       "  <thead>\n",
       "    <tr style=\"text-align: right;\">\n",
       "      <th></th>\n",
       "      <th>Gender</th>\n",
       "      <th>Year</th>\n",
       "      <th>main_position</th>\n",
       "      <th>wage_eur</th>\n",
       "      <th>age</th>\n",
       "      <th>height_cm</th>\n",
       "      <th>league_country</th>\n",
       "      <th>weight_kg</th>\n",
       "      <th>league_level</th>\n",
       "      <th>national_team</th>\n",
       "      <th>preferred_foot</th>\n",
       "      <th>international_reputation</th>\n",
       "      <th>attacking</th>\n",
       "      <th>defending</th>\n",
       "      <th>goalkeeping</th>\n",
       "      <th>mentality</th>\n",
       "      <th>movement</th>\n",
       "      <th>power</th>\n",
       "      <th>skill</th>\n",
       "    </tr>\n",
       "  </thead>\n",
       "  <tbody>\n",
       "    <tr>\n",
       "      <th>0</th>\n",
       "      <td>Female</td>\n",
       "      <td>2023</td>\n",
       "      <td>Goalkeeper</td>\n",
       "      <td>750.0</td>\n",
       "      <td>24</td>\n",
       "      <td>180</td>\n",
       "      <td>France</td>\n",
       "      <td>72</td>\n",
       "      <td>1.0</td>\n",
       "      <td>Other</td>\n",
       "      <td>NaN</td>\n",
       "      <td>1</td>\n",
       "      <td>NaN</td>\n",
       "      <td>20.444444</td>\n",
       "      <td>72.833333</td>\n",
       "      <td>26.277778</td>\n",
       "      <td>51.0</td>\n",
       "      <td>49.466667</td>\n",
       "      <td>17.222222</td>\n",
       "    </tr>\n",
       "    <tr>\n",
       "      <th>1</th>\n",
       "      <td>Male</td>\n",
       "      <td>2023</td>\n",
       "      <td>Midfield</td>\n",
       "      <td>5000.0</td>\n",
       "      <td>29</td>\n",
       "      <td>174</td>\n",
       "      <td>Belgium</td>\n",
       "      <td>74</td>\n",
       "      <td>1.0</td>\n",
       "      <td>Other</td>\n",
       "      <td>Right</td>\n",
       "      <td>1</td>\n",
       "      <td>44.4</td>\n",
       "      <td>56.750000</td>\n",
       "      <td>8.400000</td>\n",
       "      <td>53.500000</td>\n",
       "      <td>59.4</td>\n",
       "      <td>57.000000</td>\n",
       "      <td>44.833333</td>\n",
       "    </tr>\n",
       "    <tr>\n",
       "      <th>2</th>\n",
       "      <td>Male</td>\n",
       "      <td>2023</td>\n",
       "      <td>Defense</td>\n",
       "      <td>4000.0</td>\n",
       "      <td>24</td>\n",
       "      <td>181</td>\n",
       "      <td>Netherlands</td>\n",
       "      <td>76</td>\n",
       "      <td>1.0</td>\n",
       "      <td>Netherlands</td>\n",
       "      <td>Left</td>\n",
       "      <td>1</td>\n",
       "      <td>57.8</td>\n",
       "      <td>61.750000</td>\n",
       "      <td>10.200000</td>\n",
       "      <td>60.500000</td>\n",
       "      <td>67.2</td>\n",
       "      <td>66.600000</td>\n",
       "      <td>50.833333</td>\n",
       "    </tr>\n",
       "    <tr>\n",
       "      <th>3</th>\n",
       "      <td>Male</td>\n",
       "      <td>2023</td>\n",
       "      <td>Attack</td>\n",
       "      <td>5000.0</td>\n",
       "      <td>30</td>\n",
       "      <td>186</td>\n",
       "      <td>England</td>\n",
       "      <td>78</td>\n",
       "      <td>4.0</td>\n",
       "      <td>England</td>\n",
       "      <td>NaN</td>\n",
       "      <td>1</td>\n",
       "      <td>NaN</td>\n",
       "      <td>22.000000</td>\n",
       "      <td>11.200000</td>\n",
       "      <td>52.833333</td>\n",
       "      <td>65.1</td>\n",
       "      <td>68.300000</td>\n",
       "      <td>42.000000</td>\n",
       "    </tr>\n",
       "    <tr>\n",
       "      <th>4</th>\n",
       "      <td>Male</td>\n",
       "      <td>2024</td>\n",
       "      <td>Midfield</td>\n",
       "      <td>2000.0</td>\n",
       "      <td>24</td>\n",
       "      <td>181</td>\n",
       "      <td>England</td>\n",
       "      <td>73</td>\n",
       "      <td>1.0</td>\n",
       "      <td>Other</td>\n",
       "      <td>Right</td>\n",
       "      <td>1</td>\n",
       "      <td>60.0</td>\n",
       "      <td>59.250000</td>\n",
       "      <td>10.200000</td>\n",
       "      <td>62.333333</td>\n",
       "      <td>67.2</td>\n",
       "      <td>71.600000</td>\n",
       "      <td>54.500000</td>\n",
       "    </tr>\n",
       "  </tbody>\n",
       "</table>\n",
       "</div>"
      ],
      "text/plain": [
       "   Gender  Year main_position  wage_eur  age  height_cm league_country  \\\n",
       "0  Female  2023    Goalkeeper     750.0   24        180         France   \n",
       "1    Male  2023      Midfield    5000.0   29        174        Belgium   \n",
       "2    Male  2023       Defense    4000.0   24        181    Netherlands   \n",
       "3    Male  2023        Attack    5000.0   30        186        England   \n",
       "4    Male  2024      Midfield    2000.0   24        181        England   \n",
       "\n",
       "   weight_kg  league_level national_team preferred_foot  \\\n",
       "0         72           1.0         Other            NaN   \n",
       "1         74           1.0         Other          Right   \n",
       "2         76           1.0   Netherlands           Left   \n",
       "3         78           4.0       England            NaN   \n",
       "4         73           1.0         Other          Right   \n",
       "\n",
       "   international_reputation  attacking  defending  goalkeeping  mentality  \\\n",
       "0                         1        NaN  20.444444    72.833333  26.277778   \n",
       "1                         1       44.4  56.750000     8.400000  53.500000   \n",
       "2                         1       57.8  61.750000    10.200000  60.500000   \n",
       "3                         1        NaN  22.000000    11.200000  52.833333   \n",
       "4                         1       60.0  59.250000    10.200000  62.333333   \n",
       "\n",
       "   movement      power      skill  \n",
       "0      51.0  49.466667  17.222222  \n",
       "1      59.4  57.000000  44.833333  \n",
       "2      67.2  66.600000  50.833333  \n",
       "3      65.1  68.300000  42.000000  \n",
       "4      67.2  71.600000  54.500000  "
      ]
     },
     "execution_count": 45,
     "metadata": {},
     "output_type": "execute_result"
    }
   ],
   "source": [
    "# Show the first five rows of a dataframe\n",
    "players_df.head()"
   ]
  },
  {
   "cell_type": "markdown",
   "metadata": {},
   "source": [
    "You can also <u>save</u> dataframes into different data formats with `.to_csv()`, `to_excel()`, ..."
   ]
  },
  {
   "cell_type": "markdown",
   "metadata": {},
   "source": [
    "**Select columns in a dataframe** <br>\n",
    "To select a single column, you have to use brackets `[]`. <br>\n",
    "To select more than one column, double brackets are used `[[]]`. "
   ]
  },
  {
   "cell_type": "code",
   "execution_count": 46,
   "metadata": {
    "colab": {
     "base_uri": "https://localhost:8080/"
    },
    "executionInfo": {
     "elapsed": 16,
     "status": "ok",
     "timestamp": 1692394531591,
     "user": {
      "displayName": "laurene david",
      "userId": "12504925674923465673"
     },
     "user_tz": -120
    },
    "id": "iotxfvBwWWNy",
    "outputId": "ca5d9279-ff98-43d4-8108-a1df28248600"
   },
   "outputs": [
    {
     "data": {
      "text/plain": [
       "0        Female\n",
       "1          Male\n",
       "2          Male\n",
       "3          Male\n",
       "4          Male\n",
       "          ...  \n",
       "13294      Male\n",
       "13295    Female\n",
       "13296      Male\n",
       "13297      Male\n",
       "13298      Male\n",
       "Name: Gender, Length: 13299, dtype: object"
      ]
     },
     "execution_count": 46,
     "metadata": {},
     "output_type": "execute_result"
    }
   ],
   "source": [
    "# Select the Gender column\n",
    "players_df[\"Gender\"]"
   ]
  },
  {
   "cell_type": "code",
   "execution_count": 47,
   "metadata": {
    "colab": {
     "base_uri": "https://localhost:8080/",
     "height": 206
    },
    "executionInfo": {
     "elapsed": 15,
     "status": "ok",
     "timestamp": 1692394531591,
     "user": {
      "displayName": "laurene david",
      "userId": "12504925674923465673"
     },
     "user_tz": -120
    },
    "id": "P6R1MJx_WYR-",
    "outputId": "57f9ac58-bca2-43d3-d7e0-90df019d8856"
   },
   "outputs": [
    {
     "data": {
      "text/html": [
       "<div>\n",
       "<style scoped>\n",
       "    .dataframe tbody tr th:only-of-type {\n",
       "        vertical-align: middle;\n",
       "    }\n",
       "\n",
       "    .dataframe tbody tr th {\n",
       "        vertical-align: top;\n",
       "    }\n",
       "\n",
       "    .dataframe thead th {\n",
       "        text-align: right;\n",
       "    }\n",
       "</style>\n",
       "<table border=\"1\" class=\"dataframe\">\n",
       "  <thead>\n",
       "    <tr style=\"text-align: right;\">\n",
       "      <th></th>\n",
       "      <th>Gender</th>\n",
       "      <th>Year</th>\n",
       "    </tr>\n",
       "  </thead>\n",
       "  <tbody>\n",
       "    <tr>\n",
       "      <th>0</th>\n",
       "      <td>Female</td>\n",
       "      <td>2023</td>\n",
       "    </tr>\n",
       "    <tr>\n",
       "      <th>1</th>\n",
       "      <td>Male</td>\n",
       "      <td>2023</td>\n",
       "    </tr>\n",
       "    <tr>\n",
       "      <th>2</th>\n",
       "      <td>Male</td>\n",
       "      <td>2023</td>\n",
       "    </tr>\n",
       "    <tr>\n",
       "      <th>3</th>\n",
       "      <td>Male</td>\n",
       "      <td>2023</td>\n",
       "    </tr>\n",
       "    <tr>\n",
       "      <th>4</th>\n",
       "      <td>Male</td>\n",
       "      <td>2024</td>\n",
       "    </tr>\n",
       "    <tr>\n",
       "      <th>...</th>\n",
       "      <td>...</td>\n",
       "      <td>...</td>\n",
       "    </tr>\n",
       "    <tr>\n",
       "      <th>13294</th>\n",
       "      <td>Male</td>\n",
       "      <td>2024</td>\n",
       "    </tr>\n",
       "    <tr>\n",
       "      <th>13295</th>\n",
       "      <td>Female</td>\n",
       "      <td>2024</td>\n",
       "    </tr>\n",
       "    <tr>\n",
       "      <th>13296</th>\n",
       "      <td>Male</td>\n",
       "      <td>2023</td>\n",
       "    </tr>\n",
       "    <tr>\n",
       "      <th>13297</th>\n",
       "      <td>Male</td>\n",
       "      <td>2024</td>\n",
       "    </tr>\n",
       "    <tr>\n",
       "      <th>13298</th>\n",
       "      <td>Male</td>\n",
       "      <td>2024</td>\n",
       "    </tr>\n",
       "  </tbody>\n",
       "</table>\n",
       "<p>13299 rows × 2 columns</p>\n",
       "</div>"
      ],
      "text/plain": [
       "       Gender  Year\n",
       "0      Female  2023\n",
       "1        Male  2023\n",
       "2        Male  2023\n",
       "3        Male  2023\n",
       "4        Male  2024\n",
       "...       ...   ...\n",
       "13294    Male  2024\n",
       "13295  Female  2024\n",
       "13296    Male  2023\n",
       "13297    Male  2024\n",
       "13298    Male  2024\n",
       "\n",
       "[13299 rows x 2 columns]"
      ]
     },
     "execution_count": 47,
     "metadata": {},
     "output_type": "execute_result"
    }
   ],
   "source": [
    "# Select the Gender and Year columns\n",
    "players_df[[\"Gender\",\"Year\"]]"
   ]
  },
  {
   "cell_type": "markdown",
   "metadata": {
    "id": "WussyMSfJHX0"
   },
   "source": [
    "**Pandas dtypes** <br>\n",
    "Pandas has its own data types (dtypes) to store information:\n",
    "- Numerical types are stored as `int64` or `float64`\n",
    "- String/mixed types are stored as `object`\n",
    "- Other dtypes: `bool`, `datetime64[ns]`, `timedelta`, `category`\n",
    "\n",
    "You can access a dataframe's dtypes with `.dtypes` <br>\n",
    "You can also modify a columns' dtype using `.astype()`"
   ]
  },
  {
   "cell_type": "code",
   "execution_count": 48,
   "metadata": {
    "colab": {
     "base_uri": "https://localhost:8080/"
    },
    "executionInfo": {
     "elapsed": 15,
     "status": "ok",
     "timestamp": 1692394531592,
     "user": {
      "displayName": "laurene david",
      "userId": "12504925674923465673"
     },
     "user_tz": -120
    },
    "id": "vLyPXZWNoNuW",
    "outputId": "8aca5020-fd98-4200-8413-d8d6294e6eb0"
   },
   "outputs": [
    {
     "data": {
      "text/plain": [
       "Gender                       object\n",
       "Year                          int64\n",
       "main_position                object\n",
       "wage_eur                    float64\n",
       "age                           int64\n",
       "height_cm                     int64\n",
       "league_country               object\n",
       "weight_kg                     int64\n",
       "league_level                float64\n",
       "national_team                object\n",
       "preferred_foot               object\n",
       "international_reputation      int64\n",
       "attacking                   float64\n",
       "defending                   float64\n",
       "goalkeeping                 float64\n",
       "mentality                   float64\n",
       "movement                    float64\n",
       "power                       float64\n",
       "skill                       float64\n",
       "dtype: object"
      ]
     },
     "execution_count": 48,
     "metadata": {},
     "output_type": "execute_result"
    }
   ],
   "source": [
    "# Use .dtypes to access these data types\n",
    "players_df.dtypes"
   ]
  },
  {
   "cell_type": "markdown",
   "metadata": {},
   "source": [
    "You can also use `.info()` to get general information on a dataframe (number of rows/columns, name of columns, dtypes,...)."
   ]
  },
  {
   "cell_type": "code",
   "execution_count": 49,
   "metadata": {},
   "outputs": [
    {
     "name": "stdout",
     "output_type": "stream",
     "text": [
      "<class 'pandas.core.frame.DataFrame'>\n",
      "RangeIndex: 13299 entries, 0 to 13298\n",
      "Data columns (total 19 columns):\n",
      " #   Column                    Non-Null Count  Dtype  \n",
      "---  ------                    --------------  -----  \n",
      " 0   Gender                    13299 non-null  object \n",
      " 1   Year                      13299 non-null  int64  \n",
      " 2   main_position             13299 non-null  object \n",
      " 3   wage_eur                  13299 non-null  float64\n",
      " 4   age                       13299 non-null  int64  \n",
      " 5   height_cm                 13299 non-null  int64  \n",
      " 6   league_country            13299 non-null  object \n",
      " 7   weight_kg                 13299 non-null  int64  \n",
      " 8   league_level              13299 non-null  float64\n",
      " 9   national_team             13299 non-null  object \n",
      " 10  preferred_foot            6650 non-null   object \n",
      " 11  international_reputation  13299 non-null  int64  \n",
      " 12  attacking                 9310 non-null   float64\n",
      " 13  defending                 13299 non-null  float64\n",
      " 14  goalkeeping               13299 non-null  float64\n",
      " 15  mentality                 13299 non-null  float64\n",
      " 16  movement                  13299 non-null  float64\n",
      " 17  power                     13299 non-null  float64\n",
      " 18  skill                     13299 non-null  float64\n",
      "dtypes: float64(9), int64(5), object(5)\n",
      "memory usage: 1.9+ MB\n"
     ]
    }
   ],
   "source": [
    "players_df.info()"
   ]
  },
  {
   "cell_type": "markdown",
   "metadata": {},
   "source": [
    "**Remark**: The `attacking` and `preferred_foot` columns have a number of \"non-null\" values that is lower than the total number of rows (13299). <br>\n",
    "This indicates that the two columns contain missing values."
   ]
  },
  {
   "cell_type": "markdown",
   "metadata": {
    "id": "YunA3N11wriT"
   },
   "source": [
    "**<font size='5'><u>Manipulate Dataframes</u>**</font> <br>\n",
    "\n",
    "Pandas has a large collection of methods to **manipulate DataFrames**. <br>\n",
    "They allow you to analyze missing values, sort columns, reset indexes, convert to numpy array, ...\n",
    "\n"
   ]
  },
  {
   "cell_type": "markdown",
   "metadata": {
    "id": "xNGDpFDiUmpy"
   },
   "source": [
    "| Pandas Function | Description | Parameters |\n",
    "|----------|-------------|------------|\n",
    "| `.value_counts()`| Count the number of rows with each unique variable value | `normalize`: normalize frequencies (bool) <br> `sort`: sort by frequencies |\n",
    "| `.sort_values()`| Order rows based on the values of one or more columns | `by`: column names to sort by <br> `ascending`: Way of sorting (bool) <br> `inplace`: Perform operation in place (bool) |\n",
    "| `.drop()`| Drop rows or columns from a dataframe | `index`: indexes to drop <br> `columns`: columns to drop |\n",
    "| `.reset.index()`| Reset index to row numbers, moving index to columns | `drop`: Keep or drop previous index to df (bool) <br> `inplace`: Apply modifications directly to df (bool) |\n",
    "| `.to_numpy()` | Convert a DataFrame to a NumPy array | `dtype`: Dtype to pass to the array |\n",
    "| `.to_list()` | Convert a single column of a DataFrame to a list |  |\n",
    "| `.astype()` | Cast a pandas object (series, dataframe) to a specified dtype | `dtype`: Dtype to cast <br> `copy`: Apply the transformation directly to the object (True) or don't (False)\n"
   ]
  },
  {
   "cell_type": "code",
   "execution_count": 50,
   "metadata": {
    "colab": {
     "base_uri": "https://localhost:8080/"
    },
    "executionInfo": {
     "elapsed": 14,
     "status": "ok",
     "timestamp": 1692394531592,
     "user": {
      "displayName": "laurene david",
      "userId": "12504925674923465673"
     },
     "user_tz": -120
    },
    "id": "JNqFtxpJVXKw",
    "outputId": "3e545e15-e82b-4594-feb9-835b0f804927"
   },
   "outputs": [
    {
     "data": {
      "text/plain": [
       "main_position\n",
       "Midfield      6362\n",
       "Attack        3351\n",
       "Defense       2068\n",
       "Goalkeeper    1518\n",
       "Name: count, dtype: int64"
      ]
     },
     "execution_count": 50,
     "metadata": {},
     "output_type": "execute_result"
    }
   ],
   "source": [
    "# Get the number of players for each possible value of \"main_position\"\n",
    "players_df[\"main_position\"].value_counts()"
   ]
  },
  {
   "cell_type": "code",
   "execution_count": 51,
   "metadata": {},
   "outputs": [
    {
     "data": {
      "text/html": [
       "<div>\n",
       "<style scoped>\n",
       "    .dataframe tbody tr th:only-of-type {\n",
       "        vertical-align: middle;\n",
       "    }\n",
       "\n",
       "    .dataframe tbody tr th {\n",
       "        vertical-align: top;\n",
       "    }\n",
       "\n",
       "    .dataframe thead th {\n",
       "        text-align: right;\n",
       "    }\n",
       "</style>\n",
       "<table border=\"1\" class=\"dataframe\">\n",
       "  <thead>\n",
       "    <tr style=\"text-align: right;\">\n",
       "      <th></th>\n",
       "      <th>main_position</th>\n",
       "      <th>wage_eur</th>\n",
       "      <th>age</th>\n",
       "      <th>height_cm</th>\n",
       "      <th>league_country</th>\n",
       "      <th>weight_kg</th>\n",
       "      <th>league_level</th>\n",
       "      <th>national_team</th>\n",
       "      <th>preferred_foot</th>\n",
       "      <th>international_reputation</th>\n",
       "      <th>attacking</th>\n",
       "      <th>defending</th>\n",
       "      <th>goalkeeping</th>\n",
       "      <th>mentality</th>\n",
       "      <th>movement</th>\n",
       "      <th>power</th>\n",
       "      <th>skill</th>\n",
       "    </tr>\n",
       "  </thead>\n",
       "  <tbody>\n",
       "    <tr>\n",
       "      <th>0</th>\n",
       "      <td>Goalkeeper</td>\n",
       "      <td>750.0</td>\n",
       "      <td>24</td>\n",
       "      <td>180</td>\n",
       "      <td>France</td>\n",
       "      <td>72</td>\n",
       "      <td>1.0</td>\n",
       "      <td>Other</td>\n",
       "      <td>NaN</td>\n",
       "      <td>1</td>\n",
       "      <td>NaN</td>\n",
       "      <td>20.444444</td>\n",
       "      <td>72.833333</td>\n",
       "      <td>26.277778</td>\n",
       "      <td>51.0</td>\n",
       "      <td>49.466667</td>\n",
       "      <td>17.222222</td>\n",
       "    </tr>\n",
       "    <tr>\n",
       "      <th>1</th>\n",
       "      <td>Midfield</td>\n",
       "      <td>5000.0</td>\n",
       "      <td>29</td>\n",
       "      <td>174</td>\n",
       "      <td>Belgium</td>\n",
       "      <td>74</td>\n",
       "      <td>1.0</td>\n",
       "      <td>Other</td>\n",
       "      <td>Right</td>\n",
       "      <td>1</td>\n",
       "      <td>44.4</td>\n",
       "      <td>56.750000</td>\n",
       "      <td>8.400000</td>\n",
       "      <td>53.500000</td>\n",
       "      <td>59.4</td>\n",
       "      <td>57.000000</td>\n",
       "      <td>44.833333</td>\n",
       "    </tr>\n",
       "    <tr>\n",
       "      <th>2</th>\n",
       "      <td>Defense</td>\n",
       "      <td>4000.0</td>\n",
       "      <td>24</td>\n",
       "      <td>181</td>\n",
       "      <td>Netherlands</td>\n",
       "      <td>76</td>\n",
       "      <td>1.0</td>\n",
       "      <td>Netherlands</td>\n",
       "      <td>Left</td>\n",
       "      <td>1</td>\n",
       "      <td>57.8</td>\n",
       "      <td>61.750000</td>\n",
       "      <td>10.200000</td>\n",
       "      <td>60.500000</td>\n",
       "      <td>67.2</td>\n",
       "      <td>66.600000</td>\n",
       "      <td>50.833333</td>\n",
       "    </tr>\n",
       "    <tr>\n",
       "      <th>3</th>\n",
       "      <td>Attack</td>\n",
       "      <td>5000.0</td>\n",
       "      <td>30</td>\n",
       "      <td>186</td>\n",
       "      <td>England</td>\n",
       "      <td>78</td>\n",
       "      <td>4.0</td>\n",
       "      <td>England</td>\n",
       "      <td>NaN</td>\n",
       "      <td>1</td>\n",
       "      <td>NaN</td>\n",
       "      <td>22.000000</td>\n",
       "      <td>11.200000</td>\n",
       "      <td>52.833333</td>\n",
       "      <td>65.1</td>\n",
       "      <td>68.300000</td>\n",
       "      <td>42.000000</td>\n",
       "    </tr>\n",
       "    <tr>\n",
       "      <th>4</th>\n",
       "      <td>Midfield</td>\n",
       "      <td>2000.0</td>\n",
       "      <td>24</td>\n",
       "      <td>181</td>\n",
       "      <td>England</td>\n",
       "      <td>73</td>\n",
       "      <td>1.0</td>\n",
       "      <td>Other</td>\n",
       "      <td>Right</td>\n",
       "      <td>1</td>\n",
       "      <td>60.0</td>\n",
       "      <td>59.250000</td>\n",
       "      <td>10.200000</td>\n",
       "      <td>62.333333</td>\n",
       "      <td>67.2</td>\n",
       "      <td>71.600000</td>\n",
       "      <td>54.500000</td>\n",
       "    </tr>\n",
       "    <tr>\n",
       "      <th>...</th>\n",
       "      <td>...</td>\n",
       "      <td>...</td>\n",
       "      <td>...</td>\n",
       "      <td>...</td>\n",
       "      <td>...</td>\n",
       "      <td>...</td>\n",
       "      <td>...</td>\n",
       "      <td>...</td>\n",
       "      <td>...</td>\n",
       "      <td>...</td>\n",
       "      <td>...</td>\n",
       "      <td>...</td>\n",
       "      <td>...</td>\n",
       "      <td>...</td>\n",
       "      <td>...</td>\n",
       "      <td>...</td>\n",
       "      <td>...</td>\n",
       "    </tr>\n",
       "    <tr>\n",
       "      <th>13294</th>\n",
       "      <td>Defense</td>\n",
       "      <td>2000.0</td>\n",
       "      <td>23</td>\n",
       "      <td>181</td>\n",
       "      <td>France</td>\n",
       "      <td>71</td>\n",
       "      <td>2.0</td>\n",
       "      <td>Other</td>\n",
       "      <td>NaN</td>\n",
       "      <td>1</td>\n",
       "      <td>47.0</td>\n",
       "      <td>61.000000</td>\n",
       "      <td>12.000000</td>\n",
       "      <td>52.000000</td>\n",
       "      <td>63.0</td>\n",
       "      <td>47.400000</td>\n",
       "      <td>44.500000</td>\n",
       "    </tr>\n",
       "    <tr>\n",
       "      <th>13295</th>\n",
       "      <td>Attack</td>\n",
       "      <td>850.0</td>\n",
       "      <td>27</td>\n",
       "      <td>165</td>\n",
       "      <td>Spain</td>\n",
       "      <td>59</td>\n",
       "      <td>1.0</td>\n",
       "      <td>Norway</td>\n",
       "      <td>NaN</td>\n",
       "      <td>1</td>\n",
       "      <td>NaN</td>\n",
       "      <td>60.300000</td>\n",
       "      <td>12.280000</td>\n",
       "      <td>62.333333</td>\n",
       "      <td>68.8</td>\n",
       "      <td>68.320000</td>\n",
       "      <td>59.266667</td>\n",
       "    </tr>\n",
       "    <tr>\n",
       "      <th>13296</th>\n",
       "      <td>Midfield</td>\n",
       "      <td>2000.0</td>\n",
       "      <td>24</td>\n",
       "      <td>188</td>\n",
       "      <td>England</td>\n",
       "      <td>75</td>\n",
       "      <td>1.0</td>\n",
       "      <td>Germany</td>\n",
       "      <td>Right</td>\n",
       "      <td>1</td>\n",
       "      <td>49.8</td>\n",
       "      <td>64.250000</td>\n",
       "      <td>10.800000</td>\n",
       "      <td>58.416667</td>\n",
       "      <td>59.6</td>\n",
       "      <td>68.800000</td>\n",
       "      <td>43.083333</td>\n",
       "    </tr>\n",
       "    <tr>\n",
       "      <th>13297</th>\n",
       "      <td>Goalkeeper</td>\n",
       "      <td>500.0</td>\n",
       "      <td>22</td>\n",
       "      <td>188</td>\n",
       "      <td>Spain</td>\n",
       "      <td>78</td>\n",
       "      <td>3.0</td>\n",
       "      <td>Other</td>\n",
       "      <td>NaN</td>\n",
       "      <td>1</td>\n",
       "      <td>NaN</td>\n",
       "      <td>10.333333</td>\n",
       "      <td>53.833333</td>\n",
       "      <td>17.833333</td>\n",
       "      <td>32.0</td>\n",
       "      <td>34.000000</td>\n",
       "      <td>12.000000</td>\n",
       "    </tr>\n",
       "    <tr>\n",
       "      <th>13298</th>\n",
       "      <td>Defense</td>\n",
       "      <td>3000.0</td>\n",
       "      <td>25</td>\n",
       "      <td>180</td>\n",
       "      <td>England</td>\n",
       "      <td>78</td>\n",
       "      <td>4.0</td>\n",
       "      <td>Other</td>\n",
       "      <td>NaN</td>\n",
       "      <td>1</td>\n",
       "      <td>42.4</td>\n",
       "      <td>58.750000</td>\n",
       "      <td>8.800000</td>\n",
       "      <td>49.500000</td>\n",
       "      <td>67.4</td>\n",
       "      <td>55.800000</td>\n",
       "      <td>44.333333</td>\n",
       "    </tr>\n",
       "  </tbody>\n",
       "</table>\n",
       "<p>13299 rows × 17 columns</p>\n",
       "</div>"
      ],
      "text/plain": [
       "      main_position  wage_eur  age  height_cm league_country  weight_kg  \\\n",
       "0        Goalkeeper     750.0   24        180         France         72   \n",
       "1          Midfield    5000.0   29        174        Belgium         74   \n",
       "2           Defense    4000.0   24        181    Netherlands         76   \n",
       "3            Attack    5000.0   30        186        England         78   \n",
       "4          Midfield    2000.0   24        181        England         73   \n",
       "...             ...       ...  ...        ...            ...        ...   \n",
       "13294       Defense    2000.0   23        181         France         71   \n",
       "13295        Attack     850.0   27        165          Spain         59   \n",
       "13296      Midfield    2000.0   24        188        England         75   \n",
       "13297    Goalkeeper     500.0   22        188          Spain         78   \n",
       "13298       Defense    3000.0   25        180        England         78   \n",
       "\n",
       "       league_level national_team preferred_foot  international_reputation  \\\n",
       "0               1.0         Other            NaN                         1   \n",
       "1               1.0         Other          Right                         1   \n",
       "2               1.0   Netherlands           Left                         1   \n",
       "3               4.0       England            NaN                         1   \n",
       "4               1.0         Other          Right                         1   \n",
       "...             ...           ...            ...                       ...   \n",
       "13294           2.0         Other            NaN                         1   \n",
       "13295           1.0        Norway            NaN                         1   \n",
       "13296           1.0       Germany          Right                         1   \n",
       "13297           3.0         Other            NaN                         1   \n",
       "13298           4.0         Other            NaN                         1   \n",
       "\n",
       "       attacking  defending  goalkeeping  mentality  movement      power  \\\n",
       "0            NaN  20.444444    72.833333  26.277778      51.0  49.466667   \n",
       "1           44.4  56.750000     8.400000  53.500000      59.4  57.000000   \n",
       "2           57.8  61.750000    10.200000  60.500000      67.2  66.600000   \n",
       "3            NaN  22.000000    11.200000  52.833333      65.1  68.300000   \n",
       "4           60.0  59.250000    10.200000  62.333333      67.2  71.600000   \n",
       "...          ...        ...          ...        ...       ...        ...   \n",
       "13294       47.0  61.000000    12.000000  52.000000      63.0  47.400000   \n",
       "13295        NaN  60.300000    12.280000  62.333333      68.8  68.320000   \n",
       "13296       49.8  64.250000    10.800000  58.416667      59.6  68.800000   \n",
       "13297        NaN  10.333333    53.833333  17.833333      32.0  34.000000   \n",
       "13298       42.4  58.750000     8.800000  49.500000      67.4  55.800000   \n",
       "\n",
       "           skill  \n",
       "0      17.222222  \n",
       "1      44.833333  \n",
       "2      50.833333  \n",
       "3      42.000000  \n",
       "4      54.500000  \n",
       "...          ...  \n",
       "13294  44.500000  \n",
       "13295  59.266667  \n",
       "13296  43.083333  \n",
       "13297  12.000000  \n",
       "13298  44.333333  \n",
       "\n",
       "[13299 rows x 17 columns]"
      ]
     },
     "execution_count": 51,
     "metadata": {},
     "output_type": "execute_result"
    }
   ],
   "source": [
    "# Drop the \"Gender\" and \"Year\" columns\n",
    "players_df.drop(columns=[\"Gender\",\"Year\"]) "
   ]
  },
  {
   "cell_type": "markdown",
   "metadata": {},
   "source": [
    "**Remark**: This doesn't drop the columns in the dataframe definetly. <br>\n",
    "If you want these modifications to be saved to `players_df`, you need to add the `inplace=True` parameter."
   ]
  },
  {
   "cell_type": "code",
   "execution_count": 52,
   "metadata": {},
   "outputs": [
    {
     "data": {
      "text/html": [
       "<div>\n",
       "<style scoped>\n",
       "    .dataframe tbody tr th:only-of-type {\n",
       "        vertical-align: middle;\n",
       "    }\n",
       "\n",
       "    .dataframe tbody tr th {\n",
       "        vertical-align: top;\n",
       "    }\n",
       "\n",
       "    .dataframe thead th {\n",
       "        text-align: right;\n",
       "    }\n",
       "</style>\n",
       "<table border=\"1\" class=\"dataframe\">\n",
       "  <thead>\n",
       "    <tr style=\"text-align: right;\">\n",
       "      <th></th>\n",
       "      <th>Year</th>\n",
       "      <th>main_position</th>\n",
       "      <th>wage_eur</th>\n",
       "    </tr>\n",
       "  </thead>\n",
       "  <tbody>\n",
       "    <tr>\n",
       "      <th>6110</th>\n",
       "      <td>2023</td>\n",
       "      <td>Attack</td>\n",
       "      <td>950.0</td>\n",
       "    </tr>\n",
       "    <tr>\n",
       "      <th>6111</th>\n",
       "      <td>2023</td>\n",
       "      <td>Goalkeeper</td>\n",
       "      <td>9000.0</td>\n",
       "    </tr>\n",
       "    <tr>\n",
       "      <th>6114</th>\n",
       "      <td>2023</td>\n",
       "      <td>Goalkeeper</td>\n",
       "      <td>500.0</td>\n",
       "    </tr>\n",
       "    <tr>\n",
       "      <th>6115</th>\n",
       "      <td>2023</td>\n",
       "      <td>Midfield</td>\n",
       "      <td>40000.0</td>\n",
       "    </tr>\n",
       "    <tr>\n",
       "      <th>6117</th>\n",
       "      <td>2023</td>\n",
       "      <td>Attack</td>\n",
       "      <td>2000.0</td>\n",
       "    </tr>\n",
       "    <tr>\n",
       "      <th>...</th>\n",
       "      <td>...</td>\n",
       "      <td>...</td>\n",
       "      <td>...</td>\n",
       "    </tr>\n",
       "    <tr>\n",
       "      <th>13295</th>\n",
       "      <td>2024</td>\n",
       "      <td>Attack</td>\n",
       "      <td>850.0</td>\n",
       "    </tr>\n",
       "    <tr>\n",
       "      <th>6</th>\n",
       "      <td>2024</td>\n",
       "      <td>Midfield</td>\n",
       "      <td>850.0</td>\n",
       "    </tr>\n",
       "    <tr>\n",
       "      <th>13297</th>\n",
       "      <td>2024</td>\n",
       "      <td>Goalkeeper</td>\n",
       "      <td>500.0</td>\n",
       "    </tr>\n",
       "    <tr>\n",
       "      <th>13298</th>\n",
       "      <td>2024</td>\n",
       "      <td>Defense</td>\n",
       "      <td>3000.0</td>\n",
       "    </tr>\n",
       "    <tr>\n",
       "      <th>4</th>\n",
       "      <td>2024</td>\n",
       "      <td>Midfield</td>\n",
       "      <td>2000.0</td>\n",
       "    </tr>\n",
       "  </tbody>\n",
       "</table>\n",
       "<p>13299 rows × 3 columns</p>\n",
       "</div>"
      ],
      "text/plain": [
       "       Year main_position  wage_eur\n",
       "6110   2023        Attack     950.0\n",
       "6111   2023    Goalkeeper    9000.0\n",
       "6114   2023    Goalkeeper     500.0\n",
       "6115   2023      Midfield   40000.0\n",
       "6117   2023        Attack    2000.0\n",
       "...     ...           ...       ...\n",
       "13295  2024        Attack     850.0\n",
       "6      2024      Midfield     850.0\n",
       "13297  2024    Goalkeeper     500.0\n",
       "13298  2024       Defense    3000.0\n",
       "4      2024      Midfield    2000.0\n",
       "\n",
       "[13299 rows x 3 columns]"
      ]
     },
     "execution_count": 52,
     "metadata": {},
     "output_type": "execute_result"
    }
   ],
   "source": [
    "# Select the \"Year\", \"main_position\" and \"wage_eur\" columns then sort values by \"Year\" \n",
    "players_df[[\"Year\", \"main_position\", \"wage_eur\"]].sort_values(by=[\"Year\"])"
   ]
  },
  {
   "cell_type": "code",
   "execution_count": 53,
   "metadata": {},
   "outputs": [
    {
     "data": {
      "text/html": [
       "<div>\n",
       "<style scoped>\n",
       "    .dataframe tbody tr th:only-of-type {\n",
       "        vertical-align: middle;\n",
       "    }\n",
       "\n",
       "    .dataframe tbody tr th {\n",
       "        vertical-align: top;\n",
       "    }\n",
       "\n",
       "    .dataframe thead th {\n",
       "        text-align: right;\n",
       "    }\n",
       "</style>\n",
       "<table border=\"1\" class=\"dataframe\">\n",
       "  <thead>\n",
       "    <tr style=\"text-align: right;\">\n",
       "      <th></th>\n",
       "      <th>Year</th>\n",
       "      <th>main_position</th>\n",
       "      <th>wage_eur</th>\n",
       "    </tr>\n",
       "  </thead>\n",
       "  <tbody>\n",
       "    <tr>\n",
       "      <th>0</th>\n",
       "      <td>2023</td>\n",
       "      <td>Attack</td>\n",
       "      <td>950.0</td>\n",
       "    </tr>\n",
       "    <tr>\n",
       "      <th>1</th>\n",
       "      <td>2023</td>\n",
       "      <td>Goalkeeper</td>\n",
       "      <td>9000.0</td>\n",
       "    </tr>\n",
       "    <tr>\n",
       "      <th>2</th>\n",
       "      <td>2023</td>\n",
       "      <td>Goalkeeper</td>\n",
       "      <td>500.0</td>\n",
       "    </tr>\n",
       "    <tr>\n",
       "      <th>3</th>\n",
       "      <td>2023</td>\n",
       "      <td>Midfield</td>\n",
       "      <td>40000.0</td>\n",
       "    </tr>\n",
       "    <tr>\n",
       "      <th>4</th>\n",
       "      <td>2023</td>\n",
       "      <td>Attack</td>\n",
       "      <td>2000.0</td>\n",
       "    </tr>\n",
       "    <tr>\n",
       "      <th>...</th>\n",
       "      <td>...</td>\n",
       "      <td>...</td>\n",
       "      <td>...</td>\n",
       "    </tr>\n",
       "    <tr>\n",
       "      <th>13294</th>\n",
       "      <td>2024</td>\n",
       "      <td>Attack</td>\n",
       "      <td>850.0</td>\n",
       "    </tr>\n",
       "    <tr>\n",
       "      <th>13295</th>\n",
       "      <td>2024</td>\n",
       "      <td>Midfield</td>\n",
       "      <td>850.0</td>\n",
       "    </tr>\n",
       "    <tr>\n",
       "      <th>13296</th>\n",
       "      <td>2024</td>\n",
       "      <td>Goalkeeper</td>\n",
       "      <td>500.0</td>\n",
       "    </tr>\n",
       "    <tr>\n",
       "      <th>13297</th>\n",
       "      <td>2024</td>\n",
       "      <td>Defense</td>\n",
       "      <td>3000.0</td>\n",
       "    </tr>\n",
       "    <tr>\n",
       "      <th>13298</th>\n",
       "      <td>2024</td>\n",
       "      <td>Midfield</td>\n",
       "      <td>2000.0</td>\n",
       "    </tr>\n",
       "  </tbody>\n",
       "</table>\n",
       "<p>13299 rows × 3 columns</p>\n",
       "</div>"
      ],
      "text/plain": [
       "       Year main_position  wage_eur\n",
       "0      2023        Attack     950.0\n",
       "1      2023    Goalkeeper    9000.0\n",
       "2      2023    Goalkeeper     500.0\n",
       "3      2023      Midfield   40000.0\n",
       "4      2023        Attack    2000.0\n",
       "...     ...           ...       ...\n",
       "13294  2024        Attack     850.0\n",
       "13295  2024      Midfield     850.0\n",
       "13296  2024    Goalkeeper     500.0\n",
       "13297  2024       Defense    3000.0\n",
       "13298  2024      Midfield    2000.0\n",
       "\n",
       "[13299 rows x 3 columns]"
      ]
     },
     "execution_count": 53,
     "metadata": {},
     "output_type": "execute_result"
    }
   ],
   "source": [
    "# Reset the index of the previous dataframe\n",
    "players_df[[\"Year\", \"main_position\", \"wage_eur\"]].sort_values(by=[\"Year\"]).reset_index(drop=True) # drop = True to not add an \"index\" column "
   ]
  },
  {
   "cell_type": "markdown",
   "metadata": {},
   "source": [
    "For **missing values**, you can use the following functions: \n",
    "\n",
    "| Pandas Function | Description | Parameters |\n",
    "|----------|-------------|------------|\n",
    "| `.isna()` | Detect missing values. True if the value is NaN, False if it isn't | |<>\n",
    "| `.dropna()`| Remove missing values (NaN) | `axis`: drop rows with NAN (0) or columns (1) <br> `subset`: columns to drop NaN from |\n",
    "| `.fillna()` | Fill NaN values with a specific value | `value`: Value to replace NaN (scalar, dict, df)"
   ]
  },
  {
   "cell_type": "code",
   "execution_count": 54,
   "metadata": {},
   "outputs": [
    {
     "data": {
      "text/plain": [
       "Gender                         0\n",
       "Year                           0\n",
       "main_position                  0\n",
       "wage_eur                       0\n",
       "age                            0\n",
       "height_cm                      0\n",
       "league_country                 0\n",
       "weight_kg                      0\n",
       "league_level                   0\n",
       "national_team                  0\n",
       "preferred_foot              6649\n",
       "international_reputation       0\n",
       "attacking                   3989\n",
       "defending                      0\n",
       "goalkeeping                    0\n",
       "mentality                      0\n",
       "movement                       0\n",
       "power                          0\n",
       "skill                          0\n",
       "dtype: int64"
      ]
     },
     "execution_count": 54,
     "metadata": {},
     "output_type": "execute_result"
    }
   ],
   "source": [
    "# Compute the number of missing values per column\n",
    "players_df.isna().sum()"
   ]
  },
  {
   "cell_type": "code",
   "execution_count": 55,
   "metadata": {
    "colab": {
     "base_uri": "https://localhost:8080/",
     "height": 206
    },
    "executionInfo": {
     "elapsed": 297,
     "status": "ok",
     "timestamp": 1692394531877,
     "user": {
      "displayName": "laurene david",
      "userId": "12504925674923465673"
     },
     "user_tz": -120
    },
    "id": "Dsz2BaJ5JHd9",
    "outputId": "796ec16c-f40d-4e2b-c15a-69750231f3fc"
   },
   "outputs": [
    {
     "data": {
      "text/plain": [
       "0        50.0\n",
       "1        44.4\n",
       "2        57.8\n",
       "3        50.0\n",
       "4        60.0\n",
       "         ... \n",
       "13294    47.0\n",
       "13295    50.0\n",
       "13296    49.8\n",
       "13297    50.0\n",
       "13298    42.4\n",
       "Name: attacking, Length: 13299, dtype: float64"
      ]
     },
     "execution_count": 55,
     "metadata": {},
     "output_type": "execute_result"
    }
   ],
   "source": [
    "# Fill the missing values of \"Attacking\" with 50\n",
    "players_df[\"attacking\"].fillna(50) # add inplace=True to modify the column directly"
   ]
  },
  {
   "cell_type": "markdown",
   "metadata": {},
   "source": [
    "<u>**<font size='5'>Indexing a DataFrame**</font> </u><br>\n",
    "\n",
    "DataFrames are ordered collections of data. <br>\n",
    "They can be filtered using label and integer-based indexing (`.loc[]`,`.iloc[]`)"
   ]
  },
  {
   "cell_type": "markdown",
   "metadata": {
    "id": "vmLIDLFfiXFL"
   },
   "source": [
    "**`df.loc[conditional_statement]`** <br>\n",
    "\n",
    "**Select a group of rows with a conditional statement** <br>\n",
    "- The conditional statement should apply to columns (and not rows) <br>\n",
    "- The first index refers to rows, the second refers to columns\n"
   ]
  },
  {
   "cell_type": "code",
   "execution_count": 56,
   "metadata": {
    "colab": {
     "base_uri": "https://localhost:8080/",
     "height": 174
    },
    "executionInfo": {
     "elapsed": 295,
     "status": "ok",
     "timestamp": 1692394531877,
     "user": {
      "displayName": "laurene david",
      "userId": "12504925674923465673"
     },
     "user_tz": -120
    },
    "id": "aEwY63TPqwhy",
    "outputId": "b9e7ff5b-8b8e-4d49-fce4-bd2019c96f53"
   },
   "outputs": [
    {
     "data": {
      "text/html": [
       "<div>\n",
       "<style scoped>\n",
       "    .dataframe tbody tr th:only-of-type {\n",
       "        vertical-align: middle;\n",
       "    }\n",
       "\n",
       "    .dataframe tbody tr th {\n",
       "        vertical-align: top;\n",
       "    }\n",
       "\n",
       "    .dataframe thead th {\n",
       "        text-align: right;\n",
       "    }\n",
       "</style>\n",
       "<table border=\"1\" class=\"dataframe\">\n",
       "  <thead>\n",
       "    <tr style=\"text-align: right;\">\n",
       "      <th></th>\n",
       "      <th>Gender</th>\n",
       "      <th>Year</th>\n",
       "      <th>main_position</th>\n",
       "      <th>wage_eur</th>\n",
       "      <th>age</th>\n",
       "      <th>height_cm</th>\n",
       "      <th>league_country</th>\n",
       "      <th>weight_kg</th>\n",
       "      <th>league_level</th>\n",
       "      <th>national_team</th>\n",
       "      <th>preferred_foot</th>\n",
       "      <th>international_reputation</th>\n",
       "      <th>attacking</th>\n",
       "      <th>defending</th>\n",
       "      <th>goalkeeping</th>\n",
       "      <th>mentality</th>\n",
       "      <th>movement</th>\n",
       "      <th>power</th>\n",
       "      <th>skill</th>\n",
       "    </tr>\n",
       "  </thead>\n",
       "  <tbody>\n",
       "    <tr>\n",
       "      <th>29</th>\n",
       "      <td>Female</td>\n",
       "      <td>2024</td>\n",
       "      <td>Midfield</td>\n",
       "      <td>750.0</td>\n",
       "      <td>24</td>\n",
       "      <td>173</td>\n",
       "      <td>Germany</td>\n",
       "      <td>63</td>\n",
       "      <td>1.0</td>\n",
       "      <td>Germany</td>\n",
       "      <td>NaN</td>\n",
       "      <td>1</td>\n",
       "      <td>NaN</td>\n",
       "      <td>77.250000</td>\n",
       "      <td>11.200000</td>\n",
       "      <td>60.833333</td>\n",
       "      <td>65.400000</td>\n",
       "      <td>67.800000</td>\n",
       "      <td>48.333333</td>\n",
       "    </tr>\n",
       "    <tr>\n",
       "      <th>88</th>\n",
       "      <td>Male</td>\n",
       "      <td>2024</td>\n",
       "      <td>Midfield</td>\n",
       "      <td>25000.0</td>\n",
       "      <td>33</td>\n",
       "      <td>181</td>\n",
       "      <td>Germany</td>\n",
       "      <td>79</td>\n",
       "      <td>1.0</td>\n",
       "      <td>Germany</td>\n",
       "      <td>NaN</td>\n",
       "      <td>2</td>\n",
       "      <td>NaN</td>\n",
       "      <td>75.500000</td>\n",
       "      <td>10.200000</td>\n",
       "      <td>65.666667</td>\n",
       "      <td>66.200000</td>\n",
       "      <td>68.000000</td>\n",
       "      <td>51.166667</td>\n",
       "    </tr>\n",
       "    <tr>\n",
       "      <th>100</th>\n",
       "      <td>Female</td>\n",
       "      <td>2024</td>\n",
       "      <td>Midfield</td>\n",
       "      <td>1000.0</td>\n",
       "      <td>24</td>\n",
       "      <td>172</td>\n",
       "      <td>Germany</td>\n",
       "      <td>67</td>\n",
       "      <td>1.0</td>\n",
       "      <td>Germany</td>\n",
       "      <td>NaN</td>\n",
       "      <td>2</td>\n",
       "      <td>74.400000</td>\n",
       "      <td>70.750000</td>\n",
       "      <td>9.800000</td>\n",
       "      <td>79.500000</td>\n",
       "      <td>70.800000</td>\n",
       "      <td>80.200000</td>\n",
       "      <td>64.333333</td>\n",
       "    </tr>\n",
       "    <tr>\n",
       "      <th>101</th>\n",
       "      <td>Male</td>\n",
       "      <td>2024</td>\n",
       "      <td>Attack</td>\n",
       "      <td>14000.0</td>\n",
       "      <td>28</td>\n",
       "      <td>173</td>\n",
       "      <td>United States</td>\n",
       "      <td>71</td>\n",
       "      <td>1.0</td>\n",
       "      <td>Germany</td>\n",
       "      <td>NaN</td>\n",
       "      <td>2</td>\n",
       "      <td>NaN</td>\n",
       "      <td>43.750000</td>\n",
       "      <td>11.000000</td>\n",
       "      <td>67.000000</td>\n",
       "      <td>83.000000</td>\n",
       "      <td>72.600000</td>\n",
       "      <td>65.666667</td>\n",
       "    </tr>\n",
       "    <tr>\n",
       "      <th>114</th>\n",
       "      <td>Male</td>\n",
       "      <td>2024</td>\n",
       "      <td>Midfield</td>\n",
       "      <td>76000.0</td>\n",
       "      <td>32</td>\n",
       "      <td>181</td>\n",
       "      <td>England</td>\n",
       "      <td>78</td>\n",
       "      <td>1.0</td>\n",
       "      <td>Germany</td>\n",
       "      <td>NaN</td>\n",
       "      <td>2</td>\n",
       "      <td>NaN</td>\n",
       "      <td>60.500000</td>\n",
       "      <td>13.000000</td>\n",
       "      <td>73.166667</td>\n",
       "      <td>63.000000</td>\n",
       "      <td>74.900000</td>\n",
       "      <td>66.583333</td>\n",
       "    </tr>\n",
       "    <tr>\n",
       "      <th>...</th>\n",
       "      <td>...</td>\n",
       "      <td>...</td>\n",
       "      <td>...</td>\n",
       "      <td>...</td>\n",
       "      <td>...</td>\n",
       "      <td>...</td>\n",
       "      <td>...</td>\n",
       "      <td>...</td>\n",
       "      <td>...</td>\n",
       "      <td>...</td>\n",
       "      <td>...</td>\n",
       "      <td>...</td>\n",
       "      <td>...</td>\n",
       "      <td>...</td>\n",
       "      <td>...</td>\n",
       "      <td>...</td>\n",
       "      <td>...</td>\n",
       "      <td>...</td>\n",
       "      <td>...</td>\n",
       "    </tr>\n",
       "    <tr>\n",
       "      <th>13246</th>\n",
       "      <td>Female</td>\n",
       "      <td>2023</td>\n",
       "      <td>Midfield</td>\n",
       "      <td>1000.0</td>\n",
       "      <td>28</td>\n",
       "      <td>172</td>\n",
       "      <td>England</td>\n",
       "      <td>62</td>\n",
       "      <td>1.0</td>\n",
       "      <td>Germany</td>\n",
       "      <td>Right</td>\n",
       "      <td>3</td>\n",
       "      <td>74.155556</td>\n",
       "      <td>57.388889</td>\n",
       "      <td>11.311111</td>\n",
       "      <td>69.830189</td>\n",
       "      <td>79.177778</td>\n",
       "      <td>69.644444</td>\n",
       "      <td>65.074074</td>\n",
       "    </tr>\n",
       "    <tr>\n",
       "      <th>13247</th>\n",
       "      <td>Male</td>\n",
       "      <td>2024</td>\n",
       "      <td>Attack</td>\n",
       "      <td>3000.0</td>\n",
       "      <td>24</td>\n",
       "      <td>177</td>\n",
       "      <td>Germany</td>\n",
       "      <td>70</td>\n",
       "      <td>2.0</td>\n",
       "      <td>Germany</td>\n",
       "      <td>NaN</td>\n",
       "      <td>1</td>\n",
       "      <td>NaN</td>\n",
       "      <td>24.750000</td>\n",
       "      <td>10.200000</td>\n",
       "      <td>51.500000</td>\n",
       "      <td>77.600000</td>\n",
       "      <td>63.800000</td>\n",
       "      <td>46.500000</td>\n",
       "    </tr>\n",
       "    <tr>\n",
       "      <th>13282</th>\n",
       "      <td>Male</td>\n",
       "      <td>2024</td>\n",
       "      <td>Attack</td>\n",
       "      <td>5000.0</td>\n",
       "      <td>25</td>\n",
       "      <td>180</td>\n",
       "      <td>Germany</td>\n",
       "      <td>78</td>\n",
       "      <td>2.0</td>\n",
       "      <td>Germany</td>\n",
       "      <td>Right</td>\n",
       "      <td>1</td>\n",
       "      <td>63.600000</td>\n",
       "      <td>52.750000</td>\n",
       "      <td>10.800000</td>\n",
       "      <td>60.666667</td>\n",
       "      <td>65.200000</td>\n",
       "      <td>67.500000</td>\n",
       "      <td>58.333333</td>\n",
       "    </tr>\n",
       "    <tr>\n",
       "      <th>13289</th>\n",
       "      <td>Male</td>\n",
       "      <td>2023</td>\n",
       "      <td>Defense</td>\n",
       "      <td>5000.0</td>\n",
       "      <td>22</td>\n",
       "      <td>174</td>\n",
       "      <td>Other</td>\n",
       "      <td>65</td>\n",
       "      <td>1.0</td>\n",
       "      <td>Germany</td>\n",
       "      <td>Right</td>\n",
       "      <td>1</td>\n",
       "      <td>53.600000</td>\n",
       "      <td>58.750000</td>\n",
       "      <td>10.000000</td>\n",
       "      <td>56.000000</td>\n",
       "      <td>73.800000</td>\n",
       "      <td>55.400000</td>\n",
       "      <td>46.500000</td>\n",
       "    </tr>\n",
       "    <tr>\n",
       "      <th>13296</th>\n",
       "      <td>Male</td>\n",
       "      <td>2023</td>\n",
       "      <td>Midfield</td>\n",
       "      <td>2000.0</td>\n",
       "      <td>24</td>\n",
       "      <td>188</td>\n",
       "      <td>England</td>\n",
       "      <td>75</td>\n",
       "      <td>1.0</td>\n",
       "      <td>Germany</td>\n",
       "      <td>Right</td>\n",
       "      <td>1</td>\n",
       "      <td>49.800000</td>\n",
       "      <td>64.250000</td>\n",
       "      <td>10.800000</td>\n",
       "      <td>58.416667</td>\n",
       "      <td>59.600000</td>\n",
       "      <td>68.800000</td>\n",
       "      <td>43.083333</td>\n",
       "    </tr>\n",
       "  </tbody>\n",
       "</table>\n",
       "<p>990 rows × 19 columns</p>\n",
       "</div>"
      ],
      "text/plain": [
       "       Gender  Year main_position  wage_eur  age  height_cm league_country  \\\n",
       "29     Female  2024      Midfield     750.0   24        173        Germany   \n",
       "88       Male  2024      Midfield   25000.0   33        181        Germany   \n",
       "100    Female  2024      Midfield    1000.0   24        172        Germany   \n",
       "101      Male  2024        Attack   14000.0   28        173  United States   \n",
       "114      Male  2024      Midfield   76000.0   32        181        England   \n",
       "...       ...   ...           ...       ...  ...        ...            ...   \n",
       "13246  Female  2023      Midfield    1000.0   28        172        England   \n",
       "13247    Male  2024        Attack    3000.0   24        177        Germany   \n",
       "13282    Male  2024        Attack    5000.0   25        180        Germany   \n",
       "13289    Male  2023       Defense    5000.0   22        174          Other   \n",
       "13296    Male  2023      Midfield    2000.0   24        188        England   \n",
       "\n",
       "       weight_kg  league_level national_team preferred_foot  \\\n",
       "29            63           1.0       Germany            NaN   \n",
       "88            79           1.0       Germany            NaN   \n",
       "100           67           1.0       Germany            NaN   \n",
       "101           71           1.0       Germany            NaN   \n",
       "114           78           1.0       Germany            NaN   \n",
       "...          ...           ...           ...            ...   \n",
       "13246         62           1.0       Germany          Right   \n",
       "13247         70           2.0       Germany            NaN   \n",
       "13282         78           2.0       Germany          Right   \n",
       "13289         65           1.0       Germany          Right   \n",
       "13296         75           1.0       Germany          Right   \n",
       "\n",
       "       international_reputation  attacking  defending  goalkeeping  mentality  \\\n",
       "29                            1        NaN  77.250000    11.200000  60.833333   \n",
       "88                            2        NaN  75.500000    10.200000  65.666667   \n",
       "100                           2  74.400000  70.750000     9.800000  79.500000   \n",
       "101                           2        NaN  43.750000    11.000000  67.000000   \n",
       "114                           2        NaN  60.500000    13.000000  73.166667   \n",
       "...                         ...        ...        ...          ...        ...   \n",
       "13246                         3  74.155556  57.388889    11.311111  69.830189   \n",
       "13247                         1        NaN  24.750000    10.200000  51.500000   \n",
       "13282                         1  63.600000  52.750000    10.800000  60.666667   \n",
       "13289                         1  53.600000  58.750000    10.000000  56.000000   \n",
       "13296                         1  49.800000  64.250000    10.800000  58.416667   \n",
       "\n",
       "        movement      power      skill  \n",
       "29     65.400000  67.800000  48.333333  \n",
       "88     66.200000  68.000000  51.166667  \n",
       "100    70.800000  80.200000  64.333333  \n",
       "101    83.000000  72.600000  65.666667  \n",
       "114    63.000000  74.900000  66.583333  \n",
       "...          ...        ...        ...  \n",
       "13246  79.177778  69.644444  65.074074  \n",
       "13247  77.600000  63.800000  46.500000  \n",
       "13282  65.200000  67.500000  58.333333  \n",
       "13289  73.800000  55.400000  46.500000  \n",
       "13296  59.600000  68.800000  43.083333  \n",
       "\n",
       "[990 rows x 19 columns]"
      ]
     },
     "execution_count": 56,
     "metadata": {},
     "output_type": "execute_result"
    }
   ],
   "source": [
    "# Select players whose national team is Germany\n",
    "players_df.loc[players_df[\"national_team\"]==\"Germany\"] "
   ]
  },
  {
   "cell_type": "markdown",
   "metadata": {},
   "source": [
    "Bitwise Operators can also be used to add multiple statements to `.loc[]`.\n",
    "- `&`: AND\n",
    "- `|`: OR\n",
    "- `~`: NOT"
   ]
  },
  {
   "cell_type": "code",
   "execution_count": 57,
   "metadata": {
    "colab": {
     "base_uri": "https://localhost:8080/",
     "height": 112
    },
    "executionInfo": {
     "elapsed": 33,
     "status": "ok",
     "timestamp": 1692394531878,
     "user": {
      "displayName": "laurene david",
      "userId": "12504925674923465673"
     },
     "user_tz": -120
    },
    "id": "aSg0YbuV3eJG",
    "outputId": "4fe688cb-9459-478f-d173-c39bd3befc71"
   },
   "outputs": [
    {
     "data": {
      "text/html": [
       "<div>\n",
       "<style scoped>\n",
       "    .dataframe tbody tr th:only-of-type {\n",
       "        vertical-align: middle;\n",
       "    }\n",
       "\n",
       "    .dataframe tbody tr th {\n",
       "        vertical-align: top;\n",
       "    }\n",
       "\n",
       "    .dataframe thead th {\n",
       "        text-align: right;\n",
       "    }\n",
       "</style>\n",
       "<table border=\"1\" class=\"dataframe\">\n",
       "  <thead>\n",
       "    <tr style=\"text-align: right;\">\n",
       "      <th></th>\n",
       "      <th>Gender</th>\n",
       "      <th>Year</th>\n",
       "      <th>main_position</th>\n",
       "      <th>wage_eur</th>\n",
       "      <th>age</th>\n",
       "      <th>height_cm</th>\n",
       "      <th>league_country</th>\n",
       "      <th>weight_kg</th>\n",
       "      <th>league_level</th>\n",
       "      <th>national_team</th>\n",
       "      <th>preferred_foot</th>\n",
       "      <th>international_reputation</th>\n",
       "      <th>attacking</th>\n",
       "      <th>defending</th>\n",
       "      <th>goalkeeping</th>\n",
       "      <th>mentality</th>\n",
       "      <th>movement</th>\n",
       "      <th>power</th>\n",
       "      <th>skill</th>\n",
       "    </tr>\n",
       "  </thead>\n",
       "  <tbody>\n",
       "    <tr>\n",
       "      <th>88</th>\n",
       "      <td>Male</td>\n",
       "      <td>2024</td>\n",
       "      <td>Midfield</td>\n",
       "      <td>25000.0</td>\n",
       "      <td>33</td>\n",
       "      <td>181</td>\n",
       "      <td>Germany</td>\n",
       "      <td>79</td>\n",
       "      <td>1.0</td>\n",
       "      <td>Germany</td>\n",
       "      <td>NaN</td>\n",
       "      <td>2</td>\n",
       "      <td>NaN</td>\n",
       "      <td>75.500000</td>\n",
       "      <td>10.200000</td>\n",
       "      <td>65.666667</td>\n",
       "      <td>66.2</td>\n",
       "      <td>68.000000</td>\n",
       "      <td>51.166667</td>\n",
       "    </tr>\n",
       "    <tr>\n",
       "      <th>114</th>\n",
       "      <td>Male</td>\n",
       "      <td>2024</td>\n",
       "      <td>Midfield</td>\n",
       "      <td>76000.0</td>\n",
       "      <td>32</td>\n",
       "      <td>181</td>\n",
       "      <td>England</td>\n",
       "      <td>78</td>\n",
       "      <td>1.0</td>\n",
       "      <td>Germany</td>\n",
       "      <td>NaN</td>\n",
       "      <td>2</td>\n",
       "      <td>NaN</td>\n",
       "      <td>60.500000</td>\n",
       "      <td>13.000000</td>\n",
       "      <td>73.166667</td>\n",
       "      <td>63.0</td>\n",
       "      <td>74.900000</td>\n",
       "      <td>66.583333</td>\n",
       "    </tr>\n",
       "    <tr>\n",
       "      <th>214</th>\n",
       "      <td>Male</td>\n",
       "      <td>2023</td>\n",
       "      <td>Defense</td>\n",
       "      <td>3000.0</td>\n",
       "      <td>32</td>\n",
       "      <td>188</td>\n",
       "      <td>Germany</td>\n",
       "      <td>82</td>\n",
       "      <td>1.0</td>\n",
       "      <td>Germany</td>\n",
       "      <td>NaN</td>\n",
       "      <td>1</td>\n",
       "      <td>NaN</td>\n",
       "      <td>62.250000</td>\n",
       "      <td>11.200000</td>\n",
       "      <td>62.333333</td>\n",
       "      <td>65.0</td>\n",
       "      <td>70.400000</td>\n",
       "      <td>49.833333</td>\n",
       "    </tr>\n",
       "    <tr>\n",
       "      <th>348</th>\n",
       "      <td>Male</td>\n",
       "      <td>2024</td>\n",
       "      <td>Defense</td>\n",
       "      <td>850.0</td>\n",
       "      <td>32</td>\n",
       "      <td>182</td>\n",
       "      <td>Spain</td>\n",
       "      <td>71</td>\n",
       "      <td>3.0</td>\n",
       "      <td>Germany</td>\n",
       "      <td>Right</td>\n",
       "      <td>1</td>\n",
       "      <td>52.000000</td>\n",
       "      <td>61.250000</td>\n",
       "      <td>10.000000</td>\n",
       "      <td>53.333333</td>\n",
       "      <td>67.4</td>\n",
       "      <td>63.600000</td>\n",
       "      <td>47.166667</td>\n",
       "    </tr>\n",
       "    <tr>\n",
       "      <th>458</th>\n",
       "      <td>Male</td>\n",
       "      <td>2024</td>\n",
       "      <td>Midfield</td>\n",
       "      <td>2000.0</td>\n",
       "      <td>31</td>\n",
       "      <td>182</td>\n",
       "      <td>Spain</td>\n",
       "      <td>76</td>\n",
       "      <td>3.0</td>\n",
       "      <td>Germany</td>\n",
       "      <td>Right</td>\n",
       "      <td>1</td>\n",
       "      <td>47.800000</td>\n",
       "      <td>65.000000</td>\n",
       "      <td>8.600000</td>\n",
       "      <td>55.500000</td>\n",
       "      <td>68.6</td>\n",
       "      <td>56.600000</td>\n",
       "      <td>45.166667</td>\n",
       "    </tr>\n",
       "    <tr>\n",
       "      <th>...</th>\n",
       "      <td>...</td>\n",
       "      <td>...</td>\n",
       "      <td>...</td>\n",
       "      <td>...</td>\n",
       "      <td>...</td>\n",
       "      <td>...</td>\n",
       "      <td>...</td>\n",
       "      <td>...</td>\n",
       "      <td>...</td>\n",
       "      <td>...</td>\n",
       "      <td>...</td>\n",
       "      <td>...</td>\n",
       "      <td>...</td>\n",
       "      <td>...</td>\n",
       "      <td>...</td>\n",
       "      <td>...</td>\n",
       "      <td>...</td>\n",
       "      <td>...</td>\n",
       "      <td>...</td>\n",
       "    </tr>\n",
       "    <tr>\n",
       "      <th>12406</th>\n",
       "      <td>Female</td>\n",
       "      <td>2024</td>\n",
       "      <td>Midfield</td>\n",
       "      <td>1000.0</td>\n",
       "      <td>31</td>\n",
       "      <td>163</td>\n",
       "      <td>Germany</td>\n",
       "      <td>54</td>\n",
       "      <td>1.0</td>\n",
       "      <td>Germany</td>\n",
       "      <td>Right</td>\n",
       "      <td>2</td>\n",
       "      <td>71.866667</td>\n",
       "      <td>32.250000</td>\n",
       "      <td>11.933333</td>\n",
       "      <td>64.000000</td>\n",
       "      <td>81.6</td>\n",
       "      <td>71.266667</td>\n",
       "      <td>58.500000</td>\n",
       "    </tr>\n",
       "    <tr>\n",
       "      <th>12564</th>\n",
       "      <td>Male</td>\n",
       "      <td>2023</td>\n",
       "      <td>Midfield</td>\n",
       "      <td>13000.0</td>\n",
       "      <td>31</td>\n",
       "      <td>176</td>\n",
       "      <td>Germany</td>\n",
       "      <td>72</td>\n",
       "      <td>2.0</td>\n",
       "      <td>Germany</td>\n",
       "      <td>NaN</td>\n",
       "      <td>2</td>\n",
       "      <td>65.400000</td>\n",
       "      <td>59.750000</td>\n",
       "      <td>10.400000</td>\n",
       "      <td>69.500000</td>\n",
       "      <td>70.6</td>\n",
       "      <td>68.800000</td>\n",
       "      <td>62.833333</td>\n",
       "    </tr>\n",
       "    <tr>\n",
       "      <th>12780</th>\n",
       "      <td>Female</td>\n",
       "      <td>2023</td>\n",
       "      <td>Goalkeeper</td>\n",
       "      <td>1000.0</td>\n",
       "      <td>31</td>\n",
       "      <td>180</td>\n",
       "      <td>England</td>\n",
       "      <td>63</td>\n",
       "      <td>1.0</td>\n",
       "      <td>Germany</td>\n",
       "      <td>NaN</td>\n",
       "      <td>3</td>\n",
       "      <td>NaN</td>\n",
       "      <td>9.666667</td>\n",
       "      <td>74.750000</td>\n",
       "      <td>26.583333</td>\n",
       "      <td>48.4</td>\n",
       "      <td>43.950000</td>\n",
       "      <td>11.500000</td>\n",
       "    </tr>\n",
       "    <tr>\n",
       "      <th>12850</th>\n",
       "      <td>Male</td>\n",
       "      <td>2024</td>\n",
       "      <td>Midfield</td>\n",
       "      <td>6000.0</td>\n",
       "      <td>31</td>\n",
       "      <td>187</td>\n",
       "      <td>Germany</td>\n",
       "      <td>77</td>\n",
       "      <td>2.0</td>\n",
       "      <td>Germany</td>\n",
       "      <td>NaN</td>\n",
       "      <td>1</td>\n",
       "      <td>NaN</td>\n",
       "      <td>67.250000</td>\n",
       "      <td>12.000000</td>\n",
       "      <td>57.833333</td>\n",
       "      <td>57.8</td>\n",
       "      <td>72.800000</td>\n",
       "      <td>42.166667</td>\n",
       "    </tr>\n",
       "    <tr>\n",
       "      <th>13002</th>\n",
       "      <td>Male</td>\n",
       "      <td>2023</td>\n",
       "      <td>Midfield</td>\n",
       "      <td>1000.0</td>\n",
       "      <td>31</td>\n",
       "      <td>177</td>\n",
       "      <td>Spain</td>\n",
       "      <td>79</td>\n",
       "      <td>3.0</td>\n",
       "      <td>Germany</td>\n",
       "      <td>NaN</td>\n",
       "      <td>1</td>\n",
       "      <td>57.000000</td>\n",
       "      <td>59.750000</td>\n",
       "      <td>12.600000</td>\n",
       "      <td>58.333333</td>\n",
       "      <td>73.6</td>\n",
       "      <td>69.000000</td>\n",
       "      <td>51.166667</td>\n",
       "    </tr>\n",
       "  </tbody>\n",
       "</table>\n",
       "<p>103 rows × 19 columns</p>\n",
       "</div>"
      ],
      "text/plain": [
       "       Gender  Year main_position  wage_eur  age  height_cm league_country  \\\n",
       "88       Male  2024      Midfield   25000.0   33        181        Germany   \n",
       "114      Male  2024      Midfield   76000.0   32        181        England   \n",
       "214      Male  2023       Defense    3000.0   32        188        Germany   \n",
       "348      Male  2024       Defense     850.0   32        182          Spain   \n",
       "458      Male  2024      Midfield    2000.0   31        182          Spain   \n",
       "...       ...   ...           ...       ...  ...        ...            ...   \n",
       "12406  Female  2024      Midfield    1000.0   31        163        Germany   \n",
       "12564    Male  2023      Midfield   13000.0   31        176        Germany   \n",
       "12780  Female  2023    Goalkeeper    1000.0   31        180        England   \n",
       "12850    Male  2024      Midfield    6000.0   31        187        Germany   \n",
       "13002    Male  2023      Midfield    1000.0   31        177          Spain   \n",
       "\n",
       "       weight_kg  league_level national_team preferred_foot  \\\n",
       "88            79           1.0       Germany            NaN   \n",
       "114           78           1.0       Germany            NaN   \n",
       "214           82           1.0       Germany            NaN   \n",
       "348           71           3.0       Germany          Right   \n",
       "458           76           3.0       Germany          Right   \n",
       "...          ...           ...           ...            ...   \n",
       "12406         54           1.0       Germany          Right   \n",
       "12564         72           2.0       Germany            NaN   \n",
       "12780         63           1.0       Germany            NaN   \n",
       "12850         77           2.0       Germany            NaN   \n",
       "13002         79           3.0       Germany            NaN   \n",
       "\n",
       "       international_reputation  attacking  defending  goalkeeping  mentality  \\\n",
       "88                            2        NaN  75.500000    10.200000  65.666667   \n",
       "114                           2        NaN  60.500000    13.000000  73.166667   \n",
       "214                           1        NaN  62.250000    11.200000  62.333333   \n",
       "348                           1  52.000000  61.250000    10.000000  53.333333   \n",
       "458                           1  47.800000  65.000000     8.600000  55.500000   \n",
       "...                         ...        ...        ...          ...        ...   \n",
       "12406                         2  71.866667  32.250000    11.933333  64.000000   \n",
       "12564                         2  65.400000  59.750000    10.400000  69.500000   \n",
       "12780                         3        NaN   9.666667    74.750000  26.583333   \n",
       "12850                         1        NaN  67.250000    12.000000  57.833333   \n",
       "13002                         1  57.000000  59.750000    12.600000  58.333333   \n",
       "\n",
       "       movement      power      skill  \n",
       "88         66.2  68.000000  51.166667  \n",
       "114        63.0  74.900000  66.583333  \n",
       "214        65.0  70.400000  49.833333  \n",
       "348        67.4  63.600000  47.166667  \n",
       "458        68.6  56.600000  45.166667  \n",
       "...         ...        ...        ...  \n",
       "12406      81.6  71.266667  58.500000  \n",
       "12564      70.6  68.800000  62.833333  \n",
       "12780      48.4  43.950000  11.500000  \n",
       "12850      57.8  72.800000  42.166667  \n",
       "13002      73.6  69.000000  51.166667  \n",
       "\n",
       "[103 rows x 19 columns]"
      ]
     },
     "execution_count": 57,
     "metadata": {},
     "output_type": "execute_result"
    }
   ],
   "source": [
    "# Select players whose national team is Germany and with a age above 30 years old\n",
    "players_df.loc[(players_df[\"national_team\"]==\"Germany\") & (players_df[\"age\"]>30)]"
   ]
  },
  {
   "cell_type": "markdown",
   "metadata": {
    "id": "FmmGCOlfqruT"
   },
   "source": [
    "**`df.iloc[row_indices,column_indices]`**\n",
    "\n",
    "**Integer-location based indexing for selection by position.** <br> It only accepts integer indices for rows and columns."
   ]
  },
  {
   "cell_type": "code",
   "execution_count": 58,
   "metadata": {
    "colab": {
     "base_uri": "https://localhost:8080/",
     "height": 206
    },
    "executionInfo": {
     "elapsed": 33,
     "status": "ok",
     "timestamp": 1692394531878,
     "user": {
      "displayName": "laurene david",
      "userId": "12504925674923465673"
     },
     "user_tz": -120
    },
    "id": "FjS8u6lWqw3R",
    "outputId": "b620da1c-ef06-41e2-ee6e-4dd3be12b7ee"
   },
   "outputs": [
    {
     "data": {
      "text/html": [
       "<div>\n",
       "<style scoped>\n",
       "    .dataframe tbody tr th:only-of-type {\n",
       "        vertical-align: middle;\n",
       "    }\n",
       "\n",
       "    .dataframe tbody tr th {\n",
       "        vertical-align: top;\n",
       "    }\n",
       "\n",
       "    .dataframe thead th {\n",
       "        text-align: right;\n",
       "    }\n",
       "</style>\n",
       "<table border=\"1\" class=\"dataframe\">\n",
       "  <thead>\n",
       "    <tr style=\"text-align: right;\">\n",
       "      <th></th>\n",
       "      <th>Gender</th>\n",
       "      <th>Year</th>\n",
       "      <th>main_position</th>\n",
       "      <th>wage_eur</th>\n",
       "      <th>age</th>\n",
       "      <th>height_cm</th>\n",
       "      <th>league_country</th>\n",
       "      <th>weight_kg</th>\n",
       "      <th>league_level</th>\n",
       "      <th>national_team</th>\n",
       "      <th>preferred_foot</th>\n",
       "      <th>international_reputation</th>\n",
       "      <th>attacking</th>\n",
       "      <th>defending</th>\n",
       "      <th>goalkeeping</th>\n",
       "      <th>mentality</th>\n",
       "      <th>movement</th>\n",
       "      <th>power</th>\n",
       "      <th>skill</th>\n",
       "    </tr>\n",
       "  </thead>\n",
       "  <tbody>\n",
       "    <tr>\n",
       "      <th>0</th>\n",
       "      <td>Female</td>\n",
       "      <td>2023</td>\n",
       "      <td>Goalkeeper</td>\n",
       "      <td>750.0</td>\n",
       "      <td>24</td>\n",
       "      <td>180</td>\n",
       "      <td>France</td>\n",
       "      <td>72</td>\n",
       "      <td>1.0</td>\n",
       "      <td>Other</td>\n",
       "      <td>NaN</td>\n",
       "      <td>1</td>\n",
       "      <td>NaN</td>\n",
       "      <td>20.444444</td>\n",
       "      <td>72.833333</td>\n",
       "      <td>26.277778</td>\n",
       "      <td>51.0</td>\n",
       "      <td>49.466667</td>\n",
       "      <td>17.222222</td>\n",
       "    </tr>\n",
       "    <tr>\n",
       "      <th>1</th>\n",
       "      <td>Male</td>\n",
       "      <td>2023</td>\n",
       "      <td>Midfield</td>\n",
       "      <td>5000.0</td>\n",
       "      <td>29</td>\n",
       "      <td>174</td>\n",
       "      <td>Belgium</td>\n",
       "      <td>74</td>\n",
       "      <td>1.0</td>\n",
       "      <td>Other</td>\n",
       "      <td>Right</td>\n",
       "      <td>1</td>\n",
       "      <td>44.4</td>\n",
       "      <td>56.750000</td>\n",
       "      <td>8.400000</td>\n",
       "      <td>53.500000</td>\n",
       "      <td>59.4</td>\n",
       "      <td>57.000000</td>\n",
       "      <td>44.833333</td>\n",
       "    </tr>\n",
       "    <tr>\n",
       "      <th>2</th>\n",
       "      <td>Male</td>\n",
       "      <td>2023</td>\n",
       "      <td>Defense</td>\n",
       "      <td>4000.0</td>\n",
       "      <td>24</td>\n",
       "      <td>181</td>\n",
       "      <td>Netherlands</td>\n",
       "      <td>76</td>\n",
       "      <td>1.0</td>\n",
       "      <td>Netherlands</td>\n",
       "      <td>Left</td>\n",
       "      <td>1</td>\n",
       "      <td>57.8</td>\n",
       "      <td>61.750000</td>\n",
       "      <td>10.200000</td>\n",
       "      <td>60.500000</td>\n",
       "      <td>67.2</td>\n",
       "      <td>66.600000</td>\n",
       "      <td>50.833333</td>\n",
       "    </tr>\n",
       "    <tr>\n",
       "      <th>3</th>\n",
       "      <td>Male</td>\n",
       "      <td>2023</td>\n",
       "      <td>Attack</td>\n",
       "      <td>5000.0</td>\n",
       "      <td>30</td>\n",
       "      <td>186</td>\n",
       "      <td>England</td>\n",
       "      <td>78</td>\n",
       "      <td>4.0</td>\n",
       "      <td>England</td>\n",
       "      <td>NaN</td>\n",
       "      <td>1</td>\n",
       "      <td>NaN</td>\n",
       "      <td>22.000000</td>\n",
       "      <td>11.200000</td>\n",
       "      <td>52.833333</td>\n",
       "      <td>65.1</td>\n",
       "      <td>68.300000</td>\n",
       "      <td>42.000000</td>\n",
       "    </tr>\n",
       "    <tr>\n",
       "      <th>4</th>\n",
       "      <td>Male</td>\n",
       "      <td>2024</td>\n",
       "      <td>Midfield</td>\n",
       "      <td>2000.0</td>\n",
       "      <td>24</td>\n",
       "      <td>181</td>\n",
       "      <td>England</td>\n",
       "      <td>73</td>\n",
       "      <td>1.0</td>\n",
       "      <td>Other</td>\n",
       "      <td>Right</td>\n",
       "      <td>1</td>\n",
       "      <td>60.0</td>\n",
       "      <td>59.250000</td>\n",
       "      <td>10.200000</td>\n",
       "      <td>62.333333</td>\n",
       "      <td>67.2</td>\n",
       "      <td>71.600000</td>\n",
       "      <td>54.500000</td>\n",
       "    </tr>\n",
       "    <tr>\n",
       "      <th>5</th>\n",
       "      <td>Male</td>\n",
       "      <td>2023</td>\n",
       "      <td>Goalkeeper</td>\n",
       "      <td>4000.0</td>\n",
       "      <td>26</td>\n",
       "      <td>181</td>\n",
       "      <td>Other</td>\n",
       "      <td>76</td>\n",
       "      <td>1.0</td>\n",
       "      <td>Other</td>\n",
       "      <td>Right</td>\n",
       "      <td>1</td>\n",
       "      <td>18.8</td>\n",
       "      <td>14.000000</td>\n",
       "      <td>62.000000</td>\n",
       "      <td>29.666667</td>\n",
       "      <td>41.0</td>\n",
       "      <td>39.600000</td>\n",
       "      <td>12.166667</td>\n",
       "    </tr>\n",
       "    <tr>\n",
       "      <th>6</th>\n",
       "      <td>Female</td>\n",
       "      <td>2024</td>\n",
       "      <td>Midfield</td>\n",
       "      <td>850.0</td>\n",
       "      <td>28</td>\n",
       "      <td>166</td>\n",
       "      <td>Spain</td>\n",
       "      <td>60</td>\n",
       "      <td>1.0</td>\n",
       "      <td>Other</td>\n",
       "      <td>Left</td>\n",
       "      <td>1</td>\n",
       "      <td>47.2</td>\n",
       "      <td>76.500000</td>\n",
       "      <td>9.200000</td>\n",
       "      <td>52.500000</td>\n",
       "      <td>62.8</td>\n",
       "      <td>59.200000</td>\n",
       "      <td>36.333333</td>\n",
       "    </tr>\n",
       "    <tr>\n",
       "      <th>7</th>\n",
       "      <td>Male</td>\n",
       "      <td>2024</td>\n",
       "      <td>Goalkeeper</td>\n",
       "      <td>1000.0</td>\n",
       "      <td>37</td>\n",
       "      <td>195</td>\n",
       "      <td>Italy</td>\n",
       "      <td>90</td>\n",
       "      <td>2.0</td>\n",
       "      <td>Italy</td>\n",
       "      <td>Left</td>\n",
       "      <td>2</td>\n",
       "      <td>18.2</td>\n",
       "      <td>16.333333</td>\n",
       "      <td>59.333333</td>\n",
       "      <td>29.666667</td>\n",
       "      <td>32.2</td>\n",
       "      <td>44.400000</td>\n",
       "      <td>18.000000</td>\n",
       "    </tr>\n",
       "    <tr>\n",
       "      <th>8</th>\n",
       "      <td>Male</td>\n",
       "      <td>2024</td>\n",
       "      <td>Defense</td>\n",
       "      <td>1000.0</td>\n",
       "      <td>28</td>\n",
       "      <td>180</td>\n",
       "      <td>Poland</td>\n",
       "      <td>72</td>\n",
       "      <td>1.0</td>\n",
       "      <td>Poland</td>\n",
       "      <td>NaN</td>\n",
       "      <td>1</td>\n",
       "      <td>NaN</td>\n",
       "      <td>54.000000</td>\n",
       "      <td>10.200000</td>\n",
       "      <td>57.166667</td>\n",
       "      <td>66.4</td>\n",
       "      <td>62.800000</td>\n",
       "      <td>48.833333</td>\n",
       "    </tr>\n",
       "    <tr>\n",
       "      <th>9</th>\n",
       "      <td>Male</td>\n",
       "      <td>2024</td>\n",
       "      <td>Midfield</td>\n",
       "      <td>4000.0</td>\n",
       "      <td>29</td>\n",
       "      <td>186</td>\n",
       "      <td>Turkey</td>\n",
       "      <td>89</td>\n",
       "      <td>1.0</td>\n",
       "      <td>Other</td>\n",
       "      <td>Right</td>\n",
       "      <td>1</td>\n",
       "      <td>55.6</td>\n",
       "      <td>62.500000</td>\n",
       "      <td>9.800000</td>\n",
       "      <td>56.666667</td>\n",
       "      <td>61.0</td>\n",
       "      <td>72.600000</td>\n",
       "      <td>44.333333</td>\n",
       "    </tr>\n",
       "  </tbody>\n",
       "</table>\n",
       "</div>"
      ],
      "text/plain": [
       "   Gender  Year main_position  wage_eur  age  height_cm league_country  \\\n",
       "0  Female  2023    Goalkeeper     750.0   24        180         France   \n",
       "1    Male  2023      Midfield    5000.0   29        174        Belgium   \n",
       "2    Male  2023       Defense    4000.0   24        181    Netherlands   \n",
       "3    Male  2023        Attack    5000.0   30        186        England   \n",
       "4    Male  2024      Midfield    2000.0   24        181        England   \n",
       "5    Male  2023    Goalkeeper    4000.0   26        181          Other   \n",
       "6  Female  2024      Midfield     850.0   28        166          Spain   \n",
       "7    Male  2024    Goalkeeper    1000.0   37        195          Italy   \n",
       "8    Male  2024       Defense    1000.0   28        180         Poland   \n",
       "9    Male  2024      Midfield    4000.0   29        186         Turkey   \n",
       "\n",
       "   weight_kg  league_level national_team preferred_foot  \\\n",
       "0         72           1.0         Other            NaN   \n",
       "1         74           1.0         Other          Right   \n",
       "2         76           1.0   Netherlands           Left   \n",
       "3         78           4.0       England            NaN   \n",
       "4         73           1.0         Other          Right   \n",
       "5         76           1.0         Other          Right   \n",
       "6         60           1.0         Other           Left   \n",
       "7         90           2.0         Italy           Left   \n",
       "8         72           1.0        Poland            NaN   \n",
       "9         89           1.0         Other          Right   \n",
       "\n",
       "   international_reputation  attacking  defending  goalkeeping  mentality  \\\n",
       "0                         1        NaN  20.444444    72.833333  26.277778   \n",
       "1                         1       44.4  56.750000     8.400000  53.500000   \n",
       "2                         1       57.8  61.750000    10.200000  60.500000   \n",
       "3                         1        NaN  22.000000    11.200000  52.833333   \n",
       "4                         1       60.0  59.250000    10.200000  62.333333   \n",
       "5                         1       18.8  14.000000    62.000000  29.666667   \n",
       "6                         1       47.2  76.500000     9.200000  52.500000   \n",
       "7                         2       18.2  16.333333    59.333333  29.666667   \n",
       "8                         1        NaN  54.000000    10.200000  57.166667   \n",
       "9                         1       55.6  62.500000     9.800000  56.666667   \n",
       "\n",
       "   movement      power      skill  \n",
       "0      51.0  49.466667  17.222222  \n",
       "1      59.4  57.000000  44.833333  \n",
       "2      67.2  66.600000  50.833333  \n",
       "3      65.1  68.300000  42.000000  \n",
       "4      67.2  71.600000  54.500000  \n",
       "5      41.0  39.600000  12.166667  \n",
       "6      62.8  59.200000  36.333333  \n",
       "7      32.2  44.400000  18.000000  \n",
       "8      66.4  62.800000  48.833333  \n",
       "9      61.0  72.600000  44.333333  "
      ]
     },
     "execution_count": 58,
     "metadata": {},
     "output_type": "execute_result"
    }
   ],
   "source": [
    "# Select the first 10 rows of the dataframe\n",
    "players_df.iloc[:10,:]"
   ]
  },
  {
   "cell_type": "markdown",
   "metadata": {
    "id": "n7TW2g77Bvpd"
   },
   "source": [
    "**<font size='5'><u>Modify DataFrames</u>**</font> <br>\n",
    "\n",
    "Series and DataFrames are mutable objects in Python. <br>\n",
    "You can easily **add new columns** or **modify** existing columns to these objects. <br>\n",
    "- Add new columns with `df[new_column_name] = ...`\n",
    "- Modify an existing column with `df[column_name] = df[column_name]...`"
   ]
  },
  {
   "cell_type": "markdown",
   "metadata": {
    "id": "23G6H15F5lsX"
   },
   "source": [
    "**`.apply()`** <br>\n",
    "**Apply a function a function to a pandas series/dataframe.**\n",
    "<br>\n",
    "Lambda functions are commonly used with the apply method but you can use any type of function."
   ]
  },
  {
   "cell_type": "code",
   "execution_count": 59,
   "metadata": {
    "id": "njy8KDf-l12T"
   },
   "outputs": [],
   "source": [
    "# Add a new column with the players height in foot (foot = centimeters/30.48)\n",
    "players_df[\"height_foot\"] = players_df[\"height_cm\"].apply(lambda x: x/30.48) # changes saved to the dataframe"
   ]
  },
  {
   "cell_type": "code",
   "execution_count": 60,
   "metadata": {
    "colab": {
     "base_uri": "https://localhost:8080/",
     "height": 206
    },
    "executionInfo": {
     "elapsed": 26,
     "status": "ok",
     "timestamp": 1692394531879,
     "user": {
      "displayName": "laurene david",
      "userId": "12504925674923465673"
     },
     "user_tz": -120
    },
    "id": "fvWwXHi244a3",
    "outputId": "23093022-3037-4cdf-c1d8-fb30cee68194"
   },
   "outputs": [
    {
     "data": {
      "text/plain": [
       "0        5.905512\n",
       "1        5.708661\n",
       "2        5.938320\n",
       "3        6.102362\n",
       "4        5.938320\n",
       "           ...   \n",
       "13294    5.938320\n",
       "13295    5.413386\n",
       "13296    6.167979\n",
       "13297    6.167979\n",
       "13298    5.905512\n",
       "Name: height_foot, Length: 13299, dtype: float64"
      ]
     },
     "execution_count": 60,
     "metadata": {},
     "output_type": "execute_result"
    }
   ],
   "source": [
    "players_df[\"height_foot\"]"
   ]
  },
  {
   "cell_type": "markdown",
   "metadata": {},
   "source": [
    "**<font size='5'><u>Summarize a DataFrame</u>**</font> <br>\n"
   ]
  },
  {
   "cell_type": "markdown",
   "metadata": {
    "id": "SjZP7lnWt-nn"
   },
   "source": [
    "**`.sum()`, `.mean()`, `.max()`,`.median()`, `.size()`...** <br>\n",
    "**Use aggregation functions to obtain summary statistics** <br>\n",
    "\n",
    "You can use built-in aggregation functions (such as `.sum`, `.mean`, `.max`, etc.). <br>\n",
    "You can also use `.agg()` to apply different aggregation functions to variables.\n"
   ]
  },
  {
   "cell_type": "code",
   "execution_count": 61,
   "metadata": {
    "id": "oWjmMvQklUW5"
   },
   "outputs": [
    {
     "data": {
      "text/plain": [
       "np.float64(48.338321361036414)"
      ]
     },
     "execution_count": 61,
     "metadata": {},
     "output_type": "execute_result"
    }
   ],
   "source": [
    "# Compute the average value of \"defending\"\n",
    "players_df[\"defending\"].mean()"
   ]
  },
  {
   "cell_type": "markdown",
   "metadata": {},
   "source": [
    "You can also use `.describe()` to get summary statistics on int or float variables.\n",
    "\n",
    "*To select columns with a specific dtype, you can use `.select_dtypes(include=)`.*"
   ]
  },
  {
   "cell_type": "code",
   "execution_count": 62,
   "metadata": {
    "colab": {
     "base_uri": "https://localhost:8080/"
    },
    "executionInfo": {
     "elapsed": 276,
     "status": "ok",
     "timestamp": 1692394532137,
     "user": {
      "displayName": "laurene david",
      "userId": "12504925674923465673"
     },
     "user_tz": -120
    },
    "id": "rzYYySt4lwWN",
    "outputId": "85ad557b-d7bf-4a20-e111-bcb6b560f797"
   },
   "outputs": [
    {
     "data": {
      "text/html": [
       "<div>\n",
       "<style scoped>\n",
       "    .dataframe tbody tr th:only-of-type {\n",
       "        vertical-align: middle;\n",
       "    }\n",
       "\n",
       "    .dataframe tbody tr th {\n",
       "        vertical-align: top;\n",
       "    }\n",
       "\n",
       "    .dataframe thead th {\n",
       "        text-align: right;\n",
       "    }\n",
       "</style>\n",
       "<table border=\"1\" class=\"dataframe\">\n",
       "  <thead>\n",
       "    <tr style=\"text-align: right;\">\n",
       "      <th></th>\n",
       "      <th>Year</th>\n",
       "      <th>wage_eur</th>\n",
       "      <th>age</th>\n",
       "      <th>height_cm</th>\n",
       "      <th>weight_kg</th>\n",
       "      <th>league_level</th>\n",
       "      <th>international_reputation</th>\n",
       "      <th>attacking</th>\n",
       "      <th>defending</th>\n",
       "      <th>goalkeeping</th>\n",
       "      <th>mentality</th>\n",
       "      <th>movement</th>\n",
       "      <th>power</th>\n",
       "      <th>skill</th>\n",
       "      <th>height_foot</th>\n",
       "    </tr>\n",
       "  </thead>\n",
       "  <tbody>\n",
       "    <tr>\n",
       "      <th>count</th>\n",
       "      <td>13299.000000</td>\n",
       "      <td>13299.000000</td>\n",
       "      <td>13299.000000</td>\n",
       "      <td>13299.000000</td>\n",
       "      <td>13299.000000</td>\n",
       "      <td>13299.000000</td>\n",
       "      <td>13299.000000</td>\n",
       "      <td>9310.000000</td>\n",
       "      <td>13299.000000</td>\n",
       "      <td>13299.000000</td>\n",
       "      <td>13299.000000</td>\n",
       "      <td>13299.000000</td>\n",
       "      <td>13299.000000</td>\n",
       "      <td>13299.000000</td>\n",
       "      <td>13299.000000</td>\n",
       "    </tr>\n",
       "    <tr>\n",
       "      <th>mean</th>\n",
       "      <td>2023.540642</td>\n",
       "      <td>6991.920445</td>\n",
       "      <td>25.055343</td>\n",
       "      <td>179.551169</td>\n",
       "      <td>72.738477</td>\n",
       "      <td>1.354388</td>\n",
       "      <td>1.121137</td>\n",
       "      <td>50.728992</td>\n",
       "      <td>48.338321</td>\n",
       "      <td>16.007438</td>\n",
       "      <td>53.084738</td>\n",
       "      <td>64.053410</td>\n",
       "      <td>59.993972</td>\n",
       "      <td>44.476724</td>\n",
       "      <td>5.890786</td>\n",
       "    </tr>\n",
       "    <tr>\n",
       "      <th>std</th>\n",
       "      <td>0.498364</td>\n",
       "      <td>14528.393610</td>\n",
       "      <td>4.661526</td>\n",
       "      <td>8.313691</td>\n",
       "      <td>8.673687</td>\n",
       "      <td>0.731557</td>\n",
       "      <td>0.443520</td>\n",
       "      <td>15.514216</td>\n",
       "      <td>20.616700</td>\n",
       "      <td>16.178637</td>\n",
       "      <td>12.878897</td>\n",
       "      <td>11.452372</td>\n",
       "      <td>10.582205</td>\n",
       "      <td>13.388227</td>\n",
       "      <td>0.272759</td>\n",
       "    </tr>\n",
       "    <tr>\n",
       "      <th>min</th>\n",
       "      <td>2023.000000</td>\n",
       "      <td>500.000000</td>\n",
       "      <td>16.000000</td>\n",
       "      <td>149.000000</td>\n",
       "      <td>45.000000</td>\n",
       "      <td>1.000000</td>\n",
       "      <td>1.000000</td>\n",
       "      <td>8.600000</td>\n",
       "      <td>6.666667</td>\n",
       "      <td>2.000000</td>\n",
       "      <td>12.666667</td>\n",
       "      <td>24.600000</td>\n",
       "      <td>24.600000</td>\n",
       "      <td>7.500000</td>\n",
       "      <td>4.888451</td>\n",
       "    </tr>\n",
       "    <tr>\n",
       "      <th>25%</th>\n",
       "      <td>2023.000000</td>\n",
       "      <td>800.000000</td>\n",
       "      <td>21.000000</td>\n",
       "      <td>174.000000</td>\n",
       "      <td>67.000000</td>\n",
       "      <td>1.000000</td>\n",
       "      <td>1.000000</td>\n",
       "      <td>46.000000</td>\n",
       "      <td>30.250000</td>\n",
       "      <td>9.400000</td>\n",
       "      <td>48.166667</td>\n",
       "      <td>58.600000</td>\n",
       "      <td>53.800000</td>\n",
       "      <td>39.500000</td>\n",
       "      <td>5.708661</td>\n",
       "    </tr>\n",
       "    <tr>\n",
       "      <th>50%</th>\n",
       "      <td>2024.000000</td>\n",
       "      <td>2000.000000</td>\n",
       "      <td>25.000000</td>\n",
       "      <td>180.000000</td>\n",
       "      <td>73.000000</td>\n",
       "      <td>1.000000</td>\n",
       "      <td>1.000000</td>\n",
       "      <td>54.000000</td>\n",
       "      <td>54.750000</td>\n",
       "      <td>10.400000</td>\n",
       "      <td>55.333333</td>\n",
       "      <td>66.000000</td>\n",
       "      <td>61.400000</td>\n",
       "      <td>47.166667</td>\n",
       "      <td>5.905512</td>\n",
       "    </tr>\n",
       "    <tr>\n",
       "      <th>75%</th>\n",
       "      <td>2024.000000</td>\n",
       "      <td>6000.000000</td>\n",
       "      <td>28.000000</td>\n",
       "      <td>185.000000</td>\n",
       "      <td>79.000000</td>\n",
       "      <td>1.000000</td>\n",
       "      <td>1.000000</td>\n",
       "      <td>60.600000</td>\n",
       "      <td>65.000000</td>\n",
       "      <td>11.800000</td>\n",
       "      <td>61.583333</td>\n",
       "      <td>72.000000</td>\n",
       "      <td>67.700000</td>\n",
       "      <td>53.416667</td>\n",
       "      <td>6.069554</td>\n",
       "    </tr>\n",
       "    <tr>\n",
       "      <th>max</th>\n",
       "      <td>2024.000000</td>\n",
       "      <td>450000.000000</td>\n",
       "      <td>42.000000</td>\n",
       "      <td>206.000000</td>\n",
       "      <td>104.000000</td>\n",
       "      <td>5.000000</td>\n",
       "      <td>5.000000</td>\n",
       "      <td>86.700000</td>\n",
       "      <td>88.750000</td>\n",
       "      <td>79.583333</td>\n",
       "      <td>81.528302</td>\n",
       "      <td>89.800000</td>\n",
       "      <td>88.000000</td>\n",
       "      <td>74.462963</td>\n",
       "      <td>6.758530</td>\n",
       "    </tr>\n",
       "  </tbody>\n",
       "</table>\n",
       "</div>"
      ],
      "text/plain": [
       "               Year       wage_eur           age     height_cm     weight_kg  \\\n",
       "count  13299.000000   13299.000000  13299.000000  13299.000000  13299.000000   \n",
       "mean    2023.540642    6991.920445     25.055343    179.551169     72.738477   \n",
       "std        0.498364   14528.393610      4.661526      8.313691      8.673687   \n",
       "min     2023.000000     500.000000     16.000000    149.000000     45.000000   \n",
       "25%     2023.000000     800.000000     21.000000    174.000000     67.000000   \n",
       "50%     2024.000000    2000.000000     25.000000    180.000000     73.000000   \n",
       "75%     2024.000000    6000.000000     28.000000    185.000000     79.000000   \n",
       "max     2024.000000  450000.000000     42.000000    206.000000    104.000000   \n",
       "\n",
       "       league_level  international_reputation    attacking     defending  \\\n",
       "count  13299.000000              13299.000000  9310.000000  13299.000000   \n",
       "mean       1.354388                  1.121137    50.728992     48.338321   \n",
       "std        0.731557                  0.443520    15.514216     20.616700   \n",
       "min        1.000000                  1.000000     8.600000      6.666667   \n",
       "25%        1.000000                  1.000000    46.000000     30.250000   \n",
       "50%        1.000000                  1.000000    54.000000     54.750000   \n",
       "75%        1.000000                  1.000000    60.600000     65.000000   \n",
       "max        5.000000                  5.000000    86.700000     88.750000   \n",
       "\n",
       "        goalkeeping     mentality      movement         power         skill  \\\n",
       "count  13299.000000  13299.000000  13299.000000  13299.000000  13299.000000   \n",
       "mean      16.007438     53.084738     64.053410     59.993972     44.476724   \n",
       "std       16.178637     12.878897     11.452372     10.582205     13.388227   \n",
       "min        2.000000     12.666667     24.600000     24.600000      7.500000   \n",
       "25%        9.400000     48.166667     58.600000     53.800000     39.500000   \n",
       "50%       10.400000     55.333333     66.000000     61.400000     47.166667   \n",
       "75%       11.800000     61.583333     72.000000     67.700000     53.416667   \n",
       "max       79.583333     81.528302     89.800000     88.000000     74.462963   \n",
       "\n",
       "        height_foot  \n",
       "count  13299.000000  \n",
       "mean       5.890786  \n",
       "std        0.272759  \n",
       "min        4.888451  \n",
       "25%        5.708661  \n",
       "50%        5.905512  \n",
       "75%        6.069554  \n",
       "max        6.758530  "
      ]
     },
     "execution_count": 62,
     "metadata": {},
     "output_type": "execute_result"
    }
   ],
   "source": [
    "# Compute summary statistics for int and float variables\n",
    "players_df_numerical = players_df.select_dtypes(include=[int, float]) # select columns with int or float values\n",
    "players_df_numerical.describe()"
   ]
  },
  {
   "cell_type": "markdown",
   "metadata": {
    "id": "h1eaS4x4uqjZ"
   },
   "source": [
    "**`.groupby()`** <br>\n",
    "\n",
    "**Group rows of a DataFrame by one or more columns and perform aggregations.**\n",
    "\n",
    "This method allows you to perform summary statistics on groups of rows. <br>\n",
    "It is usually combined with built-in statistical operations such as `.sum()`, `.mean()`,...\n"
   ]
  },
  {
   "cell_type": "code",
   "execution_count": 63,
   "metadata": {
    "colab": {
     "base_uri": "https://localhost:8080/",
     "height": 174
    },
    "executionInfo": {
     "elapsed": 14,
     "status": "ok",
     "timestamp": 1692394532138,
     "user": {
      "displayName": "laurene david",
      "userId": "12504925674923465673"
     },
     "user_tz": -120
    },
    "id": "6Fmk-dCJl8Y2",
    "outputId": "ae36cd69-00d5-460d-c2f0-dff4613e32e2"
   },
   "outputs": [
    {
     "data": {
      "text/plain": [
       "league_country\n",
       "Argentina        48.459818\n",
       "Belgium          45.420495\n",
       "England          49.490036\n",
       "France           49.457945\n",
       "Germany          49.563305\n",
       "Italy            50.753344\n",
       "Netherlands      46.494038\n",
       "Other            45.704005\n",
       "Poland           44.650751\n",
       "Portugal         48.159501\n",
       "Spain            48.674353\n",
       "Sweden           45.453223\n",
       "Turkey           46.993697\n",
       "United States    49.554066\n",
       "Name: defending, dtype: float64"
      ]
     },
     "execution_count": 63,
     "metadata": {},
     "output_type": "execute_result"
    }
   ],
   "source": [
    "# Compute the average defending skills per league_country\n",
    "players_df.groupby(\"league_country\")[\"defending\"].mean()"
   ]
  },
  {
   "cell_type": "markdown",
   "metadata": {},
   "source": [
    "You can group the dataframe based on more than one columns."
   ]
  },
  {
   "cell_type": "code",
   "execution_count": 64,
   "metadata": {
    "colab": {
     "base_uri": "https://localhost:8080/",
     "height": 237
    },
    "executionInfo": {
     "elapsed": 13,
     "status": "ok",
     "timestamp": 1692394532138,
     "user": {
      "displayName": "laurene david",
      "userId": "12504925674923465673"
     },
     "user_tz": -120
    },
    "id": "6ot5k3NzmMLV",
    "outputId": "f5ff34aa-4db1-4af8-8e30-5ec4c52fc95a"
   },
   "outputs": [
    {
     "data": {
      "text/plain": [
       "league_country  Year\n",
       "Argentina       2023    48.865641\n",
       "                2024    48.027874\n",
       "Belgium         2023    45.161672\n",
       "                2024    45.664683\n",
       "England         2023    49.651698\n",
       "                2024    49.323569\n",
       "France          2023    49.903649\n",
       "                2024    49.015134\n",
       "Germany         2023    47.584852\n",
       "                2024    50.709137\n",
       "Italy           2023    50.203261\n",
       "                2024    51.305830\n",
       "Netherlands     2023    46.925273\n",
       "                2024    46.049690\n",
       "Other           2023    45.301467\n",
       "                2024    46.072575\n",
       "Poland          2023    44.808333\n",
       "                2024    44.485138\n",
       "Portugal        2023    49.941501\n",
       "                2024    46.508691\n",
       "Spain           2023    47.102545\n",
       "                2024    49.678146\n",
       "Sweden          2023    44.572842\n",
       "                2024    46.263641\n",
       "Turkey          2023    46.531309\n",
       "                2024    47.448380\n",
       "United States   2023    47.329498\n",
       "                2024    50.456734\n",
       "Name: defending, dtype: float64"
      ]
     },
     "execution_count": 64,
     "metadata": {},
     "output_type": "execute_result"
    }
   ],
   "source": [
    "# Compute the average defending skills per league_country and Year\n",
    "players_df.groupby([\"league_country\", \"Year\"])[\"defending\"].mean()"
   ]
  },
  {
   "cell_type": "markdown",
   "metadata": {},
   "source": [
    "**<font size='5'><u>Concatenate DataFrames</u>**</font> <br>\n",
    "\n",
    "\n",
    "**`.concat()`** <br>\n",
    "\n",
    "**Concatenate two dataframes along a common axis (rows or columns).** <br>\n",
    "The `axis` parameters allows you to choose which type of concatenation you want applied.\n",
    "- Vertical (`axis = 0`): Concatenate dataframes vertically along the rows.\n",
    "- Horizontal (`axis = 1`): Concatenates fataframes horizontally along the columns\n",
    "\n",
    "\n",
    "<br>\n",
    "\n",
    "<img src = https://miro.medium.com/v2/resize:fit:2000/1*NLnoAF5uOSBC2Y7IuzfM_Q.png width = \"800\" height = \"400\" >"
   ]
  },
  {
   "cell_type": "code",
   "execution_count": 65,
   "metadata": {},
   "outputs": [
    {
     "data": {
      "text/html": [
       "<div>\n",
       "<style scoped>\n",
       "    .dataframe tbody tr th:only-of-type {\n",
       "        vertical-align: middle;\n",
       "    }\n",
       "\n",
       "    .dataframe tbody tr th {\n",
       "        vertical-align: top;\n",
       "    }\n",
       "\n",
       "    .dataframe thead th {\n",
       "        text-align: right;\n",
       "    }\n",
       "</style>\n",
       "<table border=\"1\" class=\"dataframe\">\n",
       "  <thead>\n",
       "    <tr style=\"text-align: right;\">\n",
       "      <th></th>\n",
       "      <th>Name</th>\n",
       "      <th>Age</th>\n",
       "    </tr>\n",
       "  </thead>\n",
       "  <tbody>\n",
       "    <tr>\n",
       "      <th>0</th>\n",
       "      <td>Alice</td>\n",
       "      <td>25</td>\n",
       "    </tr>\n",
       "    <tr>\n",
       "      <th>1</th>\n",
       "      <td>Bob</td>\n",
       "      <td>32</td>\n",
       "    </tr>\n",
       "  </tbody>\n",
       "</table>\n",
       "</div>"
      ],
      "text/plain": [
       "    Name  Age\n",
       "0  Alice   25\n",
       "1    Bob   32"
      ]
     },
     "execution_count": 65,
     "metadata": {},
     "output_type": "execute_result"
    }
   ],
   "source": [
    "# First dataframe\n",
    "df3 = pd.DataFrame({'Name': ['Alice', 'Bob'],\n",
    "                    'Age': [25, 32]})\n",
    "df3"
   ]
  },
  {
   "cell_type": "code",
   "execution_count": 66,
   "metadata": {},
   "outputs": [
    {
     "data": {
      "text/html": [
       "<div>\n",
       "<style scoped>\n",
       "    .dataframe tbody tr th:only-of-type {\n",
       "        vertical-align: middle;\n",
       "    }\n",
       "\n",
       "    .dataframe tbody tr th {\n",
       "        vertical-align: top;\n",
       "    }\n",
       "\n",
       "    .dataframe thead th {\n",
       "        text-align: right;\n",
       "    }\n",
       "</style>\n",
       "<table border=\"1\" class=\"dataframe\">\n",
       "  <thead>\n",
       "    <tr style=\"text-align: right;\">\n",
       "      <th></th>\n",
       "      <th>Name</th>\n",
       "      <th>Age</th>\n",
       "    </tr>\n",
       "  </thead>\n",
       "  <tbody>\n",
       "    <tr>\n",
       "      <th>0</th>\n",
       "      <td>Charlie</td>\n",
       "      <td>28</td>\n",
       "    </tr>\n",
       "    <tr>\n",
       "      <th>1</th>\n",
       "      <td>David</td>\n",
       "      <td>21</td>\n",
       "    </tr>\n",
       "  </tbody>\n",
       "</table>\n",
       "</div>"
      ],
      "text/plain": [
       "      Name  Age\n",
       "0  Charlie   28\n",
       "1    David   21"
      ]
     },
     "execution_count": 66,
     "metadata": {},
     "output_type": "execute_result"
    }
   ],
   "source": [
    "# Second dataframe\n",
    "df4 = pd.DataFrame({'Name': ['Charlie', 'David'],\n",
    "                    'Age': [28, 21]})\n",
    "df4"
   ]
  },
  {
   "cell_type": "code",
   "execution_count": 67,
   "metadata": {},
   "outputs": [
    {
     "data": {
      "text/html": [
       "<div>\n",
       "<style scoped>\n",
       "    .dataframe tbody tr th:only-of-type {\n",
       "        vertical-align: middle;\n",
       "    }\n",
       "\n",
       "    .dataframe tbody tr th {\n",
       "        vertical-align: top;\n",
       "    }\n",
       "\n",
       "    .dataframe thead th {\n",
       "        text-align: right;\n",
       "    }\n",
       "</style>\n",
       "<table border=\"1\" class=\"dataframe\">\n",
       "  <thead>\n",
       "    <tr style=\"text-align: right;\">\n",
       "      <th></th>\n",
       "      <th>Name</th>\n",
       "      <th>Age</th>\n",
       "    </tr>\n",
       "  </thead>\n",
       "  <tbody>\n",
       "    <tr>\n",
       "      <th>0</th>\n",
       "      <td>Alice</td>\n",
       "      <td>25</td>\n",
       "    </tr>\n",
       "    <tr>\n",
       "      <th>1</th>\n",
       "      <td>Bob</td>\n",
       "      <td>32</td>\n",
       "    </tr>\n",
       "    <tr>\n",
       "      <th>0</th>\n",
       "      <td>Charlie</td>\n",
       "      <td>28</td>\n",
       "    </tr>\n",
       "    <tr>\n",
       "      <th>1</th>\n",
       "      <td>David</td>\n",
       "      <td>21</td>\n",
       "    </tr>\n",
       "  </tbody>\n",
       "</table>\n",
       "</div>"
      ],
      "text/plain": [
       "      Name  Age\n",
       "0    Alice   25\n",
       "1      Bob   32\n",
       "0  Charlie   28\n",
       "1    David   21"
      ]
     },
     "execution_count": 67,
     "metadata": {},
     "output_type": "execute_result"
    }
   ],
   "source": [
    "# Concatenate DataFrames vertically (along the rows)\n",
    "concatenated = pd.concat([df3, df4])\n",
    "concatenated"
   ]
  },
  {
   "cell_type": "markdown",
   "metadata": {
    "id": "0q2fTiHACKTq"
   },
   "source": [
    "**<font size='5'>Let's recap on Pandas:**</font> <br>\n",
    "- Pandas Data structures: `pd.DataFrame()`, `pd.Series()`\n",
    "- Pandas dtypes: `int64`, `float64`, `object`, `datetime64`, ...\n",
    "- Load/Save to csv: `.read_csv()`, `.to_csv()`\n",
    "- Index/Filter a dataframe: `[]`, `.loc[]`, `.iloc[]`\n",
    "- Concatenate a dataframe: `.concat()`\n",
    "- Summarize a dataframe: `.groupby()`, `.agg()`, `.mean()` ...\n",
    "- Modify/Reshape a DataFrame: `.apply()`, `.melt()`\n",
    "\n",
    "You can find out more about pandas features in this [cheatsheet](https://pandas.pydata.org/Pandas_Cheat_Sheet.pdf). "
   ]
  },
  {
   "cell_type": "markdown",
   "metadata": {
    "id": "L2r69BjbwUBB"
   },
   "source": [
    "## <font color='#023F7C'>**2.3 Data visualization with Matplotlib & Seaborn**</font>\n",
    "\n",
    "Python has many popular libraries to create visualizations. <br>\n",
    "Today we will focus on two of its most popular libraries, **Matplotlib** and **Seaborn**.\n",
    "\n",
    "\n"
   ]
  },
  {
   "cell_type": "markdown",
   "metadata": {
    "id": "-tbxBzQF9Zsm"
   },
   "source": [
    "**<font size='5'><u>Plots with Matplotlib</u>**</font> <br>\n",
    "\n",
    "Matplotlib is a popular data visualization library with a large collection of plotting functions. <br>\n",
    "It has many tools to customize plots with titles, legends, labels,...\n",
    "- Plotting functions/tools in `matplotlib.pyplot` submodule (alias `plt`)\n",
    "- Libraries built on top of Matplotlib: Seaborn, Pandas (plot function)\n"
   ]
  },
  {
   "cell_type": "code",
   "execution_count": 68,
   "metadata": {
    "id": "QxJA9aPfnIDi"
   },
   "outputs": [],
   "source": [
    "import matplotlib.pyplot as plt # pyplot = submodule of matplotlib"
   ]
  },
  {
   "cell_type": "markdown",
   "metadata": {
    "id": "Gy49JM9O8QPG"
   },
   "source": [
    "Matplotlib creates plots by drawing a **Figure**, an overall container for the plot. <br>\n",
    "Within a Figure, you can add axes, data points, a title, etc..\n",
    "\n",
    "<br>\n",
    "\n",
    "| Component | Description | Function |\n",
    "|----------| -------------|---------------------|\n",
    "| Figure | Top-level container that holds all the elements of a plot <br> Implicitly called when you call a plot function (not mandatory)  | `plt.figure()`|\n",
    "| Plot function | Create various kinds of plots (line, scatter, bar,...) | `plt.plot()`, `plt.scatter()`, <br> `plt.bar()`, `plt.hist()`... |\n",
    "| Legend | Provide additional information about plotted data | `plt.legend()` |\n",
    "| Title | Provide a title to the plot | `plt.title()`|\n",
    "| Axis labels | Add labels for the x and y axis | `plt.xlabel()`, `plt.ylabel()` |\n",
    "| Show | Display all open figures (not mandatory) | `plt.show()` |\n",
    "\n",
    "<br>\n",
    "\n",
    "<img src = https://matplotlib.org/3.1.0/_images/anatomy.png width = \"500\" height = \"500\" >"
   ]
  },
  {
   "cell_type": "code",
   "execution_count": 69,
   "metadata": {},
   "outputs": [
    {
     "data": {
      "image/png": "[encoded data removed]",
      "text/plain": [
       "<Figure size 640x480 with 1 Axes>"
      ]
     },
     "metadata": {},
     "output_type": "display_data"
    }
   ],
   "source": [
    "# Plot the distribution of player wages \n",
    "\n",
    "plt.hist(x=players_df[\"wage_eur\"]) # create the histogram\n",
    "plt.title(\"Distribution of player wages\") # add a title\n",
    "plt.xlabel(\"Player wages\")\n",
    "plt.show()"
   ]
  },
  {
   "cell_type": "code",
   "execution_count": 70,
   "metadata": {
    "colab": {
     "base_uri": "https://localhost:8080/",
     "height": 472
    },
    "executionInfo": {
     "elapsed": 331,
     "status": "ok",
     "timestamp": 1692394532457,
     "user": {
      "displayName": "laurene david",
      "userId": "12504925674923465673"
     },
     "user_tz": -120
    },
    "id": "5sPlbiZi8VYe",
    "outputId": "a8c2d0ce-faaf-4c46-f9c2-85d32d743a93"
   },
   "outputs": [
    {
     "data": {
      "image/png": "[encoded data removed]",
      "text/plain": [
       "<Figure size 1000x600 with 1 Axes>"
      ]
     },
     "metadata": {},
     "output_type": "display_data"
    }
   ],
   "source": [
    "# Create a scatter plot with players height (in cm) and movement \n",
    "\n",
    "plt.figure(figsize=(10,6)) # Modify the size of the plot\n",
    "plt.scatter(x=players_df[\"height_cm\"], y=players_df[\"movement\"]) # Build scatter plot \n",
    "plt.xlabel(\"Height (in cm)\") # add label for x axis\n",
    "plt.ylabel(\"Movement score\") # add label for y axis\n",
    "plt.title(\"Plot of height and movement score\") # add title\n",
    "plt.show()"
   ]
  },
  {
   "cell_type": "markdown",
   "metadata": {
    "id": "jaXIwYZzwGsm"
   },
   "source": [
    "Most of matplotlib's components can be used with other data vizualisation packages (*Seaborn* for example) to customize plots. <br>"
   ]
  },
  {
   "cell_type": "markdown",
   "metadata": {
    "id": "XfuvPSPm-9FO"
   },
   "source": [
    "**<font size='5'>Plots with Seaborn**</font> <br>\n",
    "\n",
    "**Seaborn** is a high-level plotting library built on top of Matplotlib. <br>\n",
    "- Simpler syntax than matplotlib\n",
    "- Less customizable but offers improved visual aesthetics (many themes available)\n",
    "- Created for statistical data visualization (kdeplot, histplot,...)\n",
    "\n",
    "<img src = https://miro.medium.com/v2/resize:fit:1107/1*oyX3i6zDjjvdy2IVRa-oAw.png width = \"500\" height = \"300\" >"
   ]
  },
  {
   "cell_type": "code",
   "execution_count": 71,
   "metadata": {},
   "outputs": [],
   "source": [
    "# Install a package on JupyterLite\n",
    "# import piplite\n",
    "# await piplite.install('seaborn')"
   ]
  },
  {
   "cell_type": "code",
   "execution_count": 72,
   "metadata": {
    "id": "pIKPUI-6nMMS"
   },
   "outputs": [],
   "source": [
    "import seaborn as sns"
   ]
  },
  {
   "cell_type": "markdown",
   "metadata": {
    "id": "hKBv9LRUCC5Y"
   },
   "source": [
    "Seaborn's plotting functions have a **dataset-oriented API**. <br>\n",
    "Seaborn takes dataframes as input to create graphs.\n",
    "\n",
    "Here are commonly used parameters in seaborn plots.\n",
    "- `data`: Input dataframe to create plot\n",
    "- `x`, `y`: Variables to use as x, y axis\n",
    "- `hue`, `fill`: Grouping/id variable that will produce plots with different colors"
   ]
  },
  {
   "cell_type": "code",
   "execution_count": 73,
   "metadata": {
    "id": "iHkwZIsgJZb6"
   },
   "outputs": [
    {
     "data": {
      "image/png": "[encoded data removed]",
      "text/plain": [
       "<Figure size 640x480 with 1 Axes>"
      ]
     },
     "metadata": {},
     "output_type": "display_data"
    }
   ],
   "source": [
    "# Plot the distribution of players' skill score using sns.kdeplot\n",
    "sns.kdeplot(data=players_df, x=\"skill\", fill=\"skill\")\n",
    "plt.title(\"Distribution of players skills\")\n",
    "plt.show()"
   ]
  },
  {
   "cell_type": "code",
   "execution_count": 74,
   "metadata": {
    "colab": {
     "base_uri": "https://localhost:8080/",
     "height": 472
    },
    "executionInfo": {
     "elapsed": 312,
     "status": "ok",
     "timestamp": 1692394533768,
     "user": {
      "displayName": "laurene david",
      "userId": "12504925674923465673"
     },
     "user_tz": -120
    },
    "id": "kjiVLueNIIpt",
    "outputId": "3e509e94-76f7-4c3b-ac84-73d0bbf855f0"
   },
   "outputs": [
    {
     "data": {
      "text/html": [
       "<div>\n",
       "<style scoped>\n",
       "    .dataframe tbody tr th:only-of-type {\n",
       "        vertical-align: middle;\n",
       "    }\n",
       "\n",
       "    .dataframe tbody tr th {\n",
       "        vertical-align: top;\n",
       "    }\n",
       "\n",
       "    .dataframe thead th {\n",
       "        text-align: right;\n",
       "    }\n",
       "</style>\n",
       "<table border=\"1\" class=\"dataframe\">\n",
       "  <thead>\n",
       "    <tr style=\"text-align: right;\">\n",
       "      <th></th>\n",
       "      <th>main_position</th>\n",
       "      <th>height_cm</th>\n",
       "    </tr>\n",
       "  </thead>\n",
       "  <tbody>\n",
       "    <tr>\n",
       "      <th>0</th>\n",
       "      <td>Attack</td>\n",
       "      <td>178.203223</td>\n",
       "    </tr>\n",
       "    <tr>\n",
       "      <th>1</th>\n",
       "      <td>Defense</td>\n",
       "      <td>176.248549</td>\n",
       "    </tr>\n",
       "    <tr>\n",
       "      <th>2</th>\n",
       "      <td>Goalkeeper</td>\n",
       "      <td>186.494730</td>\n",
       "    </tr>\n",
       "    <tr>\n",
       "      <th>3</th>\n",
       "      <td>Midfield</td>\n",
       "      <td>179.677931</td>\n",
       "    </tr>\n",
       "  </tbody>\n",
       "</table>\n",
       "</div>"
      ],
      "text/plain": [
       "  main_position   height_cm\n",
       "0        Attack  178.203223\n",
       "1       Defense  176.248549\n",
       "2    Goalkeeper  186.494730\n",
       "3      Midfield  179.677931"
      ]
     },
     "execution_count": 74,
     "metadata": {},
     "output_type": "execute_result"
    }
   ],
   "source": [
    "# Create a bar plot with the average height (in cm) of players per \"main_position\"\n",
    "\n",
    "# Step 1: Build a summary dataframe to compute the median age per main position\n",
    "df_height_position = players_df.groupby(\"main_position\")[\"height_cm\"].mean()\n",
    "df_height_position = df_height_position.to_frame().reset_index()\n",
    "df_height_position"
   ]
  },
  {
   "cell_type": "markdown",
   "metadata": {},
   "source": [
    "*`.to_frame()` was used to convert the pandas series into a dataframe.* \n",
    "\n",
    "*`reset.index` was used create a column for \"main_position\", which was originally in the index.*"
   ]
  },
  {
   "cell_type": "code",
   "execution_count": 75,
   "metadata": {},
   "outputs": [
    {
     "data": {
      "image/png": "[encoded data removed]",
      "text/plain": [
       "<Figure size 640x480 with 1 Axes>"
      ]
     },
     "metadata": {},
     "output_type": "display_data"
    }
   ],
   "source": [
    "# Step 2: Create a bar plot with the df_count_position\n",
    "sns.barplot(data=df_height_position, x=\"main_position\", y=\"height_cm\", hue=\"main_position\")\n",
    "plt.title(\"Average height per player position\")\n",
    "plt.show()"
   ]
  },
  {
   "cell_type": "markdown",
   "metadata": {
    "id": "PyufvdQ4RAqa"
   },
   "source": [
    "Python has other **data visualization frameworks** for more advanced visualization tasks\n",
    "- **Plotly**: Data visualization library with interactive plots\n",
    "- **[Dash](https://plotly.com/examples/)/[Streamlit](https://streamlit.io/gallery)**: Build interactive web applications and data dashboards\n",
    "\n"
   ]
  },
  {
   "cell_type": "markdown",
   "metadata": {},
   "source": [
    "##  <font color='#023F7C'>**2.4 Training exercices**</font>\n",
    "\n",
    "This section contains exercices for you to apply what you have learned about **numpy** and **pandas** and **matplotlib** in today's course. <br>\n",
    "The `players_df` dataframe with football player data will be used for these exercices.\n",
    "\n",
    "<br>\n",
    "\n",
    "<img src = https://cdn-icons-png.flaticon.com/512/1099/1099672.png width = \"200\" height = \"200\" >\n"
   ]
  },
  {
   "cell_type": "code",
   "execution_count": 76,
   "metadata": {},
   "outputs": [
    {
     "data": {
      "text/html": [
       "<div>\n",
       "<style scoped>\n",
       "    .dataframe tbody tr th:only-of-type {\n",
       "        vertical-align: middle;\n",
       "    }\n",
       "\n",
       "    .dataframe tbody tr th {\n",
       "        vertical-align: top;\n",
       "    }\n",
       "\n",
       "    .dataframe thead th {\n",
       "        text-align: right;\n",
       "    }\n",
       "</style>\n",
       "<table border=\"1\" class=\"dataframe\">\n",
       "  <thead>\n",
       "    <tr style=\"text-align: right;\">\n",
       "      <th></th>\n",
       "      <th>Gender</th>\n",
       "      <th>Year</th>\n",
       "      <th>main_position</th>\n",
       "      <th>wage_eur</th>\n",
       "      <th>age</th>\n",
       "      <th>height_cm</th>\n",
       "      <th>league_country</th>\n",
       "      <th>weight_kg</th>\n",
       "      <th>league_level</th>\n",
       "      <th>national_team</th>\n",
       "      <th>preferred_foot</th>\n",
       "      <th>international_reputation</th>\n",
       "      <th>attacking</th>\n",
       "      <th>defending</th>\n",
       "      <th>goalkeeping</th>\n",
       "      <th>mentality</th>\n",
       "      <th>movement</th>\n",
       "      <th>power</th>\n",
       "      <th>skill</th>\n",
       "      <th>height_foot</th>\n",
       "    </tr>\n",
       "  </thead>\n",
       "  <tbody>\n",
       "    <tr>\n",
       "      <th>0</th>\n",
       "      <td>Female</td>\n",
       "      <td>2023</td>\n",
       "      <td>Goalkeeper</td>\n",
       "      <td>750.0</td>\n",
       "      <td>24</td>\n",
       "      <td>180</td>\n",
       "      <td>France</td>\n",
       "      <td>72</td>\n",
       "      <td>1.0</td>\n",
       "      <td>Other</td>\n",
       "      <td>NaN</td>\n",
       "      <td>1</td>\n",
       "      <td>NaN</td>\n",
       "      <td>20.444444</td>\n",
       "      <td>72.833333</td>\n",
       "      <td>26.277778</td>\n",
       "      <td>51.0</td>\n",
       "      <td>49.466667</td>\n",
       "      <td>17.222222</td>\n",
       "      <td>5.905512</td>\n",
       "    </tr>\n",
       "    <tr>\n",
       "      <th>1</th>\n",
       "      <td>Male</td>\n",
       "      <td>2023</td>\n",
       "      <td>Midfield</td>\n",
       "      <td>5000.0</td>\n",
       "      <td>29</td>\n",
       "      <td>174</td>\n",
       "      <td>Belgium</td>\n",
       "      <td>74</td>\n",
       "      <td>1.0</td>\n",
       "      <td>Other</td>\n",
       "      <td>Right</td>\n",
       "      <td>1</td>\n",
       "      <td>44.4</td>\n",
       "      <td>56.750000</td>\n",
       "      <td>8.400000</td>\n",
       "      <td>53.500000</td>\n",
       "      <td>59.4</td>\n",
       "      <td>57.000000</td>\n",
       "      <td>44.833333</td>\n",
       "      <td>5.708661</td>\n",
       "    </tr>\n",
       "    <tr>\n",
       "      <th>2</th>\n",
       "      <td>Male</td>\n",
       "      <td>2023</td>\n",
       "      <td>Defense</td>\n",
       "      <td>4000.0</td>\n",
       "      <td>24</td>\n",
       "      <td>181</td>\n",
       "      <td>Netherlands</td>\n",
       "      <td>76</td>\n",
       "      <td>1.0</td>\n",
       "      <td>Netherlands</td>\n",
       "      <td>Left</td>\n",
       "      <td>1</td>\n",
       "      <td>57.8</td>\n",
       "      <td>61.750000</td>\n",
       "      <td>10.200000</td>\n",
       "      <td>60.500000</td>\n",
       "      <td>67.2</td>\n",
       "      <td>66.600000</td>\n",
       "      <td>50.833333</td>\n",
       "      <td>5.938320</td>\n",
       "    </tr>\n",
       "    <tr>\n",
       "      <th>3</th>\n",
       "      <td>Male</td>\n",
       "      <td>2023</td>\n",
       "      <td>Attack</td>\n",
       "      <td>5000.0</td>\n",
       "      <td>30</td>\n",
       "      <td>186</td>\n",
       "      <td>England</td>\n",
       "      <td>78</td>\n",
       "      <td>4.0</td>\n",
       "      <td>England</td>\n",
       "      <td>NaN</td>\n",
       "      <td>1</td>\n",
       "      <td>NaN</td>\n",
       "      <td>22.000000</td>\n",
       "      <td>11.200000</td>\n",
       "      <td>52.833333</td>\n",
       "      <td>65.1</td>\n",
       "      <td>68.300000</td>\n",
       "      <td>42.000000</td>\n",
       "      <td>6.102362</td>\n",
       "    </tr>\n",
       "    <tr>\n",
       "      <th>4</th>\n",
       "      <td>Male</td>\n",
       "      <td>2024</td>\n",
       "      <td>Midfield</td>\n",
       "      <td>2000.0</td>\n",
       "      <td>24</td>\n",
       "      <td>181</td>\n",
       "      <td>England</td>\n",
       "      <td>73</td>\n",
       "      <td>1.0</td>\n",
       "      <td>Other</td>\n",
       "      <td>Right</td>\n",
       "      <td>1</td>\n",
       "      <td>60.0</td>\n",
       "      <td>59.250000</td>\n",
       "      <td>10.200000</td>\n",
       "      <td>62.333333</td>\n",
       "      <td>67.2</td>\n",
       "      <td>71.600000</td>\n",
       "      <td>54.500000</td>\n",
       "      <td>5.938320</td>\n",
       "    </tr>\n",
       "    <tr>\n",
       "      <th>...</th>\n",
       "      <td>...</td>\n",
       "      <td>...</td>\n",
       "      <td>...</td>\n",
       "      <td>...</td>\n",
       "      <td>...</td>\n",
       "      <td>...</td>\n",
       "      <td>...</td>\n",
       "      <td>...</td>\n",
       "      <td>...</td>\n",
       "      <td>...</td>\n",
       "      <td>...</td>\n",
       "      <td>...</td>\n",
       "      <td>...</td>\n",
       "      <td>...</td>\n",
       "      <td>...</td>\n",
       "      <td>...</td>\n",
       "      <td>...</td>\n",
       "      <td>...</td>\n",
       "      <td>...</td>\n",
       "      <td>...</td>\n",
       "    </tr>\n",
       "    <tr>\n",
       "      <th>13294</th>\n",
       "      <td>Male</td>\n",
       "      <td>2024</td>\n",
       "      <td>Defense</td>\n",
       "      <td>2000.0</td>\n",
       "      <td>23</td>\n",
       "      <td>181</td>\n",
       "      <td>France</td>\n",
       "      <td>71</td>\n",
       "      <td>2.0</td>\n",
       "      <td>Other</td>\n",
       "      <td>NaN</td>\n",
       "      <td>1</td>\n",
       "      <td>47.0</td>\n",
       "      <td>61.000000</td>\n",
       "      <td>12.000000</td>\n",
       "      <td>52.000000</td>\n",
       "      <td>63.0</td>\n",
       "      <td>47.400000</td>\n",
       "      <td>44.500000</td>\n",
       "      <td>5.938320</td>\n",
       "    </tr>\n",
       "    <tr>\n",
       "      <th>13295</th>\n",
       "      <td>Female</td>\n",
       "      <td>2024</td>\n",
       "      <td>Attack</td>\n",
       "      <td>850.0</td>\n",
       "      <td>27</td>\n",
       "      <td>165</td>\n",
       "      <td>Spain</td>\n",
       "      <td>59</td>\n",
       "      <td>1.0</td>\n",
       "      <td>Norway</td>\n",
       "      <td>NaN</td>\n",
       "      <td>1</td>\n",
       "      <td>NaN</td>\n",
       "      <td>60.300000</td>\n",
       "      <td>12.280000</td>\n",
       "      <td>62.333333</td>\n",
       "      <td>68.8</td>\n",
       "      <td>68.320000</td>\n",
       "      <td>59.266667</td>\n",
       "      <td>5.413386</td>\n",
       "    </tr>\n",
       "    <tr>\n",
       "      <th>13296</th>\n",
       "      <td>Male</td>\n",
       "      <td>2023</td>\n",
       "      <td>Midfield</td>\n",
       "      <td>2000.0</td>\n",
       "      <td>24</td>\n",
       "      <td>188</td>\n",
       "      <td>England</td>\n",
       "      <td>75</td>\n",
       "      <td>1.0</td>\n",
       "      <td>Germany</td>\n",
       "      <td>Right</td>\n",
       "      <td>1</td>\n",
       "      <td>49.8</td>\n",
       "      <td>64.250000</td>\n",
       "      <td>10.800000</td>\n",
       "      <td>58.416667</td>\n",
       "      <td>59.6</td>\n",
       "      <td>68.800000</td>\n",
       "      <td>43.083333</td>\n",
       "      <td>6.167979</td>\n",
       "    </tr>\n",
       "    <tr>\n",
       "      <th>13297</th>\n",
       "      <td>Male</td>\n",
       "      <td>2024</td>\n",
       "      <td>Goalkeeper</td>\n",
       "      <td>500.0</td>\n",
       "      <td>22</td>\n",
       "      <td>188</td>\n",
       "      <td>Spain</td>\n",
       "      <td>78</td>\n",
       "      <td>3.0</td>\n",
       "      <td>Other</td>\n",
       "      <td>NaN</td>\n",
       "      <td>1</td>\n",
       "      <td>NaN</td>\n",
       "      <td>10.333333</td>\n",
       "      <td>53.833333</td>\n",
       "      <td>17.833333</td>\n",
       "      <td>32.0</td>\n",
       "      <td>34.000000</td>\n",
       "      <td>12.000000</td>\n",
       "      <td>6.167979</td>\n",
       "    </tr>\n",
       "    <tr>\n",
       "      <th>13298</th>\n",
       "      <td>Male</td>\n",
       "      <td>2024</td>\n",
       "      <td>Defense</td>\n",
       "      <td>3000.0</td>\n",
       "      <td>25</td>\n",
       "      <td>180</td>\n",
       "      <td>England</td>\n",
       "      <td>78</td>\n",
       "      <td>4.0</td>\n",
       "      <td>Other</td>\n",
       "      <td>NaN</td>\n",
       "      <td>1</td>\n",
       "      <td>42.4</td>\n",
       "      <td>58.750000</td>\n",
       "      <td>8.800000</td>\n",
       "      <td>49.500000</td>\n",
       "      <td>67.4</td>\n",
       "      <td>55.800000</td>\n",
       "      <td>44.333333</td>\n",
       "      <td>5.905512</td>\n",
       "    </tr>\n",
       "  </tbody>\n",
       "</table>\n",
       "<p>13299 rows × 20 columns</p>\n",
       "</div>"
      ],
      "text/plain": [
       "       Gender  Year main_position  wage_eur  age  height_cm league_country  \\\n",
       "0      Female  2023    Goalkeeper     750.0   24        180         France   \n",
       "1        Male  2023      Midfield    5000.0   29        174        Belgium   \n",
       "2        Male  2023       Defense    4000.0   24        181    Netherlands   \n",
       "3        Male  2023        Attack    5000.0   30        186        England   \n",
       "4        Male  2024      Midfield    2000.0   24        181        England   \n",
       "...       ...   ...           ...       ...  ...        ...            ...   \n",
       "13294    Male  2024       Defense    2000.0   23        181         France   \n",
       "13295  Female  2024        Attack     850.0   27        165          Spain   \n",
       "13296    Male  2023      Midfield    2000.0   24        188        England   \n",
       "13297    Male  2024    Goalkeeper     500.0   22        188          Spain   \n",
       "13298    Male  2024       Defense    3000.0   25        180        England   \n",
       "\n",
       "       weight_kg  league_level national_team preferred_foot  \\\n",
       "0             72           1.0         Other            NaN   \n",
       "1             74           1.0         Other          Right   \n",
       "2             76           1.0   Netherlands           Left   \n",
       "3             78           4.0       England            NaN   \n",
       "4             73           1.0         Other          Right   \n",
       "...          ...           ...           ...            ...   \n",
       "13294         71           2.0         Other            NaN   \n",
       "13295         59           1.0        Norway            NaN   \n",
       "13296         75           1.0       Germany          Right   \n",
       "13297         78           3.0         Other            NaN   \n",
       "13298         78           4.0         Other            NaN   \n",
       "\n",
       "       international_reputation  attacking  defending  goalkeeping  mentality  \\\n",
       "0                             1        NaN  20.444444    72.833333  26.277778   \n",
       "1                             1       44.4  56.750000     8.400000  53.500000   \n",
       "2                             1       57.8  61.750000    10.200000  60.500000   \n",
       "3                             1        NaN  22.000000    11.200000  52.833333   \n",
       "4                             1       60.0  59.250000    10.200000  62.333333   \n",
       "...                         ...        ...        ...          ...        ...   \n",
       "13294                         1       47.0  61.000000    12.000000  52.000000   \n",
       "13295                         1        NaN  60.300000    12.280000  62.333333   \n",
       "13296                         1       49.8  64.250000    10.800000  58.416667   \n",
       "13297                         1        NaN  10.333333    53.833333  17.833333   \n",
       "13298                         1       42.4  58.750000     8.800000  49.500000   \n",
       "\n",
       "       movement      power      skill  height_foot  \n",
       "0          51.0  49.466667  17.222222     5.905512  \n",
       "1          59.4  57.000000  44.833333     5.708661  \n",
       "2          67.2  66.600000  50.833333     5.938320  \n",
       "3          65.1  68.300000  42.000000     6.102362  \n",
       "4          67.2  71.600000  54.500000     5.938320  \n",
       "...         ...        ...        ...          ...  \n",
       "13294      63.0  47.400000  44.500000     5.938320  \n",
       "13295      68.8  68.320000  59.266667     5.413386  \n",
       "13296      59.6  68.800000  43.083333     6.167979  \n",
       "13297      32.0  34.000000  12.000000     6.167979  \n",
       "13298      67.4  55.800000  44.333333     5.905512  \n",
       "\n",
       "[13299 rows x 20 columns]"
      ]
     },
     "execution_count": 76,
     "metadata": {},
     "output_type": "execute_result"
    }
   ],
   "source": [
    "players_df"
   ]
  },
  {
   "cell_type": "markdown",
   "metadata": {},
   "source": [
    "<br>\n",
    "\n",
    "<font color='#023F7C' size=4>**Question 1 📝**</font><br>\n",
    "The `players_df` dataframe has missing values in two variables:\n",
    "- Replace them in `attacking` with the variable's mean value \n",
    "- Replace them in `preferred_foot` with the most frequent value \n",
    "\n",
    "*Make sure these modifications are saved to the dataframe*"
   ]
  },
  {
   "cell_type": "code",
   "execution_count": 77,
   "metadata": {},
   "outputs": [],
   "source": [
    "# Replace the missing values in \"attacking\"\n",
    "mean_attacking = players_df[\"attacking\"].mean()\n",
    "players_df[\"attacking\"] = players_df[\"attacking\"].fillna(mean_attacking)"
   ]
  },
  {
   "cell_type": "code",
   "execution_count": 78,
   "metadata": {},
   "outputs": [],
   "source": [
    "# Replace the missing values in \"preferred_foot\"\n",
    "most_frequent_preferredfoot = players_df[\"preferred_foot\"].value_counts().index[0]\n",
    "players_df[\"preferred_foot\"] = players_df[\"preferred_foot\"].fillna(most_frequent_preferredfoot)"
   ]
  },
  {
   "cell_type": "markdown",
   "metadata": {},
   "source": [
    "<br>\n",
    "\n",
    "<font color='#023F7C' size=4>**Question 2 📝**</font><br>\n",
    "Build a dataframe with the frequency of each country in `league_country` <br>\n",
    "Then, use this dataframe to build a barplot.\n",
    "\n",
    "*Hint: You can convert a Series to a DataFrame using `.to_frame()`*"
   ]
  },
  {
   "cell_type": "code",
   "execution_count": 79,
   "metadata": {},
   "outputs": [
    {
     "data": {
      "text/html": [
       "<div>\n",
       "<style scoped>\n",
       "    .dataframe tbody tr th:only-of-type {\n",
       "        vertical-align: middle;\n",
       "    }\n",
       "\n",
       "    .dataframe tbody tr th {\n",
       "        vertical-align: top;\n",
       "    }\n",
       "\n",
       "    .dataframe thead th {\n",
       "        text-align: right;\n",
       "    }\n",
       "</style>\n",
       "<table border=\"1\" class=\"dataframe\">\n",
       "  <thead>\n",
       "    <tr style=\"text-align: right;\">\n",
       "      <th></th>\n",
       "      <th>league_country</th>\n",
       "      <th>count</th>\n",
       "    </tr>\n",
       "  </thead>\n",
       "  <tbody>\n",
       "    <tr>\n",
       "      <th>0</th>\n",
       "      <td>England</td>\n",
       "      <td>2458</td>\n",
       "    </tr>\n",
       "    <tr>\n",
       "      <th>1</th>\n",
       "      <td>Spain</td>\n",
       "      <td>1714</td>\n",
       "    </tr>\n",
       "    <tr>\n",
       "      <th>2</th>\n",
       "      <td>Other</td>\n",
       "      <td>1521</td>\n",
       "    </tr>\n",
       "    <tr>\n",
       "      <th>3</th>\n",
       "      <td>France</td>\n",
       "      <td>1228</td>\n",
       "    </tr>\n",
       "    <tr>\n",
       "      <th>4</th>\n",
       "      <td>Germany</td>\n",
       "      <td>1197</td>\n",
       "    </tr>\n",
       "    <tr>\n",
       "      <th>5</th>\n",
       "      <td>Italy</td>\n",
       "      <td>918</td>\n",
       "    </tr>\n",
       "    <tr>\n",
       "      <th>6</th>\n",
       "      <td>Argentina</td>\n",
       "      <td>898</td>\n",
       "    </tr>\n",
       "    <tr>\n",
       "      <th>7</th>\n",
       "      <td>United States</td>\n",
       "      <td>828</td>\n",
       "    </tr>\n",
       "    <tr>\n",
       "      <th>8</th>\n",
       "      <td>Belgium</td>\n",
       "      <td>653</td>\n",
       "    </tr>\n",
       "    <tr>\n",
       "      <th>9</th>\n",
       "      <td>Netherlands</td>\n",
       "      <td>601</td>\n",
       "    </tr>\n",
       "    <tr>\n",
       "      <th>10</th>\n",
       "      <td>Turkey</td>\n",
       "      <td>357</td>\n",
       "    </tr>\n",
       "    <tr>\n",
       "      <th>11</th>\n",
       "      <td>Poland</td>\n",
       "      <td>322</td>\n",
       "    </tr>\n",
       "    <tr>\n",
       "      <th>12</th>\n",
       "      <td>Portugal</td>\n",
       "      <td>314</td>\n",
       "    </tr>\n",
       "    <tr>\n",
       "      <th>13</th>\n",
       "      <td>Sweden</td>\n",
       "      <td>290</td>\n",
       "    </tr>\n",
       "  </tbody>\n",
       "</table>\n",
       "</div>"
      ],
      "text/plain": [
       "   league_country  count\n",
       "0         England   2458\n",
       "1           Spain   1714\n",
       "2           Other   1521\n",
       "3          France   1228\n",
       "4         Germany   1197\n",
       "5           Italy    918\n",
       "6       Argentina    898\n",
       "7   United States    828\n",
       "8         Belgium    653\n",
       "9     Netherlands    601\n",
       "10         Turkey    357\n",
       "11         Poland    322\n",
       "12       Portugal    314\n",
       "13         Sweden    290"
      ]
     },
     "execution_count": 79,
     "metadata": {},
     "output_type": "execute_result"
    }
   ],
   "source": [
    "# Build the dataframe\n",
    "df_count_leaguecountry = players_df[\"league_country\"].value_counts().to_frame().reset_index()\n",
    "df_count_leaguecountry"
   ]
  },
  {
   "cell_type": "code",
   "execution_count": 80,
   "metadata": {},
   "outputs": [
    {
     "data": {
      "image/png": "[encoded data removed]",
      "text/plain": [
       "<Figure size 1500x600 with 1 Axes>"
      ]
     },
     "metadata": {},
     "output_type": "display_data"
    }
   ],
   "source": [
    "# Create the bar plot \n",
    "fig, ax = plt.subplots(figsize=(15, 6))\n",
    "sns.barplot(data=df_count_leaguecountry, y=\"count\", x=\"league_country\")\n",
    "plt.show()"
   ]
  },
  {
   "cell_type": "markdown",
   "metadata": {},
   "source": [
    "<br>\n",
    "\n",
    "<font color='#023F7C' size=4>**Question 3 📝**</font><br>\n",
    "Do the same thing as Question 2 but plot the percentage (%) instead of the frequency.\n",
    "\n",
    "*Hint: You can create a new column with the percentage values*"
   ]
  },
  {
   "cell_type": "code",
   "execution_count": 81,
   "metadata": {},
   "outputs": [
    {
     "data": {
      "text/html": [
       "<div>\n",
       "<style scoped>\n",
       "    .dataframe tbody tr th:only-of-type {\n",
       "        vertical-align: middle;\n",
       "    }\n",
       "\n",
       "    .dataframe tbody tr th {\n",
       "        vertical-align: top;\n",
       "    }\n",
       "\n",
       "    .dataframe thead th {\n",
       "        text-align: right;\n",
       "    }\n",
       "</style>\n",
       "<table border=\"1\" class=\"dataframe\">\n",
       "  <thead>\n",
       "    <tr style=\"text-align: right;\">\n",
       "      <th></th>\n",
       "      <th>league_country</th>\n",
       "      <th>count</th>\n",
       "      <th>percentage</th>\n",
       "    </tr>\n",
       "  </thead>\n",
       "  <tbody>\n",
       "    <tr>\n",
       "      <th>0</th>\n",
       "      <td>England</td>\n",
       "      <td>2458</td>\n",
       "      <td>18.5</td>\n",
       "    </tr>\n",
       "    <tr>\n",
       "      <th>1</th>\n",
       "      <td>Spain</td>\n",
       "      <td>1714</td>\n",
       "      <td>12.9</td>\n",
       "    </tr>\n",
       "    <tr>\n",
       "      <th>2</th>\n",
       "      <td>Other</td>\n",
       "      <td>1521</td>\n",
       "      <td>11.4</td>\n",
       "    </tr>\n",
       "    <tr>\n",
       "      <th>3</th>\n",
       "      <td>France</td>\n",
       "      <td>1228</td>\n",
       "      <td>9.2</td>\n",
       "    </tr>\n",
       "    <tr>\n",
       "      <th>4</th>\n",
       "      <td>Germany</td>\n",
       "      <td>1197</td>\n",
       "      <td>9.0</td>\n",
       "    </tr>\n",
       "    <tr>\n",
       "      <th>5</th>\n",
       "      <td>Italy</td>\n",
       "      <td>918</td>\n",
       "      <td>6.9</td>\n",
       "    </tr>\n",
       "    <tr>\n",
       "      <th>6</th>\n",
       "      <td>Argentina</td>\n",
       "      <td>898</td>\n",
       "      <td>6.8</td>\n",
       "    </tr>\n",
       "    <tr>\n",
       "      <th>7</th>\n",
       "      <td>United States</td>\n",
       "      <td>828</td>\n",
       "      <td>6.2</td>\n",
       "    </tr>\n",
       "    <tr>\n",
       "      <th>8</th>\n",
       "      <td>Belgium</td>\n",
       "      <td>653</td>\n",
       "      <td>4.9</td>\n",
       "    </tr>\n",
       "    <tr>\n",
       "      <th>9</th>\n",
       "      <td>Netherlands</td>\n",
       "      <td>601</td>\n",
       "      <td>4.5</td>\n",
       "    </tr>\n",
       "    <tr>\n",
       "      <th>10</th>\n",
       "      <td>Turkey</td>\n",
       "      <td>357</td>\n",
       "      <td>2.7</td>\n",
       "    </tr>\n",
       "    <tr>\n",
       "      <th>11</th>\n",
       "      <td>Poland</td>\n",
       "      <td>322</td>\n",
       "      <td>2.4</td>\n",
       "    </tr>\n",
       "    <tr>\n",
       "      <th>12</th>\n",
       "      <td>Portugal</td>\n",
       "      <td>314</td>\n",
       "      <td>2.4</td>\n",
       "    </tr>\n",
       "    <tr>\n",
       "      <th>13</th>\n",
       "      <td>Sweden</td>\n",
       "      <td>290</td>\n",
       "      <td>2.2</td>\n",
       "    </tr>\n",
       "  </tbody>\n",
       "</table>\n",
       "</div>"
      ],
      "text/plain": [
       "   league_country  count  percentage\n",
       "0         England   2458        18.5\n",
       "1           Spain   1714        12.9\n",
       "2           Other   1521        11.4\n",
       "3          France   1228         9.2\n",
       "4         Germany   1197         9.0\n",
       "5           Italy    918         6.9\n",
       "6       Argentina    898         6.8\n",
       "7   United States    828         6.2\n",
       "8         Belgium    653         4.9\n",
       "9     Netherlands    601         4.5\n",
       "10         Turkey    357         2.7\n",
       "11         Poland    322         2.4\n",
       "12       Portugal    314         2.4\n",
       "13         Sweden    290         2.2"
      ]
     },
     "execution_count": 81,
     "metadata": {},
     "output_type": "execute_result"
    }
   ],
   "source": [
    "# Add a percentage column to the dataframe\n",
    "df_count_leaguecountry[\"percentage\"] = np.round(100*(df_count_leaguecountry[\"count\"]/len(players_df)),1)\n",
    "df_count_leaguecountry"
   ]
  },
  {
   "cell_type": "code",
   "execution_count": 93,
   "metadata": {},
   "outputs": [
    {
     "data": {
      "image/png": "[encoded data removed]",
      "text/plain": [
       "<Figure size 1500x600 with 1 Axes>"
      ]
     },
     "metadata": {},
     "output_type": "display_data"
    }
   ],
   "source": [
    "# Create a bar plot with the percentage column\n",
    "plt.figure(figsize=(15, 6))\n",
    "sns.barplot(data=df_count_leaguecountry, x=\"league_country\", y=\"percentage\")\n",
    "plt.show()"
   ]
  },
  {
   "cell_type": "markdown",
   "metadata": {},
   "source": [
    "<br>\n",
    "\n",
    "<font color='#023F7C' size=4>**Question 4 📝**</font><br>\n",
    "Remove players/rows from `players_df` whose wage is above the third quartile (75%) of `wage_eur`."
   ]
  },
  {
   "cell_type": "code",
   "execution_count": 83,
   "metadata": {},
   "outputs": [
    {
     "data": {
      "text/plain": [
       "count     13299.000000\n",
       "mean       6991.920445\n",
       "std       14528.393610\n",
       "min         500.000000\n",
       "25%         800.000000\n",
       "50%        2000.000000\n",
       "75%        6000.000000\n",
       "max      450000.000000\n",
       "Name: wage_eur, dtype: float64"
      ]
     },
     "execution_count": 83,
     "metadata": {},
     "output_type": "execute_result"
    }
   ],
   "source": [
    "# Get the third quartile of the wage_eur column\n",
    "players_df[\"wage_eur\"].describe()"
   ]
  },
  {
   "cell_type": "code",
   "execution_count": 84,
   "metadata": {},
   "outputs": [],
   "source": [
    "# Remove outliers from players_df\n",
    "players_df = players_df.loc[players_df[\"wage_eur\"]<=6000]"
   ]
  },
  {
   "cell_type": "markdown",
   "metadata": {},
   "source": [
    "<br>\n",
    "\n",
    "<font color='#023F7C' size=4>**Question 5 📝**</font><br>\n",
    "Create a dataframe with the average wage of players based on `Gender` and `Year`. <br>\n",
    "Then, plot the average wage of players based on Gender and Year"
   ]
  },
  {
   "cell_type": "code",
   "execution_count": 85,
   "metadata": {},
   "outputs": [
    {
     "data": {
      "text/html": [
       "<div>\n",
       "<style scoped>\n",
       "    .dataframe tbody tr th:only-of-type {\n",
       "        vertical-align: middle;\n",
       "    }\n",
       "\n",
       "    .dataframe tbody tr th {\n",
       "        vertical-align: top;\n",
       "    }\n",
       "\n",
       "    .dataframe thead th {\n",
       "        text-align: right;\n",
       "    }\n",
       "</style>\n",
       "<table border=\"1\" class=\"dataframe\">\n",
       "  <thead>\n",
       "    <tr style=\"text-align: right;\">\n",
       "      <th></th>\n",
       "      <th>Gender</th>\n",
       "      <th>Year</th>\n",
       "      <th>wage_eur</th>\n",
       "    </tr>\n",
       "  </thead>\n",
       "  <tbody>\n",
       "    <tr>\n",
       "      <th>0</th>\n",
       "      <td>Female</td>\n",
       "      <td>2023</td>\n",
       "      <td>822.972973</td>\n",
       "    </tr>\n",
       "    <tr>\n",
       "      <th>1</th>\n",
       "      <td>Female</td>\n",
       "      <td>2024</td>\n",
       "      <td>720.714701</td>\n",
       "    </tr>\n",
       "    <tr>\n",
       "      <th>2</th>\n",
       "      <td>Male</td>\n",
       "      <td>2023</td>\n",
       "      <td>2232.503098</td>\n",
       "    </tr>\n",
       "    <tr>\n",
       "      <th>3</th>\n",
       "      <td>Male</td>\n",
       "      <td>2024</td>\n",
       "      <td>2241.849935</td>\n",
       "    </tr>\n",
       "  </tbody>\n",
       "</table>\n",
       "</div>"
      ],
      "text/plain": [
       "   Gender  Year     wage_eur\n",
       "0  Female  2023   822.972973\n",
       "1  Female  2024   720.714701\n",
       "2    Male  2023  2232.503098\n",
       "3    Male  2024  2241.849935"
      ]
     },
     "execution_count": 85,
     "metadata": {},
     "output_type": "execute_result"
    }
   ],
   "source": [
    "# Create the dataframe\n",
    "df_wage_gender_year = players_df.groupby([\"Gender\",\"Year\"])[\"wage_eur\"].mean().to_frame().reset_index()\n",
    "df_wage_gender_year"
   ]
  },
  {
   "cell_type": "code",
   "execution_count": 86,
   "metadata": {
    "tags": []
   },
   "outputs": [
    {
     "data": {
      "image/png": "[encoded data removed]",
      "text/plain": [
       "<Figure size 640x480 with 1 Axes>"
      ]
     },
     "metadata": {},
     "output_type": "display_data"
    }
   ],
   "source": [
    "# Plot the average wage of players based on Gender and Year\n",
    "sns.barplot(data=df_wage_gender_year, x=\"Gender\", y=\"wage_eur\", hue=\"Year\") \n",
    "plt.show()"
   ]
  },
  {
   "cell_type": "markdown",
   "metadata": {},
   "source": [
    "<br>\n",
    "\n",
    "<font color='#023F7C' size=4>**Question 6 📝**</font><br>\n",
    "Normaly for machine learning algorithms, string (categorical) values are replaced by numbers. You would learn more about this in future courses. <br>\n",
    "In this excercise, Create a new column `country_rank` and replace each country in `league_country` with their frequency ranking in this column. <br>\n",
    "For example, you replace `England` by `1`, `Spain` by `2` and so on. <br>\n",
    "Then follow the `Question 2` to build a barplot to check whether you correctly replace names with frequeny ranking. <br>"
   ]
  },
  {
   "cell_type": "code",
   "execution_count": 87,
   "metadata": {},
   "outputs": [],
   "source": [
    "country_counts = players_df['league_country'].value_counts()\n",
    "country_ranks = country_counts.rank(method='dense', ascending=False).astype(int)\n",
    "players_df['country_rank'] = players_df['league_country'].map(country_ranks)"
   ]
  },
  {
   "cell_type": "code",
   "execution_count": 94,
   "metadata": {},
   "outputs": [
    {
     "data": {
      "image/png": "[encoded data removed]",
      "text/plain": [
       "<Figure size 1500x600 with 1 Axes>"
      ]
     },
     "metadata": {},
     "output_type": "display_data"
    }
   ],
   "source": [
    "df_rank_country = players_df[\"country_rank\"].value_counts().to_frame().reset_index()\n",
    "# Create the bar plot \n",
    "plt.figure(figsize=(15, 6))\n",
    "sns.barplot(data=df_rank_country, y=\"count\", x=\"country_rank\")\n",
    "plt.show()"
   ]
  },
  {
   "cell_type": "markdown",
   "metadata": {},
   "source": [
    "<br>\n",
    "\n",
    "<font color='#023F7C' size=4>**Question 7 📝**</font><br>\n",
    "Understanding the distribution of your data, especially for numerical features, is a \n",
    "critical step in the exploratory data analysis (EDA) phase. <br>\n",
    "Now divide the `power` feature into `5 windows (bins)`, <br>\n",
    "calculate the `frequency` of each bin <br>\n",
    "and build a `barplot` to verify the distribution of data."
   ]
  },
  {
   "cell_type": "code",
   "execution_count": 89,
   "metadata": {},
   "outputs": [
    {
     "data": {
      "image/png": "[encoded data removed]",
      "text/plain": [
       "<Figure size 1000x600 with 1 Axes>"
      ]
     },
     "metadata": {},
     "output_type": "display_data"
    }
   ],
   "source": [
    "# Divide the data into 5 equal-sized windows\n",
    "bins = pd.cut(players_df['power'], bins=5)\n",
    "\n",
    "# Calculate the frequency of each window\n",
    "frequency_distribution = bins.value_counts().sort_index().to_frame().reset_index()\n",
    "\n",
    "plt.figure(figsize=(10, 6))\n",
    "sns.barplot(data=frequency_distribution, y=\"count\", x=\"power\")\n",
    "plt.show()"
   ]
  },
  {
   "cell_type": "markdown",
   "metadata": {},
   "source": [
    "<br>\n",
    "\n",
    "<font color='#023F7C' size=4>**Question 8 📝**</font><br>\n",
    "From previous question, We get the notion that data is somewhat normally distributed. But the plot is not very clean.<br>\n",
    "Now plot a `histogram` with a `Kernel Density Estimate (KDE)` curve overlay to see the overall shape of the distribution "
   ]
  },
  {
   "cell_type": "code",
   "execution_count": 90,
   "metadata": {},
   "outputs": [
    {
     "data": {
      "image/png": "[encoded data removed]",
      "text/plain": [
       "<Figure size 1000x600 with 1 Axes>"
      ]
     },
     "metadata": {},
     "output_type": "display_data"
    }
   ],
   "source": [
    "# Create the plot\n",
    "plt.figure(figsize=(10, 6))\n",
    "sns.histplot(players_df['power'], kde=True, bins=25)\n",
    "\n",
    "# Add title and labels\n",
    "plt.title('Distribution of Sample Data', fontsize=16)\n",
    "plt.xlabel('Value', fontsize=12)\n",
    "plt.ylabel('Frequency', fontsize=12)\n",
    "plt.show()"
   ]
  }
 ],
 "metadata": {
  "colab": {
   "provenance": []
  },
  "kernelspec": {
   "display_name": "Python 3",
   "language": "python",
   "name": "python3"
  },
  "language_info": {
   "codemirror_mode": {
    "name": "ipython",
    "version": 3
   },
   "file_extension": ".py",
   "mimetype": "text/x-python",
   "name": "python",
   "nbconvert_exporter": "python",
   "pygments_lexer": "ipython3",
   "version": "3.9.23"
  }
 },
 "nbformat": 4,
 "nbformat_minor": 4
}
