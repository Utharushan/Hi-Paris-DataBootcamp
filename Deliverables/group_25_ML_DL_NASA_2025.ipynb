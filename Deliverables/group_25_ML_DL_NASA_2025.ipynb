{
 "cells": [
  {
   "cell_type": "markdown",
   "metadata": {
    "id": "RgMyA5dmwFJO"
   },
   "source": [
    "# <font color=#023F7C> **Machine Learning and Deep Learning**\n",
    "\n",
    "---\n",
    "\n",
    "\n",
    "\n",
    "<font color=#023F7C>**Hi! PARIS DataBootcamp 2024 🚀**</font> <br>\n",
    "\n",
    "\n",
    "<img src = https://www.hi-paris.fr/wp-content/uploads/2020/09/logo-hi-paris-retina.png width = \"300\" height = \"200\" >\n",
    "\n",
    "\n",
    "**Name**: Nammous, Uthayakumar, Malapert, Contri, KUETE TSAYO             <br>\n",
    "**School**: HEC, IPP         <br>\n",
    "**Group number**: 25    <br>\n",
    "**Track**: Intermediate           <br>\n",
    "**Teaching Assistants**: Thibault Porssut and Farouk Kadri, Machine Learning Research Engineer @ Hi! PARIS"
   ]
  },
  {
   "cell_type": "markdown",
   "metadata": {
    "id": "epycO8NUwFJQ"
   },
   "source": [
    "# **1. Important guidelines**\n",
    "\n",
    "\n",
    "The RUL (Remaining Useful Life) refers to the remaining lifespan of an aircraft engine before failure. In the context of the NASA C-MAPSS dataset, this term represents the number of operational cycles an engine can still perform before breaking down. **The goal of this practical session** is to build a Machine Learning model that can p**redict this value using sensor data collected during previous cycles.**\n",
    "\n",
    "To achieve this goal, you are provided with three datasets: train_FD001.txt, test_FD001.txt, and RUL_FD001.txt, originating from the NASA C-MAPSS dataset. <br>\n",
    "These datasets contain sensor measurements and operational settings for multiple aircraft engines recorded over a series of operational cycles. Each engine is run until it fails, and the sensor data capture the degradation process over time. <br>\n",
    "The file RUL_FD001.txt contains the actual Remaining Useful Life (RUL) values for the engines in the test set at the point where the test data end.\n",
    "\n",
    "The variable to predict is RUL, which represents the number of operational cycles remaining before the engine fails."
   ]
  },
  {
   "cell_type": "markdown",
   "metadata": {
    "id": "yISGPg8WwFJQ"
   },
   "source": [
    "**<font size='5'><u>How to work on this notebook</u>**</font> <br>\n",
    "The notebook is split in two parts: Machine Learning and Deep Learning.\n",
    "\n",
    "- **Beginner track**: You only have to complete the Machine Learning and Deeep Learning section.\n",
    "- **Intermediate track**: Please complete Machine Learning, Deep Learning and the optional section."
   ]
  },
  {
   "cell_type": "markdown",
   "metadata": {
    "id": "SGP2HYohwFJR"
   },
   "source": [
    "**<font size='5'><u>Bootcamp deliverables</u>**</font> <br>\n",
    "\n",
    "Here are the two deadlines for the bootcamp deliverables:\n",
    "- <u>**Friday 12:30 PM**</u>: <br> Send us the \"Machine Learning and Deep Learning\" notebooks (no need to send us data cleaning) <br>\n",
    "    - **Each group member should send his own notebooks** (we won't accept one notebook per group)\n",
    "    - Don't forget to complete the start of the notebook with your information (name, school, group number and track)\n",
    "    \n",
    "- <u>**Friday 2:30PM**</u>: <br>Send us the group slides <br>\n",
    "    - You can send us a single powerpoint per group (no need to send us one per group member)\n",
    "    - Don't forget to add your group number as well as who is in your group (name, school and track) to the slides\n",
    "\n",
    "Send both the notebooks and the slides at `data-event@hi-paris.fr`"
   ]
  },
  {
   "cell_type": "markdown",
   "metadata": {
    "id": "1qfwFdDPwFJR"
   },
   "source": [
    "**<font size='5'><u>Need help ? 🙏</u>**</font> <br>\n",
    "\n",
    "We will drop later in the week to the Machine Learning course (Beginner track) on HFactory the `Machine_Learning_Beginner_DB2025.ipynb` notebook for those who need help with the Machine Learning part.\n",
    "\n",
    "**Don't hesitate to ask questions to the bootcamp organizers/staff members if you need help.**\n"
   ]
  },
  {
   "cell_type": "markdown",
   "metadata": {
    "id": "xCheKJQBwFJR"
   },
   "source": [
    "# **2. Machine Learning**\n",
    "\n",
    "Let's start by importing the libraries needed for this notebook."
   ]
  },
  {
   "cell_type": "code",
   "execution_count": 34,
   "metadata": {
    "executionInfo": {
     "elapsed": 1374,
     "status": "ok",
     "timestamp": 1755532025575,
     "user": {
      "displayName": "Thibault Porssut",
      "userId": "11631798829447041123"
     },
     "user_tz": -120
    },
    "id": "ZyhKqCkh5D8S",
    "tags": []
   },
   "outputs": [],
   "source": [
    "import pandas as pd\n",
    "import numpy as np\n",
    "import matplotlib.pyplot as plt\n",
    "import time"
   ]
  },
  {
   "cell_type": "markdown",
   "metadata": {
    "id": "XcOZ9GW8wFJS"
   },
   "source": [
    "Now load the train and test datasets using `pd.read_csv()`"
   ]
  },
  {
   "cell_type": "code",
   "execution_count": 35,
   "metadata": {
    "colab": {
     "base_uri": "https://localhost:8080/"
    },
    "executionInfo": {
     "elapsed": 829,
     "status": "ok",
     "timestamp": 1755532027894,
     "user": {
      "displayName": "Thibault Porssut",
      "userId": "11631798829447041123"
     },
     "user_tz": -120
    },
    "id": "dVLd2Z_jwFJT",
    "outputId": "c54ff7bc-5d9d-4f33-bb17-b30f5a3f7652",
    "tags": []
   },
   "outputs": [
    {
     "name": "stdout",
     "output_type": "stream",
     "text": [
      "Train shape: (18816, 28)\n",
      "Test shape: (12039, 28)\n"
     ]
    }
   ],
   "source": [
    "train_path =  '02_df_train_FD001_wo_nan_denoised.csv'\n",
    "test_path = '02_df_test_FD001_wo_nan_denoised.csv'\n",
    "\n",
    "# Train and test data.\n",
    "train_df = pd.read_csv(train_path)\n",
    "test_df = pd.read_csv(test_path)\n",
    "\n",
    "print(\"Train shape:\", train_df.shape)\n",
    "print(\"Test shape:\", test_df.shape)"
   ]
  },
  {
   "cell_type": "code",
   "execution_count": 36,
   "metadata": {},
   "outputs": [
    {
     "data": {
      "text/html": [
       "<div>\n",
       "<style scoped>\n",
       "    .dataframe tbody tr th:only-of-type {\n",
       "        vertical-align: middle;\n",
       "    }\n",
       "\n",
       "    .dataframe tbody tr th {\n",
       "        vertical-align: top;\n",
       "    }\n",
       "\n",
       "    .dataframe thead th {\n",
       "        text-align: right;\n",
       "    }\n",
       "</style>\n",
       "<table border=\"1\" class=\"dataframe\">\n",
       "  <thead>\n",
       "    <tr style=\"text-align: right;\">\n",
       "      <th></th>\n",
       "      <th>engine_unit_number</th>\n",
       "      <th>time_cycles</th>\n",
       "      <th>setting_1</th>\n",
       "      <th>setting_2</th>\n",
       "      <th>setting_3</th>\n",
       "      <th>Fan inlet temperature (°C)</th>\n",
       "      <th>LPC outlet temperature (°C)</th>\n",
       "      <th>HPC outlet temperature (°C)</th>\n",
       "      <th>LPT outlet temperature (°C)</th>\n",
       "      <th>Fan inlet pressure (bar)</th>\n",
       "      <th>...</th>\n",
       "      <th>Corrected core speed (rpm)</th>\n",
       "      <th>Bypass ratio (dimensionless)</th>\n",
       "      <th>Burner fuel-air ratio (mass ratio, dimensionless)</th>\n",
       "      <th>Bleed enthalpy (kJ/kg)</th>\n",
       "      <th>Demanded fan speed (rpm)</th>\n",
       "      <th>Demanded corrected fan speed (rpm)</th>\n",
       "      <th>HPT coolant bleed flow (kg/s)</th>\n",
       "      <th>LPT coolant bleed flow (kg/s)</th>\n",
       "      <th>RUL</th>\n",
       "      <th>RUL_class</th>\n",
       "    </tr>\n",
       "  </thead>\n",
       "  <tbody>\n",
       "    <tr>\n",
       "      <th>0</th>\n",
       "      <td>1</td>\n",
       "      <td>1</td>\n",
       "      <td>-0.0007</td>\n",
       "      <td>-0.0004</td>\n",
       "      <td>100.0</td>\n",
       "      <td>15.0</td>\n",
       "      <td>83.416667</td>\n",
       "      <td>610.016667</td>\n",
       "      <td>504.961111</td>\n",
       "      <td>1.008014</td>\n",
       "      <td>...</td>\n",
       "      <td>8138.62</td>\n",
       "      <td>8.4195</td>\n",
       "      <td>0.03</td>\n",
       "      <td>392.0</td>\n",
       "      <td>2388</td>\n",
       "      <td>100.0</td>\n",
       "      <td>17.717318</td>\n",
       "      <td>10.622680</td>\n",
       "      <td>191</td>\n",
       "      <td>0</td>\n",
       "    </tr>\n",
       "    <tr>\n",
       "      <th>1</th>\n",
       "      <td>1</td>\n",
       "      <td>2</td>\n",
       "      <td>0.0019</td>\n",
       "      <td>-0.0003</td>\n",
       "      <td>100.0</td>\n",
       "      <td>15.0</td>\n",
       "      <td>83.600000</td>\n",
       "      <td>611.194444</td>\n",
       "      <td>506.372222</td>\n",
       "      <td>1.008014</td>\n",
       "      <td>...</td>\n",
       "      <td>8131.49</td>\n",
       "      <td>8.4318</td>\n",
       "      <td>0.03</td>\n",
       "      <td>392.0</td>\n",
       "      <td>2388</td>\n",
       "      <td>100.0</td>\n",
       "      <td>17.690102</td>\n",
       "      <td>10.624766</td>\n",
       "      <td>190</td>\n",
       "      <td>0</td>\n",
       "    </tr>\n",
       "    <tr>\n",
       "      <th>2</th>\n",
       "      <td>1</td>\n",
       "      <td>3</td>\n",
       "      <td>-0.0043</td>\n",
       "      <td>0.0003</td>\n",
       "      <td>100.0</td>\n",
       "      <td>15.0</td>\n",
       "      <td>83.711111</td>\n",
       "      <td>609.066667</td>\n",
       "      <td>506.961111</td>\n",
       "      <td>1.008014</td>\n",
       "      <td>...</td>\n",
       "      <td>8133.23</td>\n",
       "      <td>8.4178</td>\n",
       "      <td>0.03</td>\n",
       "      <td>390.0</td>\n",
       "      <td>2388</td>\n",
       "      <td>100.0</td>\n",
       "      <td>17.667423</td>\n",
       "      <td>10.588751</td>\n",
       "      <td>189</td>\n",
       "      <td>0</td>\n",
       "    </tr>\n",
       "    <tr>\n",
       "      <th>3</th>\n",
       "      <td>1</td>\n",
       "      <td>4</td>\n",
       "      <td>0.0007</td>\n",
       "      <td>0.0000</td>\n",
       "      <td>100.0</td>\n",
       "      <td>15.0</td>\n",
       "      <td>83.711111</td>\n",
       "      <td>606.177778</td>\n",
       "      <td>505.666667</td>\n",
       "      <td>1.008014</td>\n",
       "      <td>...</td>\n",
       "      <td>8133.83</td>\n",
       "      <td>8.3682</td>\n",
       "      <td>0.03</td>\n",
       "      <td>392.0</td>\n",
       "      <td>2388</td>\n",
       "      <td>100.0</td>\n",
       "      <td>17.635671</td>\n",
       "      <td>10.602223</td>\n",
       "      <td>188</td>\n",
       "      <td>0</td>\n",
       "    </tr>\n",
       "    <tr>\n",
       "      <th>4</th>\n",
       "      <td>1</td>\n",
       "      <td>5</td>\n",
       "      <td>-0.0019</td>\n",
       "      <td>-0.0002</td>\n",
       "      <td>100.0</td>\n",
       "      <td>15.0</td>\n",
       "      <td>83.722222</td>\n",
       "      <td>610.467202</td>\n",
       "      <td>508.083333</td>\n",
       "      <td>1.008014</td>\n",
       "      <td>...</td>\n",
       "      <td>8133.80</td>\n",
       "      <td>8.4294</td>\n",
       "      <td>0.03</td>\n",
       "      <td>393.0</td>\n",
       "      <td>2388</td>\n",
       "      <td>100.0</td>\n",
       "      <td>17.644743</td>\n",
       "      <td>10.616057</td>\n",
       "      <td>187</td>\n",
       "      <td>0</td>\n",
       "    </tr>\n",
       "  </tbody>\n",
       "</table>\n",
       "<p>5 rows × 28 columns</p>\n",
       "</div>"
      ],
      "text/plain": [
       "   engine_unit_number  time_cycles  setting_1  setting_2  setting_3  \\\n",
       "0                   1            1    -0.0007    -0.0004      100.0   \n",
       "1                   1            2     0.0019    -0.0003      100.0   \n",
       "2                   1            3    -0.0043     0.0003      100.0   \n",
       "3                   1            4     0.0007     0.0000      100.0   \n",
       "4                   1            5    -0.0019    -0.0002      100.0   \n",
       "\n",
       "   Fan inlet temperature (°C)  LPC outlet temperature (°C)  \\\n",
       "0                        15.0                    83.416667   \n",
       "1                        15.0                    83.600000   \n",
       "2                        15.0                    83.711111   \n",
       "3                        15.0                    83.711111   \n",
       "4                        15.0                    83.722222   \n",
       "\n",
       "   HPC outlet temperature (°C)  LPT outlet temperature (°C)  \\\n",
       "0                   610.016667                   504.961111   \n",
       "1                   611.194444                   506.372222   \n",
       "2                   609.066667                   506.961111   \n",
       "3                   606.177778                   505.666667   \n",
       "4                   610.467202                   508.083333   \n",
       "\n",
       "   Fan inlet pressure (bar)  ...  Corrected core speed (rpm)  \\\n",
       "0                  1.008014  ...                     8138.62   \n",
       "1                  1.008014  ...                     8131.49   \n",
       "2                  1.008014  ...                     8133.23   \n",
       "3                  1.008014  ...                     8133.83   \n",
       "4                  1.008014  ...                     8133.80   \n",
       "\n",
       "   Bypass ratio (dimensionless)  \\\n",
       "0                        8.4195   \n",
       "1                        8.4318   \n",
       "2                        8.4178   \n",
       "3                        8.3682   \n",
       "4                        8.4294   \n",
       "\n",
       "   Burner fuel-air ratio (mass ratio, dimensionless)  Bleed enthalpy (kJ/kg)  \\\n",
       "0                                               0.03                   392.0   \n",
       "1                                               0.03                   392.0   \n",
       "2                                               0.03                   390.0   \n",
       "3                                               0.03                   392.0   \n",
       "4                                               0.03                   393.0   \n",
       "\n",
       "   Demanded fan speed (rpm)  Demanded corrected fan speed (rpm)  \\\n",
       "0                      2388                               100.0   \n",
       "1                      2388                               100.0   \n",
       "2                      2388                               100.0   \n",
       "3                      2388                               100.0   \n",
       "4                      2388                               100.0   \n",
       "\n",
       "   HPT coolant bleed flow (kg/s)  LPT coolant bleed flow (kg/s)  RUL  \\\n",
       "0                      17.717318                      10.622680  191   \n",
       "1                      17.690102                      10.624766  190   \n",
       "2                      17.667423                      10.588751  189   \n",
       "3                      17.635671                      10.602223  188   \n",
       "4                      17.644743                      10.616057  187   \n",
       "\n",
       "   RUL_class  \n",
       "0          0  \n",
       "1          0  \n",
       "2          0  \n",
       "3          0  \n",
       "4          0  \n",
       "\n",
       "[5 rows x 28 columns]"
      ]
     },
     "execution_count": 36,
     "metadata": {},
     "output_type": "execute_result"
    }
   ],
   "source": [
    "train_df.head()"
   ]
  },
  {
   "cell_type": "code",
   "execution_count": 37,
   "metadata": {},
   "outputs": [
    {
     "data": {
      "text/plain": [
       "RUL_class\n",
       "0    80.266794\n",
       "1    19.733206\n",
       "Name: proportion, dtype: float64"
      ]
     },
     "execution_count": 37,
     "metadata": {},
     "output_type": "execute_result"
    }
   ],
   "source": [
    "train_df.RUL_class.value_counts(normalize=True)*100"
   ]
  },
  {
   "cell_type": "code",
   "execution_count": 123,
   "metadata": {},
   "outputs": [
    {
     "name": "stderr",
     "output_type": "stream",
     "text": [
      "/tmp/ipykernel_9928/3140588429.py:11: FutureWarning: \n",
      "\n",
      "Passing `palette` without assigning `hue` is deprecated and will be removed in v0.14.0. Assign the `x` variable to `hue` and set `legend=False` for the same effect.\n",
      "\n",
      "  ax = sns.barplot(\n"
     ]
    },
    {
     "data": {
      "image/png": "[encoded data removed]",
      "text/plain": [
       "<Figure size 1000x600 with 1 Axes>"
      ]
     },
     "metadata": {},
     "output_type": "display_data"
    }
   ],
   "source": [
    "import matplotlib.pyplot as plt\n",
    "import seaborn as sns\n",
    "\n",
    "# Calculate the normalized value counts as percentages\n",
    "class_distribution = test_df.RUL_class.value_counts(normalize=True) * 100\n",
    "\n",
    "# Create a figure with a specific size\n",
    "plt.figure(figsize=(10, 6))\n",
    "\n",
    "# Create a bar plot with custom styling\n",
    "ax = sns.barplot(\n",
    "    x=class_distribution.index,\n",
    "    y=class_distribution.values,\n",
    "    palette='viridis'\n",
    ")\n",
    "\n",
    "# Add value labels on top of each bar\n",
    "for i, value in enumerate(class_distribution.values):\n",
    "    ax.text(i, value + 1, f'{value:.1f}%', ha='center', fontweight='bold')\n",
    "\n",
    "# Add titles and labels\n",
    "plt.title('Distribution of RUL Classes', fontsize=15, fontweight='bold')\n",
    "plt.xlabel('RUL Class', fontsize=12)\n",
    "plt.ylabel('Percentage (%)', fontsize=12)\n",
    "\n",
    "# Add grid lines for better readability\n",
    "plt.grid(axis='y', linestyle='--', alpha=0.7)\n",
    "\n",
    "# Improve aesthetics\n",
    "sns.despine(left=True)\n",
    "plt.tight_layout()\n",
    "\n",
    "# Show the plot\n",
    "plt.show()"
   ]
  },
  {
   "cell_type": "markdown",
   "metadata": {},
   "source": [
    "**This barplot shows that the dataset is imbalanced**"
   ]
  },
  {
   "cell_type": "markdown",
   "metadata": {
    "id": "Hr9tR1BnwFJV"
   },
   "source": [
    "### **2.1 Data preprocessing**"
   ]
  },
  {
   "cell_type": "code",
   "execution_count": 38,
   "metadata": {
    "id": "jfuHVWn9wFJV"
   },
   "outputs": [],
   "source": [
    "# Preprocessing tools\n",
    "from sklearn.model_selection import train_test_split\n",
    "from sklearn.preprocessing import OneHotEncoder, LabelEncoder\n",
    "from sklearn.preprocessing import StandardScaler, MinMaxScaler\n"
   ]
  },
  {
   "cell_type": "code",
   "execution_count": 39,
   "metadata": {
    "id": "eO2HwJWVoRsb"
   },
   "outputs": [],
   "source": [
    "def replace_with_gaussian_bins(df, cols):\n",
    "    \"\"\"\n",
    "    when it is temperature it changes by categorical indicators (extremely low -> extremely high)\n",
    "    Replace numerical columns with 7-category Gaussian bins based on mean ± n*std.\n",
    "\n",
    "    Parameters:\n",
    "    df   : DataFrame\n",
    "    cols : list of column names to transform\n",
    "\n",
    "    Returns:\n",
    "    DataFrame with the same structure but selected numeric columns replaced with categorical bins\n",
    "    \"\"\"\n",
    "    df_out = df.copy()\n",
    "\n",
    "    labels = [\n",
    "        \"Extremely Low\",\n",
    "        \"Very Low\",\n",
    "        \"Low\",\n",
    "        \"Normal\",\n",
    "        \"High\",\n",
    "        \"Very High\",\n",
    "        \"Extremely High\"\n",
    "    ]\n",
    "\n",
    "    for col in cols:\n",
    "        mu = df_out[col].mean()\n",
    "        sigma = df_out[col].std()\n",
    "\n",
    "        bins = [\n",
    "          -np.inf,\n",
    "          mu - 2*sigma,   # Extremely Low\n",
    "          mu - 1*sigma,   # Very Low\n",
    "          mu - 0.5*sigma,   # Low\n",
    "          mu + 0.5*sigma,   # High\n",
    "          mu + 1*sigma,   # Very High\n",
    "          mu + 2*sigma,   # Extremely High\n",
    "          np.inf\n",
    "      ]\n",
    "\n",
    "        df_out[col] = pd.cut(df_out[col], bins=bins, labels=labels, include_lowest=True)\n",
    "\n",
    "    return df_out"
   ]
  },
  {
   "cell_type": "code",
   "execution_count": 40,
   "metadata": {
    "id": "uWH8j9OpDeYa"
   },
   "outputs": [],
   "source": [
    "train_df=replace_with_gaussian_bins(train_df,[\"HPC outlet temperature (°C)\"])\n",
    "test_df=replace_with_gaussian_bins(test_df,[\"HPC outlet temperature (°C)\"])\n"
   ]
  },
  {
   "cell_type": "code",
   "execution_count": 41,
   "metadata": {
    "id": "z1yz5wfVwXi0"
   },
   "outputs": [
    {
     "name": "stdout",
     "output_type": "stream",
     "text": [
      "Train rows: 18816 Test engines: 12039\n"
     ]
    }
   ],
   "source": [
    "\n",
    "\n",
    "features = ['engine_unit_number',\n",
    "  'time_cycles',\n",
    "  'LPC outlet temperature (°C)',\n",
    "  \"HPC outlet temperature (°C)\",\n",
    "  \"LPT outlet temperature (°C)\",\n",
    "  \"HPC outlet pressure (bar)\",\n",
    "  \"Physical core speed (rpm)\",\n",
    "  \"Fuel flow / Ps30 (kg/s/bar)\",\n",
    "  \"Corrected fan speed (rpm)\",\n",
    "  \"Bypass ratio (dimensionless)\",\n",
    "  \"Bleed enthalpy (kJ/kg)\",\n",
    "  \"HPT coolant bleed flow (kg/s)\"]\n",
    "\n",
    "\n",
    "\n",
    "X_train = train_df[features].copy()\n",
    "y_train = train_df[\"RUL_class\"].copy()\n",
    "\n",
    "X_test = test_df[features].copy()\n",
    "y_test = test_df[\"RUL_class\"].copy()\n",
    "\n",
    "\n",
    "print(\"Train rows:\", X_train.shape[0], \"Test engines:\", X_test.shape[0])"
   ]
  },
  {
   "cell_type": "code",
   "execution_count": 42,
   "metadata": {},
   "outputs": [
    {
     "data": {
      "text/plain": [
       "array([0, 1])"
      ]
     },
     "execution_count": 42,
     "metadata": {},
     "output_type": "execute_result"
    }
   ],
   "source": [
    "y_train.unique()"
   ]
  },
  {
   "cell_type": "markdown",
   "metadata": {},
   "source": [
    "it is only 0s and 1s, so it is classification"
   ]
  },
  {
   "cell_type": "markdown",
   "metadata": {
    "id": "-4oesPDawFJW"
   },
   "source": [
    "**<u>Question 2.1.1:</u>** <br>**Transform the categorical variables in each split with `OneHotEncoder`.** <br>\n",
    "\n",
    "\n",
    "The column names OneHotEncoder creates can be accessed with `.get_feature_names_out()`. <br>\n",
    "Go this [page](https://scikit-learn.org/stable/modules/generated/sklearn.preprocessing.OneHotEncoder.html) for more info on how to use scikit-learn's `OneHotEncoder` function. <br>\n",
    "\n",
    "*Don't forget, data preprocessing is only applied to the feature variables in the case of binary classification !*\n"
   ]
  },
  {
   "cell_type": "code",
   "execution_count": 43,
   "metadata": {},
   "outputs": [
    {
     "data": {
      "text/plain": [
       "engine_unit_number                  int64\n",
       "time_cycles                         int64\n",
       "LPC outlet temperature (°C)       float64\n",
       "HPC outlet temperature (°C)      category\n",
       "LPT outlet temperature (°C)       float64\n",
       "HPC outlet pressure (bar)         float64\n",
       "Physical core speed (rpm)         float64\n",
       "Fuel flow / Ps30 (kg/s/bar)       float64\n",
       "Corrected fan speed (rpm)         float64\n",
       "Bypass ratio (dimensionless)      float64\n",
       "Bleed enthalpy (kJ/kg)            float64\n",
       "HPT coolant bleed flow (kg/s)     float64\n",
       "dtype: object"
      ]
     },
     "execution_count": 43,
     "metadata": {},
     "output_type": "execute_result"
    }
   ],
   "source": [
    "X_train.dtypes"
   ]
  },
  {
   "cell_type": "code",
   "execution_count": 44,
   "metadata": {},
   "outputs": [
    {
     "name": "stdout",
     "output_type": "stream",
     "text": [
      "engine_unit_number 100\n",
      "time_cycles 351\n",
      "LPC outlet temperature (°C) 288\n",
      "HPC outlet temperature (°C) 7\n",
      "LPT outlet temperature (°C) 3693\n",
      "HPC outlet pressure (bar) 472\n",
      "Physical core speed (rpm) 5410\n",
      "Fuel flow / Ps30 (kg/s/bar) 386\n",
      "Corrected fan speed (rpm) 41\n",
      "Bypass ratio (dimensionless) 1764\n",
      "Bleed enthalpy (kJ/kg) 10\n",
      "HPT coolant bleed flow (kg/s) 99\n"
     ]
    }
   ],
   "source": [
    "for e in X_train.columns : \n",
    "    print(e, X_train[e].nunique())"
   ]
  },
  {
   "cell_type": "code",
   "execution_count": 45,
   "metadata": {},
   "outputs": [],
   "source": [
    "categorical_var = list(X_train.select_dtypes(include=\"object\").columns)"
   ]
  },
  {
   "cell_type": "code",
   "execution_count": 46,
   "metadata": {
    "id": "2YWJ9DzIA3VH"
   },
   "outputs": [
    {
     "name": "stdout",
     "output_type": "stream",
     "text": [
      "['HPC outlet temperature (°C)_Extremely High'\n",
      " 'HPC outlet temperature (°C)_Extremely Low'\n",
      " 'HPC outlet temperature (°C)_High' 'HPC outlet temperature (°C)_Low'\n",
      " 'HPC outlet temperature (°C)_Normal'\n",
      " 'HPC outlet temperature (°C)_Very High'\n",
      " 'HPC outlet temperature (°C)_Very Low']\n"
     ]
    },
    {
     "data": {
      "text/html": [
       "<div>\n",
       "<style scoped>\n",
       "    .dataframe tbody tr th:only-of-type {\n",
       "        vertical-align: middle;\n",
       "    }\n",
       "\n",
       "    .dataframe tbody tr th {\n",
       "        vertical-align: top;\n",
       "    }\n",
       "\n",
       "    .dataframe thead th {\n",
       "        text-align: right;\n",
       "    }\n",
       "</style>\n",
       "<table border=\"1\" class=\"dataframe\">\n",
       "  <thead>\n",
       "    <tr style=\"text-align: right;\">\n",
       "      <th></th>\n",
       "      <th>HPC outlet temperature (°C)_Extremely High</th>\n",
       "      <th>HPC outlet temperature (°C)_Extremely Low</th>\n",
       "      <th>HPC outlet temperature (°C)_High</th>\n",
       "      <th>HPC outlet temperature (°C)_Low</th>\n",
       "      <th>HPC outlet temperature (°C)_Normal</th>\n",
       "      <th>HPC outlet temperature (°C)_Very High</th>\n",
       "      <th>HPC outlet temperature (°C)_Very Low</th>\n",
       "    </tr>\n",
       "  </thead>\n",
       "  <tbody>\n",
       "    <tr>\n",
       "      <th>0</th>\n",
       "      <td>0.0</td>\n",
       "      <td>0.0</td>\n",
       "      <td>0.0</td>\n",
       "      <td>0.0</td>\n",
       "      <td>1.0</td>\n",
       "      <td>0.0</td>\n",
       "      <td>0.0</td>\n",
       "    </tr>\n",
       "    <tr>\n",
       "      <th>1</th>\n",
       "      <td>0.0</td>\n",
       "      <td>0.0</td>\n",
       "      <td>0.0</td>\n",
       "      <td>0.0</td>\n",
       "      <td>1.0</td>\n",
       "      <td>0.0</td>\n",
       "      <td>0.0</td>\n",
       "    </tr>\n",
       "    <tr>\n",
       "      <th>2</th>\n",
       "      <td>0.0</td>\n",
       "      <td>0.0</td>\n",
       "      <td>0.0</td>\n",
       "      <td>0.0</td>\n",
       "      <td>1.0</td>\n",
       "      <td>0.0</td>\n",
       "      <td>0.0</td>\n",
       "    </tr>\n",
       "    <tr>\n",
       "      <th>3</th>\n",
       "      <td>0.0</td>\n",
       "      <td>0.0</td>\n",
       "      <td>0.0</td>\n",
       "      <td>0.0</td>\n",
       "      <td>0.0</td>\n",
       "      <td>0.0</td>\n",
       "      <td>1.0</td>\n",
       "    </tr>\n",
       "    <tr>\n",
       "      <th>4</th>\n",
       "      <td>0.0</td>\n",
       "      <td>0.0</td>\n",
       "      <td>0.0</td>\n",
       "      <td>0.0</td>\n",
       "      <td>1.0</td>\n",
       "      <td>0.0</td>\n",
       "      <td>0.0</td>\n",
       "    </tr>\n",
       "    <tr>\n",
       "      <th>...</th>\n",
       "      <td>...</td>\n",
       "      <td>...</td>\n",
       "      <td>...</td>\n",
       "      <td>...</td>\n",
       "      <td>...</td>\n",
       "      <td>...</td>\n",
       "      <td>...</td>\n",
       "    </tr>\n",
       "    <tr>\n",
       "      <th>18811</th>\n",
       "      <td>0.0</td>\n",
       "      <td>0.0</td>\n",
       "      <td>0.0</td>\n",
       "      <td>0.0</td>\n",
       "      <td>0.0</td>\n",
       "      <td>1.0</td>\n",
       "      <td>0.0</td>\n",
       "    </tr>\n",
       "    <tr>\n",
       "      <th>18812</th>\n",
       "      <td>0.0</td>\n",
       "      <td>0.0</td>\n",
       "      <td>1.0</td>\n",
       "      <td>0.0</td>\n",
       "      <td>0.0</td>\n",
       "      <td>0.0</td>\n",
       "      <td>0.0</td>\n",
       "    </tr>\n",
       "    <tr>\n",
       "      <th>18813</th>\n",
       "      <td>0.0</td>\n",
       "      <td>0.0</td>\n",
       "      <td>0.0</td>\n",
       "      <td>0.0</td>\n",
       "      <td>1.0</td>\n",
       "      <td>0.0</td>\n",
       "      <td>0.0</td>\n",
       "    </tr>\n",
       "    <tr>\n",
       "      <th>18814</th>\n",
       "      <td>0.0</td>\n",
       "      <td>0.0</td>\n",
       "      <td>0.0</td>\n",
       "      <td>0.0</td>\n",
       "      <td>0.0</td>\n",
       "      <td>1.0</td>\n",
       "      <td>0.0</td>\n",
       "    </tr>\n",
       "    <tr>\n",
       "      <th>18815</th>\n",
       "      <td>0.0</td>\n",
       "      <td>0.0</td>\n",
       "      <td>0.0</td>\n",
       "      <td>0.0</td>\n",
       "      <td>0.0</td>\n",
       "      <td>1.0</td>\n",
       "      <td>0.0</td>\n",
       "    </tr>\n",
       "  </tbody>\n",
       "</table>\n",
       "<p>18816 rows × 7 columns</p>\n",
       "</div>"
      ],
      "text/plain": [
       "       HPC outlet temperature (°C)_Extremely High  \\\n",
       "0                                             0.0   \n",
       "1                                             0.0   \n",
       "2                                             0.0   \n",
       "3                                             0.0   \n",
       "4                                             0.0   \n",
       "...                                           ...   \n",
       "18811                                         0.0   \n",
       "18812                                         0.0   \n",
       "18813                                         0.0   \n",
       "18814                                         0.0   \n",
       "18815                                         0.0   \n",
       "\n",
       "       HPC outlet temperature (°C)_Extremely Low  \\\n",
       "0                                            0.0   \n",
       "1                                            0.0   \n",
       "2                                            0.0   \n",
       "3                                            0.0   \n",
       "4                                            0.0   \n",
       "...                                          ...   \n",
       "18811                                        0.0   \n",
       "18812                                        0.0   \n",
       "18813                                        0.0   \n",
       "18814                                        0.0   \n",
       "18815                                        0.0   \n",
       "\n",
       "       HPC outlet temperature (°C)_High  HPC outlet temperature (°C)_Low  \\\n",
       "0                                   0.0                              0.0   \n",
       "1                                   0.0                              0.0   \n",
       "2                                   0.0                              0.0   \n",
       "3                                   0.0                              0.0   \n",
       "4                                   0.0                              0.0   \n",
       "...                                 ...                              ...   \n",
       "18811                               0.0                              0.0   \n",
       "18812                               1.0                              0.0   \n",
       "18813                               0.0                              0.0   \n",
       "18814                               0.0                              0.0   \n",
       "18815                               0.0                              0.0   \n",
       "\n",
       "       HPC outlet temperature (°C)_Normal  \\\n",
       "0                                     1.0   \n",
       "1                                     1.0   \n",
       "2                                     1.0   \n",
       "3                                     0.0   \n",
       "4                                     1.0   \n",
       "...                                   ...   \n",
       "18811                                 0.0   \n",
       "18812                                 0.0   \n",
       "18813                                 1.0   \n",
       "18814                                 0.0   \n",
       "18815                                 0.0   \n",
       "\n",
       "       HPC outlet temperature (°C)_Very High  \\\n",
       "0                                        0.0   \n",
       "1                                        0.0   \n",
       "2                                        0.0   \n",
       "3                                        0.0   \n",
       "4                                        0.0   \n",
       "...                                      ...   \n",
       "18811                                    1.0   \n",
       "18812                                    0.0   \n",
       "18813                                    0.0   \n",
       "18814                                    1.0   \n",
       "18815                                    1.0   \n",
       "\n",
       "       HPC outlet temperature (°C)_Very Low  \n",
       "0                                       0.0  \n",
       "1                                       0.0  \n",
       "2                                       0.0  \n",
       "3                                       1.0  \n",
       "4                                       0.0  \n",
       "...                                     ...  \n",
       "18811                                   0.0  \n",
       "18812                                   0.0  \n",
       "18813                                   0.0  \n",
       "18814                                   0.0  \n",
       "18815                                   0.0  \n",
       "\n",
       "[18816 rows x 7 columns]"
      ]
     },
     "execution_count": 46,
     "metadata": {},
     "output_type": "execute_result"
    }
   ],
   "source": [
    "categorical_var = [\"HPC outlet temperature (°C)\"]  \n",
    "\n",
    "onehot_encoder = OneHotEncoder(sparse_output=False)\n",
    "X_train_cat = onehot_encoder.fit_transform(X_train[categorical_var])\n",
    "X_test_cat = onehot_encoder.transform(X_test[categorical_var])\n",
    "\n",
    "feature_names = onehot_encoder.get_feature_names_out(categorical_var)\n",
    "\n",
    "print(feature_names)\n",
    "\n",
    "X_train_cat = pd.DataFrame(X_train_cat, columns=feature_names, index=X_train.index)\n",
    "X_test_cat = pd.DataFrame(X_test_cat, columns=feature_names, index=X_test.index)\n",
    "\n",
    "X_train_cat.shape, X_test_cat.shape\n",
    "X_train_cat\n"
   ]
  },
  {
   "cell_type": "markdown",
   "metadata": {
    "id": "AGCZAcSPW3Di"
   },
   "source": [
    "However label encoding is preferred over one-hot encoding for ordinal labels because ordinal features have a meaningful, intrinsic order (e.g., Low < Medium < High). Label encoding preserves this natural ranking by mapping categories to integers that reflect their order, allowing models to interpret the progression between categories. In contrast, one-hot encoding would treat each category as unrelated, discarding the ordinal relationship and increasing the number of features unnecessarily, which can reduce efficiency without adding value."
   ]
  },
  {
   "cell_type": "markdown",
   "metadata": {
    "id": "1glnMTcVOoZx"
   },
   "source": [
    "**<u>Question 2.1.2:</u>** <br>**Transform the categorical variables with `LabelEncoder`.** <br>\n",
    "\n",
    "\n",
    "The column names LabelEncoder creates can be accessed with `.get_feature_names_out()`. <br>\n",
    "Go this [page](https://scikit-learn.org/stable/modules/generated/sklearn.preprocessing.LabelEncoder.html) for more info on how to use scikit-learn's `LabelEncoder` function. <br>\n",
    "\n",
    "*Don't forget, data preprocessing is only applied to the feature variables in the case of binary classification !*"
   ]
  },
  {
   "cell_type": "code",
   "execution_count": 77,
   "metadata": {},
   "outputs": [
    {
     "name": "stdout",
     "output_type": "stream",
     "text": [
      "encoded categories : [array(['Extremely High', 'Extremely Low', 'High', 'Low', 'Normal',\n",
      "       'Very High', 'Very Low'], dtype=object)]\n"
     ]
    },
    {
     "data": {
      "text/plain": [
       "array([[4.],\n",
       "       [4.],\n",
       "       [4.],\n",
       "       ...,\n",
       "       [4.],\n",
       "       [5.],\n",
       "       [5.]])"
      ]
     },
     "execution_count": 77,
     "metadata": {},
     "output_type": "execute_result"
    }
   ],
   "source": [
    "from sklearn.preprocessing import OrdinalEncoder\n",
    "categorical_var = 'HPC outlet temperature (°C)'\n",
    "ordinal_encoder = OrdinalEncoder()\n",
    "X_train_cat = ordinal_encoder.fit_transform(X_train[[categorical_var]])\n",
    "X_test_cat = ordinal_encoder.transform(X_test[[categorical_var]])\n",
    "\n",
    "print(\"encoded categories :\", ordinal_encoder.categories_)\n",
    "\n",
    "X_train_cat\n"
   ]
  },
  {
   "cell_type": "markdown",
   "metadata": {
    "id": "UwttVkxewFJW"
   },
   "source": [
    "**<u>Question 2.1.3</u>**: <br>\n",
    "**Scale the continuous variables using either `StandardScaler` (standardization) or `MinMaxScaler` (normalization).**<br>\n",
    "\n",
    "\n",
    "\n"
   ]
  },
  {
   "cell_type": "code",
   "execution_count": 78,
   "metadata": {},
   "outputs": [
    {
     "data": {
      "image/png": "[encoded data removed]",
      "text/plain": [
       "<Figure size 1200x800 with 12 Axes>"
      ]
     },
     "metadata": {},
     "output_type": "display_data"
    }
   ],
   "source": [
    "# Import necessary libraries\n",
    "import matplotlib.pyplot as plt\n",
    "import scipy.stats as stats\n",
    "import numpy as np\n",
    "import math\n",
    "\n",
    "# Get list of continuous variables\n",
    "continuous_var = list(X_train.select_dtypes(include=[int, float]).columns)\n",
    "\n",
    "# Calculate grid dimensions for subplots\n",
    "n_vars = len(continuous_var)\n",
    "n_cols = 3  # You can adjust this number to control how many plots per row\n",
    "n_rows = math.ceil(n_vars / n_cols)\n",
    "\n",
    "# Create a figure with smaller subplots\n",
    "fig, axes = plt.subplots(nrows=n_rows, ncols=n_cols, figsize=(12, 2*n_rows))\n",
    "axes = axes.flatten()  # Flatten the 2D array of axes to make indexing easier\n",
    "\n",
    "# Create Q-Q plots for each continuous variable\n",
    "for i, var in enumerate(continuous_var):\n",
    "    if i < n_vars:  # Check if we haven't exceeded the number of variables\n",
    "        # Create Q-Q plot\n",
    "        stats.probplot(X_train[var].dropna(), dist=\"norm\", plot=axes[i])\n",
    "        axes[i].set_title(f'{var}', fontsize=8)  # Smaller title\n",
    "        axes[i].tick_params(axis='both', which='major', labelsize=6)  # Smaller tick labels\n",
    "    \n",
    "# Hide any unused subplots\n",
    "for j in range(i+1, len(axes)):\n",
    "    axes[j].set_visible(False)\n",
    "    \n",
    "plt.tight_layout()\n",
    "plt.show()"
   ]
  },
  {
   "cell_type": "markdown",
   "metadata": {},
   "source": [
    "**The QQ-plots shows that the variables are normally distributed so we can apply standardization to the continuous variables**"
   ]
  },
  {
   "cell_type": "code",
   "execution_count": 79,
   "metadata": {},
   "outputs": [],
   "source": [
    "continuous_var = list(X_train.select_dtypes(include=[int, float]).columns)\n",
    "\n",
    "std_scaler = StandardScaler()\n",
    "\n",
    "X_train_cont = std_scaler.fit_transform(X_train[continuous_var])\n",
    "X_test_cont = std_scaler.transform(X_test[continuous_var])\n",
    "\n",
    "X_train_cont = pd.DataFrame(X_train_cont, columns=continuous_var, index=X_train.index)\n",
    "X_test_cont = pd.DataFrame(X_test_cont, columns=continuous_var, index=X_test.index)\n",
    "\n",
    "#X_train_cont"
   ]
  },
  {
   "cell_type": "code",
   "execution_count": 80,
   "metadata": {},
   "outputs": [],
   "source": [
    "X_train_cat = pd.DataFrame(X_train_cat, columns=['HPC outlet temperature (°C)'])\n",
    "\n",
    "X_train_scaled = pd.concat([X_train_cont, X_train_cat], axis=1)\n",
    "\n",
    "X_train_scaled.columns = X_train_scaled.columns.astype(str)  \n"
   ]
  },
  {
   "cell_type": "code",
   "execution_count": 81,
   "metadata": {},
   "outputs": [],
   "source": [
    "X_test_cat = pd.DataFrame(X_test_cat, columns=['HPC outlet temperature (°C)'])\n",
    "\n",
    "X_test_scaled = pd.concat([X_test_cont, X_test_cat], axis=1)\n",
    "\n",
    "X_test_scaled.columns = X_test_scaled.columns.astype(str)"
   ]
  },
  {
   "cell_type": "code",
   "execution_count": 82,
   "metadata": {},
   "outputs": [
    {
     "data": {
      "text/html": [
       "<div>\n",
       "<style scoped>\n",
       "    .dataframe tbody tr th:only-of-type {\n",
       "        vertical-align: middle;\n",
       "    }\n",
       "\n",
       "    .dataframe tbody tr th {\n",
       "        vertical-align: top;\n",
       "    }\n",
       "\n",
       "    .dataframe thead th {\n",
       "        text-align: right;\n",
       "    }\n",
       "</style>\n",
       "<table border=\"1\" class=\"dataframe\">\n",
       "  <thead>\n",
       "    <tr style=\"text-align: right;\">\n",
       "      <th></th>\n",
       "      <th>engine_unit_number</th>\n",
       "      <th>time_cycles</th>\n",
       "      <th>LPC outlet temperature (°C)</th>\n",
       "      <th>LPT outlet temperature (°C)</th>\n",
       "      <th>HPC outlet pressure (bar)</th>\n",
       "      <th>Physical core speed (rpm)</th>\n",
       "      <th>Fuel flow / Ps30 (kg/s/bar)</th>\n",
       "      <th>Corrected fan speed (rpm)</th>\n",
       "      <th>Bypass ratio (dimensionless)</th>\n",
       "      <th>Bleed enthalpy (kJ/kg)</th>\n",
       "      <th>HPT coolant bleed flow (kg/s)</th>\n",
       "      <th>HPC outlet temperature (°C)</th>\n",
       "    </tr>\n",
       "  </thead>\n",
       "  <tbody>\n",
       "    <tr>\n",
       "      <th>count</th>\n",
       "      <td>1.881600e+04</td>\n",
       "      <td>1.881600e+04</td>\n",
       "      <td>1.881600e+04</td>\n",
       "      <td>1.881600e+04</td>\n",
       "      <td>1.881600e+04</td>\n",
       "      <td>1.881600e+04</td>\n",
       "      <td>1.881600e+04</td>\n",
       "      <td>1.881600e+04</td>\n",
       "      <td>1.881600e+04</td>\n",
       "      <td>1.881600e+04</td>\n",
       "      <td>1.881600e+04</td>\n",
       "      <td>18816.000000</td>\n",
       "    </tr>\n",
       "    <tr>\n",
       "      <th>mean</th>\n",
       "      <td>-9.667248e-17</td>\n",
       "      <td>9.365147e-17</td>\n",
       "      <td>3.193213e-15</td>\n",
       "      <td>-1.472745e-14</td>\n",
       "      <td>5.211251e-14</td>\n",
       "      <td>-6.304179e-14</td>\n",
       "      <td>-1.463470e-13</td>\n",
       "      <td>-5.089441e-12</td>\n",
       "      <td>-2.326182e-14</td>\n",
       "      <td>5.468037e-16</td>\n",
       "      <td>4.199211e-16</td>\n",
       "      <td>3.814785</td>\n",
       "    </tr>\n",
       "    <tr>\n",
       "      <th>std</th>\n",
       "      <td>1.000027e+00</td>\n",
       "      <td>1.000027e+00</td>\n",
       "      <td>1.000027e+00</td>\n",
       "      <td>1.000027e+00</td>\n",
       "      <td>1.000027e+00</td>\n",
       "      <td>1.000027e+00</td>\n",
       "      <td>1.000027e+00</td>\n",
       "      <td>1.000027e+00</td>\n",
       "      <td>1.000027e+00</td>\n",
       "      <td>1.000027e+00</td>\n",
       "      <td>1.000027e+00</td>\n",
       "      <td>1.401634</td>\n",
       "    </tr>\n",
       "    <tr>\n",
       "      <th>min</th>\n",
       "      <td>-1.746299e+00</td>\n",
       "      <td>-1.557798e+00</td>\n",
       "      <td>-3.097853e+00</td>\n",
       "      <td>-3.175798e+00</td>\n",
       "      <td>-3.310719e+00</td>\n",
       "      <td>-2.729847e+00</td>\n",
       "      <td>-3.153298e+00</td>\n",
       "      <td>-3.006894e+00</td>\n",
       "      <td>-3.022186e+00</td>\n",
       "      <td>-2.966161e+00</td>\n",
       "      <td>-2.996713e+00</td>\n",
       "      <td>0.000000</td>\n",
       "    </tr>\n",
       "    <tr>\n",
       "      <th>25%</th>\n",
       "      <td>-8.896307e-01</td>\n",
       "      <td>-8.103751e-01</td>\n",
       "      <td>-7.098882e-01</td>\n",
       "      <td>-7.201723e-01</td>\n",
       "      <td>-6.402794e-01</td>\n",
       "      <td>-6.452528e-01</td>\n",
       "      <td>-6.415311e-01</td>\n",
       "      <td>-7.810022e-01</td>\n",
       "      <td>-7.197406e-01</td>\n",
       "      <td>-7.822070e-01</td>\n",
       "      <td>-6.248075e-01</td>\n",
       "      <td>3.000000</td>\n",
       "    </tr>\n",
       "    <tr>\n",
       "      <th>50%</th>\n",
       "      <td>3.557066e-02</td>\n",
       "      <td>-7.820593e-02</td>\n",
       "      <td>-3.691622e-02</td>\n",
       "      <td>-7.214296e-02</td>\n",
       "      <td>6.117246e-02</td>\n",
       "      <td>-1.154426e-01</td>\n",
       "      <td>6.767366e-02</td>\n",
       "      <td>-3.903828e-02</td>\n",
       "      <td>-6.189911e-02</td>\n",
       "      <td>-5.422224e-02</td>\n",
       "      <td>4.419137e-02</td>\n",
       "      <td>4.000000</td>\n",
       "    </tr>\n",
       "    <tr>\n",
       "      <th>75%</th>\n",
       "      <td>8.922386e-01</td>\n",
       "      <td>6.692168e-01</td>\n",
       "      <td>6.577646e-01</td>\n",
       "      <td>6.398285e-01</td>\n",
       "      <td>7.257058e-01</td>\n",
       "      <td>4.410747e-01</td>\n",
       "      <td>7.177780e-01</td>\n",
       "      <td>7.029256e-01</td>\n",
       "      <td>6.517414e-01</td>\n",
       "      <td>6.737625e-01</td>\n",
       "      <td>7.131903e-01</td>\n",
       "      <td>5.000000</td>\n",
       "    </tr>\n",
       "    <tr>\n",
       "      <th>max</th>\n",
       "      <td>1.646106e+00</td>\n",
       "      <td>3.857203e+00</td>\n",
       "      <td>3.349653e+00</td>\n",
       "      <td>3.361060e+00</td>\n",
       "      <td>2.977736e+00</td>\n",
       "      <td>4.545300e+00</td>\n",
       "      <td>2.815842e+00</td>\n",
       "      <td>3.077210e+00</td>\n",
       "      <td>3.065785e+00</td>\n",
       "      <td>2.857717e+00</td>\n",
       "      <td>2.963459e+00</td>\n",
       "      <td>6.000000</td>\n",
       "    </tr>\n",
       "  </tbody>\n",
       "</table>\n",
       "</div>"
      ],
      "text/plain": [
       "       engine_unit_number   time_cycles  LPC outlet temperature (°C)  \\\n",
       "count        1.881600e+04  1.881600e+04                 1.881600e+04   \n",
       "mean        -9.667248e-17  9.365147e-17                 3.193213e-15   \n",
       "std          1.000027e+00  1.000027e+00                 1.000027e+00   \n",
       "min         -1.746299e+00 -1.557798e+00                -3.097853e+00   \n",
       "25%         -8.896307e-01 -8.103751e-01                -7.098882e-01   \n",
       "50%          3.557066e-02 -7.820593e-02                -3.691622e-02   \n",
       "75%          8.922386e-01  6.692168e-01                 6.577646e-01   \n",
       "max          1.646106e+00  3.857203e+00                 3.349653e+00   \n",
       "\n",
       "       LPT outlet temperature (°C)  HPC outlet pressure (bar)  \\\n",
       "count                 1.881600e+04               1.881600e+04   \n",
       "mean                 -1.472745e-14               5.211251e-14   \n",
       "std                   1.000027e+00               1.000027e+00   \n",
       "min                  -3.175798e+00              -3.310719e+00   \n",
       "25%                  -7.201723e-01              -6.402794e-01   \n",
       "50%                  -7.214296e-02               6.117246e-02   \n",
       "75%                   6.398285e-01               7.257058e-01   \n",
       "max                   3.361060e+00               2.977736e+00   \n",
       "\n",
       "       Physical core speed (rpm)  Fuel flow / Ps30 (kg/s/bar)  \\\n",
       "count               1.881600e+04                 1.881600e+04   \n",
       "mean               -6.304179e-14                -1.463470e-13   \n",
       "std                 1.000027e+00                 1.000027e+00   \n",
       "min                -2.729847e+00                -3.153298e+00   \n",
       "25%                -6.452528e-01                -6.415311e-01   \n",
       "50%                -1.154426e-01                 6.767366e-02   \n",
       "75%                 4.410747e-01                 7.177780e-01   \n",
       "max                 4.545300e+00                 2.815842e+00   \n",
       "\n",
       "       Corrected fan speed (rpm)  Bypass ratio (dimensionless)  \\\n",
       "count               1.881600e+04                  1.881600e+04   \n",
       "mean               -5.089441e-12                 -2.326182e-14   \n",
       "std                 1.000027e+00                  1.000027e+00   \n",
       "min                -3.006894e+00                 -3.022186e+00   \n",
       "25%                -7.810022e-01                 -7.197406e-01   \n",
       "50%                -3.903828e-02                 -6.189911e-02   \n",
       "75%                 7.029256e-01                  6.517414e-01   \n",
       "max                 3.077210e+00                  3.065785e+00   \n",
       "\n",
       "       Bleed enthalpy (kJ/kg)  HPT coolant bleed flow (kg/s)  \\\n",
       "count            1.881600e+04                   1.881600e+04   \n",
       "mean             5.468037e-16                   4.199211e-16   \n",
       "std              1.000027e+00                   1.000027e+00   \n",
       "min             -2.966161e+00                  -2.996713e+00   \n",
       "25%             -7.822070e-01                  -6.248075e-01   \n",
       "50%             -5.422224e-02                   4.419137e-02   \n",
       "75%              6.737625e-01                   7.131903e-01   \n",
       "max              2.857717e+00                   2.963459e+00   \n",
       "\n",
       "       HPC outlet temperature (°C)  \n",
       "count                 18816.000000  \n",
       "mean                      3.814785  \n",
       "std                       1.401634  \n",
       "min                       0.000000  \n",
       "25%                       3.000000  \n",
       "50%                       4.000000  \n",
       "75%                       5.000000  \n",
       "max                       6.000000  "
      ]
     },
     "execution_count": 82,
     "metadata": {},
     "output_type": "execute_result"
    }
   ],
   "source": [
    "X_train_scaled.describe()"
   ]
  },
  {
   "cell_type": "markdown",
   "metadata": {},
   "source": [
    "The dataframe is almost normalized, the mean is almost equal to 0 and the standard deviation is equal to 1"
   ]
  },
  {
   "cell_type": "code",
   "execution_count": 83,
   "metadata": {},
   "outputs": [
    {
     "data": {
      "text/html": [
       "<div>\n",
       "<style scoped>\n",
       "    .dataframe tbody tr th:only-of-type {\n",
       "        vertical-align: middle;\n",
       "    }\n",
       "\n",
       "    .dataframe tbody tr th {\n",
       "        vertical-align: top;\n",
       "    }\n",
       "\n",
       "    .dataframe thead th {\n",
       "        text-align: right;\n",
       "    }\n",
       "</style>\n",
       "<table border=\"1\" class=\"dataframe\">\n",
       "  <thead>\n",
       "    <tr style=\"text-align: right;\">\n",
       "      <th></th>\n",
       "      <th>engine_unit_number</th>\n",
       "      <th>time_cycles</th>\n",
       "      <th>LPC outlet temperature (°C)</th>\n",
       "      <th>LPT outlet temperature (°C)</th>\n",
       "      <th>HPC outlet pressure (bar)</th>\n",
       "      <th>Physical core speed (rpm)</th>\n",
       "      <th>Fuel flow / Ps30 (kg/s/bar)</th>\n",
       "      <th>Corrected fan speed (rpm)</th>\n",
       "      <th>Bypass ratio (dimensionless)</th>\n",
       "      <th>Bleed enthalpy (kJ/kg)</th>\n",
       "      <th>HPT coolant bleed flow (kg/s)</th>\n",
       "      <th>HPC outlet temperature (°C)</th>\n",
       "    </tr>\n",
       "  </thead>\n",
       "  <tbody>\n",
       "    <tr>\n",
       "      <th>count</th>\n",
       "      <td>12039.000000</td>\n",
       "      <td>12039.000000</td>\n",
       "      <td>12039.000000</td>\n",
       "      <td>12039.000000</td>\n",
       "      <td>12039.000000</td>\n",
       "      <td>12039.000000</td>\n",
       "      <td>12039.000000</td>\n",
       "      <td>12039.000000</td>\n",
       "      <td>12039.000000</td>\n",
       "      <td>12039.000000</td>\n",
       "      <td>12039.000000</td>\n",
       "      <td>12039.000000</td>\n",
       "    </tr>\n",
       "    <tr>\n",
       "      <th>mean</th>\n",
       "      <td>-0.016201</td>\n",
       "      <td>-0.451600</td>\n",
       "      <td>-0.384794</td>\n",
       "      <td>-0.447884</td>\n",
       "      <td>0.422346</td>\n",
       "      <td>-0.307148</td>\n",
       "      <td>0.435764</td>\n",
       "      <td>-0.337697</td>\n",
       "      <td>-0.412120</td>\n",
       "      <td>-0.395932</td>\n",
       "      <td>0.397198</td>\n",
       "      <td>3.816596</td>\n",
       "    </tr>\n",
       "    <tr>\n",
       "      <th>std</th>\n",
       "      <td>0.974412</td>\n",
       "      <td>0.763507</td>\n",
       "      <td>0.821077</td>\n",
       "      <td>0.762628</td>\n",
       "      <td>0.778708</td>\n",
       "      <td>0.670206</td>\n",
       "      <td>0.760623</td>\n",
       "      <td>0.796430</td>\n",
       "      <td>0.793728</td>\n",
       "      <td>0.840809</td>\n",
       "      <td>0.801573</td>\n",
       "      <td>1.406706</td>\n",
       "    </tr>\n",
       "    <tr>\n",
       "      <th>min</th>\n",
       "      <td>-1.746299</td>\n",
       "      <td>-1.557798</td>\n",
       "      <td>-2.859057</td>\n",
       "      <td>-2.811819</td>\n",
       "      <td>-2.055489</td>\n",
       "      <td>-2.680763</td>\n",
       "      <td>-1.882639</td>\n",
       "      <td>-2.710108</td>\n",
       "      <td>-2.766685</td>\n",
       "      <td>-2.238177</td>\n",
       "      <td>-2.023623</td>\n",
       "      <td>0.000000</td>\n",
       "    </tr>\n",
       "    <tr>\n",
       "      <th>25%</th>\n",
       "      <td>-0.821097</td>\n",
       "      <td>-1.084939</td>\n",
       "      <td>-0.970394</td>\n",
       "      <td>-0.994386</td>\n",
       "      <td>-0.111114</td>\n",
       "      <td>-0.782397</td>\n",
       "      <td>-0.094852</td>\n",
       "      <td>-0.929395</td>\n",
       "      <td>-0.969368</td>\n",
       "      <td>-0.782207</td>\n",
       "      <td>-0.138263</td>\n",
       "      <td>3.000000</td>\n",
       "    </tr>\n",
       "    <tr>\n",
       "      <th>50%</th>\n",
       "      <td>0.001304</td>\n",
       "      <td>-0.566319</td>\n",
       "      <td>-0.405965</td>\n",
       "      <td>-0.460715</td>\n",
       "      <td>0.442664</td>\n",
       "      <td>-0.342813</td>\n",
       "      <td>0.466601</td>\n",
       "      <td>-0.335824</td>\n",
       "      <td>-0.417251</td>\n",
       "      <td>-0.054222</td>\n",
       "      <td>0.409100</td>\n",
       "      <td>4.000000</td>\n",
       "    </tr>\n",
       "    <tr>\n",
       "      <th>75%</th>\n",
       "      <td>0.823705</td>\n",
       "      <td>0.074329</td>\n",
       "      <td>0.180172</td>\n",
       "      <td>0.071727</td>\n",
       "      <td>0.984135</td>\n",
       "      <td>0.132500</td>\n",
       "      <td>0.983730</td>\n",
       "      <td>0.257747</td>\n",
       "      <td>0.123119</td>\n",
       "      <td>-0.054222</td>\n",
       "      <td>0.956463</td>\n",
       "      <td>5.000000</td>\n",
       "    </tr>\n",
       "    <tr>\n",
       "      <th>max</th>\n",
       "      <td>1.646106</td>\n",
       "      <td>2.957246</td>\n",
       "      <td>2.242505</td>\n",
       "      <td>2.009667</td>\n",
       "      <td>2.719306</td>\n",
       "      <td>2.143830</td>\n",
       "      <td>2.741966</td>\n",
       "      <td>2.038461</td>\n",
       "      <td>2.011476</td>\n",
       "      <td>2.129732</td>\n",
       "      <td>2.781005</td>\n",
       "      <td>6.000000</td>\n",
       "    </tr>\n",
       "  </tbody>\n",
       "</table>\n",
       "</div>"
      ],
      "text/plain": [
       "       engine_unit_number   time_cycles  LPC outlet temperature (°C)  \\\n",
       "count        12039.000000  12039.000000                 12039.000000   \n",
       "mean            -0.016201     -0.451600                    -0.384794   \n",
       "std              0.974412      0.763507                     0.821077   \n",
       "min             -1.746299     -1.557798                    -2.859057   \n",
       "25%             -0.821097     -1.084939                    -0.970394   \n",
       "50%              0.001304     -0.566319                    -0.405965   \n",
       "75%              0.823705      0.074329                     0.180172   \n",
       "max              1.646106      2.957246                     2.242505   \n",
       "\n",
       "       LPT outlet temperature (°C)  HPC outlet pressure (bar)  \\\n",
       "count                 12039.000000               12039.000000   \n",
       "mean                     -0.447884                   0.422346   \n",
       "std                       0.762628                   0.778708   \n",
       "min                      -2.811819                  -2.055489   \n",
       "25%                      -0.994386                  -0.111114   \n",
       "50%                      -0.460715                   0.442664   \n",
       "75%                       0.071727                   0.984135   \n",
       "max                       2.009667                   2.719306   \n",
       "\n",
       "       Physical core speed (rpm)  Fuel flow / Ps30 (kg/s/bar)  \\\n",
       "count               12039.000000                 12039.000000   \n",
       "mean                   -0.307148                     0.435764   \n",
       "std                     0.670206                     0.760623   \n",
       "min                    -2.680763                    -1.882639   \n",
       "25%                    -0.782397                    -0.094852   \n",
       "50%                    -0.342813                     0.466601   \n",
       "75%                     0.132500                     0.983730   \n",
       "max                     2.143830                     2.741966   \n",
       "\n",
       "       Corrected fan speed (rpm)  Bypass ratio (dimensionless)  \\\n",
       "count               12039.000000                  12039.000000   \n",
       "mean                   -0.337697                     -0.412120   \n",
       "std                     0.796430                      0.793728   \n",
       "min                    -2.710108                     -2.766685   \n",
       "25%                    -0.929395                     -0.969368   \n",
       "50%                    -0.335824                     -0.417251   \n",
       "75%                     0.257747                      0.123119   \n",
       "max                     2.038461                      2.011476   \n",
       "\n",
       "       Bleed enthalpy (kJ/kg)  HPT coolant bleed flow (kg/s)  \\\n",
       "count            12039.000000                   12039.000000   \n",
       "mean                -0.395932                       0.397198   \n",
       "std                  0.840809                       0.801573   \n",
       "min                 -2.238177                      -2.023623   \n",
       "25%                 -0.782207                      -0.138263   \n",
       "50%                 -0.054222                       0.409100   \n",
       "75%                 -0.054222                       0.956463   \n",
       "max                  2.129732                       2.781005   \n",
       "\n",
       "       HPC outlet temperature (°C)  \n",
       "count                 12039.000000  \n",
       "mean                      3.816596  \n",
       "std                       1.406706  \n",
       "min                       0.000000  \n",
       "25%                       3.000000  \n",
       "50%                       4.000000  \n",
       "75%                       5.000000  \n",
       "max                       6.000000  "
      ]
     },
     "execution_count": 83,
     "metadata": {},
     "output_type": "execute_result"
    }
   ],
   "source": [
    "X_test_scaled.describe()"
   ]
  },
  {
   "cell_type": "markdown",
   "metadata": {
    "id": "K9P9cvpH73he"
   },
   "source": [
    "### **2.2 Model training and evaluation**\n",
    "Now that our dataset has been preprocessed, we can use it to train Machine Learning models.\n",
    "\n",
    "\n",
    "\n"
   ]
  },
  {
   "cell_type": "code",
   "execution_count": 84,
   "metadata": {
    "id": "lrOnwmzxLGdL"
   },
   "outputs": [],
   "source": [
    "# Metrics for evaluation\n",
    "from sklearn.metrics import (\n",
    "    accuracy_score, precision_score, recall_score, f1_score,\n",
    "    confusion_matrix, roc_curve, auc, precision_recall_curve,\n",
    "    classification_report, roc_auc_score, PrecisionRecallDisplay, average_precision_score\n",
    ")\n",
    "\n",
    "# hyperparameter tuning\n",
    "from sklearn.model_selection import GridSearchCV\n",
    "\n",
    "# Classification algorithms\n",
    "from sklearn.linear_model import LogisticRegression\n",
    "from sklearn.neighbors import KNeighborsClassifier\n",
    "from sklearn.tree import DecisionTreeClassifier\n",
    "from sklearn.ensemble import RandomForestClassifier, GradientBoostingClassifier\n",
    "from sklearn.svm import SVC\n",
    "from sklearn.metrics import ConfusionMatrixDisplay\n",
    "\n",
    "# Plotting & Style\n",
    "import seaborn as sns\n",
    "sns.set(style=\"whitegrid\")\n"
   ]
  },
  {
   "cell_type": "markdown",
   "metadata": {
    "id": "XNL0EcTFwFJX"
   },
   "source": [
    "**Train three models of your choice** (Logistic Regression, K nearest neighbor, Decision Tree,...) **using scikit-learn's `.fit()` method. <br>**\n",
    "\n",
    "<u>Help</u>: Train these models on the training set (`X_train` and `y_train`).\n",
    "\n",
    "advice: Try Random Forest\n",
    "\n"
   ]
  },
  {
   "cell_type": "markdown",
   "metadata": {
    "id": "NOqEmiJV7x-Z"
   },
   "source": [
    "**Why classification instead of regression?**\n",
    "\n",
    "Although the Remaining Useful Life (RUL) is a continuous variable, here we approach the problem as classification because:\n",
    "\n",
    "- Classification simplifies decision-making by focusing on whether an engine is likely to fail soon (within 30 cycles) rather than predicting the exact remaining cycles.\n",
    "- Regression models on RUL often struggle to be robust due to noise and variability in the sensor data.\n",
    "- Classification allows for more stable, actionable predictions aligned with maintenance needs: \"replace soon\" vs \"safe\"."
   ]
  },
  {
   "cell_type": "markdown",
   "metadata": {
    "id": "QkHDWOJsjviz"
   },
   "source": [
    "<u>**Question 2.2.1**:</u> <br>  Choose any three models to try. Which ones do you pick ?"
   ]
  },
  {
   "cell_type": "markdown",
   "metadata": {},
   "source": [
    "**We chose KNN, Decision Tree and Gradient Boosting. We tested Random Forest but the test recall result was less than for the other classifier**"
   ]
  },
  {
   "cell_type": "markdown",
   "metadata": {
    "id": "J6LvCTBQj3uV"
   },
   "source": [
    "<u>**Question 2.2.2**:</u> <br> Train the FIRST selected model using .fit(X_train_scaled, y_train)."
   ]
  },
  {
   "cell_type": "code",
   "execution_count": 85,
   "metadata": {},
   "outputs": [
    {
     "data": {
      "text/html": [
       "<style>#sk-container-id-4 {\n",
       "  /* Definition of color scheme common for light and dark mode */\n",
       "  --sklearn-color-text: #000;\n",
       "  --sklearn-color-text-muted: #666;\n",
       "  --sklearn-color-line: gray;\n",
       "  /* Definition of color scheme for unfitted estimators */\n",
       "  --sklearn-color-unfitted-level-0: #fff5e6;\n",
       "  --sklearn-color-unfitted-level-1: #f6e4d2;\n",
       "  --sklearn-color-unfitted-level-2: #ffe0b3;\n",
       "  --sklearn-color-unfitted-level-3: chocolate;\n",
       "  /* Definition of color scheme for fitted estimators */\n",
       "  --sklearn-color-fitted-level-0: #f0f8ff;\n",
       "  --sklearn-color-fitted-level-1: #d4ebff;\n",
       "  --sklearn-color-fitted-level-2: #b3dbfd;\n",
       "  --sklearn-color-fitted-level-3: cornflowerblue;\n",
       "\n",
       "  /* Specific color for light theme */\n",
       "  --sklearn-color-text-on-default-background: var(--sg-text-color, var(--theme-code-foreground, var(--jp-content-font-color1, black)));\n",
       "  --sklearn-color-background: var(--sg-background-color, var(--theme-background, var(--jp-layout-color0, white)));\n",
       "  --sklearn-color-border-box: var(--sg-text-color, var(--theme-code-foreground, var(--jp-content-font-color1, black)));\n",
       "  --sklearn-color-icon: #696969;\n",
       "\n",
       "  @media (prefers-color-scheme: dark) {\n",
       "    /* Redefinition of color scheme for dark theme */\n",
       "    --sklearn-color-text-on-default-background: var(--sg-text-color, var(--theme-code-foreground, var(--jp-content-font-color1, white)));\n",
       "    --sklearn-color-background: var(--sg-background-color, var(--theme-background, var(--jp-layout-color0, #111)));\n",
       "    --sklearn-color-border-box: var(--sg-text-color, var(--theme-code-foreground, var(--jp-content-font-color1, white)));\n",
       "    --sklearn-color-icon: #878787;\n",
       "  }\n",
       "}\n",
       "\n",
       "#sk-container-id-4 {\n",
       "  color: var(--sklearn-color-text);\n",
       "}\n",
       "\n",
       "#sk-container-id-4 pre {\n",
       "  padding: 0;\n",
       "}\n",
       "\n",
       "#sk-container-id-4 input.sk-hidden--visually {\n",
       "  border: 0;\n",
       "  clip: rect(1px 1px 1px 1px);\n",
       "  clip: rect(1px, 1px, 1px, 1px);\n",
       "  height: 1px;\n",
       "  margin: -1px;\n",
       "  overflow: hidden;\n",
       "  padding: 0;\n",
       "  position: absolute;\n",
       "  width: 1px;\n",
       "}\n",
       "\n",
       "#sk-container-id-4 div.sk-dashed-wrapped {\n",
       "  border: 1px dashed var(--sklearn-color-line);\n",
       "  margin: 0 0.4em 0.5em 0.4em;\n",
       "  box-sizing: border-box;\n",
       "  padding-bottom: 0.4em;\n",
       "  background-color: var(--sklearn-color-background);\n",
       "}\n",
       "\n",
       "#sk-container-id-4 div.sk-container {\n",
       "  /* jupyter's `normalize.less` sets `[hidden] { display: none; }`\n",
       "     but bootstrap.min.css set `[hidden] { display: none !important; }`\n",
       "     so we also need the `!important` here to be able to override the\n",
       "     default hidden behavior on the sphinx rendered scikit-learn.org.\n",
       "     See: https://github.com/scikit-learn/scikit-learn/issues/21755 */\n",
       "  display: inline-block !important;\n",
       "  position: relative;\n",
       "}\n",
       "\n",
       "#sk-container-id-4 div.sk-text-repr-fallback {\n",
       "  display: none;\n",
       "}\n",
       "\n",
       "div.sk-parallel-item,\n",
       "div.sk-serial,\n",
       "div.sk-item {\n",
       "  /* draw centered vertical line to link estimators */\n",
       "  background-image: linear-gradient(var(--sklearn-color-text-on-default-background), var(--sklearn-color-text-on-default-background));\n",
       "  background-size: 2px 100%;\n",
       "  background-repeat: no-repeat;\n",
       "  background-position: center center;\n",
       "}\n",
       "\n",
       "/* Parallel-specific style estimator block */\n",
       "\n",
       "#sk-container-id-4 div.sk-parallel-item::after {\n",
       "  content: \"\";\n",
       "  width: 100%;\n",
       "  border-bottom: 2px solid var(--sklearn-color-text-on-default-background);\n",
       "  flex-grow: 1;\n",
       "}\n",
       "\n",
       "#sk-container-id-4 div.sk-parallel {\n",
       "  display: flex;\n",
       "  align-items: stretch;\n",
       "  justify-content: center;\n",
       "  background-color: var(--sklearn-color-background);\n",
       "  position: relative;\n",
       "}\n",
       "\n",
       "#sk-container-id-4 div.sk-parallel-item {\n",
       "  display: flex;\n",
       "  flex-direction: column;\n",
       "}\n",
       "\n",
       "#sk-container-id-4 div.sk-parallel-item:first-child::after {\n",
       "  align-self: flex-end;\n",
       "  width: 50%;\n",
       "}\n",
       "\n",
       "#sk-container-id-4 div.sk-parallel-item:last-child::after {\n",
       "  align-self: flex-start;\n",
       "  width: 50%;\n",
       "}\n",
       "\n",
       "#sk-container-id-4 div.sk-parallel-item:only-child::after {\n",
       "  width: 0;\n",
       "}\n",
       "\n",
       "/* Serial-specific style estimator block */\n",
       "\n",
       "#sk-container-id-4 div.sk-serial {\n",
       "  display: flex;\n",
       "  flex-direction: column;\n",
       "  align-items: center;\n",
       "  background-color: var(--sklearn-color-background);\n",
       "  padding-right: 1em;\n",
       "  padding-left: 1em;\n",
       "}\n",
       "\n",
       "\n",
       "/* Toggleable style: style used for estimator/Pipeline/ColumnTransformer box that is\n",
       "clickable and can be expanded/collapsed.\n",
       "- Pipeline and ColumnTransformer use this feature and define the default style\n",
       "- Estimators will overwrite some part of the style using the `sk-estimator` class\n",
       "*/\n",
       "\n",
       "/* Pipeline and ColumnTransformer style (default) */\n",
       "\n",
       "#sk-container-id-4 div.sk-toggleable {\n",
       "  /* Default theme specific background. It is overwritten whether we have a\n",
       "  specific estimator or a Pipeline/ColumnTransformer */\n",
       "  background-color: var(--sklearn-color-background);\n",
       "}\n",
       "\n",
       "/* Toggleable label */\n",
       "#sk-container-id-4 label.sk-toggleable__label {\n",
       "  cursor: pointer;\n",
       "  display: flex;\n",
       "  width: 100%;\n",
       "  margin-bottom: 0;\n",
       "  padding: 0.5em;\n",
       "  box-sizing: border-box;\n",
       "  text-align: center;\n",
       "  align-items: start;\n",
       "  justify-content: space-between;\n",
       "  gap: 0.5em;\n",
       "}\n",
       "\n",
       "#sk-container-id-4 label.sk-toggleable__label .caption {\n",
       "  font-size: 0.6rem;\n",
       "  font-weight: lighter;\n",
       "  color: var(--sklearn-color-text-muted);\n",
       "}\n",
       "\n",
       "#sk-container-id-4 label.sk-toggleable__label-arrow:before {\n",
       "  /* Arrow on the left of the label */\n",
       "  content: \"▸\";\n",
       "  float: left;\n",
       "  margin-right: 0.25em;\n",
       "  color: var(--sklearn-color-icon);\n",
       "}\n",
       "\n",
       "#sk-container-id-4 label.sk-toggleable__label-arrow:hover:before {\n",
       "  color: var(--sklearn-color-text);\n",
       "}\n",
       "\n",
       "/* Toggleable content - dropdown */\n",
       "\n",
       "#sk-container-id-4 div.sk-toggleable__content {\n",
       "  max-height: 0;\n",
       "  max-width: 0;\n",
       "  overflow: hidden;\n",
       "  text-align: left;\n",
       "  /* unfitted */\n",
       "  background-color: var(--sklearn-color-unfitted-level-0);\n",
       "}\n",
       "\n",
       "#sk-container-id-4 div.sk-toggleable__content.fitted {\n",
       "  /* fitted */\n",
       "  background-color: var(--sklearn-color-fitted-level-0);\n",
       "}\n",
       "\n",
       "#sk-container-id-4 div.sk-toggleable__content pre {\n",
       "  margin: 0.2em;\n",
       "  border-radius: 0.25em;\n",
       "  color: var(--sklearn-color-text);\n",
       "  /* unfitted */\n",
       "  background-color: var(--sklearn-color-unfitted-level-0);\n",
       "}\n",
       "\n",
       "#sk-container-id-4 div.sk-toggleable__content.fitted pre {\n",
       "  /* unfitted */\n",
       "  background-color: var(--sklearn-color-fitted-level-0);\n",
       "}\n",
       "\n",
       "#sk-container-id-4 input.sk-toggleable__control:checked~div.sk-toggleable__content {\n",
       "  /* Expand drop-down */\n",
       "  max-height: 200px;\n",
       "  max-width: 100%;\n",
       "  overflow: auto;\n",
       "}\n",
       "\n",
       "#sk-container-id-4 input.sk-toggleable__control:checked~label.sk-toggleable__label-arrow:before {\n",
       "  content: \"▾\";\n",
       "}\n",
       "\n",
       "/* Pipeline/ColumnTransformer-specific style */\n",
       "\n",
       "#sk-container-id-4 div.sk-label input.sk-toggleable__control:checked~label.sk-toggleable__label {\n",
       "  color: var(--sklearn-color-text);\n",
       "  background-color: var(--sklearn-color-unfitted-level-2);\n",
       "}\n",
       "\n",
       "#sk-container-id-4 div.sk-label.fitted input.sk-toggleable__control:checked~label.sk-toggleable__label {\n",
       "  background-color: var(--sklearn-color-fitted-level-2);\n",
       "}\n",
       "\n",
       "/* Estimator-specific style */\n",
       "\n",
       "/* Colorize estimator box */\n",
       "#sk-container-id-4 div.sk-estimator input.sk-toggleable__control:checked~label.sk-toggleable__label {\n",
       "  /* unfitted */\n",
       "  background-color: var(--sklearn-color-unfitted-level-2);\n",
       "}\n",
       "\n",
       "#sk-container-id-4 div.sk-estimator.fitted input.sk-toggleable__control:checked~label.sk-toggleable__label {\n",
       "  /* fitted */\n",
       "  background-color: var(--sklearn-color-fitted-level-2);\n",
       "}\n",
       "\n",
       "#sk-container-id-4 div.sk-label label.sk-toggleable__label,\n",
       "#sk-container-id-4 div.sk-label label {\n",
       "  /* The background is the default theme color */\n",
       "  color: var(--sklearn-color-text-on-default-background);\n",
       "}\n",
       "\n",
       "/* On hover, darken the color of the background */\n",
       "#sk-container-id-4 div.sk-label:hover label.sk-toggleable__label {\n",
       "  color: var(--sklearn-color-text);\n",
       "  background-color: var(--sklearn-color-unfitted-level-2);\n",
       "}\n",
       "\n",
       "/* Label box, darken color on hover, fitted */\n",
       "#sk-container-id-4 div.sk-label.fitted:hover label.sk-toggleable__label.fitted {\n",
       "  color: var(--sklearn-color-text);\n",
       "  background-color: var(--sklearn-color-fitted-level-2);\n",
       "}\n",
       "\n",
       "/* Estimator label */\n",
       "\n",
       "#sk-container-id-4 div.sk-label label {\n",
       "  font-family: monospace;\n",
       "  font-weight: bold;\n",
       "  display: inline-block;\n",
       "  line-height: 1.2em;\n",
       "}\n",
       "\n",
       "#sk-container-id-4 div.sk-label-container {\n",
       "  text-align: center;\n",
       "}\n",
       "\n",
       "/* Estimator-specific */\n",
       "#sk-container-id-4 div.sk-estimator {\n",
       "  font-family: monospace;\n",
       "  border: 1px dotted var(--sklearn-color-border-box);\n",
       "  border-radius: 0.25em;\n",
       "  box-sizing: border-box;\n",
       "  margin-bottom: 0.5em;\n",
       "  /* unfitted */\n",
       "  background-color: var(--sklearn-color-unfitted-level-0);\n",
       "}\n",
       "\n",
       "#sk-container-id-4 div.sk-estimator.fitted {\n",
       "  /* fitted */\n",
       "  background-color: var(--sklearn-color-fitted-level-0);\n",
       "}\n",
       "\n",
       "/* on hover */\n",
       "#sk-container-id-4 div.sk-estimator:hover {\n",
       "  /* unfitted */\n",
       "  background-color: var(--sklearn-color-unfitted-level-2);\n",
       "}\n",
       "\n",
       "#sk-container-id-4 div.sk-estimator.fitted:hover {\n",
       "  /* fitted */\n",
       "  background-color: var(--sklearn-color-fitted-level-2);\n",
       "}\n",
       "\n",
       "/* Specification for estimator info (e.g. \"i\" and \"?\") */\n",
       "\n",
       "/* Common style for \"i\" and \"?\" */\n",
       "\n",
       ".sk-estimator-doc-link,\n",
       "a:link.sk-estimator-doc-link,\n",
       "a:visited.sk-estimator-doc-link {\n",
       "  float: right;\n",
       "  font-size: smaller;\n",
       "  line-height: 1em;\n",
       "  font-family: monospace;\n",
       "  background-color: var(--sklearn-color-background);\n",
       "  border-radius: 1em;\n",
       "  height: 1em;\n",
       "  width: 1em;\n",
       "  text-decoration: none !important;\n",
       "  margin-left: 0.5em;\n",
       "  text-align: center;\n",
       "  /* unfitted */\n",
       "  border: var(--sklearn-color-unfitted-level-1) 1pt solid;\n",
       "  color: var(--sklearn-color-unfitted-level-1);\n",
       "}\n",
       "\n",
       ".sk-estimator-doc-link.fitted,\n",
       "a:link.sk-estimator-doc-link.fitted,\n",
       "a:visited.sk-estimator-doc-link.fitted {\n",
       "  /* fitted */\n",
       "  border: var(--sklearn-color-fitted-level-1) 1pt solid;\n",
       "  color: var(--sklearn-color-fitted-level-1);\n",
       "}\n",
       "\n",
       "/* On hover */\n",
       "div.sk-estimator:hover .sk-estimator-doc-link:hover,\n",
       ".sk-estimator-doc-link:hover,\n",
       "div.sk-label-container:hover .sk-estimator-doc-link:hover,\n",
       ".sk-estimator-doc-link:hover {\n",
       "  /* unfitted */\n",
       "  background-color: var(--sklearn-color-unfitted-level-3);\n",
       "  color: var(--sklearn-color-background);\n",
       "  text-decoration: none;\n",
       "}\n",
       "\n",
       "div.sk-estimator.fitted:hover .sk-estimator-doc-link.fitted:hover,\n",
       ".sk-estimator-doc-link.fitted:hover,\n",
       "div.sk-label-container:hover .sk-estimator-doc-link.fitted:hover,\n",
       ".sk-estimator-doc-link.fitted:hover {\n",
       "  /* fitted */\n",
       "  background-color: var(--sklearn-color-fitted-level-3);\n",
       "  color: var(--sklearn-color-background);\n",
       "  text-decoration: none;\n",
       "}\n",
       "\n",
       "/* Span, style for the box shown on hovering the info icon */\n",
       ".sk-estimator-doc-link span {\n",
       "  display: none;\n",
       "  z-index: 9999;\n",
       "  position: relative;\n",
       "  font-weight: normal;\n",
       "  right: .2ex;\n",
       "  padding: .5ex;\n",
       "  margin: .5ex;\n",
       "  width: min-content;\n",
       "  min-width: 20ex;\n",
       "  max-width: 50ex;\n",
       "  color: var(--sklearn-color-text);\n",
       "  box-shadow: 2pt 2pt 4pt #999;\n",
       "  /* unfitted */\n",
       "  background: var(--sklearn-color-unfitted-level-0);\n",
       "  border: .5pt solid var(--sklearn-color-unfitted-level-3);\n",
       "}\n",
       "\n",
       ".sk-estimator-doc-link.fitted span {\n",
       "  /* fitted */\n",
       "  background: var(--sklearn-color-fitted-level-0);\n",
       "  border: var(--sklearn-color-fitted-level-3);\n",
       "}\n",
       "\n",
       ".sk-estimator-doc-link:hover span {\n",
       "  display: block;\n",
       "}\n",
       "\n",
       "/* \"?\"-specific style due to the `<a>` HTML tag */\n",
       "\n",
       "#sk-container-id-4 a.estimator_doc_link {\n",
       "  float: right;\n",
       "  font-size: 1rem;\n",
       "  line-height: 1em;\n",
       "  font-family: monospace;\n",
       "  background-color: var(--sklearn-color-background);\n",
       "  border-radius: 1rem;\n",
       "  height: 1rem;\n",
       "  width: 1rem;\n",
       "  text-decoration: none;\n",
       "  /* unfitted */\n",
       "  color: var(--sklearn-color-unfitted-level-1);\n",
       "  border: var(--sklearn-color-unfitted-level-1) 1pt solid;\n",
       "}\n",
       "\n",
       "#sk-container-id-4 a.estimator_doc_link.fitted {\n",
       "  /* fitted */\n",
       "  border: var(--sklearn-color-fitted-level-1) 1pt solid;\n",
       "  color: var(--sklearn-color-fitted-level-1);\n",
       "}\n",
       "\n",
       "/* On hover */\n",
       "#sk-container-id-4 a.estimator_doc_link:hover {\n",
       "  /* unfitted */\n",
       "  background-color: var(--sklearn-color-unfitted-level-3);\n",
       "  color: var(--sklearn-color-background);\n",
       "  text-decoration: none;\n",
       "}\n",
       "\n",
       "#sk-container-id-4 a.estimator_doc_link.fitted:hover {\n",
       "  /* fitted */\n",
       "  background-color: var(--sklearn-color-fitted-level-3);\n",
       "}\n",
       "</style><div id=\"sk-container-id-4\" class=\"sk-top-container\"><div class=\"sk-text-repr-fallback\"><pre>KNeighborsClassifier()</pre><b>In a Jupyter environment, please rerun this cell to show the HTML representation or trust the notebook. <br />On GitHub, the HTML representation is unable to render, please try loading this page with nbviewer.org.</b></div><div class=\"sk-container\" hidden><div class=\"sk-item\"><div class=\"sk-estimator fitted sk-toggleable\"><input class=\"sk-toggleable__control sk-hidden--visually\" id=\"sk-estimator-id-4\" type=\"checkbox\" checked><label for=\"sk-estimator-id-4\" class=\"sk-toggleable__label fitted sk-toggleable__label-arrow\"><div><div>KNeighborsClassifier</div></div><div><a class=\"sk-estimator-doc-link fitted\" rel=\"noreferrer\" target=\"_blank\" href=\"https://scikit-learn.org/1.6/modules/generated/sklearn.neighbors.KNeighborsClassifier.html\">?<span>Documentation for KNeighborsClassifier</span></a><span class=\"sk-estimator-doc-link fitted\">i<span>Fitted</span></span></div></label><div class=\"sk-toggleable__content fitted\"><pre>KNeighborsClassifier()</pre></div> </div></div></div></div>"
      ],
      "text/plain": [
       "KNeighborsClassifier()"
      ]
     },
     "execution_count": 85,
     "metadata": {},
     "output_type": "execute_result"
    }
   ],
   "source": [
    "# 1. K Nearest Neighbors\n",
    "knn_model = KNeighborsClassifier()\n",
    "knn_model.fit(X_train_scaled, y_train)\n"
   ]
  },
  {
   "cell_type": "markdown",
   "metadata": {
    "id": "GuAK_ClYkWfE"
   },
   "source": [
    "<u>**Question 2.2.3**:</u> <br> Train the SECOND and THIRD selected models."
   ]
  },
  {
   "cell_type": "code",
   "execution_count": 86,
   "metadata": {
    "id": "EP4racwN3Erz"
   },
   "outputs": [
    {
     "data": {
      "text/html": [
       "<style>#sk-container-id-5 {\n",
       "  /* Definition of color scheme common for light and dark mode */\n",
       "  --sklearn-color-text: #000;\n",
       "  --sklearn-color-text-muted: #666;\n",
       "  --sklearn-color-line: gray;\n",
       "  /* Definition of color scheme for unfitted estimators */\n",
       "  --sklearn-color-unfitted-level-0: #fff5e6;\n",
       "  --sklearn-color-unfitted-level-1: #f6e4d2;\n",
       "  --sklearn-color-unfitted-level-2: #ffe0b3;\n",
       "  --sklearn-color-unfitted-level-3: chocolate;\n",
       "  /* Definition of color scheme for fitted estimators */\n",
       "  --sklearn-color-fitted-level-0: #f0f8ff;\n",
       "  --sklearn-color-fitted-level-1: #d4ebff;\n",
       "  --sklearn-color-fitted-level-2: #b3dbfd;\n",
       "  --sklearn-color-fitted-level-3: cornflowerblue;\n",
       "\n",
       "  /* Specific color for light theme */\n",
       "  --sklearn-color-text-on-default-background: var(--sg-text-color, var(--theme-code-foreground, var(--jp-content-font-color1, black)));\n",
       "  --sklearn-color-background: var(--sg-background-color, var(--theme-background, var(--jp-layout-color0, white)));\n",
       "  --sklearn-color-border-box: var(--sg-text-color, var(--theme-code-foreground, var(--jp-content-font-color1, black)));\n",
       "  --sklearn-color-icon: #696969;\n",
       "\n",
       "  @media (prefers-color-scheme: dark) {\n",
       "    /* Redefinition of color scheme for dark theme */\n",
       "    --sklearn-color-text-on-default-background: var(--sg-text-color, var(--theme-code-foreground, var(--jp-content-font-color1, white)));\n",
       "    --sklearn-color-background: var(--sg-background-color, var(--theme-background, var(--jp-layout-color0, #111)));\n",
       "    --sklearn-color-border-box: var(--sg-text-color, var(--theme-code-foreground, var(--jp-content-font-color1, white)));\n",
       "    --sklearn-color-icon: #878787;\n",
       "  }\n",
       "}\n",
       "\n",
       "#sk-container-id-5 {\n",
       "  color: var(--sklearn-color-text);\n",
       "}\n",
       "\n",
       "#sk-container-id-5 pre {\n",
       "  padding: 0;\n",
       "}\n",
       "\n",
       "#sk-container-id-5 input.sk-hidden--visually {\n",
       "  border: 0;\n",
       "  clip: rect(1px 1px 1px 1px);\n",
       "  clip: rect(1px, 1px, 1px, 1px);\n",
       "  height: 1px;\n",
       "  margin: -1px;\n",
       "  overflow: hidden;\n",
       "  padding: 0;\n",
       "  position: absolute;\n",
       "  width: 1px;\n",
       "}\n",
       "\n",
       "#sk-container-id-5 div.sk-dashed-wrapped {\n",
       "  border: 1px dashed var(--sklearn-color-line);\n",
       "  margin: 0 0.4em 0.5em 0.4em;\n",
       "  box-sizing: border-box;\n",
       "  padding-bottom: 0.4em;\n",
       "  background-color: var(--sklearn-color-background);\n",
       "}\n",
       "\n",
       "#sk-container-id-5 div.sk-container {\n",
       "  /* jupyter's `normalize.less` sets `[hidden] { display: none; }`\n",
       "     but bootstrap.min.css set `[hidden] { display: none !important; }`\n",
       "     so we also need the `!important` here to be able to override the\n",
       "     default hidden behavior on the sphinx rendered scikit-learn.org.\n",
       "     See: https://github.com/scikit-learn/scikit-learn/issues/21755 */\n",
       "  display: inline-block !important;\n",
       "  position: relative;\n",
       "}\n",
       "\n",
       "#sk-container-id-5 div.sk-text-repr-fallback {\n",
       "  display: none;\n",
       "}\n",
       "\n",
       "div.sk-parallel-item,\n",
       "div.sk-serial,\n",
       "div.sk-item {\n",
       "  /* draw centered vertical line to link estimators */\n",
       "  background-image: linear-gradient(var(--sklearn-color-text-on-default-background), var(--sklearn-color-text-on-default-background));\n",
       "  background-size: 2px 100%;\n",
       "  background-repeat: no-repeat;\n",
       "  background-position: center center;\n",
       "}\n",
       "\n",
       "/* Parallel-specific style estimator block */\n",
       "\n",
       "#sk-container-id-5 div.sk-parallel-item::after {\n",
       "  content: \"\";\n",
       "  width: 100%;\n",
       "  border-bottom: 2px solid var(--sklearn-color-text-on-default-background);\n",
       "  flex-grow: 1;\n",
       "}\n",
       "\n",
       "#sk-container-id-5 div.sk-parallel {\n",
       "  display: flex;\n",
       "  align-items: stretch;\n",
       "  justify-content: center;\n",
       "  background-color: var(--sklearn-color-background);\n",
       "  position: relative;\n",
       "}\n",
       "\n",
       "#sk-container-id-5 div.sk-parallel-item {\n",
       "  display: flex;\n",
       "  flex-direction: column;\n",
       "}\n",
       "\n",
       "#sk-container-id-5 div.sk-parallel-item:first-child::after {\n",
       "  align-self: flex-end;\n",
       "  width: 50%;\n",
       "}\n",
       "\n",
       "#sk-container-id-5 div.sk-parallel-item:last-child::after {\n",
       "  align-self: flex-start;\n",
       "  width: 50%;\n",
       "}\n",
       "\n",
       "#sk-container-id-5 div.sk-parallel-item:only-child::after {\n",
       "  width: 0;\n",
       "}\n",
       "\n",
       "/* Serial-specific style estimator block */\n",
       "\n",
       "#sk-container-id-5 div.sk-serial {\n",
       "  display: flex;\n",
       "  flex-direction: column;\n",
       "  align-items: center;\n",
       "  background-color: var(--sklearn-color-background);\n",
       "  padding-right: 1em;\n",
       "  padding-left: 1em;\n",
       "}\n",
       "\n",
       "\n",
       "/* Toggleable style: style used for estimator/Pipeline/ColumnTransformer box that is\n",
       "clickable and can be expanded/collapsed.\n",
       "- Pipeline and ColumnTransformer use this feature and define the default style\n",
       "- Estimators will overwrite some part of the style using the `sk-estimator` class\n",
       "*/\n",
       "\n",
       "/* Pipeline and ColumnTransformer style (default) */\n",
       "\n",
       "#sk-container-id-5 div.sk-toggleable {\n",
       "  /* Default theme specific background. It is overwritten whether we have a\n",
       "  specific estimator or a Pipeline/ColumnTransformer */\n",
       "  background-color: var(--sklearn-color-background);\n",
       "}\n",
       "\n",
       "/* Toggleable label */\n",
       "#sk-container-id-5 label.sk-toggleable__label {\n",
       "  cursor: pointer;\n",
       "  display: flex;\n",
       "  width: 100%;\n",
       "  margin-bottom: 0;\n",
       "  padding: 0.5em;\n",
       "  box-sizing: border-box;\n",
       "  text-align: center;\n",
       "  align-items: start;\n",
       "  justify-content: space-between;\n",
       "  gap: 0.5em;\n",
       "}\n",
       "\n",
       "#sk-container-id-5 label.sk-toggleable__label .caption {\n",
       "  font-size: 0.6rem;\n",
       "  font-weight: lighter;\n",
       "  color: var(--sklearn-color-text-muted);\n",
       "}\n",
       "\n",
       "#sk-container-id-5 label.sk-toggleable__label-arrow:before {\n",
       "  /* Arrow on the left of the label */\n",
       "  content: \"▸\";\n",
       "  float: left;\n",
       "  margin-right: 0.25em;\n",
       "  color: var(--sklearn-color-icon);\n",
       "}\n",
       "\n",
       "#sk-container-id-5 label.sk-toggleable__label-arrow:hover:before {\n",
       "  color: var(--sklearn-color-text);\n",
       "}\n",
       "\n",
       "/* Toggleable content - dropdown */\n",
       "\n",
       "#sk-container-id-5 div.sk-toggleable__content {\n",
       "  max-height: 0;\n",
       "  max-width: 0;\n",
       "  overflow: hidden;\n",
       "  text-align: left;\n",
       "  /* unfitted */\n",
       "  background-color: var(--sklearn-color-unfitted-level-0);\n",
       "}\n",
       "\n",
       "#sk-container-id-5 div.sk-toggleable__content.fitted {\n",
       "  /* fitted */\n",
       "  background-color: var(--sklearn-color-fitted-level-0);\n",
       "}\n",
       "\n",
       "#sk-container-id-5 div.sk-toggleable__content pre {\n",
       "  margin: 0.2em;\n",
       "  border-radius: 0.25em;\n",
       "  color: var(--sklearn-color-text);\n",
       "  /* unfitted */\n",
       "  background-color: var(--sklearn-color-unfitted-level-0);\n",
       "}\n",
       "\n",
       "#sk-container-id-5 div.sk-toggleable__content.fitted pre {\n",
       "  /* unfitted */\n",
       "  background-color: var(--sklearn-color-fitted-level-0);\n",
       "}\n",
       "\n",
       "#sk-container-id-5 input.sk-toggleable__control:checked~div.sk-toggleable__content {\n",
       "  /* Expand drop-down */\n",
       "  max-height: 200px;\n",
       "  max-width: 100%;\n",
       "  overflow: auto;\n",
       "}\n",
       "\n",
       "#sk-container-id-5 input.sk-toggleable__control:checked~label.sk-toggleable__label-arrow:before {\n",
       "  content: \"▾\";\n",
       "}\n",
       "\n",
       "/* Pipeline/ColumnTransformer-specific style */\n",
       "\n",
       "#sk-container-id-5 div.sk-label input.sk-toggleable__control:checked~label.sk-toggleable__label {\n",
       "  color: var(--sklearn-color-text);\n",
       "  background-color: var(--sklearn-color-unfitted-level-2);\n",
       "}\n",
       "\n",
       "#sk-container-id-5 div.sk-label.fitted input.sk-toggleable__control:checked~label.sk-toggleable__label {\n",
       "  background-color: var(--sklearn-color-fitted-level-2);\n",
       "}\n",
       "\n",
       "/* Estimator-specific style */\n",
       "\n",
       "/* Colorize estimator box */\n",
       "#sk-container-id-5 div.sk-estimator input.sk-toggleable__control:checked~label.sk-toggleable__label {\n",
       "  /* unfitted */\n",
       "  background-color: var(--sklearn-color-unfitted-level-2);\n",
       "}\n",
       "\n",
       "#sk-container-id-5 div.sk-estimator.fitted input.sk-toggleable__control:checked~label.sk-toggleable__label {\n",
       "  /* fitted */\n",
       "  background-color: var(--sklearn-color-fitted-level-2);\n",
       "}\n",
       "\n",
       "#sk-container-id-5 div.sk-label label.sk-toggleable__label,\n",
       "#sk-container-id-5 div.sk-label label {\n",
       "  /* The background is the default theme color */\n",
       "  color: var(--sklearn-color-text-on-default-background);\n",
       "}\n",
       "\n",
       "/* On hover, darken the color of the background */\n",
       "#sk-container-id-5 div.sk-label:hover label.sk-toggleable__label {\n",
       "  color: var(--sklearn-color-text);\n",
       "  background-color: var(--sklearn-color-unfitted-level-2);\n",
       "}\n",
       "\n",
       "/* Label box, darken color on hover, fitted */\n",
       "#sk-container-id-5 div.sk-label.fitted:hover label.sk-toggleable__label.fitted {\n",
       "  color: var(--sklearn-color-text);\n",
       "  background-color: var(--sklearn-color-fitted-level-2);\n",
       "}\n",
       "\n",
       "/* Estimator label */\n",
       "\n",
       "#sk-container-id-5 div.sk-label label {\n",
       "  font-family: monospace;\n",
       "  font-weight: bold;\n",
       "  display: inline-block;\n",
       "  line-height: 1.2em;\n",
       "}\n",
       "\n",
       "#sk-container-id-5 div.sk-label-container {\n",
       "  text-align: center;\n",
       "}\n",
       "\n",
       "/* Estimator-specific */\n",
       "#sk-container-id-5 div.sk-estimator {\n",
       "  font-family: monospace;\n",
       "  border: 1px dotted var(--sklearn-color-border-box);\n",
       "  border-radius: 0.25em;\n",
       "  box-sizing: border-box;\n",
       "  margin-bottom: 0.5em;\n",
       "  /* unfitted */\n",
       "  background-color: var(--sklearn-color-unfitted-level-0);\n",
       "}\n",
       "\n",
       "#sk-container-id-5 div.sk-estimator.fitted {\n",
       "  /* fitted */\n",
       "  background-color: var(--sklearn-color-fitted-level-0);\n",
       "}\n",
       "\n",
       "/* on hover */\n",
       "#sk-container-id-5 div.sk-estimator:hover {\n",
       "  /* unfitted */\n",
       "  background-color: var(--sklearn-color-unfitted-level-2);\n",
       "}\n",
       "\n",
       "#sk-container-id-5 div.sk-estimator.fitted:hover {\n",
       "  /* fitted */\n",
       "  background-color: var(--sklearn-color-fitted-level-2);\n",
       "}\n",
       "\n",
       "/* Specification for estimator info (e.g. \"i\" and \"?\") */\n",
       "\n",
       "/* Common style for \"i\" and \"?\" */\n",
       "\n",
       ".sk-estimator-doc-link,\n",
       "a:link.sk-estimator-doc-link,\n",
       "a:visited.sk-estimator-doc-link {\n",
       "  float: right;\n",
       "  font-size: smaller;\n",
       "  line-height: 1em;\n",
       "  font-family: monospace;\n",
       "  background-color: var(--sklearn-color-background);\n",
       "  border-radius: 1em;\n",
       "  height: 1em;\n",
       "  width: 1em;\n",
       "  text-decoration: none !important;\n",
       "  margin-left: 0.5em;\n",
       "  text-align: center;\n",
       "  /* unfitted */\n",
       "  border: var(--sklearn-color-unfitted-level-1) 1pt solid;\n",
       "  color: var(--sklearn-color-unfitted-level-1);\n",
       "}\n",
       "\n",
       ".sk-estimator-doc-link.fitted,\n",
       "a:link.sk-estimator-doc-link.fitted,\n",
       "a:visited.sk-estimator-doc-link.fitted {\n",
       "  /* fitted */\n",
       "  border: var(--sklearn-color-fitted-level-1) 1pt solid;\n",
       "  color: var(--sklearn-color-fitted-level-1);\n",
       "}\n",
       "\n",
       "/* On hover */\n",
       "div.sk-estimator:hover .sk-estimator-doc-link:hover,\n",
       ".sk-estimator-doc-link:hover,\n",
       "div.sk-label-container:hover .sk-estimator-doc-link:hover,\n",
       ".sk-estimator-doc-link:hover {\n",
       "  /* unfitted */\n",
       "  background-color: var(--sklearn-color-unfitted-level-3);\n",
       "  color: var(--sklearn-color-background);\n",
       "  text-decoration: none;\n",
       "}\n",
       "\n",
       "div.sk-estimator.fitted:hover .sk-estimator-doc-link.fitted:hover,\n",
       ".sk-estimator-doc-link.fitted:hover,\n",
       "div.sk-label-container:hover .sk-estimator-doc-link.fitted:hover,\n",
       ".sk-estimator-doc-link.fitted:hover {\n",
       "  /* fitted */\n",
       "  background-color: var(--sklearn-color-fitted-level-3);\n",
       "  color: var(--sklearn-color-background);\n",
       "  text-decoration: none;\n",
       "}\n",
       "\n",
       "/* Span, style for the box shown on hovering the info icon */\n",
       ".sk-estimator-doc-link span {\n",
       "  display: none;\n",
       "  z-index: 9999;\n",
       "  position: relative;\n",
       "  font-weight: normal;\n",
       "  right: .2ex;\n",
       "  padding: .5ex;\n",
       "  margin: .5ex;\n",
       "  width: min-content;\n",
       "  min-width: 20ex;\n",
       "  max-width: 50ex;\n",
       "  color: var(--sklearn-color-text);\n",
       "  box-shadow: 2pt 2pt 4pt #999;\n",
       "  /* unfitted */\n",
       "  background: var(--sklearn-color-unfitted-level-0);\n",
       "  border: .5pt solid var(--sklearn-color-unfitted-level-3);\n",
       "}\n",
       "\n",
       ".sk-estimator-doc-link.fitted span {\n",
       "  /* fitted */\n",
       "  background: var(--sklearn-color-fitted-level-0);\n",
       "  border: var(--sklearn-color-fitted-level-3);\n",
       "}\n",
       "\n",
       ".sk-estimator-doc-link:hover span {\n",
       "  display: block;\n",
       "}\n",
       "\n",
       "/* \"?\"-specific style due to the `<a>` HTML tag */\n",
       "\n",
       "#sk-container-id-5 a.estimator_doc_link {\n",
       "  float: right;\n",
       "  font-size: 1rem;\n",
       "  line-height: 1em;\n",
       "  font-family: monospace;\n",
       "  background-color: var(--sklearn-color-background);\n",
       "  border-radius: 1rem;\n",
       "  height: 1rem;\n",
       "  width: 1rem;\n",
       "  text-decoration: none;\n",
       "  /* unfitted */\n",
       "  color: var(--sklearn-color-unfitted-level-1);\n",
       "  border: var(--sklearn-color-unfitted-level-1) 1pt solid;\n",
       "}\n",
       "\n",
       "#sk-container-id-5 a.estimator_doc_link.fitted {\n",
       "  /* fitted */\n",
       "  border: var(--sklearn-color-fitted-level-1) 1pt solid;\n",
       "  color: var(--sklearn-color-fitted-level-1);\n",
       "}\n",
       "\n",
       "/* On hover */\n",
       "#sk-container-id-5 a.estimator_doc_link:hover {\n",
       "  /* unfitted */\n",
       "  background-color: var(--sklearn-color-unfitted-level-3);\n",
       "  color: var(--sklearn-color-background);\n",
       "  text-decoration: none;\n",
       "}\n",
       "\n",
       "#sk-container-id-5 a.estimator_doc_link.fitted:hover {\n",
       "  /* fitted */\n",
       "  background-color: var(--sklearn-color-fitted-level-3);\n",
       "}\n",
       "</style><div id=\"sk-container-id-5\" class=\"sk-top-container\"><div class=\"sk-text-repr-fallback\"><pre>GradientBoostingClassifier()</pre><b>In a Jupyter environment, please rerun this cell to show the HTML representation or trust the notebook. <br />On GitHub, the HTML representation is unable to render, please try loading this page with nbviewer.org.</b></div><div class=\"sk-container\" hidden><div class=\"sk-item\"><div class=\"sk-estimator fitted sk-toggleable\"><input class=\"sk-toggleable__control sk-hidden--visually\" id=\"sk-estimator-id-5\" type=\"checkbox\" checked><label for=\"sk-estimator-id-5\" class=\"sk-toggleable__label fitted sk-toggleable__label-arrow\"><div><div>GradientBoostingClassifier</div></div><div><a class=\"sk-estimator-doc-link fitted\" rel=\"noreferrer\" target=\"_blank\" href=\"https://scikit-learn.org/1.6/modules/generated/sklearn.ensemble.GradientBoostingClassifier.html\">?<span>Documentation for GradientBoostingClassifier</span></a><span class=\"sk-estimator-doc-link fitted\">i<span>Fitted</span></span></div></label><div class=\"sk-toggleable__content fitted\"><pre>GradientBoostingClassifier()</pre></div> </div></div></div></div>"
      ],
      "text/plain": [
       "GradientBoostingClassifier()"
      ]
     },
     "execution_count": 86,
     "metadata": {},
     "output_type": "execute_result"
    }
   ],
   "source": [
    "\n",
    "# 2. Decision Tree\n",
    "tree = DecisionTreeClassifier() # define the model\n",
    "tree.fit(X_train_scaled, y_train) # fit means train\n",
    "\n",
    "# 3. boosting\n",
    "\n",
    "boost = GradientBoostingClassifier(n_estimators=100, learning_rate=0.1, max_depth=3)\n",
    "boost.fit(X_train_scaled, y_train)"
   ]
  },
  {
   "cell_type": "markdown",
   "metadata": {
    "id": "NKYHRbb0ZXWE"
   },
   "source": [
    "<u>**Question 2.2.4**:</u> <br> FIRST model: predict on TRAIN/TEST, then print Test Accuracy, Test Recall, Test F1.\n",
    "If our goal is to catch failures, which metric should we prioritize?\n",
    "\n",
    "*Help: The .predict() function should be used on the feature of the test set (X_test)*. [page](https://scikit-learn.org/stable/getting_started.html)\n",
    "\n",
    "accuracy_score(), recall_score(), f1_score()\n",
    "find all metrics here: [page](https://scikit-learn.org/stable/api/sklearn.metrics.html)\n",
    "\n",
    "\n",
    "\n"
   ]
  },
  {
   "cell_type": "code",
   "execution_count": 88,
   "metadata": {
    "id": "JuA_hW813Erz"
   },
   "outputs": [
    {
     "name": "stdout",
     "output_type": "stream",
     "text": [
      "KNN - Test Accuracy: 0.9661101420383753\n",
      "KNN - Test Recall: 0.420824295010846\n",
      "KNN - Test F1-score: 0.48743718592964824\n"
     ]
    }
   ],
   "source": [
    "# 2. K Nearest Neighbors\n",
    "knn_train_pred = knn_model.predict(X_train_scaled)\n",
    "knn_test_pred = knn_model.predict(X_test_scaled)\n",
    "\n",
    "knn_test_accuracy = accuracy_score(y_test, knn_test_pred)\n",
    "knn_test_recall = recall_score(y_test, knn_test_pred, average='binary')  # ou 'macro' selon ton problème\n",
    "knn_test_f1 = f1_score(y_test, knn_test_pred, average='binary')\n",
    "\n",
    "print(\"KNN - Test Accuracy:\", knn_test_accuracy)\n",
    "print(\"KNN - Test Recall:\", knn_test_recall)\n",
    "print(\"KNN - Test F1-score:\", knn_test_f1)\n",
    "\n"
   ]
  },
  {
   "cell_type": "markdown",
   "metadata": {},
   "source": [
    "**We should prioritize recall test. Accuracy can show high values even when the model performs poorly on the minority class because it calculates the proportion of predicted positives that were actually correct, and therefore can miss the minority class. The recall test measures how well the model identifies true positives**"
   ]
  },
  {
   "cell_type": "markdown",
   "metadata": {
    "id": "XfJNZewTZR93"
   },
   "source": [
    "<u>**Question 2.2.5**:</u> <br> Repeat for the SECOND model."
   ]
  },
  {
   "cell_type": "code",
   "execution_count": 92,
   "metadata": {},
   "outputs": [
    {
     "name": "stdout",
     "output_type": "stream",
     "text": [
      "Decision Tree - Test Accuracy: 0.9460088047179999\n",
      "Decision Tree - Test Recall: 0.38177874186550975\n",
      "Decision Tree - Test F1-score: 0.35129740518962077\n"
     ]
    }
   ],
   "source": [
    "# 2. Decision Tree\n",
    "dt_model = DecisionTreeClassifier(random_state=42)  # Création du modèle Decision Tree\n",
    "dt_model.fit(X_train_scaled, y_train)  # Entraînement du modèle\n",
    "\n",
    "dt_train_pred = dt_model.predict(X_train_scaled)\n",
    "dt_test_pred = dt_model.predict(X_test_scaled)\n",
    "\n",
    "dt_test_accuracy = accuracy_score(y_test, dt_test_pred)\n",
    "dt_test_recall = recall_score(y_test, dt_test_pred, average='binary')  # ou 'macro' selon ton problème\n",
    "dt_test_f1 = f1_score(y_test, dt_test_pred, average='binary')\n",
    "\n",
    "print(\"Decision Tree - Test Accuracy:\", dt_test_accuracy)\n",
    "print(\"Decision Tree - Test Recall:\", dt_test_recall)\n",
    "print(\"Decision Tree - Test F1-score:\", dt_test_f1)"
   ]
  },
  {
   "cell_type": "markdown",
   "metadata": {
    "id": "MNr4ou0dZMMd"
   },
   "source": [
    "<u>**Question 2.2.6**:</u> <br> Repeat for the THIRD model."
   ]
  },
  {
   "cell_type": "code",
   "execution_count": 152,
   "metadata": {
    "id": "y5QhDE6a3Erz"
   },
   "outputs": [
    {
     "name": "stdout",
     "output_type": "stream",
     "text": [
      "Gradient Boosting - Test Accuracy: 0.9694326771326522\n",
      "Gradient Boosting - Test Recall: 0.4490238611713666\n",
      "Gradient Boosting - Test F1-score: 0.5294117647058824\n"
     ]
    }
   ],
   "source": [
    "# 3. Gradient Boosting\n",
    "gb_model = GradientBoostingClassifier(random_state=42)  # Création du modèle Gradient Boosting\n",
    "gb_model.fit(X_train_scaled, y_train)  # Entraînement du modèle\n",
    "\n",
    "gb_train_pred = gb_model.predict(X_train_scaled)\n",
    "gb_test_pred = gb_model.predict(X_test_scaled)\n",
    "\n",
    "gb_test_accuracy = accuracy_score(y_test, gb_test_pred)\n",
    "gb_test_recall = recall_score(y_test, gb_test_pred, average='binary')  # ou 'macro'\n",
    "gb_test_f1 = f1_score(y_test, gb_test_pred, average='binary')\n",
    "\n",
    "print(\"Gradient Boosting - Test Accuracy:\", gb_test_accuracy)\n",
    "print(\"Gradient Boosting - Test Recall:\", gb_test_recall)\n",
    "print(\"Gradient Boosting - Test F1-score:\", gb_test_f1)"
   ]
  },
  {
   "cell_type": "markdown",
   "metadata": {
    "id": "san3ALWru88p"
   },
   "source": [
    "You may notice that we emphasize Recall. Recall answers: “of all the true failures, how many did the model catch?” On imbalanced datasets, a model can show high accuracy while still missing many failures (predicting the majority class most of the time). That means lots of false negatives. When the goal is failure detection, Recall is the right metric because it prioritizes catching positives (fewer missed failures), even if that sometimes increases false alarms. Keep in mind there’s a trade-off: higher Recall can lower Precision, so we pick the threshold (or settings) that gives the best compromise for our use case.\n",
    "\n",
    "- If Accuracy is high but Recall is low, we are missing failures (false negatives).\n",
    "- Since the goal is to detect failures, prioritize Recall."
   ]
  },
  {
   "cell_type": "markdown",
   "metadata": {
    "id": "dK3BK80sYlw3"
   },
   "source": [
    "<u>**Question 2.2.7**:</u> <br> Find the best model by TEST Recall among the three and show its TEST confusion matrix.\n",
    "\n",
    "*help: Look at recall_score() and confusion_matrix() [page](https://scikit-learn.org/stable/modules/generated/sklearn.metrics.confusion_matrix.html)*"
   ]
  },
  {
   "cell_type": "markdown",
   "metadata": {},
   "source": [
    "The best model by test recall is Grzadient boost model."
   ]
  },
  {
   "cell_type": "code",
   "execution_count": 95,
   "metadata": {
    "id": "DOfM9cp13Er5"
   },
   "outputs": [
    {
     "data": {
      "image/png": "[encoded data removed]",
      "text/plain": [
       "<Figure size 640x480 with 2 Axes>"
      ]
     },
     "metadata": {},
     "output_type": "display_data"
    }
   ],
   "source": [
    "best_pred = gb_test_pred\n",
    "best_model_name = \"Gradient Boosting\"  \n",
    "\n",
    "classes = np.unique(y_test)\n",
    "\n",
    "confusion_mat = confusion_matrix(y_true=y_test, y_pred=best_pred, labels=classes, normalize=\"true\")\n",
    "disp = ConfusionMatrixDisplay(confusion_matrix=confusion_mat, display_labels=classes)\n",
    "disp.plot()\n",
    "\n",
    "plt.title(f\"Confusion Matrix for {best_model_name}\")\n",
    "plt.show()"
   ]
  },
  {
   "cell_type": "markdown",
   "metadata": {},
   "source": [
    "- Only about 1% of class 0 instances are misclassified as 1 : very few false positives.\n",
    "- 55% of class 1 (minority class) instances are wrongly classified as 0 : many false negatives."
   ]
  },
  {
   "cell_type": "markdown",
   "metadata": {
    "id": "3HOmM2SuYbzW"
   },
   "source": [
    "<u>**Question 2.2.8**:</u> <br> Plot ROC and Precision–Recall curves for the BEST model (needs probabilities).\n",
    "*help: Look at roc_curve() [page](https://scikit-learn.org/stable/modules/generated/sklearn.metrics.roc_curve.html) and precision_recall_curve() [page](https://scikit-learn.org/stable/modules/generated/sklearn.metrics.precision_recall_curve.html)*\n"
   ]
  },
  {
   "cell_type": "code",
   "execution_count": 97,
   "metadata": {
    "id": "zEgdJmHm3Er5"
   },
   "outputs": [
    {
     "data": {
      "image/png": "[encoded data removed]",
      "text/plain": [
       "<Figure size 640x480 with 1 Axes>"
      ]
     },
     "metadata": {},
     "output_type": "display_data"
    },
    {
     "data": {
      "image/png": "[encoded data removed]",
      "text/plain": [
       "<Figure size 640x480 with 1 Axes>"
      ]
     },
     "metadata": {},
     "output_type": "display_data"
    }
   ],
   "source": [
    "from sklearn.metrics import roc_curve, precision_recall_curve, auc, PrecisionRecallDisplay\n",
    "\n",
    "# Get predicted probabilities for the positive class\n",
    "best_proba = gb_model.predict_proba(X_test_scaled)[:, 1]\n",
    "\n",
    "# ROC Curve\n",
    "fpr, tpr, thresholds = roc_curve(y_test, best_proba)\n",
    "roc_auc = auc(fpr, tpr)\n",
    "plt.figure()\n",
    "plt.plot(fpr, tpr, label=f'ROC curve (area = {roc_auc:.2f})')\n",
    "plt.plot([0, 1], [0, 1], 'k--')\n",
    "plt.xlabel('False Positive Rate')\n",
    "plt.ylabel('True Positive Rate')\n",
    "plt.title('ROC Curve for Gradient Boosting')\n",
    "plt.legend(loc=\"lower right\")\n",
    "plt.show()\n",
    "\n",
    "# Precision-Recall Curve\n",
    "precision, recall, thresholds_pr = precision_recall_curve(y_test, best_proba)\n",
    "plt.figure()\n",
    "plt.plot(recall, precision, label='Precision-Recall curve')\n",
    "plt.xlabel('Recall')\n",
    "plt.ylabel('Precision')\n",
    "plt.title('Precision-Recall Curve for Gradient Boosting')\n",
    "plt.legend(loc=\"lower left\")\n",
    "plt.show()"
   ]
  },
  {
   "cell_type": "markdown",
   "metadata": {},
   "source": [
    "- The ROC curve rises quickly towards the top-left corner, which is good.\n",
    "- The precision recall curve is linear which is bad for the model."
   ]
  },
  {
   "cell_type": "markdown",
   "metadata": {
    "id": "tPVN_ZV6YJv8"
   },
   "source": [
    "<u>**Question 2.2.9**:</u> <br> Pick the threshold with the highest Recall. ONLY on the best model (picked above)"
   ]
  },
  {
   "cell_type": "markdown",
   "metadata": {},
   "source": [
    "**The best treshold is a tradeoff between decision and recall. We keep the same treshold (=0.5) whch is the closest point of the curve to the top right corner of the graoh. \n",
    "Rq : this precision recall curve means that the recall is weak, indeed theres a probability of 1/2 that the minority class is not well classified.**"
   ]
  },
  {
   "cell_type": "markdown",
   "metadata": {
    "id": "8pkz20L9m-Yp"
   },
   "source": [
    "<u>**Question 2.2.10**:</u> <br> Tiny GridSearch to favor Recall.\n",
    "\n",
    "*Help: Try GridSearchCV [page](https://scikit-learn.org/stable/modules/generated/sklearn.model_selection.GridSearchCV.html) on the best model you selected (by Recall) to find hyperparameters that improve Recall.<br>\n",
    "Report the best hyperparameters (.best_params_) and the best cross-validated Recall (.best_score_). Then re-fit the tuned model and print the Test Recall.*\n",
    "\n",
    "Notes (keep it simple):\n",
    "Use scoring='recall' in GridSearchCV (we care most about catching failures).\n",
    "Keep the grid tiny (2–3 values per parameter) to avoid long runs; set cv=3.\n",
    "Compare against your baseline Test Recall (before tuning). One line is enough.\n",
    "\n",
    "*(Optional) If you tried different decision thresholds earlier (e.g., 0.4 / 0.5 / 0.6), also report Test Recall using your chosen threshold with the tuned model.*"
   ]
  },
  {
   "cell_type": "code",
   "execution_count": 131,
   "metadata": {},
   "outputs": [
    {
     "name": "stdout",
     "output_type": "stream",
     "text": [
      "Starting GridSearch...\n",
      "GridSearch finished.\n",
      "\n",
      "Best hyperparameters found: {'learning_rate': 0.1, 'max_depth': 3, 'n_estimators': 50}\n",
      "Best cross-validated Recall: 0.7640825925108473\n",
      "\n",
      "Test Recall of the tuned Gradient Boosting model: 0.4121475054229935\n",
      "Baseline Test Recall (before tuning): 0.4490\n",
      "Tuned Model Test Recall: 0.4121\n"
     ]
    }
   ],
   "source": [
    "# Tiny GridSearch to favor Recall on the best model (Gradient Boosting)\n",
    "\n",
    "# Define a tiny parameter grid\n",
    "param_grid = {\n",
    "    \"n_estimators\": [50, 100],\n",
    "    \"learning_rate\": [0.01, 0.1],\n",
    "    \"max_depth\": [3, 5]\n",
    "}\n",
    "\n",
    "# Initialize GridSearchCV\n",
    "grid_search = GridSearchCV(estimator=GradientBoostingClassifier(random_state=42), # model to use\n",
    "                           param_grid=param_grid, # grid of hyperparameter to test\n",
    "                           cv=3, # number of splits for K-Fold cross validation\n",
    "                           scoring=\"recall\", # which metric to use with gridsearch\n",
    "                           n_jobs=-1) # Use all available cores\n",
    "\n",
    "# Fit the grid search to the training data\n",
    "print(\"Starting GridSearch...\")\n",
    "grid_search.fit(X_train_scaled, y_train)\n",
    "print(\"GridSearch finished.\")\n",
    "\n",
    "# Report the best hyperparameters and best cross-validated Recall\n",
    "print(\"\\nBest hyperparameters found:\", grid_search.best_params_)\n",
    "print(\"Best cross-validated Recall:\", grid_search.best_score_)\n",
    "\n",
    "# Get the best model from the grid search\n",
    "tuned_boosting_model = grid_search.best_estimator_\n",
    "\n",
    "# Evaluate the tuned model on the test set\n",
    "y_pred_tuned_boosting = tuned_boosting_model.predict(X_test_scaled)\n",
    "test_recall_tuned = recall_score(y_test, y_pred_tuned_boosting)\n",
    "\n",
    "print(\"\\nTest Recall of the tuned Gradient Boosting model:\", test_recall_tuned)\n",
    "\n",
    "# Compare with baseline Test Recall\n",
    "print(f\"Baseline Test Recall (before tuning): {recall_score(y_test, gb_test_pred):.4f}\")\n",
    "print(f\"Tuned Model Test Recall: {test_recall_tuned:.4f}\")"
   ]
  },
  {
   "cell_type": "markdown",
   "metadata": {},
   "source": [
    "**The result for gridsearch are less than the result for the previous gradient boosting model. It may be due to ioverfitting caused by class imbalance.** Consequently, we keep the forst gradient boosting model."
   ]
  },
  {
   "cell_type": "markdown",
   "metadata": {
    "id": "Wbq6nxzYwFJa"
   },
   "source": [
    "## **3. Explainability with shap**\n",
    "\n",
    "The `shap` library (SHapley Additive exPlanations) is a Python library used for explaining the output of machine learning models. <br> It provides a unified framework for interpreting complex models and understanding the contributions of individual features to model predictions. <br>\n",
    "\n",
    "Shap is particularly useful for understanding black-box models like boosting, random forests, and deep neural networks, among others. <br>\n",
    "It can also be used with any classification model."
   ]
  },
  {
   "cell_type": "markdown",
   "metadata": {
    "id": "m8XJ_7cpwFJa"
   },
   "source": [
    "**Let's install and import the shap library.**"
   ]
  },
  {
   "cell_type": "code",
   "execution_count": 106,
   "metadata": {
    "id": "_oe1lXgYwFJa"
   },
   "outputs": [],
   "source": [
    "import shap\n",
    "np.bool=bool # code from last year"
   ]
  },
  {
   "cell_type": "markdown",
   "metadata": {
    "id": "XZ1pnBXJwFJb"
   },
   "source": [
    "Shap is very heavy and takes a long time to compute. <br>\n",
    "To facilitate execution and reduce computing time, you can work on the **first 100 rows only**.\n",
    "\n",
    "*Note: You can use either the train features (X_train) or the test features (X_test) to compute shap values*"
   ]
  },
  {
   "cell_type": "code",
   "execution_count": 107,
   "metadata": {
    "id": "_TTiLTa4wyRT",
    "tags": []
   },
   "outputs": [],
   "source": [
    "df_shap = X_train_scaled.iloc[:100]"
   ]
  },
  {
   "cell_type": "markdown",
   "metadata": {
    "id": "dDpCt-2owFJb"
   },
   "source": [
    "<u>**Question 3.1**:</u> <br>\n",
    "**Create an object `explainer` that can compute shap values.** <br>\n",
    "\n",
    "*<u>Help</u>: You can use `shap.Explainer` for any trained classification model as input.* <br>\n",
    "*For tree based models, you can use `shap.TreeExplainer`*.\n"
   ]
  },
  {
   "cell_type": "code",
   "execution_count": 149,
   "metadata": {
    "id": "zEbRO7Bk3Er6"
   },
   "outputs": [],
   "source": [
    "\n",
    "# Récupérer le meilleur modèle GradientBoosting\n",
    "best_gb = results[\"GradientBoosting\"][\"best_model\"]\n",
    "\n",
    "\n",
    "\n",
    "best_gb = gb_model\n",
    "# Créer l'explainer SHAP\n",
    "explainer = shap.TreeExplainer(best_gb)\n"
   ]
  },
  {
   "cell_type": "markdown",
   "metadata": {
    "id": "NXwDULXbwFJb"
   },
   "source": [
    "**Now, compute the shap values of a model with `explainer.shap_values`.** <br>\n",
    "If it takes too much time, you can reduce to 100-500 values."
   ]
  },
  {
   "cell_type": "code",
   "execution_count": 156,
   "metadata": {
    "id": "dY54i16w3Er6"
   },
   "outputs": [],
   "source": [
    "\n",
    "# Calculer les valeurs SHAP sur le jeu de test\n",
    "shap_values = explainer.shap_values(X_train_scaled)\n"
   ]
  },
  {
   "cell_type": "markdown",
   "metadata": {
    "id": "l6LpgXg2wFJb"
   },
   "source": [
    "<u>**Question 3.2**:</u> <br>\n",
    "**Display the summary plot of shap values with `shap.summary_plot(...., plot_type=bar)`.**\n",
    "\n",
    "*Make sure you use `shap_values[0]` in your plot and not every shap value computed*"
   ]
  },
  {
   "cell_type": "code",
   "execution_count": 157,
   "metadata": {
    "id": "vvTGZlmrw2PC"
   },
   "outputs": [
    {
     "data": {
      "image/png": "[encoded data removed]",
      "text/plain": [
       "<Figure size 800x630 with 1 Axes>"
      ]
     },
     "metadata": {},
     "output_type": "display_data"
    }
   ],
   "source": [
    "# bar plot pour voir l'importance moyenne des features\n",
    "shap.summary_plot(shap_values, X_train_scaled, plot_type=\"bar\")\n"
   ]
  },
  {
   "cell_type": "markdown",
   "metadata": {
    "id": "cBzCZ8mEwFJb"
   },
   "source": [
    "<u>**Question 3.4**:</u> <br>\n",
    "**Use the same shap plot as previously but replace `plot_type=\"bar\"` with `plot_type=\"dot\"`.** <br>\n",
    "**And add the data you used to compute shap_values in `features=...`.**\n",
    "\n",
    "**Explain what you have understood about this plot**:\n",
    "- **Which variables are important in terms of explainability ?**\n",
    "- **How does the values of the important variables affect predictions ?**"
   ]
  },
  {
   "cell_type": "code",
   "execution_count": 158,
   "metadata": {
    "id": "GYaRCaixw31F"
   },
   "outputs": [
    {
     "data": {
      "image/png": "[encoded data removed]",
      "text/plain": [
       "<Figure size 800x630 with 2 Axes>"
      ]
     },
     "metadata": {},
     "output_type": "display_data"
    }
   ],
   "source": [
    "shap.summary_plot(shap_values, X_train_scaled, plot_type=\"dot\")\n"
   ]
  },
  {
   "cell_type": "markdown",
   "metadata": {},
   "source": [
    "- **Which variables are important in terms of explainability ?**\\\n",
    "\n",
    "  \n",
    "-> The most important variable to predict RUL_class is time_cycles, followed by  Fuel Flow / Ps30 and LPT outlet temperature, in fact, the variables are ordered by how much they influenced the prediction.\n",
    "\n",
    "\n",
    "- **How does the values of the important variables affect predictions ?**\\\n",
    "\n",
    "-> High values of time_cycles (red) leads to higher the probability that RUL_class = 1, meaning that as the time goes, the remaining life of the engines is decreasing\n",
    "\n",
    "\n",
    "-> High values of fuel flow decrease the probability that RUL_class = 1, which means that the higher the fuel flow is, the lower the remaining useful life is.\n",
    "\n",
    "-> High values of LPT outlet temperature tends to decrease theRUL clas, meaning that the higher the LPT outlet temperature is, the higher the remaining useful life is."
   ]
  },
  {
   "cell_type": "markdown",
   "metadata": {
    "id": "T4QnxuN5wFJb"
   },
   "source": [
    "## **4. Deep Learning**\n",
    "\n",
    "We will start by importing one of Python's Deep Learning libraries `tensorflow`/`keras`."
   ]
  },
  {
   "cell_type": "code",
   "execution_count": 161,
   "metadata": {
    "id": "lqUGsRQtwFJc"
   },
   "outputs": [],
   "source": [
    "from keras.models import Sequential\n",
    "from keras.layers import Dense, Dropout\n",
    "import tensorflow as tf\n",
    "from tensorflow.keras import Sequential\n",
    "from tensorflow.keras.layers import Dense, Dropout\n"
   ]
  },
  {
   "cell_type": "markdown",
   "metadata": {
    "id": "VPm3ak4LwFJc"
   },
   "source": [
    "In the following cells, `dataset` should be the dataset you transformed with data pre-processing (Onehotencoded, LabelEncoder,...). <br>\n",
    "You should run the following cells to prepare the data to train a Deep Learning model."
   ]
  },
  {
   "cell_type": "markdown",
   "metadata": {
    "id": "aY0cj9dfwFJc"
   },
   "source": [
    "<u>**Question 4.1**:</u> <br>\n",
    "**Make a small neural network model using `tensorflow`/`keras`, and print the accuracy**\n",
    "\n",
    "*Note: You can use the following elements to train the neural network* <br>\n",
    "- *`tf.keras.Sequential`*\n",
    "- *`layers.Dense(INTEGER, activation='relu')`*,\n",
    "- *`tf.keras.losses.BinaryCrossentropy`*\n",
    "- *`model.compile(optimizer='adam', ...)`*\n",
    "- *`model.fit`*\n",
    "- *`model.evaluate`* with epoch ~= 10"
   ]
  },
  {
   "cell_type": "code",
   "execution_count": 166,
   "metadata": {
    "id": "VkffQREV3Er6"
   },
   "outputs": [
    {
     "name": "stdout",
     "output_type": "stream",
     "text": [
      "Epoch 1/10\n"
     ]
    },
    {
     "name": "stderr",
     "output_type": "stream",
     "text": [
      "/home/raphael/anaconda3/lib/python3.13/site-packages/keras/src/layers/core/dense.py:92: UserWarning: Do not pass an `input_shape`/`input_dim` argument to a layer. When using Sequential models, prefer using an `Input(shape)` object as the first layer in the model instead.\n",
      "  super().__init__(activity_regularizer=activity_regularizer, **kwargs)\n"
     ]
    },
    {
     "name": "stdout",
     "output_type": "stream",
     "text": [
      "\u001b[1m471/471\u001b[0m \u001b[32m━━━━━━━━━━━━━━━━━━━━\u001b[0m\u001b[37m\u001b[0m \u001b[1m4s\u001b[0m 4ms/step - accuracy: 0.8994 - loss: 0.2403 - val_accuracy: 0.9137 - val_loss: 0.1987\n",
      "Epoch 2/10\n",
      "\u001b[1m471/471\u001b[0m \u001b[32m━━━━━━━━━━━━━━━━━━━━\u001b[0m\u001b[37m\u001b[0m \u001b[1m2s\u001b[0m 4ms/step - accuracy: 0.9160 - loss: 0.1907 - val_accuracy: 0.9214 - val_loss: 0.1865\n",
      "Epoch 3/10\n",
      "\u001b[1m471/471\u001b[0m \u001b[32m━━━━━━━━━━━━━━━━━━━━\u001b[0m\u001b[37m\u001b[0m \u001b[1m2s\u001b[0m 4ms/step - accuracy: 0.9240 - loss: 0.1777 - val_accuracy: 0.9195 - val_loss: 0.1865\n",
      "Epoch 4/10\n",
      "\u001b[1m471/471\u001b[0m \u001b[32m━━━━━━━━━━━━━━━━━━━━\u001b[0m\u001b[37m\u001b[0m \u001b[1m3s\u001b[0m 5ms/step - accuracy: 0.9225 - loss: 0.1742 - val_accuracy: 0.9190 - val_loss: 0.1884\n",
      "Epoch 5/10\n",
      "\u001b[1m471/471\u001b[0m \u001b[32m━━━━━━━━━━━━━━━━━━━━\u001b[0m\u001b[37m\u001b[0m \u001b[1m3s\u001b[0m 6ms/step - accuracy: 0.9261 - loss: 0.1706 - val_accuracy: 0.9171 - val_loss: 0.1892\n",
      "Epoch 6/10\n",
      "\u001b[1m471/471\u001b[0m \u001b[32m━━━━━━━━━━━━━━━━━━━━\u001b[0m\u001b[37m\u001b[0m \u001b[1m2s\u001b[0m 4ms/step - accuracy: 0.9274 - loss: 0.1661 - val_accuracy: 0.9182 - val_loss: 0.1849\n",
      "Epoch 7/10\n",
      "\u001b[1m471/471\u001b[0m \u001b[32m━━━━━━━━━━━━━━━━━━━━\u001b[0m\u001b[37m\u001b[0m \u001b[1m2s\u001b[0m 5ms/step - accuracy: 0.9293 - loss: 0.1646 - val_accuracy: 0.9216 - val_loss: 0.1810\n",
      "Epoch 8/10\n",
      "\u001b[1m471/471\u001b[0m \u001b[32m━━━━━━━━━━━━━━━━━━━━\u001b[0m\u001b[37m\u001b[0m \u001b[1m2s\u001b[0m 4ms/step - accuracy: 0.9300 - loss: 0.1619 - val_accuracy: 0.9238 - val_loss: 0.1734\n",
      "Epoch 9/10\n",
      "\u001b[1m471/471\u001b[0m \u001b[32m━━━━━━━━━━━━━━━━━━━━\u001b[0m\u001b[37m\u001b[0m \u001b[1m2s\u001b[0m 4ms/step - accuracy: 0.9296 - loss: 0.1620 - val_accuracy: 0.9171 - val_loss: 0.1840\n",
      "Epoch 10/10\n",
      "\u001b[1m471/471\u001b[0m \u001b[32m━━━━━━━━━━━━━━━━━━━━\u001b[0m\u001b[37m\u001b[0m \u001b[1m2s\u001b[0m 5ms/step - accuracy: 0.9310 - loss: 0.1591 - val_accuracy: 0.9142 - val_loss: 0.1874\n",
      "Test Accuracy: 0.971\n"
     ]
    }
   ],
   "source": [
    "\n",
    "# Assume X_train_scaled, X_test_scaled, y_train, y_test exist\n",
    "\n",
    "# --- Define a small neural network ---\n",
    "model = Sequential([\n",
    "    Dense(32, activation='relu', input_shape=(X_train_scaled.shape[1],)),\n",
    "    Dropout(0.2),  # optional, prevents overfitting\n",
    "    Dense(16, activation='relu'),\n",
    "    Dense(1, activation='sigmoid')  # binary classification\n",
    "])\n",
    "\n",
    "# --- Compile the model ---\n",
    "model.compile(\n",
    "    optimizer='adam',\n",
    "    loss=tf.keras.losses.BinaryCrossentropy(),\n",
    "    metrics=['accuracy']\n",
    ")\n",
    "\n",
    "# --- Train the model ---\n",
    "history = model.fit(\n",
    "    X_train_scaled, y_train,\n",
    "    epochs=10,\n",
    "    batch_size=32,\n",
    "    validation_split=0.2,\n",
    "    verbose=1\n",
    ")\n",
    "\n",
    "# --- Evaluate on test set ---\n",
    "test_loss, test_accuracy = model.evaluate(X_test_scaled, y_test, verbose=0)\n",
    "print(f\"Test Accuracy: {test_accuracy:.3f}\")\n"
   ]
  },
  {
   "cell_type": "code",
   "execution_count": 167,
   "metadata": {},
   "outputs": [
    {
     "name": "stdout",
     "output_type": "stream",
     "text": [
      "\u001b[1m377/377\u001b[0m \u001b[32m━━━━━━━━━━━━━━━━━━━━\u001b[0m\u001b[37m\u001b[0m \u001b[1m1s\u001b[0m 2ms/step  \n",
      "Classification Report (Precision, Recall, F1-score):\n",
      "              precision    recall  f1-score   support\n",
      "\n",
      "           0     0.9732    0.9969    0.9849     11578\n",
      "           1     0.7989    0.3102    0.4469       461\n",
      "\n",
      "    accuracy                         0.9706     12039\n",
      "   macro avg     0.8860    0.6535    0.7159     12039\n",
      "weighted avg     0.9665    0.9706    0.9643     12039\n",
      "\n"
     ]
    }
   ],
   "source": [
    "from sklearn.metrics import classification_report\n",
    "import numpy as np\n",
    "\n",
    "# Predict probabilities on the test set\n",
    "y_pred_prob = model.predict(X_test_scaled)\n",
    "\n",
    "# Convert probabilities to class labels (0 or 1)\n",
    "y_pred = (y_pred_prob > 0.5).astype(int).flatten()\n",
    "\n",
    "# Print a full classification report\n",
    "print(\"Classification Report (Precision, Recall, F1-score):\")\n",
    "print(classification_report(y_test, y_pred, digits=4))\n"
   ]
  },
  {
   "cell_type": "markdown",
   "metadata": {},
   "source": [
    "The result is not convincing, with a recall of 0.37 for the minority class (It correctly identifies only 39.1% of actual class 1 instances). The model is still excellent at predicting the majority class but struggles with the minority class."
   ]
  },
  {
   "cell_type": "code",
   "execution_count": null,
   "metadata": {},
   "outputs": [],
   "source": []
  }
 ],
 "metadata": {
  "colab": {
   "provenance": []
  },
  "kernelspec": {
   "display_name": "Python [conda env:base] *",
   "language": "python",
   "name": "conda-base-py"
  },
  "language_info": {
   "codemirror_mode": {
    "name": "ipython",
    "version": 3
   },
   "file_extension": ".py",
   "mimetype": "text/x-python",
   "name": "python",
   "nbconvert_exporter": "python",
   "pygments_lexer": "ipython3",
   "version": "3.13.5"
  }
 },
 "nbformat": 4,
 "nbformat_minor": 4
}
