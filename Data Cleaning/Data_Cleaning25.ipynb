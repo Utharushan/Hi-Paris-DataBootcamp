{
  "cells": [
    {
      "cell_type": "markdown",
      "metadata": {
        "id": "LyxAAHzgiWBX"
      },
      "source": [
        "# <font color=#023F7C> **Data cleaning and exploration** </font>\n",
        "\n",
        "<font color=#023F7C>**Hi! PARIS DataBootcamp 2023 🚀**</font> <br>\n",
        "\n",
        "\n",
        "<img src = https://www.hi-paris.fr/wp-content/uploads/2020/09/logo-hi-paris-retina.png width = \"300\" height = \"200\" >\n",
        "\n",
        "**What is Data Cleaning ?**<br>\n",
        "Data cleaning is a crucial step in the data analysis and machine learning process, as the quality of the insights and models generated heavily relies on the accuracy and reliability of the underlying data. Raw data often contains **errors**, **inconsistencies**, **missing values**, and **outliers** that can distort results or lead to faulty conclusions. Data cleaning involves identifying and rectifying these issues, ensuring the dataset is trustworthy and suitable for analysis.\n",
        "\n",
        "Python provides a robust ecosystem of libraries and tools for data cleaning tasks. <br>\n",
        "Python's versatility in data cleaning contributes significantly to producing accurate analyses and reliable machine learning models.\n",
        "- The `Pandas`  library offers functions to handle missing data through imputation or removal, detect and remove duplicates, and transform data types.\n",
        "- The `NumPy` library can assist in dealing with outliers by providing statistical methods for outlier detection and filtering.\n",
        "- Additionally, visualization libraries like Matplotlib and Seaborn can help visually identify anomalies.\n"
      ]
    },
    {
      "cell_type": "markdown",
      "metadata": {
        "id": "bcz3O3LhiWBZ"
      },
      "source": [
        "**Before you start to working on this notebook ⚠️**: <br>\n",
        "Please download/copy this notebook from `hfactory_magic_folders\\course` and drop it into your own directory `my_work` on HFactory. <br>\n",
        "If you don't, you won't be able to save the modifications you've made on this notebook."
      ]
    },
    {
      "cell_type": "markdown",
      "metadata": {
        "id": "60DcZzReiWBa"
      },
      "source": [
        "**Need help ?** <br>\n",
        "You can go to the Introduction and Intermediate python notebooks to learn how to use the `pandas` library. <br>"
      ]
    },
    {
      "cell_type": "markdown",
      "metadata": {
        "id": "cV9lJlEhh7EI"
      },
      "source": [
        "## **1. Import libraries and dataset**\n",
        "First, let's import Python libraries."
      ]
    },
    {
      "cell_type": "code",
      "execution_count": 1,
      "metadata": {
        "id": "0l0FgH2Dh9WJ",
        "trusted": true
      },
      "outputs": [],
      "source": [
        "import pandas as pd\n",
        "import numpy as np\n",
        "import seaborn as sns\n",
        "import matplotlib as plt\n",
        "pd.set_option('display.max_columns', None) #Show all columns"
      ]
    },
    {
      "cell_type": "markdown",
      "metadata": {
        "id": "x4d6xtYaxmm_"
      },
      "source": [
        "Then, let's import the dataset `dataset_train.csv` using pandas.\n"
      ]
    },
    {
      "cell_type": "code",
      "execution_count": 2,
      "metadata": {
        "id": "RYgbzYVjiDt5"
      },
      "outputs": [],
      "source": [
        "#path=r'~/hfactory_magic_folders/course/Dataset/dataset_train.csv'\n",
        "path=\"train.csv\"\n",
        "# Import the csv file\n",
        "#dataset = pd.read_csv(path,encoding='latin-1',sep=';')"
      ]
    },
    {
      "cell_type": "code",
      "execution_count": 3,
      "metadata": {
        "id": "-zMr2iyoitxx"
      },
      "outputs": [],
      "source": [
        "dataset = pd.read_csv(\"dataset.csv\")\n"
      ]
    },
    {
      "cell_type": "markdown",
      "metadata": {
        "id": "gNUY-ADWh0Wy"
      },
      "source": [
        "## **2. Data discovery**\n",
        "\n",
        "**Question 1**: <br>\n",
        "**Display the dataset's head and tail.**"
      ]
    },
    {
      "cell_type": "code",
      "execution_count": 4,
      "metadata": {
        "id": "EVIuGsTniN71"
      },
      "outputs": [
        {
          "data": {
            "text/html": [
              "<div>\n",
              "<style scoped>\n",
              "    .dataframe tbody tr th:only-of-type {\n",
              "        vertical-align: middle;\n",
              "    }\n",
              "\n",
              "    .dataframe tbody tr th {\n",
              "        vertical-align: top;\n",
              "    }\n",
              "\n",
              "    .dataframe thead th {\n",
              "        text-align: right;\n",
              "    }\n",
              "</style>\n",
              "<table border=\"1\" class=\"dataframe\">\n",
              "  <thead>\n",
              "    <tr style=\"text-align: right;\">\n",
              "      <th></th>\n",
              "      <th>engine_unit_number</th>\n",
              "      <th>time_cycles</th>\n",
              "      <th>setting_1</th>\n",
              "      <th>setting_2</th>\n",
              "      <th>setting_3</th>\n",
              "      <th>Fan inlet temperature (°C)</th>\n",
              "      <th>LPC outlet temperature (°C)</th>\n",
              "      <th>HPC outlet temperature (°C)</th>\n",
              "      <th>LPT outlet temperature (°C)</th>\n",
              "      <th>Fan inlet pressure (bar)</th>\n",
              "      <th>Bypass duct pressure (bar)</th>\n",
              "      <th>HPC outlet pressure (bar)</th>\n",
              "      <th>Physical fan speed (rpm)</th>\n",
              "      <th>Physical core speed (rpm)</th>\n",
              "      <th>Engine pressure ratio (P50/P2) (dimensionless)</th>\n",
              "      <th>HPC outlet static pressure (bar)</th>\n",
              "      <th>Fuel flow / Ps30 (kg/s/bar)</th>\n",
              "      <th>Corrected fan speed (rpm)</th>\n",
              "      <th>Corrected core speed (rpm)</th>\n",
              "      <th>Bypass ratio (dimensionless)</th>\n",
              "      <th>Burner fuel-air ratio (mass ratio, dimensionless)</th>\n",
              "      <th>Bleed enthalpy (kJ/kg)</th>\n",
              "      <th>Demanded fan speed (rpm)</th>\n",
              "      <th>Demanded corrected fan speed (rpm)</th>\n",
              "      <th>HPT coolant bleed flow (kg/s)</th>\n",
              "      <th>LPT coolant bleed flow (kg/s)</th>\n",
              "      <th>RUL</th>\n",
              "      <th>RUL_class</th>\n",
              "    </tr>\n",
              "  </thead>\n",
              "  <tbody>\n",
              "    <tr>\n",
              "      <th>0</th>\n",
              "      <td>1</td>\n",
              "      <td>1</td>\n",
              "      <td>-0.0007</td>\n",
              "      <td>-0.0004</td>\n",
              "      <td>100.0</td>\n",
              "      <td>15.0</td>\n",
              "      <td>83.416667</td>\n",
              "      <td>Normal</td>\n",
              "      <td>504.961111</td>\n",
              "      <td>1.008014</td>\n",
              "      <td>1.489957</td>\n",
              "      <td>38.221777</td>\n",
              "      <td>2388.06</td>\n",
              "      <td>9046.19</td>\n",
              "      <td>1.3</td>\n",
              "      <td>3.272941</td>\n",
              "      <td>35.967191</td>\n",
              "      <td>2388.02</td>\n",
              "      <td>8138.62</td>\n",
              "      <td>8.4195</td>\n",
              "      <td>0.03</td>\n",
              "      <td>392.0</td>\n",
              "      <td>2388</td>\n",
              "      <td>100.0</td>\n",
              "      <td>17.717318</td>\n",
              "      <td>10.622680</td>\n",
              "      <td>191</td>\n",
              "      <td>0</td>\n",
              "    </tr>\n",
              "    <tr>\n",
              "      <th>1</th>\n",
              "      <td>1</td>\n",
              "      <td>2</td>\n",
              "      <td>0.0019</td>\n",
              "      <td>-0.0003</td>\n",
              "      <td>100.0</td>\n",
              "      <td>15.0</td>\n",
              "      <td>83.600000</td>\n",
              "      <td>Normal</td>\n",
              "      <td>506.372222</td>\n",
              "      <td>1.008014</td>\n",
              "      <td>1.489957</td>\n",
              "      <td>38.179719</td>\n",
              "      <td>2388.04</td>\n",
              "      <td>9044.07</td>\n",
              "      <td>1.3</td>\n",
              "      <td>3.274320</td>\n",
              "      <td>36.009938</td>\n",
              "      <td>2388.07</td>\n",
              "      <td>8131.49</td>\n",
              "      <td>8.4318</td>\n",
              "      <td>0.03</td>\n",
              "      <td>392.0</td>\n",
              "      <td>2388</td>\n",
              "      <td>100.0</td>\n",
              "      <td>17.690102</td>\n",
              "      <td>10.624766</td>\n",
              "      <td>190</td>\n",
              "      <td>0</td>\n",
              "    </tr>\n",
              "    <tr>\n",
              "      <th>2</th>\n",
              "      <td>1</td>\n",
              "      <td>3</td>\n",
              "      <td>-0.0043</td>\n",
              "      <td>0.0003</td>\n",
              "      <td>100.0</td>\n",
              "      <td>15.0</td>\n",
              "      <td>83.711111</td>\n",
              "      <td>Normal</td>\n",
              "      <td>506.961111</td>\n",
              "      <td>1.008014</td>\n",
              "      <td>1.489957</td>\n",
              "      <td>38.214882</td>\n",
              "      <td>2388.08</td>\n",
              "      <td>9052.94</td>\n",
              "      <td>1.3</td>\n",
              "      <td>3.259152</td>\n",
              "      <td>36.019591</td>\n",
              "      <td>2388.03</td>\n",
              "      <td>8133.23</td>\n",
              "      <td>8.4178</td>\n",
              "      <td>0.03</td>\n",
              "      <td>390.0</td>\n",
              "      <td>2388</td>\n",
              "      <td>100.0</td>\n",
              "      <td>17.667423</td>\n",
              "      <td>10.588751</td>\n",
              "      <td>189</td>\n",
              "      <td>0</td>\n",
              "    </tr>\n",
              "    <tr>\n",
              "      <th>3</th>\n",
              "      <td>1</td>\n",
              "      <td>4</td>\n",
              "      <td>0.0007</td>\n",
              "      <td>0.0000</td>\n",
              "      <td>100.0</td>\n",
              "      <td>15.0</td>\n",
              "      <td>83.711111</td>\n",
              "      <td>Very Low</td>\n",
              "      <td>505.666667</td>\n",
              "      <td>1.008014</td>\n",
              "      <td>1.489957</td>\n",
              "      <td>38.227982</td>\n",
              "      <td>2388.11</td>\n",
              "      <td>9049.48</td>\n",
              "      <td>1.3</td>\n",
              "      <td>3.249499</td>\n",
              "      <td>36.049928</td>\n",
              "      <td>2388.08</td>\n",
              "      <td>8133.83</td>\n",
              "      <td>8.3682</td>\n",
              "      <td>0.03</td>\n",
              "      <td>392.0</td>\n",
              "      <td>2388</td>\n",
              "      <td>100.0</td>\n",
              "      <td>17.635671</td>\n",
              "      <td>10.602223</td>\n",
              "      <td>188</td>\n",
              "      <td>0</td>\n",
              "    </tr>\n",
              "    <tr>\n",
              "      <th>4</th>\n",
              "      <td>1</td>\n",
              "      <td>5</td>\n",
              "      <td>-0.0019</td>\n",
              "      <td>-0.0002</td>\n",
              "      <td>100.0</td>\n",
              "      <td>15.0</td>\n",
              "      <td>83.722222</td>\n",
              "      <td>NaN</td>\n",
              "      <td>508.083333</td>\n",
              "      <td>1.008014</td>\n",
              "      <td>1.489957</td>\n",
              "      <td>38.196955</td>\n",
              "      <td>2388.06</td>\n",
              "      <td>9055.15</td>\n",
              "      <td>1.3</td>\n",
              "      <td>3.259841</td>\n",
              "      <td>36.003733</td>\n",
              "      <td>2388.04</td>\n",
              "      <td>8133.80</td>\n",
              "      <td>8.4294</td>\n",
              "      <td>0.03</td>\n",
              "      <td>393.0</td>\n",
              "      <td>2388</td>\n",
              "      <td>100.0</td>\n",
              "      <td>17.644743</td>\n",
              "      <td>10.616057</td>\n",
              "      <td>187</td>\n",
              "      <td>0</td>\n",
              "    </tr>\n",
              "  </tbody>\n",
              "</table>\n",
              "</div>"
            ],
            "text/plain": [
              "   engine_unit_number  time_cycles  setting_1  setting_2  setting_3  \\\n",
              "0                   1            1    -0.0007    -0.0004      100.0   \n",
              "1                   1            2     0.0019    -0.0003      100.0   \n",
              "2                   1            3    -0.0043     0.0003      100.0   \n",
              "3                   1            4     0.0007     0.0000      100.0   \n",
              "4                   1            5    -0.0019    -0.0002      100.0   \n",
              "\n",
              "   Fan inlet temperature (°C)  LPC outlet temperature (°C)  \\\n",
              "0                        15.0                    83.416667   \n",
              "1                        15.0                    83.600000   \n",
              "2                        15.0                    83.711111   \n",
              "3                        15.0                    83.711111   \n",
              "4                        15.0                    83.722222   \n",
              "\n",
              "  HPC outlet temperature (°C)  LPT outlet temperature (°C)  \\\n",
              "0                      Normal                   504.961111   \n",
              "1                      Normal                   506.372222   \n",
              "2                      Normal                   506.961111   \n",
              "3                    Very Low                   505.666667   \n",
              "4                         NaN                   508.083333   \n",
              "\n",
              "   Fan inlet pressure (bar)  Bypass duct pressure (bar)  \\\n",
              "0                  1.008014                    1.489957   \n",
              "1                  1.008014                    1.489957   \n",
              "2                  1.008014                    1.489957   \n",
              "3                  1.008014                    1.489957   \n",
              "4                  1.008014                    1.489957   \n",
              "\n",
              "   HPC outlet pressure (bar)  Physical fan speed (rpm)  \\\n",
              "0                  38.221777                   2388.06   \n",
              "1                  38.179719                   2388.04   \n",
              "2                  38.214882                   2388.08   \n",
              "3                  38.227982                   2388.11   \n",
              "4                  38.196955                   2388.06   \n",
              "\n",
              "   Physical core speed (rpm)  Engine pressure ratio (P50/P2) (dimensionless)  \\\n",
              "0                    9046.19                                             1.3   \n",
              "1                    9044.07                                             1.3   \n",
              "2                    9052.94                                             1.3   \n",
              "3                    9049.48                                             1.3   \n",
              "4                    9055.15                                             1.3   \n",
              "\n",
              "   HPC outlet static pressure (bar)  Fuel flow / Ps30 (kg/s/bar)  \\\n",
              "0                          3.272941                    35.967191   \n",
              "1                          3.274320                    36.009938   \n",
              "2                          3.259152                    36.019591   \n",
              "3                          3.249499                    36.049928   \n",
              "4                          3.259841                    36.003733   \n",
              "\n",
              "   Corrected fan speed (rpm)  Corrected core speed (rpm)  \\\n",
              "0                    2388.02                     8138.62   \n",
              "1                    2388.07                     8131.49   \n",
              "2                    2388.03                     8133.23   \n",
              "3                    2388.08                     8133.83   \n",
              "4                    2388.04                     8133.80   \n",
              "\n",
              "   Bypass ratio (dimensionless)  \\\n",
              "0                        8.4195   \n",
              "1                        8.4318   \n",
              "2                        8.4178   \n",
              "3                        8.3682   \n",
              "4                        8.4294   \n",
              "\n",
              "   Burner fuel-air ratio (mass ratio, dimensionless)  Bleed enthalpy (kJ/kg)  \\\n",
              "0                                               0.03                   392.0   \n",
              "1                                               0.03                   392.0   \n",
              "2                                               0.03                   390.0   \n",
              "3                                               0.03                   392.0   \n",
              "4                                               0.03                   393.0   \n",
              "\n",
              "   Demanded fan speed (rpm)  Demanded corrected fan speed (rpm)  \\\n",
              "0                      2388                               100.0   \n",
              "1                      2388                               100.0   \n",
              "2                      2388                               100.0   \n",
              "3                      2388                               100.0   \n",
              "4                      2388                               100.0   \n",
              "\n",
              "   HPT coolant bleed flow (kg/s)  LPT coolant bleed flow (kg/s)  RUL  \\\n",
              "0                      17.717318                      10.622680  191   \n",
              "1                      17.690102                      10.624766  190   \n",
              "2                      17.667423                      10.588751  189   \n",
              "3                      17.635671                      10.602223  188   \n",
              "4                      17.644743                      10.616057  187   \n",
              "\n",
              "   RUL_class  \n",
              "0          0  \n",
              "1          0  \n",
              "2          0  \n",
              "3          0  \n",
              "4          0  "
            ]
          },
          "metadata": {},
          "output_type": "display_data"
        }
      ],
      "source": [
        "display(dataset.head())"
      ]
    },
    {
      "cell_type": "code",
      "execution_count": 5,
      "metadata": {
        "id": "YjnXMd9AiSwM"
      },
      "outputs": [
        {
          "data": {
            "text/html": [
              "<div>\n",
              "<style scoped>\n",
              "    .dataframe tbody tr th:only-of-type {\n",
              "        vertical-align: middle;\n",
              "    }\n",
              "\n",
              "    .dataframe tbody tr th {\n",
              "        vertical-align: top;\n",
              "    }\n",
              "\n",
              "    .dataframe thead th {\n",
              "        text-align: right;\n",
              "    }\n",
              "</style>\n",
              "<table border=\"1\" class=\"dataframe\">\n",
              "  <thead>\n",
              "    <tr style=\"text-align: right;\">\n",
              "      <th></th>\n",
              "      <th>engine_unit_number</th>\n",
              "      <th>time_cycles</th>\n",
              "      <th>setting_1</th>\n",
              "      <th>setting_2</th>\n",
              "      <th>setting_3</th>\n",
              "      <th>Fan inlet temperature (°C)</th>\n",
              "      <th>LPC outlet temperature (°C)</th>\n",
              "      <th>HPC outlet temperature (°C)</th>\n",
              "      <th>LPT outlet temperature (°C)</th>\n",
              "      <th>Fan inlet pressure (bar)</th>\n",
              "      <th>Bypass duct pressure (bar)</th>\n",
              "      <th>HPC outlet pressure (bar)</th>\n",
              "      <th>Physical fan speed (rpm)</th>\n",
              "      <th>Physical core speed (rpm)</th>\n",
              "      <th>Engine pressure ratio (P50/P2) (dimensionless)</th>\n",
              "      <th>HPC outlet static pressure (bar)</th>\n",
              "      <th>Fuel flow / Ps30 (kg/s/bar)</th>\n",
              "      <th>Corrected fan speed (rpm)</th>\n",
              "      <th>Corrected core speed (rpm)</th>\n",
              "      <th>Bypass ratio (dimensionless)</th>\n",
              "      <th>Burner fuel-air ratio (mass ratio, dimensionless)</th>\n",
              "      <th>Bleed enthalpy (kJ/kg)</th>\n",
              "      <th>Demanded fan speed (rpm)</th>\n",
              "      <th>Demanded corrected fan speed (rpm)</th>\n",
              "      <th>HPT coolant bleed flow (kg/s)</th>\n",
              "      <th>LPT coolant bleed flow (kg/s)</th>\n",
              "      <th>RUL</th>\n",
              "      <th>RUL_class</th>\n",
              "    </tr>\n",
              "  </thead>\n",
              "  <tbody>\n",
              "    <tr>\n",
              "      <th>20626</th>\n",
              "      <td>100</td>\n",
              "      <td>196</td>\n",
              "      <td>-0.0004</td>\n",
              "      <td>-0.0003</td>\n",
              "      <td>100.0</td>\n",
              "      <td>15.0</td>\n",
              "      <td>84.344444</td>\n",
              "      <td>Very High</td>\n",
              "      <td>520.533333</td>\n",
              "      <td>1.008014</td>\n",
              "      <td>1.489957</td>\n",
              "      <td>38.019760</td>\n",
              "      <td>2388.19</td>\n",
              "      <td>9065.52</td>\n",
              "      <td>1.3</td>\n",
              "      <td>3.314310</td>\n",
              "      <td>35.817575</td>\n",
              "      <td>2388.26</td>\n",
              "      <td>8137.60</td>\n",
              "      <td>8.4956</td>\n",
              "      <td>0.03</td>\n",
              "      <td>397.0</td>\n",
              "      <td>2388</td>\n",
              "      <td>100.0</td>\n",
              "      <td>17.458770</td>\n",
              "      <td>10.420604</td>\n",
              "      <td>4</td>\n",
              "      <td>1</td>\n",
              "    </tr>\n",
              "    <tr>\n",
              "      <th>20627</th>\n",
              "      <td>100</td>\n",
              "      <td>197</td>\n",
              "      <td>-0.0016</td>\n",
              "      <td>-0.0005</td>\n",
              "      <td>100.0</td>\n",
              "      <td>15.0</td>\n",
              "      <td>84.372222</td>\n",
              "      <td>Extremely High</td>\n",
              "      <td>523.283333</td>\n",
              "      <td>1.008014</td>\n",
              "      <td>1.489957</td>\n",
              "      <td>37.980460</td>\n",
              "      <td>2388.23</td>\n",
              "      <td>9065.11</td>\n",
              "      <td>1.3</td>\n",
              "      <td>3.312241</td>\n",
              "      <td>35.830675</td>\n",
              "      <td>2388.22</td>\n",
              "      <td>8136.50</td>\n",
              "      <td>8.5139</td>\n",
              "      <td>0.03</td>\n",
              "      <td>395.0</td>\n",
              "      <td>2388</td>\n",
              "      <td>100.0</td>\n",
              "      <td>17.372588</td>\n",
              "      <td>10.504927</td>\n",
              "      <td>3</td>\n",
              "      <td>1</td>\n",
              "    </tr>\n",
              "    <tr>\n",
              "      <th>20628</th>\n",
              "      <td>100</td>\n",
              "      <td>198</td>\n",
              "      <td>0.0004</td>\n",
              "      <td>0.0000</td>\n",
              "      <td>100.0</td>\n",
              "      <td>15.0</td>\n",
              "      <td>84.305556</td>\n",
              "      <td>Very High</td>\n",
              "      <td>520.283333</td>\n",
              "      <td>1.008014</td>\n",
              "      <td>1.489957</td>\n",
              "      <td>37.985976</td>\n",
              "      <td>2388.24</td>\n",
              "      <td>9065.90</td>\n",
              "      <td>1.3</td>\n",
              "      <td>3.315689</td>\n",
              "      <td>35.853427</td>\n",
              "      <td>2388.24</td>\n",
              "      <td>8141.05</td>\n",
              "      <td>8.5646</td>\n",
              "      <td>0.03</td>\n",
              "      <td>398.0</td>\n",
              "      <td>2388</td>\n",
              "      <td>100.0</td>\n",
              "      <td>17.436091</td>\n",
              "      <td>10.402370</td>\n",
              "      <td>2</td>\n",
              "      <td>1</td>\n",
              "    </tr>\n",
              "    <tr>\n",
              "      <th>20629</th>\n",
              "      <td>100</td>\n",
              "      <td>199</td>\n",
              "      <td>-0.0011</td>\n",
              "      <td>0.0003</td>\n",
              "      <td>100.0</td>\n",
              "      <td>15.0</td>\n",
              "      <td>84.200000</td>\n",
              "      <td>Extremely High</td>\n",
              "      <td>519.366667</td>\n",
              "      <td>1.008014</td>\n",
              "      <td>1.489957</td>\n",
              "      <td>37.968049</td>\n",
              "      <td>2388.25</td>\n",
              "      <td>9073.72</td>\n",
              "      <td>1.3</td>\n",
              "      <td>3.336373</td>\n",
              "      <td>35.829985</td>\n",
              "      <td>2388.23</td>\n",
              "      <td>8139.29</td>\n",
              "      <td>8.5389</td>\n",
              "      <td>0.03</td>\n",
              "      <td>395.0</td>\n",
              "      <td>2388</td>\n",
              "      <td>100.0</td>\n",
              "      <td>17.368052</td>\n",
              "      <td>10.461654</td>\n",
              "      <td>1</td>\n",
              "      <td>1</td>\n",
              "    </tr>\n",
              "    <tr>\n",
              "      <th>20630</th>\n",
              "      <td>100</td>\n",
              "      <td>200</td>\n",
              "      <td>-0.0032</td>\n",
              "      <td>-0.0005</td>\n",
              "      <td>100.0</td>\n",
              "      <td>15.0</td>\n",
              "      <td>84.544444</td>\n",
              "      <td>Very High</td>\n",
              "      <td>522.483333</td>\n",
              "      <td>1.008014</td>\n",
              "      <td>1.489957</td>\n",
              "      <td>37.975634</td>\n",
              "      <td>2388.26</td>\n",
              "      <td>9061.48</td>\n",
              "      <td>1.3</td>\n",
              "      <td>3.323273</td>\n",
              "      <td>35.804475</td>\n",
              "      <td>2388.26</td>\n",
              "      <td>8137.33</td>\n",
              "      <td>8.5036</td>\n",
              "      <td>0.03</td>\n",
              "      <td>396.0</td>\n",
              "      <td>2388</td>\n",
              "      <td>100.0</td>\n",
              "      <td>17.404339</td>\n",
              "      <td>10.456302</td>\n",
              "      <td>0</td>\n",
              "      <td>1</td>\n",
              "    </tr>\n",
              "  </tbody>\n",
              "</table>\n",
              "</div>"
            ],
            "text/plain": [
              "       engine_unit_number  time_cycles  setting_1  setting_2  setting_3  \\\n",
              "20626                 100          196    -0.0004    -0.0003      100.0   \n",
              "20627                 100          197    -0.0016    -0.0005      100.0   \n",
              "20628                 100          198     0.0004     0.0000      100.0   \n",
              "20629                 100          199    -0.0011     0.0003      100.0   \n",
              "20630                 100          200    -0.0032    -0.0005      100.0   \n",
              "\n",
              "       Fan inlet temperature (°C)  LPC outlet temperature (°C)  \\\n",
              "20626                        15.0                    84.344444   \n",
              "20627                        15.0                    84.372222   \n",
              "20628                        15.0                    84.305556   \n",
              "20629                        15.0                    84.200000   \n",
              "20630                        15.0                    84.544444   \n",
              "\n",
              "      HPC outlet temperature (°C)  LPT outlet temperature (°C)  \\\n",
              "20626                   Very High                   520.533333   \n",
              "20627              Extremely High                   523.283333   \n",
              "20628                   Very High                   520.283333   \n",
              "20629              Extremely High                   519.366667   \n",
              "20630                   Very High                   522.483333   \n",
              "\n",
              "       Fan inlet pressure (bar)  Bypass duct pressure (bar)  \\\n",
              "20626                  1.008014                    1.489957   \n",
              "20627                  1.008014                    1.489957   \n",
              "20628                  1.008014                    1.489957   \n",
              "20629                  1.008014                    1.489957   \n",
              "20630                  1.008014                    1.489957   \n",
              "\n",
              "       HPC outlet pressure (bar)  Physical fan speed (rpm)  \\\n",
              "20626                  38.019760                   2388.19   \n",
              "20627                  37.980460                   2388.23   \n",
              "20628                  37.985976                   2388.24   \n",
              "20629                  37.968049                   2388.25   \n",
              "20630                  37.975634                   2388.26   \n",
              "\n",
              "       Physical core speed (rpm)  \\\n",
              "20626                    9065.52   \n",
              "20627                    9065.11   \n",
              "20628                    9065.90   \n",
              "20629                    9073.72   \n",
              "20630                    9061.48   \n",
              "\n",
              "       Engine pressure ratio (P50/P2) (dimensionless)  \\\n",
              "20626                                             1.3   \n",
              "20627                                             1.3   \n",
              "20628                                             1.3   \n",
              "20629                                             1.3   \n",
              "20630                                             1.3   \n",
              "\n",
              "       HPC outlet static pressure (bar)  Fuel flow / Ps30 (kg/s/bar)  \\\n",
              "20626                          3.314310                    35.817575   \n",
              "20627                          3.312241                    35.830675   \n",
              "20628                          3.315689                    35.853427   \n",
              "20629                          3.336373                    35.829985   \n",
              "20630                          3.323273                    35.804475   \n",
              "\n",
              "       Corrected fan speed (rpm)  Corrected core speed (rpm)  \\\n",
              "20626                    2388.26                     8137.60   \n",
              "20627                    2388.22                     8136.50   \n",
              "20628                    2388.24                     8141.05   \n",
              "20629                    2388.23                     8139.29   \n",
              "20630                    2388.26                     8137.33   \n",
              "\n",
              "       Bypass ratio (dimensionless)  \\\n",
              "20626                        8.4956   \n",
              "20627                        8.5139   \n",
              "20628                        8.5646   \n",
              "20629                        8.5389   \n",
              "20630                        8.5036   \n",
              "\n",
              "       Burner fuel-air ratio (mass ratio, dimensionless)  \\\n",
              "20626                                               0.03   \n",
              "20627                                               0.03   \n",
              "20628                                               0.03   \n",
              "20629                                               0.03   \n",
              "20630                                               0.03   \n",
              "\n",
              "       Bleed enthalpy (kJ/kg)  Demanded fan speed (rpm)  \\\n",
              "20626                   397.0                      2388   \n",
              "20627                   395.0                      2388   \n",
              "20628                   398.0                      2388   \n",
              "20629                   395.0                      2388   \n",
              "20630                   396.0                      2388   \n",
              "\n",
              "       Demanded corrected fan speed (rpm)  HPT coolant bleed flow (kg/s)  \\\n",
              "20626                               100.0                      17.458770   \n",
              "20627                               100.0                      17.372588   \n",
              "20628                               100.0                      17.436091   \n",
              "20629                               100.0                      17.368052   \n",
              "20630                               100.0                      17.404339   \n",
              "\n",
              "       LPT coolant bleed flow (kg/s)  RUL  RUL_class  \n",
              "20626                      10.420604    4          1  \n",
              "20627                      10.504927    3          1  \n",
              "20628                      10.402370    2          1  \n",
              "20629                      10.461654    1          1  \n",
              "20630                      10.456302    0          1  "
            ]
          },
          "metadata": {},
          "output_type": "display_data"
        }
      ],
      "source": [
        "display(dataset.tail())"
      ]
    },
    {
      "cell_type": "markdown",
      "metadata": {
        "id": "uRFQab8VzPYM"
      },
      "source": [
        "**Question 2**: <br> **Use the pandas function `.info()` to get general information on the dataset.**<br>"
      ]
    },
    {
      "cell_type": "code",
      "execution_count": 6,
      "metadata": {
        "id": "xl8cISOB2UrF"
      },
      "outputs": [
        {
          "name": "stdout",
          "output_type": "stream",
          "text": [
            "<class 'pandas.core.frame.DataFrame'>\n",
            "RangeIndex: 20631 entries, 0 to 20630\n",
            "Data columns (total 28 columns):\n",
            " #   Column                                             Non-Null Count  Dtype  \n",
            "---  ------                                             --------------  -----  \n",
            " 0   engine_unit_number                                 20631 non-null  int64  \n",
            " 1   time_cycles                                        20631 non-null  int64  \n",
            " 2   setting_1                                          20631 non-null  float64\n",
            " 3   setting_2                                          20631 non-null  float64\n",
            " 4   setting_3                                          20631 non-null  float64\n",
            " 5   Fan inlet temperature (°C)                         20631 non-null  float64\n",
            " 6   LPC outlet temperature (°C)                        20631 non-null  float64\n",
            " 7   HPC outlet temperature (°C)                        18765 non-null  object \n",
            " 8   LPT outlet temperature (°C)                        20631 non-null  float64\n",
            " 9   Fan inlet pressure (bar)                           20631 non-null  float64\n",
            " 10  Bypass duct pressure (bar)                         20631 non-null  float64\n",
            " 11  HPC outlet pressure (bar)                          20631 non-null  float64\n",
            " 12  Physical fan speed (rpm)                           20631 non-null  float64\n",
            " 13  Physical core speed (rpm)                          20631 non-null  float64\n",
            " 14  Engine pressure ratio (P50/P2) (dimensionless)     20631 non-null  float64\n",
            " 15  HPC outlet static pressure (bar)                   20631 non-null  float64\n",
            " 16  Fuel flow / Ps30 (kg/s/bar)                        20631 non-null  float64\n",
            " 17  Corrected fan speed (rpm)                          20631 non-null  float64\n",
            " 18  Corrected core speed (rpm)                         20631 non-null  float64\n",
            " 19  Bypass ratio (dimensionless)                       20631 non-null  float64\n",
            " 20  Burner fuel-air ratio (mass ratio, dimensionless)  20631 non-null  float64\n",
            " 21  Bleed enthalpy (kJ/kg)                             19578 non-null  float64\n",
            " 22  Demanded fan speed (rpm)                           20631 non-null  int64  \n",
            " 23  Demanded corrected fan speed (rpm)                 20631 non-null  float64\n",
            " 24  HPT coolant bleed flow (kg/s)                      20631 non-null  float64\n",
            " 25  LPT coolant bleed flow (kg/s)                      19666 non-null  float64\n",
            " 26  RUL                                                20631 non-null  int64  \n",
            " 27  RUL_class                                          20631 non-null  int64  \n",
            "dtypes: float64(22), int64(5), object(1)\n",
            "memory usage: 4.4+ MB\n"
          ]
        }
      ],
      "source": [
        "dataset.info()"
      ]
    },
    {
      "cell_type": "markdown",
      "metadata": {
        "id": "IgdVHU6ciWBf"
      },
      "source": [
        "**What can you say about the loaded dataset ?**\n"
      ]
    },
    {
      "cell_type": "markdown",
      "metadata": {
        "id": "XLifVexBec3l"
      },
      "source": [
        "**Question 3**:  <br> **Print all the columns/variables of the dataset.**"
      ]
    },
    {
      "cell_type": "code",
      "execution_count": 9,
      "metadata": {
        "id": "PH0JNOrf2W8_"
      },
      "outputs": [
        {
          "name": "stdout",
          "output_type": "stream",
          "text": [
            "['engine_unit_number', 'time_cycles', 'setting_1', 'setting_2', 'setting_3', 'Fan inlet temperature (°C)', 'LPC outlet temperature (°C)', 'HPC outlet temperature (°C)', 'LPT outlet temperature (°C)', 'Fan inlet pressure (bar)', 'Bypass duct pressure (bar)', 'HPC outlet pressure (bar)', 'Physical fan speed (rpm)', 'Physical core speed (rpm)', 'Engine pressure ratio (P50/P2) (dimensionless)', 'HPC outlet static pressure (bar)', 'Fuel flow / Ps30 (kg/s/bar)', 'Corrected fan speed (rpm)', 'Corrected core speed (rpm)', 'Bypass ratio (dimensionless)', 'Burner fuel-air ratio (mass ratio, dimensionless)', 'Bleed enthalpy (kJ/kg)', 'Demanded fan speed (rpm)', 'Demanded corrected fan speed (rpm)', 'HPT coolant bleed flow (kg/s)', 'LPT coolant bleed flow (kg/s)', 'RUL', 'RUL_class']\n"
          ]
        }
      ],
      "source": [
        "print(dataset.columns.to_list())"
      ]
    },
    {
      "cell_type": "markdown",
      "metadata": {
        "id": "1biQZs92inr0"
      },
      "source": [
        "## **3. Analyze the dataframe's dtypes**\n",
        "**Question 4**: <br>\n",
        "**Create 3 lists, each containing columns names with an int, float and object type.**\n",
        "- List 1: Columns with an `int64` type\n",
        "- List 2: Columns with a `float64` type\n",
        "- List 3: Columns with an `object` type.\n",
        "\n",
        "*Note: You can use pandas' `.select_dtypes()` function to get columns with a specific dtype.* <br>\n",
        "*Create a list from a Pandas Dataframe/series with `.to_list()`*"
      ]
    },
    {
      "cell_type": "code",
      "execution_count": 10,
      "metadata": {
        "id": "OuaMRMAf2YyA"
      },
      "outputs": [
        {
          "name": "stdout",
          "output_type": "stream",
          "text": [
            "\n",
            "Colonnes int : ['engine_unit_number', 'time_cycles', 'Demanded fan speed (rpm)', 'RUL', 'RUL_class']\n",
            "Colonnes float : ['setting_1', 'setting_2', 'setting_3', 'Fan inlet temperature (°C)', 'LPC outlet temperature (°C)', 'LPT outlet temperature (°C)', 'Fan inlet pressure (bar)', 'Bypass duct pressure (bar)', 'HPC outlet pressure (bar)', 'Physical fan speed (rpm)', 'Physical core speed (rpm)', 'Engine pressure ratio (P50/P2) (dimensionless)', 'HPC outlet static pressure (bar)', 'Fuel flow / Ps30 (kg/s/bar)', 'Corrected fan speed (rpm)', 'Corrected core speed (rpm)', 'Bypass ratio (dimensionless)', 'Burner fuel-air ratio (mass ratio, dimensionless)', 'Bleed enthalpy (kJ/kg)', 'Demanded corrected fan speed (rpm)', 'HPT coolant bleed flow (kg/s)', 'LPT coolant bleed flow (kg/s)']\n",
            "Colonnes object : ['HPC outlet temperature (°C)']\n"
          ]
        }
      ],
      "source": [
        "int_cols = dataset.select_dtypes(include=\"int64\").columns.to_list()\n",
        "float_cols = dataset.select_dtypes(include=\"float64\").columns.to_list()\n",
        "object_cols = dataset.select_dtypes(include=\"object\").columns.to_list()\n",
        "\n",
        "print(\"\\nColonnes int :\", int_cols)\n",
        "print(\"Colonnes float :\", float_cols)\n",
        "print(\"Colonnes object :\", object_cols)"
      ]
    },
    {
      "cell_type": "markdown",
      "metadata": {
        "id": "QBjyPD9HetOq"
      },
      "source": [
        "**Question 5**: <br>\n",
        "**Compute the number of unique values for the columns with an object and int type.** <br>\n",
        "\n",
        "*Note: Combine the list with int columns and object columns using the `+` operator*. <br>\n",
        "*Create a dataframe with the number of unique values and the corresponding variable.*"
      ]
    },
    {
      "cell_type": "code",
      "execution_count": 15,
      "metadata": {
        "id": "c3fi0JiwiWBg"
      },
      "outputs": [],
      "source": [
        "#Method 1 (Beginner)\n",
        "\n",
        "# Combine the lists with columns with an object and int type\n",
        "\n",
        "\n",
        "# Compute the number of unique values in each column\n",
        "# For each column, we get the number of unique value by using unique\n",
        "cols_unique = int_cols + object_cols\n",
        "\n",
        "# Méthode 1 : avec loop\n",
        "unique_counts = {col: dataset[col].nunique() for col in cols_unique}\n",
        "unique_df = pd.DataFrame(list(unique_counts.items()), columns=[\"Variable\", \"Nb_unique\"])"
      ]
    },
    {
      "cell_type": "code",
      "execution_count": 16,
      "metadata": {
        "id": "FEwRpXdOiWBg"
      },
      "outputs": [
        {
          "name": "stdout",
          "output_type": "stream",
          "text": [
            "\n",
            "===== Nb valeurs uniques (int + object) =====\n"
          ]
        },
        {
          "data": {
            "text/html": [
              "<div>\n",
              "<style scoped>\n",
              "    .dataframe tbody tr th:only-of-type {\n",
              "        vertical-align: middle;\n",
              "    }\n",
              "\n",
              "    .dataframe tbody tr th {\n",
              "        vertical-align: top;\n",
              "    }\n",
              "\n",
              "    .dataframe thead th {\n",
              "        text-align: right;\n",
              "    }\n",
              "</style>\n",
              "<table border=\"1\" class=\"dataframe\">\n",
              "  <thead>\n",
              "    <tr style=\"text-align: right;\">\n",
              "      <th></th>\n",
              "      <th>Variable</th>\n",
              "      <th>Nb_unique</th>\n",
              "    </tr>\n",
              "  </thead>\n",
              "  <tbody>\n",
              "    <tr>\n",
              "      <th>0</th>\n",
              "      <td>engine_unit_number</td>\n",
              "      <td>100</td>\n",
              "    </tr>\n",
              "    <tr>\n",
              "      <th>1</th>\n",
              "      <td>time_cycles</td>\n",
              "      <td>362</td>\n",
              "    </tr>\n",
              "    <tr>\n",
              "      <th>2</th>\n",
              "      <td>Demanded fan speed (rpm)</td>\n",
              "      <td>1</td>\n",
              "    </tr>\n",
              "    <tr>\n",
              "      <th>3</th>\n",
              "      <td>RUL</td>\n",
              "      <td>362</td>\n",
              "    </tr>\n",
              "    <tr>\n",
              "      <th>4</th>\n",
              "      <td>RUL_class</td>\n",
              "      <td>2</td>\n",
              "    </tr>\n",
              "    <tr>\n",
              "      <th>5</th>\n",
              "      <td>HPC outlet temperature (°C)</td>\n",
              "      <td>7</td>\n",
              "    </tr>\n",
              "  </tbody>\n",
              "</table>\n",
              "</div>"
            ],
            "text/plain": [
              "                      Variable  Nb_unique\n",
              "0           engine_unit_number        100\n",
              "1                  time_cycles        362\n",
              "2     Demanded fan speed (rpm)          1\n",
              "3                          RUL        362\n",
              "4                    RUL_class          2\n",
              "5  HPC outlet temperature (°C)          7"
            ]
          },
          "metadata": {},
          "output_type": "display_data"
        }
      ],
      "source": [
        "# Create a dataframe with column names and number of unique values\n",
        "print(\"\\n===== Nb valeurs uniques (int + object) =====\")\n",
        "display(unique_df)"
      ]
    },
    {
      "cell_type": "code",
      "execution_count": null,
      "metadata": {
        "id": "z-gN0wrFjJwo"
      },
      "outputs": [],
      "source": [
        "#Method 2 (Intermediate) Use nunique\n"
      ]
    },
    {
      "cell_type": "markdown",
      "metadata": {
        "id": "VxbMvTxqiWBg"
      },
      "source": [
        "**Which column/variable has over 15 unique values ?**"
      ]
    },
    {
      "cell_type": "code",
      "execution_count": 12,
      "metadata": {
        "id": "y8WxsBACiWBg"
      },
      "outputs": [
        {
          "name": "stdout",
          "output_type": "stream",
          "text": [
            "Colonnes avec +15 valeurs uniques :\n"
          ]
        },
        {
          "data": {
            "text/html": [
              "<div>\n",
              "<style scoped>\n",
              "    .dataframe tbody tr th:only-of-type {\n",
              "        vertical-align: middle;\n",
              "    }\n",
              "\n",
              "    .dataframe tbody tr th {\n",
              "        vertical-align: top;\n",
              "    }\n",
              "\n",
              "    .dataframe thead th {\n",
              "        text-align: right;\n",
              "    }\n",
              "</style>\n",
              "<table border=\"1\" class=\"dataframe\">\n",
              "  <thead>\n",
              "    <tr style=\"text-align: right;\">\n",
              "      <th></th>\n",
              "      <th>Variable</th>\n",
              "      <th>Nb_unique</th>\n",
              "    </tr>\n",
              "  </thead>\n",
              "  <tbody>\n",
              "    <tr>\n",
              "      <th>0</th>\n",
              "      <td>engine_unit_number</td>\n",
              "      <td>100</td>\n",
              "    </tr>\n",
              "    <tr>\n",
              "      <th>1</th>\n",
              "      <td>time_cycles</td>\n",
              "      <td>362</td>\n",
              "    </tr>\n",
              "    <tr>\n",
              "      <th>3</th>\n",
              "      <td>RUL</td>\n",
              "      <td>362</td>\n",
              "    </tr>\n",
              "  </tbody>\n",
              "</table>\n",
              "</div>"
            ],
            "text/plain": [
              "             Variable  Nb_unique\n",
              "0  engine_unit_number        100\n",
              "1         time_cycles        362\n",
              "3                 RUL        362"
            ]
          },
          "metadata": {},
          "output_type": "display_data"
        }
      ],
      "source": [
        "# Select variables/columns with over 15 unique values\n",
        "# Colonnes avec plus de 15 valeurs uniques\n",
        "print(\"Colonnes avec +15 valeurs uniques :\")\n",
        "display(unique_df[unique_df[\"Nb_unique\"] > 15])"
      ]
    },
    {
      "cell_type": "markdown",
      "metadata": {
        "id": "5cF7MQdJiWBh"
      },
      "source": [
        "**Question 6**: <br>\n",
        "**Compute the summary statistics of columns with a float type, with pandas' `.describe()` function.** <br>"
      ]
    },
    {
      "cell_type": "code",
      "execution_count": 17,
      "metadata": {
        "id": "368fyCRj2jXB"
      },
      "outputs": [
        {
          "name": "stdout",
          "output_type": "stream",
          "text": [
            "\n",
            "===== Statistiques colonnes float =====\n"
          ]
        },
        {
          "data": {
            "text/html": [
              "<div>\n",
              "<style scoped>\n",
              "    .dataframe tbody tr th:only-of-type {\n",
              "        vertical-align: middle;\n",
              "    }\n",
              "\n",
              "    .dataframe tbody tr th {\n",
              "        vertical-align: top;\n",
              "    }\n",
              "\n",
              "    .dataframe thead th {\n",
              "        text-align: right;\n",
              "    }\n",
              "</style>\n",
              "<table border=\"1\" class=\"dataframe\">\n",
              "  <thead>\n",
              "    <tr style=\"text-align: right;\">\n",
              "      <th></th>\n",
              "      <th>setting_1</th>\n",
              "      <th>setting_2</th>\n",
              "      <th>setting_3</th>\n",
              "      <th>Fan inlet temperature (°C)</th>\n",
              "      <th>LPC outlet temperature (°C)</th>\n",
              "      <th>LPT outlet temperature (°C)</th>\n",
              "      <th>Fan inlet pressure (bar)</th>\n",
              "      <th>Bypass duct pressure (bar)</th>\n",
              "      <th>HPC outlet pressure (bar)</th>\n",
              "      <th>Physical fan speed (rpm)</th>\n",
              "      <th>Physical core speed (rpm)</th>\n",
              "      <th>Engine pressure ratio (P50/P2) (dimensionless)</th>\n",
              "      <th>HPC outlet static pressure (bar)</th>\n",
              "      <th>Fuel flow / Ps30 (kg/s/bar)</th>\n",
              "      <th>Corrected fan speed (rpm)</th>\n",
              "      <th>Corrected core speed (rpm)</th>\n",
              "      <th>Bypass ratio (dimensionless)</th>\n",
              "      <th>Burner fuel-air ratio (mass ratio, dimensionless)</th>\n",
              "      <th>Bleed enthalpy (kJ/kg)</th>\n",
              "      <th>Demanded corrected fan speed (rpm)</th>\n",
              "      <th>HPT coolant bleed flow (kg/s)</th>\n",
              "      <th>LPT coolant bleed flow (kg/s)</th>\n",
              "    </tr>\n",
              "  </thead>\n",
              "  <tbody>\n",
              "    <tr>\n",
              "      <th>count</th>\n",
              "      <td>20631.000000</td>\n",
              "      <td>20631.000000</td>\n",
              "      <td>20631.0</td>\n",
              "      <td>20631.0</td>\n",
              "      <td>20631.000000</td>\n",
              "      <td>20631.000000</td>\n",
              "      <td>20631.000000</td>\n",
              "      <td>20631.000000</td>\n",
              "      <td>20631.000000</td>\n",
              "      <td>20631.000000</td>\n",
              "      <td>20631.000000</td>\n",
              "      <td>20631.0</td>\n",
              "      <td>20631.000000</td>\n",
              "      <td>20631.000000</td>\n",
              "      <td>20631.000000</td>\n",
              "      <td>20631.000000</td>\n",
              "      <td>20631.000000</td>\n",
              "      <td>2.063100e+04</td>\n",
              "      <td>19578.000000</td>\n",
              "      <td>20631.0</td>\n",
              "      <td>20631.000000</td>\n",
              "      <td>19666.000000</td>\n",
              "    </tr>\n",
              "    <tr>\n",
              "      <th>mean</th>\n",
              "      <td>-0.000009</td>\n",
              "      <td>0.000002</td>\n",
              "      <td>100.0</td>\n",
              "      <td>15.0</td>\n",
              "      <td>83.894963</td>\n",
              "      <td>509.590990</td>\n",
              "      <td>1.008014</td>\n",
              "      <td>1.489943</td>\n",
              "      <td>38.153361</td>\n",
              "      <td>2388.096652</td>\n",
              "      <td>9065.242941</td>\n",
              "      <td>1.3</td>\n",
              "      <td>3.277848</td>\n",
              "      <td>35.950193</td>\n",
              "      <td>2388.096152</td>\n",
              "      <td>8143.752722</td>\n",
              "      <td>8.442146</td>\n",
              "      <td>3.000000e-02</td>\n",
              "      <td>393.215701</td>\n",
              "      <td>100.0</td>\n",
              "      <td>17.606764</td>\n",
              "      <td>10.564042</td>\n",
              "    </tr>\n",
              "    <tr>\n",
              "      <th>std</th>\n",
              "      <td>0.002187</td>\n",
              "      <td>0.000293</td>\n",
              "      <td>0.0</td>\n",
              "      <td>0.0</td>\n",
              "      <td>0.277807</td>\n",
              "      <td>5.000336</td>\n",
              "      <td>0.000000</td>\n",
              "      <td>0.000096</td>\n",
              "      <td>0.061025</td>\n",
              "      <td>0.070985</td>\n",
              "      <td>22.082880</td>\n",
              "      <td>0.0</td>\n",
              "      <td>0.018415</td>\n",
              "      <td>0.050853</td>\n",
              "      <td>0.071919</td>\n",
              "      <td>19.076176</td>\n",
              "      <td>0.037505</td>\n",
              "      <td>1.387812e-17</td>\n",
              "      <td>1.551521</td>\n",
              "      <td>0.0</td>\n",
              "      <td>0.081985</td>\n",
              "      <td>0.049034</td>\n",
              "    </tr>\n",
              "    <tr>\n",
              "      <th>min</th>\n",
              "      <td>-0.008700</td>\n",
              "      <td>-0.000600</td>\n",
              "      <td>100.0</td>\n",
              "      <td>15.0</td>\n",
              "      <td>83.077778</td>\n",
              "      <td>494.766667</td>\n",
              "      <td>1.008014</td>\n",
              "      <td>1.489268</td>\n",
              "      <td>37.910823</td>\n",
              "      <td>2387.900000</td>\n",
              "      <td>9021.730000</td>\n",
              "      <td>1.3</td>\n",
              "      <td>3.230194</td>\n",
              "      <td>35.762417</td>\n",
              "      <td>2387.880000</td>\n",
              "      <td>8099.940000</td>\n",
              "      <td>8.324900</td>\n",
              "      <td>3.000000e-02</td>\n",
              "      <td>388.000000</td>\n",
              "      <td>100.0</td>\n",
              "      <td>17.300013</td>\n",
              "      <td>10.384634</td>\n",
              "    </tr>\n",
              "    <tr>\n",
              "      <th>25%</th>\n",
              "      <td>-0.001500</td>\n",
              "      <td>-0.000200</td>\n",
              "      <td>100.0</td>\n",
              "      <td>15.0</td>\n",
              "      <td>83.697222</td>\n",
              "      <td>505.938889</td>\n",
              "      <td>1.008014</td>\n",
              "      <td>1.489957</td>\n",
              "      <td>38.114908</td>\n",
              "      <td>2388.050000</td>\n",
              "      <td>9053.100000</td>\n",
              "      <td>1.3</td>\n",
              "      <td>3.264668</td>\n",
              "      <td>35.918928</td>\n",
              "      <td>2388.040000</td>\n",
              "      <td>8133.245000</td>\n",
              "      <td>8.414900</td>\n",
              "      <td>3.000000e-02</td>\n",
              "      <td>392.000000</td>\n",
              "      <td>100.0</td>\n",
              "      <td>17.554025</td>\n",
              "      <td>10.533186</td>\n",
              "    </tr>\n",
              "    <tr>\n",
              "      <th>50%</th>\n",
              "      <td>0.000000</td>\n",
              "      <td>0.000000</td>\n",
              "      <td>100.0</td>\n",
              "      <td>15.0</td>\n",
              "      <td>83.872222</td>\n",
              "      <td>509.094444</td>\n",
              "      <td>1.008014</td>\n",
              "      <td>1.489957</td>\n",
              "      <td>38.158345</td>\n",
              "      <td>2388.090000</td>\n",
              "      <td>9060.660000</td>\n",
              "      <td>1.3</td>\n",
              "      <td>3.275699</td>\n",
              "      <td>35.954780</td>\n",
              "      <td>2388.090000</td>\n",
              "      <td>8140.540000</td>\n",
              "      <td>8.438900</td>\n",
              "      <td>3.000000e-02</td>\n",
              "      <td>393.000000</td>\n",
              "      <td>100.0</td>\n",
              "      <td>17.612992</td>\n",
              "      <td>10.567614</td>\n",
              "    </tr>\n",
              "    <tr>\n",
              "      <th>75%</th>\n",
              "      <td>0.001500</td>\n",
              "      <td>0.000300</td>\n",
              "      <td>100.0</td>\n",
              "      <td>15.0</td>\n",
              "      <td>84.072222</td>\n",
              "      <td>512.713889</td>\n",
              "      <td>1.008014</td>\n",
              "      <td>1.489957</td>\n",
              "      <td>38.197645</td>\n",
              "      <td>2388.140000</td>\n",
              "      <td>9069.420000</td>\n",
              "      <td>1.3</td>\n",
              "      <td>3.288799</td>\n",
              "      <td>35.987186</td>\n",
              "      <td>2388.140000</td>\n",
              "      <td>8148.310000</td>\n",
              "      <td>8.465600</td>\n",
              "      <td>3.000000e-02</td>\n",
              "      <td>394.000000</td>\n",
              "      <td>100.0</td>\n",
              "      <td>17.667423</td>\n",
              "      <td>10.598991</td>\n",
              "    </tr>\n",
              "    <tr>\n",
              "      <th>max</th>\n",
              "      <td>0.008700</td>\n",
              "      <td>0.000600</td>\n",
              "      <td>100.0</td>\n",
              "      <td>15.0</td>\n",
              "      <td>84.922222</td>\n",
              "      <td>527.677778</td>\n",
              "      <td>1.008014</td>\n",
              "      <td>1.489957</td>\n",
              "      <td>38.338987</td>\n",
              "      <td>2388.560000</td>\n",
              "      <td>9244.590000</td>\n",
              "      <td>1.3</td>\n",
              "      <td>3.346026</td>\n",
              "      <td>36.085781</td>\n",
              "      <td>2388.560000</td>\n",
              "      <td>8293.720000</td>\n",
              "      <td>8.584800</td>\n",
              "      <td>3.000000e-02</td>\n",
              "      <td>400.000000</td>\n",
              "      <td>100.0</td>\n",
              "      <td>17.885147</td>\n",
              "      <td>10.713126</td>\n",
              "    </tr>\n",
              "  </tbody>\n",
              "</table>\n",
              "</div>"
            ],
            "text/plain": [
              "          setting_1     setting_2  setting_3  Fan inlet temperature (°C)  \\\n",
              "count  20631.000000  20631.000000    20631.0                     20631.0   \n",
              "mean      -0.000009      0.000002      100.0                        15.0   \n",
              "std        0.002187      0.000293        0.0                         0.0   \n",
              "min       -0.008700     -0.000600      100.0                        15.0   \n",
              "25%       -0.001500     -0.000200      100.0                        15.0   \n",
              "50%        0.000000      0.000000      100.0                        15.0   \n",
              "75%        0.001500      0.000300      100.0                        15.0   \n",
              "max        0.008700      0.000600      100.0                        15.0   \n",
              "\n",
              "       LPC outlet temperature (°C)  LPT outlet temperature (°C)  \\\n",
              "count                 20631.000000                 20631.000000   \n",
              "mean                     83.894963                   509.590990   \n",
              "std                       0.277807                     5.000336   \n",
              "min                      83.077778                   494.766667   \n",
              "25%                      83.697222                   505.938889   \n",
              "50%                      83.872222                   509.094444   \n",
              "75%                      84.072222                   512.713889   \n",
              "max                      84.922222                   527.677778   \n",
              "\n",
              "       Fan inlet pressure (bar)  Bypass duct pressure (bar)  \\\n",
              "count              20631.000000                20631.000000   \n",
              "mean                   1.008014                    1.489943   \n",
              "std                    0.000000                    0.000096   \n",
              "min                    1.008014                    1.489268   \n",
              "25%                    1.008014                    1.489957   \n",
              "50%                    1.008014                    1.489957   \n",
              "75%                    1.008014                    1.489957   \n",
              "max                    1.008014                    1.489957   \n",
              "\n",
              "       HPC outlet pressure (bar)  Physical fan speed (rpm)  \\\n",
              "count               20631.000000              20631.000000   \n",
              "mean                   38.153361               2388.096652   \n",
              "std                     0.061025                  0.070985   \n",
              "min                    37.910823               2387.900000   \n",
              "25%                    38.114908               2388.050000   \n",
              "50%                    38.158345               2388.090000   \n",
              "75%                    38.197645               2388.140000   \n",
              "max                    38.338987               2388.560000   \n",
              "\n",
              "       Physical core speed (rpm)  \\\n",
              "count               20631.000000   \n",
              "mean                 9065.242941   \n",
              "std                    22.082880   \n",
              "min                  9021.730000   \n",
              "25%                  9053.100000   \n",
              "50%                  9060.660000   \n",
              "75%                  9069.420000   \n",
              "max                  9244.590000   \n",
              "\n",
              "       Engine pressure ratio (P50/P2) (dimensionless)  \\\n",
              "count                                         20631.0   \n",
              "mean                                              1.3   \n",
              "std                                               0.0   \n",
              "min                                               1.3   \n",
              "25%                                               1.3   \n",
              "50%                                               1.3   \n",
              "75%                                               1.3   \n",
              "max                                               1.3   \n",
              "\n",
              "       HPC outlet static pressure (bar)  Fuel flow / Ps30 (kg/s/bar)  \\\n",
              "count                      20631.000000                 20631.000000   \n",
              "mean                           3.277848                    35.950193   \n",
              "std                            0.018415                     0.050853   \n",
              "min                            3.230194                    35.762417   \n",
              "25%                            3.264668                    35.918928   \n",
              "50%                            3.275699                    35.954780   \n",
              "75%                            3.288799                    35.987186   \n",
              "max                            3.346026                    36.085781   \n",
              "\n",
              "       Corrected fan speed (rpm)  Corrected core speed (rpm)  \\\n",
              "count               20631.000000                20631.000000   \n",
              "mean                 2388.096152                 8143.752722   \n",
              "std                     0.071919                   19.076176   \n",
              "min                  2387.880000                 8099.940000   \n",
              "25%                  2388.040000                 8133.245000   \n",
              "50%                  2388.090000                 8140.540000   \n",
              "75%                  2388.140000                 8148.310000   \n",
              "max                  2388.560000                 8293.720000   \n",
              "\n",
              "       Bypass ratio (dimensionless)  \\\n",
              "count                  20631.000000   \n",
              "mean                       8.442146   \n",
              "std                        0.037505   \n",
              "min                        8.324900   \n",
              "25%                        8.414900   \n",
              "50%                        8.438900   \n",
              "75%                        8.465600   \n",
              "max                        8.584800   \n",
              "\n",
              "       Burner fuel-air ratio (mass ratio, dimensionless)  \\\n",
              "count                                       2.063100e+04   \n",
              "mean                                        3.000000e-02   \n",
              "std                                         1.387812e-17   \n",
              "min                                         3.000000e-02   \n",
              "25%                                         3.000000e-02   \n",
              "50%                                         3.000000e-02   \n",
              "75%                                         3.000000e-02   \n",
              "max                                         3.000000e-02   \n",
              "\n",
              "       Bleed enthalpy (kJ/kg)  Demanded corrected fan speed (rpm)  \\\n",
              "count            19578.000000                             20631.0   \n",
              "mean               393.215701                               100.0   \n",
              "std                  1.551521                                 0.0   \n",
              "min                388.000000                               100.0   \n",
              "25%                392.000000                               100.0   \n",
              "50%                393.000000                               100.0   \n",
              "75%                394.000000                               100.0   \n",
              "max                400.000000                               100.0   \n",
              "\n",
              "       HPT coolant bleed flow (kg/s)  LPT coolant bleed flow (kg/s)  \n",
              "count                   20631.000000                   19666.000000  \n",
              "mean                       17.606764                      10.564042  \n",
              "std                         0.081985                       0.049034  \n",
              "min                        17.300013                      10.384634  \n",
              "25%                        17.554025                      10.533186  \n",
              "50%                        17.612992                      10.567614  \n",
              "75%                        17.667423                      10.598991  \n",
              "max                        17.885147                      10.713126  "
            ]
          },
          "metadata": {},
          "output_type": "display_data"
        }
      ],
      "source": [
        "print(\"\\n===== Statistiques colonnes float =====\")\n",
        "display(dataset[float_cols].describe())"
      ]
    },
    {
      "cell_type": "markdown",
      "metadata": {
        "id": "v6ol5W8eiWBh"
      },
      "source": [
        "## **4. Analyze missing values**"
      ]
    },
    {
      "cell_type": "markdown",
      "metadata": {
        "id": "U82k4QWReiC-"
      },
      "source": [
        "**Question 7**: <br> **Compute the number of NaN value for every variable/column** <br>\n",
        "\n",
        "*Note: A NaN value represents a missing value in a cell of the dataframe* <br>\n",
        "*You can use the `.isna()` function.*"
      ]
    },
    {
      "cell_type": "code",
      "execution_count": 18,
      "metadata": {
        "id": "ZxP5WkrR2klg"
      },
      "outputs": [
        {
          "name": "stdout",
          "output_type": "stream",
          "text": [
            "\n",
            "===== Nb NaN par colonne =====\n"
          ]
        },
        {
          "data": {
            "text/plain": [
              "engine_unit_number                                      0\n",
              "time_cycles                                             0\n",
              "setting_1                                               0\n",
              "setting_2                                               0\n",
              "setting_3                                               0\n",
              "Fan inlet temperature (°C)                              0\n",
              "LPC outlet temperature (°C)                             0\n",
              "HPC outlet temperature (°C)                          1866\n",
              "LPT outlet temperature (°C)                             0\n",
              "Fan inlet pressure (bar)                                0\n",
              "Bypass duct pressure (bar)                              0\n",
              "HPC outlet pressure (bar)                               0\n",
              "Physical fan speed (rpm)                                0\n",
              "Physical core speed (rpm)                               0\n",
              "Engine pressure ratio (P50/P2) (dimensionless)          0\n",
              "HPC outlet static pressure (bar)                        0\n",
              "Fuel flow / Ps30 (kg/s/bar)                             0\n",
              "Corrected fan speed (rpm)                               0\n",
              "Corrected core speed (rpm)                              0\n",
              "Bypass ratio (dimensionless)                            0\n",
              "Burner fuel-air ratio (mass ratio, dimensionless)       0\n",
              "Bleed enthalpy (kJ/kg)                               1053\n",
              "Demanded fan speed (rpm)                                0\n",
              "Demanded corrected fan speed (rpm)                      0\n",
              "HPT coolant bleed flow (kg/s)                           0\n",
              "LPT coolant bleed flow (kg/s)                         965\n",
              "RUL                                                     0\n",
              "RUL_class                                               0\n",
              "dtype: int64"
            ]
          },
          "metadata": {},
          "output_type": "display_data"
        }
      ],
      "source": [
        "print(\"\\n===== Nb NaN par colonne =====\")\n",
        "na_counts = dataset.isna().sum()\n",
        "display(na_counts)"
      ]
    },
    {
      "cell_type": "markdown",
      "metadata": {
        "id": "3V8hZif3iWBi"
      },
      "source": [
        "** Question 8 Which variables of the dataset has missing values ?**"
      ]
    },
    {
      "cell_type": "code",
      "execution_count": 19,
      "metadata": {
        "id": "kDfjwkn82mct"
      },
      "outputs": [
        {
          "name": "stdout",
          "output_type": "stream",
          "text": [
            "\n",
            "Colonnes avec valeurs manquantes :\n"
          ]
        },
        {
          "data": {
            "text/plain": [
              "HPC outlet temperature (°C)      1866\n",
              "Bleed enthalpy (kJ/kg)           1053\n",
              "LPT coolant bleed flow (kg/s)     965\n",
              "dtype: int64"
            ]
          },
          "metadata": {},
          "output_type": "display_data"
        }
      ],
      "source": [
        "print(\"\\nColonnes avec valeurs manquantes :\")\n",
        "display(na_counts[na_counts > 0])"
      ]
    },
    {
      "cell_type": "markdown",
      "metadata": {
        "id": "uaMYkf1hiWBi"
      },
      "source": [
        "**Question 9:** <br>\n",
        "**Drop the rows of the dataset that have missing values with `.dropna(axis=0)`. <br>**\n",
        "Don't forget to add `.reset_index(drop=True)` after dropping the NaN values in the dataframe !"
      ]
    },
    {
      "cell_type": "code",
      "execution_count": null,
      "metadata": {
        "id": "HdUaPSBg2oby"
      },
      "outputs": [
        {
          "name": "stdout",
          "output_type": "stream",
          "text": [
            "\n",
            "Taille du dataset après suppression des NaN : (16963, 28)\n"
          ]
        }
      ],
      "source": [
        "dataset_cleaned = dataset.dropna(axis=0).reset_index(drop=True)\n",
        "print(\"\\nTaille du dataset après suppression des NaN :\", dataset_cleaned.shape)\n"
      ]
    },
    {
      "cell_type": "code",
      "execution_count": null,
      "metadata": {
        "id": "q4Z_JbYx2oVq"
      },
      "outputs": [
        {
          "name": "stdout",
          "output_type": "stream",
          "text": [
            "\n",
            "Nb total de NaN après nettoyage : 0\n",
            "<class 'pandas.core.frame.DataFrame'>\n",
            "RangeIndex: 16963 entries, 0 to 16962\n",
            "Data columns (total 28 columns):\n",
            " #   Column                                             Non-Null Count  Dtype  \n",
            "---  ------                                             --------------  -----  \n",
            " 0   engine_unit_number                                 16963 non-null  int64  \n",
            " 1   time_cycles                                        16963 non-null  int64  \n",
            " 2   setting_1                                          16963 non-null  float64\n",
            " 3   setting_2                                          16963 non-null  float64\n",
            " 4   setting_3                                          16963 non-null  float64\n",
            " 5   Fan inlet temperature (°C)                         16963 non-null  float64\n",
            " 6   LPC outlet temperature (°C)                        16963 non-null  float64\n",
            " 7   HPC outlet temperature (°C)                        16963 non-null  object \n",
            " 8   LPT outlet temperature (°C)                        16963 non-null  float64\n",
            " 9   Fan inlet pressure (bar)                           16963 non-null  float64\n",
            " 10  Bypass duct pressure (bar)                         16963 non-null  float64\n",
            " 11  HPC outlet pressure (bar)                          16963 non-null  float64\n",
            " 12  Physical fan speed (rpm)                           16963 non-null  float64\n",
            " 13  Physical core speed (rpm)                          16963 non-null  float64\n",
            " 14  Engine pressure ratio (P50/P2) (dimensionless)     16963 non-null  float64\n",
            " 15  HPC outlet static pressure (bar)                   16963 non-null  float64\n",
            " 16  Fuel flow / Ps30 (kg/s/bar)                        16963 non-null  float64\n",
            " 17  Corrected fan speed (rpm)                          16963 non-null  float64\n",
            " 18  Corrected core speed (rpm)                         16963 non-null  float64\n",
            " 19  Bypass ratio (dimensionless)                       16963 non-null  float64\n",
            " 20  Burner fuel-air ratio (mass ratio, dimensionless)  16963 non-null  float64\n",
            " 21  Bleed enthalpy (kJ/kg)                             16963 non-null  float64\n",
            " 22  Demanded fan speed (rpm)                           16963 non-null  int64  \n",
            " 23  Demanded corrected fan speed (rpm)                 16963 non-null  float64\n",
            " 24  HPT coolant bleed flow (kg/s)                      16963 non-null  float64\n",
            " 25  LPT coolant bleed flow (kg/s)                      16963 non-null  float64\n",
            " 26  RUL                                                16963 non-null  int64  \n",
            " 27  RUL_class                                          16963 non-null  int64  \n",
            "dtypes: float64(22), int64(5), object(1)\n",
            "memory usage: 3.6+ MB\n"
          ]
        }
      ],
      "source": [
        "print(\"\\nNb total de NaN après nettoyage :\", dataset_cleaned.isna().sum().sum())\n",
        "dataset_cleaned.info()"
      ]
    },
    {
      "cell_type": "code",
      "execution_count": null,
      "metadata": {
        "id": "7G0rES1H2oPX"
      },
      "outputs": [],
      "source": []
    },
    {
      "cell_type": "markdown",
      "metadata": {
        "id": "mL9bhb-kiWBj"
      },
      "source": [
        "**If you don't want to drop rows, you can replace the missing values in each variable** <br>\n",
        "Try the following methods only if the variable has a small number of NaN values (less than 10%).\n",
        "- Replace with the mean or median value for continuous variables (mostly columns with a float dtype)\n",
        "- Replace with the variable's most frequent value (`.mode()`) or by creating a new category for categorical variables (mostly columns with an int/object dtype)\n",
        "\n",
        "You can drop the variables with a high number of missing values.\n",
        "\n",
        "** Re-run the dataset import if you want to do this after having drop the rows**"
      ]
    },
    {
      "cell_type": "code",
      "execution_count": null,
      "metadata": {
        "id": "IEkMpUQC2pcb"
      },
      "outputs": [],
      "source": [
        "# Find columns with a small number of missing values (df_na was created in question 7)"
      ]
    },
    {
      "cell_type": "markdown",
      "metadata": {
        "id": "btcIfMzNiWBk"
      },
      "source": [
        "At this step, the dataset shouldn't have any missing values (you can check with `.isna().sum().sum()`)\n"
      ]
    },
    {
      "cell_type": "code",
      "execution_count": 28,
      "metadata": {
        "id": "TRE3WT8ViWBl"
      },
      "outputs": [
        {
          "data": {
            "text/plain": [
              "0"
            ]
          },
          "execution_count": 28,
          "metadata": {},
          "output_type": "execute_result"
        }
      ],
      "source": [
        "dataset_cleaned.isna().sum().sum()"
      ]
    },
    {
      "cell_type": "code",
      "execution_count": 27,
      "metadata": {
        "id": "vzOa54NY0ktE"
      },
      "outputs": [
        {
          "name": "stdout",
          "output_type": "stream",
          "text": [
            "<class 'pandas.core.frame.DataFrame'>\n",
            "RangeIndex: 16963 entries, 0 to 16962\n",
            "Data columns (total 28 columns):\n",
            " #   Column                                             Non-Null Count  Dtype  \n",
            "---  ------                                             --------------  -----  \n",
            " 0   engine_unit_number                                 16963 non-null  int64  \n",
            " 1   time_cycles                                        16963 non-null  int64  \n",
            " 2   setting_1                                          16963 non-null  float64\n",
            " 3   setting_2                                          16963 non-null  float64\n",
            " 4   setting_3                                          16963 non-null  float64\n",
            " 5   Fan inlet temperature (°C)                         16963 non-null  float64\n",
            " 6   LPC outlet temperature (°C)                        16963 non-null  float64\n",
            " 7   HPC outlet temperature (°C)                        16963 non-null  object \n",
            " 8   LPT outlet temperature (°C)                        16963 non-null  float64\n",
            " 9   Fan inlet pressure (bar)                           16963 non-null  float64\n",
            " 10  Bypass duct pressure (bar)                         16963 non-null  float64\n",
            " 11  HPC outlet pressure (bar)                          16963 non-null  float64\n",
            " 12  Physical fan speed (rpm)                           16963 non-null  float64\n",
            " 13  Physical core speed (rpm)                          16963 non-null  float64\n",
            " 14  Engine pressure ratio (P50/P2) (dimensionless)     16963 non-null  float64\n",
            " 15  HPC outlet static pressure (bar)                   16963 non-null  float64\n",
            " 16  Fuel flow / Ps30 (kg/s/bar)                        16963 non-null  float64\n",
            " 17  Corrected fan speed (rpm)                          16963 non-null  float64\n",
            " 18  Corrected core speed (rpm)                         16963 non-null  float64\n",
            " 19  Bypass ratio (dimensionless)                       16963 non-null  float64\n",
            " 20  Burner fuel-air ratio (mass ratio, dimensionless)  16963 non-null  float64\n",
            " 21  Bleed enthalpy (kJ/kg)                             16963 non-null  float64\n",
            " 22  Demanded fan speed (rpm)                           16963 non-null  int64  \n",
            " 23  Demanded corrected fan speed (rpm)                 16963 non-null  float64\n",
            " 24  HPT coolant bleed flow (kg/s)                      16963 non-null  float64\n",
            " 25  LPT coolant bleed flow (kg/s)                      16963 non-null  float64\n",
            " 26  RUL                                                16963 non-null  int64  \n",
            " 27  RUL_class                                          16963 non-null  int64  \n",
            "dtypes: float64(22), int64(5), object(1)\n",
            "memory usage: 3.6+ MB\n"
          ]
        }
      ],
      "source": [
        "dataset_cleaned.info()"
      ]
    },
    {
      "cell_type": "markdown",
      "metadata": {
        "id": "Xng3BxXriWBm"
      },
      "source": [
        "**Question 11**: <br>\n",
        "**Save the cleaned dataframe as a csv file called `dataset_train_clean.csv` using pandas' `.to_csv()` function.** <br>\n",
        "*Note: Make sure to add `index=False` to the `.to_csv()` function or else the index of the dataframe will be saved too.*"
      ]
    },
    {
      "cell_type": "code",
      "execution_count": 29,
      "metadata": {
        "id": "2_SY6tzoiWBm"
      },
      "outputs": [],
      "source": [
        "dataset_cleaned.to_csv(\"dataset_train_clean.csv\", index=False)"
      ]
    }
  ],
  "metadata": {
    "colab": {
      "provenance": []
    },
    "kernelspec": {
      "display_name": "Python 3",
      "language": "python",
      "name": "python3"
    },
    "language_info": {
      "codemirror_mode": {
        "name": "ipython",
        "version": 3
      },
      "file_extension": ".py",
      "mimetype": "text/x-python",
      "name": "python",
      "nbconvert_exporter": "python",
      "pygments_lexer": "ipython3",
      "version": "3.12.3"
    }
  },
  "nbformat": 4,
  "nbformat_minor": 4
}
